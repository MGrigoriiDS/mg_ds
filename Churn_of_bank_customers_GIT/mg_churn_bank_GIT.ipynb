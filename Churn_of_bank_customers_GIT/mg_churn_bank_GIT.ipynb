{
 "cells": [
  {
   "cell_type": "markdown",
   "metadata": {},
   "source": [
    "# Отток клиентов банка"
   ]
  },
  {
   "cell_type": "markdown",
   "metadata": {},
   "source": [
    "Из «Бета-Банка» стали уходить клиенты. Каждый месяц. Немного, но заметно. Банковские маркетологи посчитали: сохранять текущих клиентов дешевле, чем привлекать новых.\n",
    "\n",
    "Нужно спрогнозировать, уйдёт клиент из банка в ближайшее время или нет. Вам предоставлены исторические данные о поведении клиентов и расторжении договоров с банком. \n",
    "\n",
    "Постройте модель с предельно большим значением *F1*-меры. Чтобы сдать проект успешно, нужно довести метрику до 0.59. Проверьте *F1*-меру на тестовой выборке самостоятельно.\n",
    "\n",
    "Дополнительно измеряйте *AUC-ROC*, сравнивайте её значение с *F1*-мерой.\n",
    "\n",
    "Источник данных: [https://www.kaggle.com/barelydedicated/bank-customer-churn-modeling](https://www.kaggle.com/barelydedicated/bank-customer-churn-modeling)"
   ]
  },
  {
   "cell_type": "markdown",
   "metadata": {
    "toc": true
   },
   "source": [
    "<h1>Содержание<span class=\"tocSkip\"></span></h1>\n",
    "<div class=\"toc\"><ul class=\"toc-item\"><li><span><a href=\"#Подготовка-данных\" data-toc-modified-id=\"Подготовка-данных-1\"><span class=\"toc-item-num\">1&nbsp;&nbsp;</span>Подготовка данных</a></span></li><li><span><a href=\"#Исследование-задачи\" data-toc-modified-id=\"Исследование-задачи-2\"><span class=\"toc-item-num\">2&nbsp;&nbsp;</span>Исследование задачи</a></span></li><li><span><a href=\"#Борьба-с-дисбалансом\" data-toc-modified-id=\"Борьба-с-дисбалансом-3\"><span class=\"toc-item-num\">3&nbsp;&nbsp;</span>Борьба с дисбалансом</a></span></li><li><span><a href=\"#Тестирование-модели\" data-toc-modified-id=\"Тестирование-модели-4\"><span class=\"toc-item-num\">4&nbsp;&nbsp;</span>Тестирование модели</a></span><ul class=\"toc-item\"><li><span><a href=\"#Общий-вывод\" data-toc-modified-id=\"Общий-вывод-4.1\"><span class=\"toc-item-num\">4.1&nbsp;&nbsp;</span>Общий вывод</a></span></li></ul>"
   ]
  },
  {
   "cell_type": "markdown",
   "metadata": {},
   "source": [
    "Признаки\n",
    "* RowNumber — индекс строки в данных\n",
    "* CustomerId — уникальный идентификатор клиента\n",
    "* Surname — фамилия\n",
    "* CreditScore — кредитный рейтинг\n",
    "* Geography — страна проживания\n",
    "* Gender — пол\n",
    "* Age — возраст\n",
    "* Tenure — сколько лет человек является клиентом банка\n",
    "* Balance — баланс на счёте\n",
    "* NumOfProducts — количество продуктов банка, используемых клиентом\n",
    "* HasCrCard — наличие кредитной карты\n",
    "* IsActiveMember — активность клиента\n",
    "* EstimatedSalary — предполагаемая зарплата\n",
    "\n",
    "Целевой признак\n",
    "* Exited — факт ухода клиента"
   ]
  },
  {
   "cell_type": "markdown",
   "metadata": {},
   "source": [
    "## Подготовка данных"
   ]
  },
  {
   "cell_type": "code",
   "execution_count": 1,
   "metadata": {},
   "outputs": [],
   "source": [
    "# загрузим библиотеки\n",
    "import pandas as pd\n",
    "import numpy as np\n",
    "from sklearn.tree import DecisionTreeClassifier\n",
    "from sklearn.ensemble import RandomForestClassifier\n",
    "from sklearn.linear_model import LogisticRegression\n",
    "from sklearn.metrics import accuracy_score\n",
    "from sklearn.model_selection import train_test_split\n",
    "from sklearn.preprocessing import StandardScaler\n",
    "from sklearn.metrics import f1_score\n",
    "from sklearn.metrics import roc_auc_score\n",
    "from sklearn.utils import shuffle\n",
    "from sklearn.metrics import roc_curve\n",
    "import matplotlib.pyplot as plt\n",
    "import warnings\n",
    "warnings.filterwarnings(\"ignore\")"
   ]
  },
  {
   "cell_type": "markdown",
   "metadata": {},
   "source": [
    "<div class=\"alert alert-block alert-success\">\n",
    "<b>Успех:</b> Импорты собраны где нужно =)\n",
    "</div>"
   ]
  },
  {
   "cell_type": "code",
   "execution_count": 2,
   "metadata": {},
   "outputs": [
    {
     "name": "stdout",
     "output_type": "stream",
     "text": [
      "<class 'pandas.core.frame.DataFrame'>\n",
      "RangeIndex: 10000 entries, 0 to 9999\n",
      "Data columns (total 14 columns):\n",
      "RowNumber          10000 non-null int64\n",
      "CustomerId         10000 non-null int64\n",
      "Surname            10000 non-null object\n",
      "CreditScore        10000 non-null int64\n",
      "Geography          10000 non-null object\n",
      "Gender             10000 non-null object\n",
      "Age                10000 non-null int64\n",
      "Tenure             9091 non-null float64\n",
      "Balance            10000 non-null float64\n",
      "NumOfProducts      10000 non-null int64\n",
      "HasCrCard          10000 non-null int64\n",
      "IsActiveMember     10000 non-null int64\n",
      "EstimatedSalary    10000 non-null float64\n",
      "Exited             10000 non-null int64\n",
      "dtypes: float64(3), int64(8), object(3)\n",
      "memory usage: 1.1+ MB\n",
      "None\n",
      "         RowNumber    CustomerId   CreditScore           Age       Tenure  \\\n",
      "count  10000.00000  1.000000e+04  10000.000000  10000.000000  9091.000000   \n",
      "mean    5000.50000  1.569094e+07    650.528800     38.921800     4.997690   \n",
      "std     2886.89568  7.193619e+04     96.653299     10.487806     2.894723   \n",
      "min        1.00000  1.556570e+07    350.000000     18.000000     0.000000   \n",
      "25%     2500.75000  1.562853e+07    584.000000     32.000000     2.000000   \n",
      "50%     5000.50000  1.569074e+07    652.000000     37.000000     5.000000   \n",
      "75%     7500.25000  1.575323e+07    718.000000     44.000000     7.000000   \n",
      "max    10000.00000  1.581569e+07    850.000000     92.000000    10.000000   \n",
      "\n",
      "             Balance  NumOfProducts    HasCrCard  IsActiveMember  \\\n",
      "count   10000.000000   10000.000000  10000.00000    10000.000000   \n",
      "mean    76485.889288       1.530200      0.70550        0.515100   \n",
      "std     62397.405202       0.581654      0.45584        0.499797   \n",
      "min         0.000000       1.000000      0.00000        0.000000   \n",
      "25%         0.000000       1.000000      0.00000        0.000000   \n",
      "50%     97198.540000       1.000000      1.00000        1.000000   \n",
      "75%    127644.240000       2.000000      1.00000        1.000000   \n",
      "max    250898.090000       4.000000      1.00000        1.000000   \n",
      "\n",
      "       EstimatedSalary        Exited  \n",
      "count     10000.000000  10000.000000  \n",
      "mean     100090.239881      0.203700  \n",
      "std       57510.492818      0.402769  \n",
      "min          11.580000      0.000000  \n",
      "25%       51002.110000      0.000000  \n",
      "50%      100193.915000      0.000000  \n",
      "75%      149388.247500      0.000000  \n",
      "max      199992.480000      1.000000  \n"
     ]
    },
    {
     "data": {
      "text/html": [
       "<div>\n",
       "<style scoped>\n",
       "    .dataframe tbody tr th:only-of-type {\n",
       "        vertical-align: middle;\n",
       "    }\n",
       "\n",
       "    .dataframe tbody tr th {\n",
       "        vertical-align: top;\n",
       "    }\n",
       "\n",
       "    .dataframe thead th {\n",
       "        text-align: right;\n",
       "    }\n",
       "</style>\n",
       "<table border=\"1\" class=\"dataframe\">\n",
       "  <thead>\n",
       "    <tr style=\"text-align: right;\">\n",
       "      <th></th>\n",
       "      <th>RowNumber</th>\n",
       "      <th>CustomerId</th>\n",
       "      <th>Surname</th>\n",
       "      <th>CreditScore</th>\n",
       "      <th>Geography</th>\n",
       "      <th>Gender</th>\n",
       "      <th>Age</th>\n",
       "      <th>Tenure</th>\n",
       "      <th>Balance</th>\n",
       "      <th>NumOfProducts</th>\n",
       "      <th>HasCrCard</th>\n",
       "      <th>IsActiveMember</th>\n",
       "      <th>EstimatedSalary</th>\n",
       "      <th>Exited</th>\n",
       "    </tr>\n",
       "  </thead>\n",
       "  <tbody>\n",
       "    <tr>\n",
       "      <td>0</td>\n",
       "      <td>1</td>\n",
       "      <td>15634602</td>\n",
       "      <td>Hargrave</td>\n",
       "      <td>619</td>\n",
       "      <td>France</td>\n",
       "      <td>Female</td>\n",
       "      <td>42</td>\n",
       "      <td>2.0</td>\n",
       "      <td>0.00</td>\n",
       "      <td>1</td>\n",
       "      <td>1</td>\n",
       "      <td>1</td>\n",
       "      <td>101348.88</td>\n",
       "      <td>1</td>\n",
       "    </tr>\n",
       "    <tr>\n",
       "      <td>1</td>\n",
       "      <td>2</td>\n",
       "      <td>15647311</td>\n",
       "      <td>Hill</td>\n",
       "      <td>608</td>\n",
       "      <td>Spain</td>\n",
       "      <td>Female</td>\n",
       "      <td>41</td>\n",
       "      <td>1.0</td>\n",
       "      <td>83807.86</td>\n",
       "      <td>1</td>\n",
       "      <td>0</td>\n",
       "      <td>1</td>\n",
       "      <td>112542.58</td>\n",
       "      <td>0</td>\n",
       "    </tr>\n",
       "    <tr>\n",
       "      <td>2</td>\n",
       "      <td>3</td>\n",
       "      <td>15619304</td>\n",
       "      <td>Onio</td>\n",
       "      <td>502</td>\n",
       "      <td>France</td>\n",
       "      <td>Female</td>\n",
       "      <td>42</td>\n",
       "      <td>8.0</td>\n",
       "      <td>159660.80</td>\n",
       "      <td>3</td>\n",
       "      <td>1</td>\n",
       "      <td>0</td>\n",
       "      <td>113931.57</td>\n",
       "      <td>1</td>\n",
       "    </tr>\n",
       "    <tr>\n",
       "      <td>3</td>\n",
       "      <td>4</td>\n",
       "      <td>15701354</td>\n",
       "      <td>Boni</td>\n",
       "      <td>699</td>\n",
       "      <td>France</td>\n",
       "      <td>Female</td>\n",
       "      <td>39</td>\n",
       "      <td>1.0</td>\n",
       "      <td>0.00</td>\n",
       "      <td>2</td>\n",
       "      <td>0</td>\n",
       "      <td>0</td>\n",
       "      <td>93826.63</td>\n",
       "      <td>0</td>\n",
       "    </tr>\n",
       "    <tr>\n",
       "      <td>4</td>\n",
       "      <td>5</td>\n",
       "      <td>15737888</td>\n",
       "      <td>Mitchell</td>\n",
       "      <td>850</td>\n",
       "      <td>Spain</td>\n",
       "      <td>Female</td>\n",
       "      <td>43</td>\n",
       "      <td>2.0</td>\n",
       "      <td>125510.82</td>\n",
       "      <td>1</td>\n",
       "      <td>1</td>\n",
       "      <td>1</td>\n",
       "      <td>79084.10</td>\n",
       "      <td>0</td>\n",
       "    </tr>\n",
       "  </tbody>\n",
       "</table>\n",
       "</div>"
      ],
      "text/plain": [
       "   RowNumber  CustomerId   Surname  CreditScore Geography  Gender  Age  \\\n",
       "0          1    15634602  Hargrave          619    France  Female   42   \n",
       "1          2    15647311      Hill          608     Spain  Female   41   \n",
       "2          3    15619304      Onio          502    France  Female   42   \n",
       "3          4    15701354      Boni          699    France  Female   39   \n",
       "4          5    15737888  Mitchell          850     Spain  Female   43   \n",
       "\n",
       "   Tenure    Balance  NumOfProducts  HasCrCard  IsActiveMember  \\\n",
       "0     2.0       0.00              1          1               1   \n",
       "1     1.0   83807.86              1          0               1   \n",
       "2     8.0  159660.80              3          1               0   \n",
       "3     1.0       0.00              2          0               0   \n",
       "4     2.0  125510.82              1          1               1   \n",
       "\n",
       "   EstimatedSalary  Exited  \n",
       "0        101348.88       1  \n",
       "1        112542.58       0  \n",
       "2        113931.57       1  \n",
       "3         93826.63       0  \n",
       "4         79084.10       0  "
      ]
     },
     "execution_count": 2,
     "metadata": {},
     "output_type": "execute_result"
    }
   ],
   "source": [
    "# прочитаем файл с данными\n",
    "df = pd.read_csv('/datasets/Churn.csv')\n",
    "print(df.info())\n",
    "print(df.describe())\n",
    "df.head()"
   ]
  },
  {
   "cell_type": "code",
   "execution_count": 3,
   "metadata": {},
   "outputs": [
    {
     "data": {
      "text/html": [
       "<style  type=\"text/css\" >\n",
       "    #T_2e9c5814_2470_11ec_8a51_02420a39245crow0_col0 {\n",
       "            background-color:  #3b4cc0;\n",
       "            color:  #f1f1f1;\n",
       "        }    #T_2e9c5814_2470_11ec_8a51_02420a39245crow1_col0 {\n",
       "            background-color:  #3b4cc0;\n",
       "            color:  #f1f1f1;\n",
       "        }    #T_2e9c5814_2470_11ec_8a51_02420a39245crow2_col0 {\n",
       "            background-color:  #3b4cc0;\n",
       "            color:  #f1f1f1;\n",
       "        }    #T_2e9c5814_2470_11ec_8a51_02420a39245crow3_col0 {\n",
       "            background-color:  #3b4cc0;\n",
       "            color:  #f1f1f1;\n",
       "        }    #T_2e9c5814_2470_11ec_8a51_02420a39245crow4_col0 {\n",
       "            background-color:  #3b4cc0;\n",
       "            color:  #f1f1f1;\n",
       "        }    #T_2e9c5814_2470_11ec_8a51_02420a39245crow5_col0 {\n",
       "            background-color:  #3b4cc0;\n",
       "            color:  #f1f1f1;\n",
       "        }    #T_2e9c5814_2470_11ec_8a51_02420a39245crow6_col0 {\n",
       "            background-color:  #3b4cc0;\n",
       "            color:  #f1f1f1;\n",
       "        }    #T_2e9c5814_2470_11ec_8a51_02420a39245crow7_col0 {\n",
       "            background-color:  #b40426;\n",
       "            color:  #f1f1f1;\n",
       "        }    #T_2e9c5814_2470_11ec_8a51_02420a39245crow8_col0 {\n",
       "            background-color:  #3b4cc0;\n",
       "            color:  #f1f1f1;\n",
       "        }    #T_2e9c5814_2470_11ec_8a51_02420a39245crow9_col0 {\n",
       "            background-color:  #3b4cc0;\n",
       "            color:  #f1f1f1;\n",
       "        }    #T_2e9c5814_2470_11ec_8a51_02420a39245crow10_col0 {\n",
       "            background-color:  #3b4cc0;\n",
       "            color:  #f1f1f1;\n",
       "        }    #T_2e9c5814_2470_11ec_8a51_02420a39245crow11_col0 {\n",
       "            background-color:  #3b4cc0;\n",
       "            color:  #f1f1f1;\n",
       "        }    #T_2e9c5814_2470_11ec_8a51_02420a39245crow12_col0 {\n",
       "            background-color:  #3b4cc0;\n",
       "            color:  #f1f1f1;\n",
       "        }    #T_2e9c5814_2470_11ec_8a51_02420a39245crow13_col0 {\n",
       "            background-color:  #3b4cc0;\n",
       "            color:  #f1f1f1;\n",
       "        }</style><table id=\"T_2e9c5814_2470_11ec_8a51_02420a39245c\" ><thead>    <tr>        <th class=\"blank level0\" ></th>        <th class=\"col_heading level0 col0\" >0</th>    </tr></thead><tbody>\n",
       "                <tr>\n",
       "                        <th id=\"T_2e9c5814_2470_11ec_8a51_02420a39245clevel0_row0\" class=\"row_heading level0 row0\" >RowNumber</th>\n",
       "                        <td id=\"T_2e9c5814_2470_11ec_8a51_02420a39245crow0_col0\" class=\"data row0 col0\" >0</td>\n",
       "            </tr>\n",
       "            <tr>\n",
       "                        <th id=\"T_2e9c5814_2470_11ec_8a51_02420a39245clevel0_row1\" class=\"row_heading level0 row1\" >CustomerId</th>\n",
       "                        <td id=\"T_2e9c5814_2470_11ec_8a51_02420a39245crow1_col0\" class=\"data row1 col0\" >0</td>\n",
       "            </tr>\n",
       "            <tr>\n",
       "                        <th id=\"T_2e9c5814_2470_11ec_8a51_02420a39245clevel0_row2\" class=\"row_heading level0 row2\" >Surname</th>\n",
       "                        <td id=\"T_2e9c5814_2470_11ec_8a51_02420a39245crow2_col0\" class=\"data row2 col0\" >0</td>\n",
       "            </tr>\n",
       "            <tr>\n",
       "                        <th id=\"T_2e9c5814_2470_11ec_8a51_02420a39245clevel0_row3\" class=\"row_heading level0 row3\" >CreditScore</th>\n",
       "                        <td id=\"T_2e9c5814_2470_11ec_8a51_02420a39245crow3_col0\" class=\"data row3 col0\" >0</td>\n",
       "            </tr>\n",
       "            <tr>\n",
       "                        <th id=\"T_2e9c5814_2470_11ec_8a51_02420a39245clevel0_row4\" class=\"row_heading level0 row4\" >Geography</th>\n",
       "                        <td id=\"T_2e9c5814_2470_11ec_8a51_02420a39245crow4_col0\" class=\"data row4 col0\" >0</td>\n",
       "            </tr>\n",
       "            <tr>\n",
       "                        <th id=\"T_2e9c5814_2470_11ec_8a51_02420a39245clevel0_row5\" class=\"row_heading level0 row5\" >Gender</th>\n",
       "                        <td id=\"T_2e9c5814_2470_11ec_8a51_02420a39245crow5_col0\" class=\"data row5 col0\" >0</td>\n",
       "            </tr>\n",
       "            <tr>\n",
       "                        <th id=\"T_2e9c5814_2470_11ec_8a51_02420a39245clevel0_row6\" class=\"row_heading level0 row6\" >Age</th>\n",
       "                        <td id=\"T_2e9c5814_2470_11ec_8a51_02420a39245crow6_col0\" class=\"data row6 col0\" >0</td>\n",
       "            </tr>\n",
       "            <tr>\n",
       "                        <th id=\"T_2e9c5814_2470_11ec_8a51_02420a39245clevel0_row7\" class=\"row_heading level0 row7\" >Tenure</th>\n",
       "                        <td id=\"T_2e9c5814_2470_11ec_8a51_02420a39245crow7_col0\" class=\"data row7 col0\" >9.09</td>\n",
       "            </tr>\n",
       "            <tr>\n",
       "                        <th id=\"T_2e9c5814_2470_11ec_8a51_02420a39245clevel0_row8\" class=\"row_heading level0 row8\" >Balance</th>\n",
       "                        <td id=\"T_2e9c5814_2470_11ec_8a51_02420a39245crow8_col0\" class=\"data row8 col0\" >0</td>\n",
       "            </tr>\n",
       "            <tr>\n",
       "                        <th id=\"T_2e9c5814_2470_11ec_8a51_02420a39245clevel0_row9\" class=\"row_heading level0 row9\" >NumOfProducts</th>\n",
       "                        <td id=\"T_2e9c5814_2470_11ec_8a51_02420a39245crow9_col0\" class=\"data row9 col0\" >0</td>\n",
       "            </tr>\n",
       "            <tr>\n",
       "                        <th id=\"T_2e9c5814_2470_11ec_8a51_02420a39245clevel0_row10\" class=\"row_heading level0 row10\" >HasCrCard</th>\n",
       "                        <td id=\"T_2e9c5814_2470_11ec_8a51_02420a39245crow10_col0\" class=\"data row10 col0\" >0</td>\n",
       "            </tr>\n",
       "            <tr>\n",
       "                        <th id=\"T_2e9c5814_2470_11ec_8a51_02420a39245clevel0_row11\" class=\"row_heading level0 row11\" >IsActiveMember</th>\n",
       "                        <td id=\"T_2e9c5814_2470_11ec_8a51_02420a39245crow11_col0\" class=\"data row11 col0\" >0</td>\n",
       "            </tr>\n",
       "            <tr>\n",
       "                        <th id=\"T_2e9c5814_2470_11ec_8a51_02420a39245clevel0_row12\" class=\"row_heading level0 row12\" >EstimatedSalary</th>\n",
       "                        <td id=\"T_2e9c5814_2470_11ec_8a51_02420a39245crow12_col0\" class=\"data row12 col0\" >0</td>\n",
       "            </tr>\n",
       "            <tr>\n",
       "                        <th id=\"T_2e9c5814_2470_11ec_8a51_02420a39245clevel0_row13\" class=\"row_heading level0 row13\" >Exited</th>\n",
       "                        <td id=\"T_2e9c5814_2470_11ec_8a51_02420a39245crow13_col0\" class=\"data row13 col0\" >0</td>\n",
       "            </tr>\n",
       "    </tbody></table>"
      ],
      "text/plain": [
       "<pandas.io.formats.style.Styler at 0x7f23aeafb950>"
      ]
     },
     "execution_count": 3,
     "metadata": {},
     "output_type": "execute_result"
    }
   ],
   "source": [
    "# проверим пропуски\n",
    "pd.DataFrame(round((df.isna().mean()*100),2)).style.background_gradient('coolwarm')"
   ]
  },
  {
   "cell_type": "markdown",
   "metadata": {},
   "source": [
    "Датафрейм состоит из 10000 строк.14 признаков, из них 3 являются float64, 8 - int64 и 3- object. Есть пропуски в стоолбце Tenure - необходимо заполнить. Можно предположить, что клиенты просто новые и годы еще нельзя подсчитать, возможен вариант, что эти клиенты уже ушли. У 25% нулевые остатки на счетах, отсутствуют кредитные карты и 0 активность."
   ]
  },
  {
   "cell_type": "code",
   "execution_count": 4,
   "metadata": {},
   "outputs": [
    {
     "data": {
      "text/html": [
       "<div>\n",
       "<style scoped>\n",
       "    .dataframe tbody tr th:only-of-type {\n",
       "        vertical-align: middle;\n",
       "    }\n",
       "\n",
       "    .dataframe tbody tr th {\n",
       "        vertical-align: top;\n",
       "    }\n",
       "\n",
       "    .dataframe thead th {\n",
       "        text-align: right;\n",
       "    }\n",
       "</style>\n",
       "<table border=\"1\" class=\"dataframe\">\n",
       "  <thead>\n",
       "    <tr style=\"text-align: right;\">\n",
       "      <th></th>\n",
       "      <th>rownumber</th>\n",
       "      <th>customerid</th>\n",
       "      <th>surname</th>\n",
       "      <th>creditscore</th>\n",
       "      <th>geography</th>\n",
       "      <th>gender</th>\n",
       "      <th>age</th>\n",
       "      <th>tenure</th>\n",
       "      <th>balance</th>\n",
       "      <th>numofproducts</th>\n",
       "      <th>hascrcard</th>\n",
       "      <th>isactivemember</th>\n",
       "      <th>estimatedsalary</th>\n",
       "      <th>exited</th>\n",
       "    </tr>\n",
       "  </thead>\n",
       "  <tbody>\n",
       "    <tr>\n",
       "      <td>0</td>\n",
       "      <td>1</td>\n",
       "      <td>15634602</td>\n",
       "      <td>Hargrave</td>\n",
       "      <td>619</td>\n",
       "      <td>France</td>\n",
       "      <td>Female</td>\n",
       "      <td>42</td>\n",
       "      <td>2.0</td>\n",
       "      <td>0.00</td>\n",
       "      <td>1</td>\n",
       "      <td>1</td>\n",
       "      <td>1</td>\n",
       "      <td>101348.88</td>\n",
       "      <td>1</td>\n",
       "    </tr>\n",
       "    <tr>\n",
       "      <td>1</td>\n",
       "      <td>2</td>\n",
       "      <td>15647311</td>\n",
       "      <td>Hill</td>\n",
       "      <td>608</td>\n",
       "      <td>Spain</td>\n",
       "      <td>Female</td>\n",
       "      <td>41</td>\n",
       "      <td>1.0</td>\n",
       "      <td>83807.86</td>\n",
       "      <td>1</td>\n",
       "      <td>0</td>\n",
       "      <td>1</td>\n",
       "      <td>112542.58</td>\n",
       "      <td>0</td>\n",
       "    </tr>\n",
       "    <tr>\n",
       "      <td>2</td>\n",
       "      <td>3</td>\n",
       "      <td>15619304</td>\n",
       "      <td>Onio</td>\n",
       "      <td>502</td>\n",
       "      <td>France</td>\n",
       "      <td>Female</td>\n",
       "      <td>42</td>\n",
       "      <td>8.0</td>\n",
       "      <td>159660.80</td>\n",
       "      <td>3</td>\n",
       "      <td>1</td>\n",
       "      <td>0</td>\n",
       "      <td>113931.57</td>\n",
       "      <td>1</td>\n",
       "    </tr>\n",
       "    <tr>\n",
       "      <td>3</td>\n",
       "      <td>4</td>\n",
       "      <td>15701354</td>\n",
       "      <td>Boni</td>\n",
       "      <td>699</td>\n",
       "      <td>France</td>\n",
       "      <td>Female</td>\n",
       "      <td>39</td>\n",
       "      <td>1.0</td>\n",
       "      <td>0.00</td>\n",
       "      <td>2</td>\n",
       "      <td>0</td>\n",
       "      <td>0</td>\n",
       "      <td>93826.63</td>\n",
       "      <td>0</td>\n",
       "    </tr>\n",
       "    <tr>\n",
       "      <td>4</td>\n",
       "      <td>5</td>\n",
       "      <td>15737888</td>\n",
       "      <td>Mitchell</td>\n",
       "      <td>850</td>\n",
       "      <td>Spain</td>\n",
       "      <td>Female</td>\n",
       "      <td>43</td>\n",
       "      <td>2.0</td>\n",
       "      <td>125510.82</td>\n",
       "      <td>1</td>\n",
       "      <td>1</td>\n",
       "      <td>1</td>\n",
       "      <td>79084.10</td>\n",
       "      <td>0</td>\n",
       "    </tr>\n",
       "  </tbody>\n",
       "</table>\n",
       "</div>"
      ],
      "text/plain": [
       "   rownumber  customerid   surname  creditscore geography  gender  age  \\\n",
       "0          1    15634602  Hargrave          619    France  Female   42   \n",
       "1          2    15647311      Hill          608     Spain  Female   41   \n",
       "2          3    15619304      Onio          502    France  Female   42   \n",
       "3          4    15701354      Boni          699    France  Female   39   \n",
       "4          5    15737888  Mitchell          850     Spain  Female   43   \n",
       "\n",
       "   tenure    balance  numofproducts  hascrcard  isactivemember  \\\n",
       "0     2.0       0.00              1          1               1   \n",
       "1     1.0   83807.86              1          0               1   \n",
       "2     8.0  159660.80              3          1               0   \n",
       "3     1.0       0.00              2          0               0   \n",
       "4     2.0  125510.82              1          1               1   \n",
       "\n",
       "   estimatedsalary  exited  \n",
       "0        101348.88       1  \n",
       "1        112542.58       0  \n",
       "2        113931.57       1  \n",
       "3         93826.63       0  \n",
       "4         79084.10       0  "
      ]
     },
     "execution_count": 4,
     "metadata": {},
     "output_type": "execute_result"
    }
   ],
   "source": [
    "# заменим названия столбцов, приведем к нижнему регистру\n",
    "df.columns = df.columns.str.lower()\n",
    "df.head()"
   ]
  },
  {
   "cell_type": "code",
   "execution_count": 5,
   "metadata": {},
   "outputs": [],
   "source": [
    "# удалим ненужные столбцы, которые не влияют на результаты нашего исследования\n",
    "df = df.drop(['rownumber', 'surname', 'customerid'], axis=1)"
   ]
  },
  {
   "cell_type": "code",
   "execution_count": 6,
   "metadata": {},
   "outputs": [
    {
     "name": "stdout",
     "output_type": "stream",
     "text": [
      "0\n",
      "(10000, 11)\n"
     ]
    }
   ],
   "source": [
    "# Заменим пропуски в столбце Tenure на медианное значение. \n",
    "# В процентном соотношении пропусков не так много, около 10%. Медиана будет оптимальным значением.\n",
    "df_first = df.fillna(df['tenure'].median())\n",
    "print(df_first['tenure'].isna().sum())\n",
    "print(df_first.shape)"
   ]
  },
  {
   "cell_type": "code",
   "execution_count": 7,
   "metadata": {},
   "outputs": [
    {
     "data": {
      "text/html": [
       "<div>\n",
       "<style scoped>\n",
       "    .dataframe tbody tr th:only-of-type {\n",
       "        vertical-align: middle;\n",
       "    }\n",
       "\n",
       "    .dataframe tbody tr th {\n",
       "        vertical-align: top;\n",
       "    }\n",
       "\n",
       "    .dataframe thead th {\n",
       "        text-align: right;\n",
       "    }\n",
       "</style>\n",
       "<table border=\"1\" class=\"dataframe\">\n",
       "  <thead>\n",
       "    <tr style=\"text-align: right;\">\n",
       "      <th></th>\n",
       "      <th>creditscore</th>\n",
       "      <th>age</th>\n",
       "      <th>tenure</th>\n",
       "      <th>balance</th>\n",
       "      <th>numofproducts</th>\n",
       "      <th>hascrcard</th>\n",
       "      <th>isactivemember</th>\n",
       "      <th>estimatedsalary</th>\n",
       "      <th>exited</th>\n",
       "      <th>geography_Germany</th>\n",
       "      <th>geography_Spain</th>\n",
       "      <th>gender_Male</th>\n",
       "    </tr>\n",
       "  </thead>\n",
       "  <tbody>\n",
       "    <tr>\n",
       "      <td>0</td>\n",
       "      <td>619</td>\n",
       "      <td>42</td>\n",
       "      <td>2.0</td>\n",
       "      <td>0.00</td>\n",
       "      <td>1</td>\n",
       "      <td>1</td>\n",
       "      <td>1</td>\n",
       "      <td>101348.88</td>\n",
       "      <td>1</td>\n",
       "      <td>0</td>\n",
       "      <td>0</td>\n",
       "      <td>0</td>\n",
       "    </tr>\n",
       "    <tr>\n",
       "      <td>1</td>\n",
       "      <td>608</td>\n",
       "      <td>41</td>\n",
       "      <td>1.0</td>\n",
       "      <td>83807.86</td>\n",
       "      <td>1</td>\n",
       "      <td>0</td>\n",
       "      <td>1</td>\n",
       "      <td>112542.58</td>\n",
       "      <td>0</td>\n",
       "      <td>0</td>\n",
       "      <td>1</td>\n",
       "      <td>0</td>\n",
       "    </tr>\n",
       "    <tr>\n",
       "      <td>2</td>\n",
       "      <td>502</td>\n",
       "      <td>42</td>\n",
       "      <td>8.0</td>\n",
       "      <td>159660.80</td>\n",
       "      <td>3</td>\n",
       "      <td>1</td>\n",
       "      <td>0</td>\n",
       "      <td>113931.57</td>\n",
       "      <td>1</td>\n",
       "      <td>0</td>\n",
       "      <td>0</td>\n",
       "      <td>0</td>\n",
       "    </tr>\n",
       "    <tr>\n",
       "      <td>3</td>\n",
       "      <td>699</td>\n",
       "      <td>39</td>\n",
       "      <td>1.0</td>\n",
       "      <td>0.00</td>\n",
       "      <td>2</td>\n",
       "      <td>0</td>\n",
       "      <td>0</td>\n",
       "      <td>93826.63</td>\n",
       "      <td>0</td>\n",
       "      <td>0</td>\n",
       "      <td>0</td>\n",
       "      <td>0</td>\n",
       "    </tr>\n",
       "    <tr>\n",
       "      <td>4</td>\n",
       "      <td>850</td>\n",
       "      <td>43</td>\n",
       "      <td>2.0</td>\n",
       "      <td>125510.82</td>\n",
       "      <td>1</td>\n",
       "      <td>1</td>\n",
       "      <td>1</td>\n",
       "      <td>79084.10</td>\n",
       "      <td>0</td>\n",
       "      <td>0</td>\n",
       "      <td>1</td>\n",
       "      <td>0</td>\n",
       "    </tr>\n",
       "  </tbody>\n",
       "</table>\n",
       "</div>"
      ],
      "text/plain": [
       "   creditscore  age  tenure    balance  numofproducts  hascrcard  \\\n",
       "0          619   42     2.0       0.00              1          1   \n",
       "1          608   41     1.0   83807.86              1          0   \n",
       "2          502   42     8.0  159660.80              3          1   \n",
       "3          699   39     1.0       0.00              2          0   \n",
       "4          850   43     2.0  125510.82              1          1   \n",
       "\n",
       "   isactivemember  estimatedsalary  exited  geography_Germany  \\\n",
       "0               1        101348.88       1                  0   \n",
       "1               1        112542.58       0                  0   \n",
       "2               0        113931.57       1                  0   \n",
       "3               0         93826.63       0                  0   \n",
       "4               1         79084.10       0                  0   \n",
       "\n",
       "   geography_Spain  gender_Male  \n",
       "0                0            0  \n",
       "1                1            0  \n",
       "2                0            0  \n",
       "3                0            0  \n",
       "4                1            0  "
      ]
     },
     "execution_count": 7,
     "metadata": {},
     "output_type": "execute_result"
    }
   ],
   "source": [
    "# преобразуем категориальные признаки в численные\n",
    "df_ohe = pd.get_dummies(df_first, drop_first = True)\n",
    "df_ohe.head()"
   ]
  },
  {
   "cell_type": "code",
   "execution_count": 8,
   "metadata": {},
   "outputs": [
    {
     "name": "stdout",
     "output_type": "stream",
     "text": [
      "<class 'pandas.core.frame.DataFrame'>\n",
      "RangeIndex: 10000 entries, 0 to 9999\n",
      "Data columns (total 12 columns):\n",
      "creditscore          10000 non-null int64\n",
      "age                  10000 non-null int64\n",
      "tenure               10000 non-null float64\n",
      "balance              10000 non-null float64\n",
      "numofproducts        10000 non-null int64\n",
      "hascrcard            10000 non-null int64\n",
      "isactivemember       10000 non-null int64\n",
      "estimatedsalary      10000 non-null float64\n",
      "exited               10000 non-null int64\n",
      "geography_Germany    10000 non-null uint8\n",
      "geography_Spain      10000 non-null uint8\n",
      "gender_Male          10000 non-null uint8\n",
      "dtypes: float64(3), int64(6), uint8(3)\n",
      "memory usage: 732.5 KB\n",
      "None\n"
     ]
    },
    {
     "data": {
      "text/html": [
       "<div>\n",
       "<style scoped>\n",
       "    .dataframe tbody tr th:only-of-type {\n",
       "        vertical-align: middle;\n",
       "    }\n",
       "\n",
       "    .dataframe tbody tr th {\n",
       "        vertical-align: top;\n",
       "    }\n",
       "\n",
       "    .dataframe thead th {\n",
       "        text-align: right;\n",
       "    }\n",
       "</style>\n",
       "<table border=\"1\" class=\"dataframe\">\n",
       "  <thead>\n",
       "    <tr style=\"text-align: right;\">\n",
       "      <th></th>\n",
       "      <th>creditscore</th>\n",
       "      <th>age</th>\n",
       "      <th>tenure</th>\n",
       "      <th>balance</th>\n",
       "      <th>numofproducts</th>\n",
       "      <th>hascrcard</th>\n",
       "      <th>isactivemember</th>\n",
       "      <th>estimatedsalary</th>\n",
       "      <th>exited</th>\n",
       "      <th>geography_Germany</th>\n",
       "      <th>geography_Spain</th>\n",
       "      <th>gender_Male</th>\n",
       "    </tr>\n",
       "  </thead>\n",
       "  <tbody>\n",
       "    <tr>\n",
       "      <td>0</td>\n",
       "      <td>619</td>\n",
       "      <td>42</td>\n",
       "      <td>2.0</td>\n",
       "      <td>0.00</td>\n",
       "      <td>1</td>\n",
       "      <td>1</td>\n",
       "      <td>1</td>\n",
       "      <td>101348.88</td>\n",
       "      <td>1</td>\n",
       "      <td>0</td>\n",
       "      <td>0</td>\n",
       "      <td>0</td>\n",
       "    </tr>\n",
       "    <tr>\n",
       "      <td>1</td>\n",
       "      <td>608</td>\n",
       "      <td>41</td>\n",
       "      <td>1.0</td>\n",
       "      <td>83807.86</td>\n",
       "      <td>1</td>\n",
       "      <td>0</td>\n",
       "      <td>1</td>\n",
       "      <td>112542.58</td>\n",
       "      <td>0</td>\n",
       "      <td>0</td>\n",
       "      <td>1</td>\n",
       "      <td>0</td>\n",
       "    </tr>\n",
       "    <tr>\n",
       "      <td>2</td>\n",
       "      <td>502</td>\n",
       "      <td>42</td>\n",
       "      <td>8.0</td>\n",
       "      <td>159660.80</td>\n",
       "      <td>3</td>\n",
       "      <td>1</td>\n",
       "      <td>0</td>\n",
       "      <td>113931.57</td>\n",
       "      <td>1</td>\n",
       "      <td>0</td>\n",
       "      <td>0</td>\n",
       "      <td>0</td>\n",
       "    </tr>\n",
       "    <tr>\n",
       "      <td>3</td>\n",
       "      <td>699</td>\n",
       "      <td>39</td>\n",
       "      <td>1.0</td>\n",
       "      <td>0.00</td>\n",
       "      <td>2</td>\n",
       "      <td>0</td>\n",
       "      <td>0</td>\n",
       "      <td>93826.63</td>\n",
       "      <td>0</td>\n",
       "      <td>0</td>\n",
       "      <td>0</td>\n",
       "      <td>0</td>\n",
       "    </tr>\n",
       "    <tr>\n",
       "      <td>4</td>\n",
       "      <td>850</td>\n",
       "      <td>43</td>\n",
       "      <td>2.0</td>\n",
       "      <td>125510.82</td>\n",
       "      <td>1</td>\n",
       "      <td>1</td>\n",
       "      <td>1</td>\n",
       "      <td>79084.10</td>\n",
       "      <td>0</td>\n",
       "      <td>0</td>\n",
       "      <td>1</td>\n",
       "      <td>0</td>\n",
       "    </tr>\n",
       "  </tbody>\n",
       "</table>\n",
       "</div>"
      ],
      "text/plain": [
       "   creditscore  age  tenure    balance  numofproducts  hascrcard  \\\n",
       "0          619   42     2.0       0.00              1          1   \n",
       "1          608   41     1.0   83807.86              1          0   \n",
       "2          502   42     8.0  159660.80              3          1   \n",
       "3          699   39     1.0       0.00              2          0   \n",
       "4          850   43     2.0  125510.82              1          1   \n",
       "\n",
       "   isactivemember  estimatedsalary  exited  geography_Germany  \\\n",
       "0               1        101348.88       1                  0   \n",
       "1               1        112542.58       0                  0   \n",
       "2               0        113931.57       1                  0   \n",
       "3               0         93826.63       0                  0   \n",
       "4               1         79084.10       0                  0   \n",
       "\n",
       "   geography_Spain  gender_Male  \n",
       "0                0            0  \n",
       "1                1            0  \n",
       "2                0            0  \n",
       "3                0            0  \n",
       "4                1            0  "
      ]
     },
     "execution_count": 8,
     "metadata": {},
     "output_type": "execute_result"
    }
   ],
   "source": [
    "# посмотрим, что получилось в итоге\n",
    "print(df_ohe.info())\n",
    "df_ohe.head()"
   ]
  },
  {
   "cell_type": "code",
   "execution_count": 9,
   "metadata": {},
   "outputs": [],
   "source": [
    "# Разделим обучающий датафрейм на features и target - целевой признак\n",
    "target = df_ohe['exited']\n",
    "features = df_ohe.drop('exited', axis=1)"
   ]
  },
  {
   "cell_type": "code",
   "execution_count": 10,
   "metadata": {},
   "outputs": [],
   "source": [
    "# Поделим датафрейм на обучающую и валидационную выборку\n",
    "\n",
    "features_train, features_valid, target_train, target_valid = train_test_split(\n",
    "    features, target, test_size=0.25, random_state=12345)\n",
    "\n"
   ]
  },
  {
   "cell_type": "code",
   "execution_count": 11,
   "metadata": {},
   "outputs": [
    {
     "name": "stdout",
     "output_type": "stream",
     "text": [
      "(7500,)\n",
      "(2500,)\n",
      "(7500, 11)\n",
      "(2500, 11)\n"
     ]
    }
   ],
   "source": [
    "# выведем размерности полученных переменных\n",
    "var_list = [target_train, target_valid, features_train, features_valid]\n",
    "for var in var_list:\n",
    "    print(var.shape)"
   ]
  },
  {
   "cell_type": "code",
   "execution_count": 12,
   "metadata": {},
   "outputs": [
    {
     "data": {
      "text/plain": [
       "Index(['creditscore', 'age', 'tenure', 'balance', 'numofproducts', 'hascrcard',\n",
       "       'isactivemember', 'estimatedsalary', 'geography_Germany',\n",
       "       'geography_Spain', 'gender_Male'],\n",
       "      dtype='object')"
      ]
     },
     "execution_count": 12,
     "metadata": {},
     "output_type": "execute_result"
    }
   ],
   "source": [
    "features_train.columns"
   ]
  },
  {
   "cell_type": "code",
   "execution_count": 13,
   "metadata": {},
   "outputs": [
    {
     "name": "stdout",
     "output_type": "stream",
     "text": [
      "      creditscore       age    tenure   balance  numofproducts  hascrcard  \\\n",
      "226      0.442805 -0.841274  1.446098 -1.224577       0.817772          1   \n",
      "7756    -0.310897 -0.270730  0.719099  0.641783      -0.896874          1   \n",
      "2065    -0.259274 -0.556002  1.082599 -1.224577       0.817772          1   \n",
      "2800     1.217157  1.155631  1.446098  1.290462       0.817772          1   \n",
      "7028     0.690598 -1.221637 -0.007900  1.142121      -0.896874          0   \n",
      "\n",
      "      isactivemember  estimatedsalary  geography_Germany  geography_Spain  \\\n",
      "226                1        -1.269750                  0                0   \n",
      "7756               1         0.960396                  0                1   \n",
      "2065               0         0.661864                  0                0   \n",
      "2800               0        -1.039476                  0                0   \n",
      "7028               0        -0.851729                  1                0   \n",
      "\n",
      "      gender_Male  \n",
      "226             0  \n",
      "7756            0  \n",
      "2065            1  \n",
      "2800            1  \n",
      "7028            1  \n"
     ]
    },
    {
     "data": {
      "text/html": [
       "<div>\n",
       "<style scoped>\n",
       "    .dataframe tbody tr th:only-of-type {\n",
       "        vertical-align: middle;\n",
       "    }\n",
       "\n",
       "    .dataframe tbody tr th {\n",
       "        vertical-align: top;\n",
       "    }\n",
       "\n",
       "    .dataframe thead th {\n",
       "        text-align: right;\n",
       "    }\n",
       "</style>\n",
       "<table border=\"1\" class=\"dataframe\">\n",
       "  <thead>\n",
       "    <tr style=\"text-align: right;\">\n",
       "      <th></th>\n",
       "      <th>creditscore</th>\n",
       "      <th>age</th>\n",
       "      <th>tenure</th>\n",
       "      <th>balance</th>\n",
       "      <th>numofproducts</th>\n",
       "      <th>hascrcard</th>\n",
       "      <th>isactivemember</th>\n",
       "      <th>estimatedsalary</th>\n",
       "      <th>geography_Germany</th>\n",
       "      <th>geography_Spain</th>\n",
       "      <th>gender_Male</th>\n",
       "    </tr>\n",
       "  </thead>\n",
       "  <tbody>\n",
       "    <tr>\n",
       "      <td>7867</td>\n",
       "      <td>-0.114728</td>\n",
       "      <td>0.680178</td>\n",
       "      <td>-0.734899</td>\n",
       "      <td>-1.224577</td>\n",
       "      <td>-0.896874</td>\n",
       "      <td>1</td>\n",
       "      <td>1</td>\n",
       "      <td>0.969342</td>\n",
       "      <td>0</td>\n",
       "      <td>1</td>\n",
       "      <td>0</td>\n",
       "    </tr>\n",
       "    <tr>\n",
       "      <td>1402</td>\n",
       "      <td>1.093261</td>\n",
       "      <td>-0.936365</td>\n",
       "      <td>1.082599</td>\n",
       "      <td>0.865861</td>\n",
       "      <td>-0.896874</td>\n",
       "      <td>1</td>\n",
       "      <td>0</td>\n",
       "      <td>-0.395081</td>\n",
       "      <td>0</td>\n",
       "      <td>0</td>\n",
       "      <td>1</td>\n",
       "    </tr>\n",
       "    <tr>\n",
       "      <td>8606</td>\n",
       "      <td>1.609496</td>\n",
       "      <td>0.299815</td>\n",
       "      <td>-0.007900</td>\n",
       "      <td>-1.224577</td>\n",
       "      <td>0.817772</td>\n",
       "      <td>1</td>\n",
       "      <td>1</td>\n",
       "      <td>-0.439560</td>\n",
       "      <td>0</td>\n",
       "      <td>1</td>\n",
       "      <td>1</td>\n",
       "    </tr>\n",
       "    <tr>\n",
       "      <td>8885</td>\n",
       "      <td>0.174363</td>\n",
       "      <td>0.585087</td>\n",
       "      <td>-0.371400</td>\n",
       "      <td>0.419555</td>\n",
       "      <td>0.817772</td>\n",
       "      <td>1</td>\n",
       "      <td>1</td>\n",
       "      <td>1.006040</td>\n",
       "      <td>0</td>\n",
       "      <td>1</td>\n",
       "      <td>1</td>\n",
       "    </tr>\n",
       "    <tr>\n",
       "      <td>6494</td>\n",
       "      <td>0.494429</td>\n",
       "      <td>-1.031456</td>\n",
       "      <td>0.719099</td>\n",
       "      <td>-1.224577</td>\n",
       "      <td>0.817772</td>\n",
       "      <td>1</td>\n",
       "      <td>1</td>\n",
       "      <td>-1.343789</td>\n",
       "      <td>0</td>\n",
       "      <td>0</td>\n",
       "      <td>1</td>\n",
       "    </tr>\n",
       "  </tbody>\n",
       "</table>\n",
       "</div>"
      ],
      "text/plain": [
       "      creditscore       age    tenure   balance  numofproducts  hascrcard  \\\n",
       "7867    -0.114728  0.680178 -0.734899 -1.224577      -0.896874          1   \n",
       "1402     1.093261 -0.936365  1.082599  0.865861      -0.896874          1   \n",
       "8606     1.609496  0.299815 -0.007900 -1.224577       0.817772          1   \n",
       "8885     0.174363  0.585087 -0.371400  0.419555       0.817772          1   \n",
       "6494     0.494429 -1.031456  0.719099 -1.224577       0.817772          1   \n",
       "\n",
       "      isactivemember  estimatedsalary  geography_Germany  geography_Spain  \\\n",
       "7867               1         0.969342                  0                1   \n",
       "1402               0        -0.395081                  0                0   \n",
       "8606               1        -0.439560                  0                1   \n",
       "8885               1         1.006040                  0                1   \n",
       "6494               1        -1.343789                  0                0   \n",
       "\n",
       "      gender_Male  \n",
       "7867            0  \n",
       "1402            1  \n",
       "8606            1  \n",
       "8885            1  \n",
       "6494            1  "
      ]
     },
     "execution_count": 13,
     "metadata": {},
     "output_type": "execute_result"
    }
   ],
   "source": [
    "# проведем масштабирование признаков\n",
    "numeric = ['creditscore', 'age', 'tenure','balance', 'numofproducts', 'estimatedsalary']\n",
    "# проведем масштабирование features_train\n",
    "pd.options.mode.chained_assignment = None\n",
    "scaler = StandardScaler()\n",
    "scaler.fit(features_train[numeric])\n",
    "features_train[numeric] = scaler.transform(features_train[numeric])\n",
    "features_valid[numeric] = scaler.transform(features_valid[numeric])\n",
    "\n",
    "print(features_train.head())\n",
    "features_valid.head()"
   ]
  },
  {
   "cell_type": "markdown",
   "metadata": {},
   "source": [
    "Мы провели предобработку данных, удалили ненужные столбцы, переименовали столбцы, заполнили пропуски, преобразовали категориальные признаки в численные. Также, мы разделили данные на обучающую и валидационную выборки и масштабировали данные, чтобы исключить приоритетность того или иного признака. Перейдем к исследованию данных."
   ]
  },
  {
   "cell_type": "markdown",
   "metadata": {},
   "source": [
    "## Исследование задачи"
   ]
  },
  {
   "cell_type": "code",
   "execution_count": 14,
   "metadata": {},
   "outputs": [
    {
     "name": "stdout",
     "output_type": "stream",
     "text": [
      "0    0.7963\n",
      "1    0.2037\n",
      "Name: exited, dtype: float64\n"
     ]
    },
    {
     "data": {
      "text/plain": [
       "<matplotlib.axes._subplots.AxesSubplot at 0x7f23adf0eb90>"
      ]
     },
     "execution_count": 14,
     "metadata": {},
     "output_type": "execute_result"
    },
    {
     "data": {
      "image/png": "[encoded data removed]",
      "text/plain": [
       "<Figure size 432x288 with 1 Axes>"
      ]
     },
     "metadata": {
      "needs_background": "light"
     },
     "output_type": "display_data"
    }
   ],
   "source": [
    "# исследуем баланс классов\n",
    "class_frequency = target.value_counts(normalize=True)\n",
    "print(class_frequency)\n",
    "class_frequency.plot(kind='bar')"
   ]
  },
  {
   "cell_type": "markdown",
   "metadata": {},
   "source": [
    "Идеальный баланс 50 на 50. У нас 80 на 20, будем работать с этим."
   ]
  },
  {
   "cell_type": "code",
   "execution_count": 15,
   "metadata": {},
   "outputs": [
    {
     "name": "stdout",
     "output_type": "stream",
     "text": [
      "Accuracy: 0.8348\n",
      "F1: 0.45152722443559096\n",
      "AUC-ROC: 0.8031970702242516\n"
     ]
    }
   ],
   "source": [
    "# проверим на дереве решений\n",
    "model = DecisionTreeClassifier(random_state=12345, max_depth = 3)\n",
    "model.fit(features_train, target_train)\n",
    "predicted_valid = model.predict(features_valid)\n",
    "\n",
    "print('Accuracy:', accuracy_score(target_valid, predicted_valid))\n",
    "print('F1:', f1_score(target_valid, predicted_valid))\n",
    "\n",
    "# Сравним модель со случайной\n",
    "probabilities_valid = model.predict_proba(features_valid)\n",
    "probabilities_one_valid = probabilities_valid[:, 1]\n",
    "\n",
    "print('AUC-ROC:', roc_auc_score(target_valid, probabilities_one_valid))"
   ]
  },
  {
   "cell_type": "code",
   "execution_count": 16,
   "metadata": {},
   "outputs": [
    {
     "name": "stdout",
     "output_type": "stream",
     "text": [
      "Accuracy: 0.848\n",
      "F1: 0.5421686746987953\n",
      "AUC-ROC: 0.8132634182302443\n"
     ]
    }
   ],
   "source": [
    "# случайный лес\n",
    "model = RandomForestClassifier(random_state=12345)\n",
    "model.fit(features_train, target_train)\n",
    "predicted_valid = model.predict(features_valid)\n",
    "\n",
    "print('Accuracy:', accuracy_score(target_valid, predicted_valid))\n",
    "print('F1:', f1_score(target_valid, predicted_valid))\n",
    "\n",
    "# Сравним модель со случайной\n",
    "probabilities_valid = model.predict_proba(features_valid)\n",
    "probabilities_one_valid = probabilities_valid[:, 1]\n",
    "\n",
    "print('AUC-ROC:', roc_auc_score(target_valid, probabilities_one_valid))\n"
   ]
  },
  {
   "cell_type": "code",
   "execution_count": 17,
   "metadata": {},
   "outputs": [
    {
     "name": "stdout",
     "output_type": "stream",
     "text": [
      "Accuracy: 0.7972\n",
      "F1: 0.2948539638386648\n",
      "AUC-ROC: 0.7585579415471689\n"
     ]
    }
   ],
   "source": [
    "# логистическая регрессия\n",
    "model = LogisticRegression(random_state=12345, solver='liblinear')\n",
    "model.fit(features_train, target_train)\n",
    "predicted_valid = model.predict(features_valid)\n",
    "\n",
    "print('Accuracy:', accuracy_score(target_valid, predicted_valid))\n",
    "print('F1:', f1_score(target_valid, predicted_valid))\n",
    "\n",
    "# Сравним модель со случайной\n",
    "probabilities_valid = model.predict_proba(features_valid)\n",
    "probabilities_one_valid = probabilities_valid[:, 1]\n",
    "\n",
    "print('AUC-ROC:', roc_auc_score(target_valid, probabilities_one_valid))"
   ]
  },
  {
   "cell_type": "code",
   "execution_count": 18,
   "metadata": {},
   "outputs": [
    {
     "data": {
      "text/html": [
       "<div>\n",
       "<style scoped>\n",
       "    .dataframe tbody tr th:only-of-type {\n",
       "        vertical-align: middle;\n",
       "    }\n",
       "\n",
       "    .dataframe tbody tr th {\n",
       "        vertical-align: top;\n",
       "    }\n",
       "\n",
       "    .dataframe thead th {\n",
       "        text-align: right;\n",
       "    }\n",
       "</style>\n",
       "<table border=\"1\" class=\"dataframe\">\n",
       "  <thead>\n",
       "    <tr style=\"text-align: right;\">\n",
       "      <th></th>\n",
       "      <th>name</th>\n",
       "      <th>Accuracy</th>\n",
       "      <th>F1</th>\n",
       "      <th>AUC-ROC</th>\n",
       "    </tr>\n",
       "  </thead>\n",
       "  <tbody>\n",
       "    <tr>\n",
       "      <td>0</td>\n",
       "      <td>DesicionTree</td>\n",
       "      <td>0.83</td>\n",
       "      <td>0.45</td>\n",
       "      <td>0.80</td>\n",
       "    </tr>\n",
       "    <tr>\n",
       "      <td>1</td>\n",
       "      <td>RandomForest</td>\n",
       "      <td>0.85</td>\n",
       "      <td>0.54</td>\n",
       "      <td>0.81</td>\n",
       "    </tr>\n",
       "    <tr>\n",
       "      <td>2</td>\n",
       "      <td>LogisticRegression</td>\n",
       "      <td>0.80</td>\n",
       "      <td>0.29</td>\n",
       "      <td>0.76</td>\n",
       "    </tr>\n",
       "  </tbody>\n",
       "</table>\n",
       "</div>"
      ],
      "text/plain": [
       "                 name  Accuracy    F1  AUC-ROC\n",
       "0        DesicionTree      0.83  0.45     0.80\n",
       "1        RandomForest      0.85  0.54     0.81\n",
       "2  LogisticRegression      0.80  0.29     0.76"
      ]
     },
     "execution_count": 18,
     "metadata": {},
     "output_type": "execute_result"
    }
   ],
   "source": [
    "df_all = pd.DataFrame([['DesicionTree', 0.83, 0.45, 0.8],\n",
    "                  ['RandomForest', 0.85, 0.54, 0.81],\n",
    "                  ['LogisticRegression', 0.8, 0.29, 0.76]], \n",
    "columns=['name', 'Accuracy', 'F1', 'AUC-ROC'])\n",
    "df_all"
   ]
  },
  {
   "cell_type": "markdown",
   "metadata": {},
   "source": [
    "F1 больше или равна 0,59 - это наша цель. Пока только случайный лес показывает значение 0,54, остальные ниже. Точность высока у всех моделей. Необходимо откорректировать дисбаланс классов."
   ]
  },
  {
   "cell_type": "markdown",
   "metadata": {},
   "source": [
    "## Борьба с дисбалансом"
   ]
  },
  {
   "cell_type": "markdown",
   "metadata": {},
   "source": [
    "Придадим объектам редкого класса больший вес.\n",
    "В алгоритмах решающего дерева, случайного леса и логистической регрессии в библиотеке sklearn есть аргумент class_weight.\n",
    "Используем его, обучая модели."
   ]
  },
  {
   "cell_type": "code",
   "execution_count": 19,
   "metadata": {},
   "outputs": [
    {
     "name": "stdout",
     "output_type": "stream",
     "text": [
      "F1_LogisticRegression :0.51\n",
      "F1_DecisionTreeClassifier:0.51\n",
      "F1_RandomForestClassifier:0.53\n"
     ]
    }
   ],
   "source": [
    "logistic_model = LogisticRegression(random_state=12345, class_weight='balanced')\n",
    "logistic_model.fit(features_train, target_train)\n",
    "logistic_predicted_valid = logistic_model.predict(features_valid)\n",
    "\n",
    "tree_model = DecisionTreeClassifier(random_state=12345, class_weight='balanced')\n",
    "tree_model.fit(features_train, target_train)\n",
    "tree_predicted_valid = tree_model.predict(features_valid)\n",
    "\n",
    "forest_model = RandomForestClassifier(random_state=12345, class_weight='balanced')\n",
    "forest_model.fit(features_train, target_train)\n",
    "forest_predicted_valid = forest_model.predict(features_valid)\n",
    "\n",
    "print('F1_LogisticRegression :{:.2f}'.format(f1_score(target_valid, logistic_predicted_valid)))\n",
    "print('F1_DecisionTreeClassifier:{:.2f}'.format(f1_score(target_valid, tree_predicted_valid)))\n",
    "print('F1_RandomForestClassifier:{:.2f}'.format(f1_score(target_valid, forest_predicted_valid)))"
   ]
  },
  {
   "cell_type": "markdown",
   "metadata": {},
   "source": [
    "Увеличим выборку методом upsampling"
   ]
  },
  {
   "cell_type": "code",
   "execution_count": 20,
   "metadata": {},
   "outputs": [
    {
     "name": "stdout",
     "output_type": "stream",
     "text": [
      "(5998, 11)\n",
      "(1502, 11)\n",
      "(5998,)\n",
      "(1502,)\n"
     ]
    }
   ],
   "source": [
    "# Разделим обучающую выборку на отрицательные и положительные объекты\n",
    "features_zeros = features_train[target_train == 0]\n",
    "features_ones = features_train[target_train == 1]\n",
    "target_zeros = target_train[target_train == 0]\n",
    "target_ones = target_train[target_train == 1]\n",
    "\n",
    "print(features_zeros.shape)\n",
    "print(features_ones.shape)\n",
    "print(target_zeros.shape)\n",
    "print(target_ones.shape)"
   ]
  },
  {
   "cell_type": "code",
   "execution_count": 21,
   "metadata": {},
   "outputs": [
    {
     "name": "stdout",
     "output_type": "stream",
     "text": [
      "(12006, 11)\n",
      "(12006,)\n"
     ]
    }
   ],
   "source": [
    "# Скопируем несколько раз положительные объекты. С учётом полученных данных создадим новую обучающую выборку.\n",
    "# Перемешаем данные.\n",
    "# Напишем функцию upsample(features, target, repeat) для формирования сблалансированной выборки\n",
    "\n",
    "def upsample(features, target, repeat):\n",
    "\n",
    "    features_zeros = features[target == 0]\n",
    "    features_ones = features[target == 1]\n",
    "    target_zeros = target[target == 0]\n",
    "    target_ones = target[target == 1]\n",
    "\n",
    "    repeat = repeat\n",
    "    features_upsampled = pd.concat([features_zeros] + [features_ones] * repeat)\n",
    "    target_upsampled = pd.concat([target_zeros] + [target_ones] * repeat)\n",
    "    \n",
    "    features_upsampled, target_upsampled = shuffle(features_upsampled, target_upsampled, random_state=12345)\n",
    "    return features_upsampled, target_upsampled\n",
    "\n",
    "features_upsampled, target_upsampled = upsample(features_train, target_train, 4)\n",
    "\n",
    "print(features_upsampled.shape)\n",
    "print(target_upsampled.shape)\n"
   ]
  },
  {
   "cell_type": "code",
   "execution_count": 22,
   "metadata": {},
   "outputs": [
    {
     "name": "stdout",
     "output_type": "stream",
     "text": [
      "F1_LogisticRegression:0.50\n",
      "F1_DecisionTreeClassifier:0.49\n",
      "F1_RandomForestClassifier:0.59\n"
     ]
    }
   ],
   "source": [
    "# обучим модели на новой, расширенной выборке\n",
    "logistic_model = LogisticRegression(random_state=12345)\n",
    "logistic_model.fit(features_upsampled, target_upsampled)\n",
    "logistic_predicted_valid = logistic_model.predict(features_valid)\n",
    "\n",
    "tree_model = DecisionTreeClassifier(random_state=12345)\n",
    "tree_model.fit(features_upsampled, target_upsampled)\n",
    "tree_predicted_valid = tree_model.predict(features_valid)\n",
    "\n",
    "forest_model = RandomForestClassifier(random_state=12345)\n",
    "forest_model.fit(features_upsampled, target_upsampled)\n",
    "forest_predicted_valid = forest_model.predict(features_valid)\n",
    "\n",
    "print('F1_LogisticRegression:{:.2f}'.format(f1_score(target_valid, logistic_predicted_valid)))\n",
    "print('F1_DecisionTreeClassifier:{:.2f}'.format(f1_score(target_valid, tree_predicted_valid)))\n",
    "print('F1_RandomForestClassifier:{:.2f}'.format(f1_score(target_valid, forest_predicted_valid)))"
   ]
  },
  {
   "cell_type": "markdown",
   "metadata": {},
   "source": [
    "F1_RandomForestClassifier:0.59. Целевое значение метрики достигнуто. Попробуем уменьшить выборку."
   ]
  },
  {
   "cell_type": "code",
   "execution_count": 23,
   "metadata": {},
   "outputs": [
    {
     "name": "stdout",
     "output_type": "stream",
     "text": [
      "(3002, 11)\n",
      "(3002,)\n"
     ]
    }
   ],
   "source": [
    "# Уменьшим выборку методом downsampling\n",
    "# Напишем функцию downsample(features, target, repeat) для формирования сблалансированной выборки\n",
    "\n",
    "def downsample(features, target, fraction):\n",
    "    features_zeros = features[target == 0]\n",
    "    features_ones = features[target == 1]\n",
    "    target_zeros = target[target == 0]\n",
    "    target_ones = target[target == 1]\n",
    "\n",
    "    features_downsampled = pd.concat([features_zeros.sample(frac=fraction, random_state=12345)] +\n",
    "                                     [features_ones])\n",
    "    target_downsampled = pd.concat([target_zeros.sample(frac=fraction, random_state=12345)] +\n",
    "                                     [target_ones])\n",
    "    features_downsampled, target_downsampled = shuffle(features_downsampled, target_downsampled,\n",
    "                                                      random_state=12345)\n",
    "    return features_downsampled, target_downsampled\n",
    "\n",
    "features_downsampled, target_downsampled = downsample(features_train, target_train, 0.25)\n",
    "\n",
    "print(features_downsampled.shape)\n",
    "print(target_downsampled.shape)"
   ]
  },
  {
   "cell_type": "code",
   "execution_count": 24,
   "metadata": {},
   "outputs": [
    {
     "name": "stdout",
     "output_type": "stream",
     "text": [
      "F1_LogisticRegression:0.51\n",
      "F1_DecisionTreeClassifier:0.49\n",
      "F1_RandomForestClassifier:0.59\n"
     ]
    }
   ],
   "source": [
    "# обучим модели на уменьшенной выборке\n",
    "\n",
    "logistic_model = LogisticRegression(random_state=12345)\n",
    "logistic_model.fit(features_downsampled, target_downsampled)\n",
    "logistic_predicted_valid = logistic_model.predict(features_valid)\n",
    "\n",
    "tree_model = DecisionTreeClassifier(random_state=12345)\n",
    "tree_model.fit(features_downsampled, target_downsampled)\n",
    "tree_predicted_valid = tree_model.predict(features_valid)\n",
    "\n",
    "forest_model = RandomForestClassifier(random_state=12345)\n",
    "forest_model.fit(features_downsampled, target_downsampled)\n",
    "forest_predicted_valid = forest_model.predict(features_valid)\n",
    "\n",
    "print('F1_LogisticRegression:{:.2f}'.format(f1_score(target_valid, logistic_predicted_valid)))\n",
    "print('F1_DecisionTreeClassifier:{:.2f}'.format(f1_score(target_valid, tree_predicted_valid)))\n",
    "print('F1_RandomForestClassifier:{:.2f}'.format(f1_score(target_valid, forest_predicted_valid)))"
   ]
  },
  {
   "cell_type": "markdown",
   "metadata": {},
   "source": [
    "Чтобы выявить, как сильно наша модель отличается от случайной, посчитаем площадь под ROC-кривой — AUC-ROC"
   ]
  },
  {
   "cell_type": "code",
   "execution_count": 25,
   "metadata": {},
   "outputs": [],
   "source": [
    "# Напишем функцию auc_roc(model), которая строит roc-кривую и вычисляет AUC-ROC\n",
    "\n",
    "def auc_roc(model, name):\n",
    "    probabilities_valid = model.predict_proba(features_valid)\n",
    "    probabilities_one_valid = probabilities_valid[:, 1]\n",
    "    fpr, tpr, thresholds = roc_curve(target_valid, probabilities_one_valid)\n",
    "    \n",
    "    plt.figure()\n",
    "    plt.plot(fpr, tpr)\n",
    "    plt.plot([0, 1], [0, 1], linestyle='--')\n",
    "    plt.ylim([0.0, 1.0])\n",
    "    plt.xlim([0.0, 1.0])\n",
    "    plt.xlabel('False Positive Rate')\n",
    "    plt.ylabel('True Positive Rate')\n",
    "    plt.title('{} ROC-кривая'.format(name))\n",
    "    plt.show()\n",
    "    \n",
    "    auc_roc = roc_auc_score(target_valid, probabilities_one_valid)\n",
    "    print('AUC-ROC равно:', auc_roc)\n",
    "    return "
   ]
  },
  {
   "cell_type": "code",
   "execution_count": 26,
   "metadata": {},
   "outputs": [
    {
     "data": {
      "image/png": "[encoded data removed]",
      "text/plain": [
       "<Figure size 432x288 with 1 Axes>"
      ]
     },
     "metadata": {
      "needs_background": "light"
     },
     "output_type": "display_data"
    },
    {
     "name": "stdout",
     "output_type": "stream",
     "text": [
      "AUC-ROC равно: 0.76451356685929\n"
     ]
    }
   ],
   "source": [
    "auc_roc(logistic_model, 'LogisticRegression')"
   ]
  },
  {
   "cell_type": "code",
   "execution_count": 27,
   "metadata": {},
   "outputs": [
    {
     "data": {
      "image/png": "[encoded data removed]",
      "text/plain": [
       "<Figure size 432x288 with 1 Axes>"
      ]
     },
     "metadata": {
      "needs_background": "light"
     },
     "output_type": "display_data"
    },
    {
     "name": "stdout",
     "output_type": "stream",
     "text": [
      "AUC-ROC равно: 0.6919478728210982\n"
     ]
    }
   ],
   "source": [
    "auc_roc(tree_model, 'DecisionTreeClassifier')"
   ]
  },
  {
   "cell_type": "code",
   "execution_count": 28,
   "metadata": {},
   "outputs": [
    {
     "data": {
      "image/png": "[encoded data removed]",
      "text/plain": [
       "<Figure size 432x288 with 1 Axes>"
      ]
     },
     "metadata": {
      "needs_background": "light"
     },
     "output_type": "display_data"
    },
    {
     "name": "stdout",
     "output_type": "stream",
     "text": [
      "AUC-ROC равно: 0.830353618225488\n"
     ]
    }
   ],
   "source": [
    "auc_roc(forest_model, 'RandomForestClassifier')"
   ]
  },
  {
   "cell_type": "markdown",
   "metadata": {},
   "source": [
    "Подберем гиперпараметры"
   ]
  },
  {
   "cell_type": "code",
   "execution_count": 29,
   "metadata": {},
   "outputs": [
    {
     "data": {
      "text/plain": [
       "0.4900662251655629"
      ]
     },
     "execution_count": 29,
     "metadata": {},
     "output_type": "execute_result"
    }
   ],
   "source": [
    "# DecisionTreeClassifier\n",
    "\n",
    "tree_model = DecisionTreeClassifier(random_state=12345)\n",
    "tree_model.fit(features_upsampled, target_upsampled)\n",
    "tree_predicted_valid = tree_model.predict(features_valid)\n",
    "f1_score(target_valid, tree_predicted_valid)"
   ]
  },
  {
   "cell_type": "code",
   "execution_count": 30,
   "metadata": {},
   "outputs": [
    {
     "name": "stdout",
     "output_type": "stream",
     "text": [
      "Глубина дерева: 1 F1-мера: 0.5070202808112324\n",
      "Глубина дерева: 2 F1-мера: 0.5391566265060241\n",
      "Глубина дерева: 3 F1-мера: 0.5391566265060241\n",
      "Глубина дерева: 4 F1-мера: 0.5440414507772021\n",
      "Глубина дерева: 5 F1-мера: 0.6016129032258064\n",
      "Глубина дерева: 6 F1-мера: 0.5878962536023055\n",
      "Глубина дерева: 7 F1-мера: 0.5859154929577465\n",
      "Глубина дерева: 8 F1-мера: 0.5821114369501467\n",
      "Глубина дерева: 9 F1-мера: 0.5739005046863735\n",
      "Глубина дерева: 10 F1-мера: 0.5569811320754717\n",
      "Глубина дерева: 11 F1-мера: 0.5537974683544303\n",
      "Глубина дерева: 12 F1-мера: 0.5396825396825397\n",
      "Глубина дерева: 13 F1-мера: 0.5192465192465192\n",
      "Глубина дерева: 14 F1-мера: 0.5012701100762066\n",
      "Глубина дерева: 15 F1-мера: 0.510600706713781\n",
      "Глубина дерева: 16 F1-мера: 0.5\n",
      "Глубина дерева: 17 F1-мера: 0.5009107468123862\n",
      "Глубина дерева: 18 F1-мера: 0.49355432780847147\n",
      "Глубина дерева: 19 F1-мера: 0.4967197750702905\n",
      "Глубина дерева: 20 F1-мера: 0.500945179584121\n"
     ]
    }
   ],
   "source": [
    "# max_depth - максимальная глубина дерева. Переберем в цикле значения от 1 до 20\n",
    "\n",
    "for depth in range(1,21):\n",
    "    tree_model = DecisionTreeClassifier(random_state=12345, max_depth=depth)\n",
    "    tree_model.fit(features_upsampled, target_upsampled)\n",
    "    tree_predicted_valid = tree_model.predict(features_valid)\n",
    "    print('Глубина дерева:', depth, 'F1-мера:', f1_score(target_valid, tree_predicted_valid))"
   ]
  },
  {
   "cell_type": "markdown",
   "metadata": {},
   "source": [
    "оптимальное значение max_depth=5"
   ]
  },
  {
   "cell_type": "code",
   "execution_count": 31,
   "metadata": {},
   "outputs": [
    {
     "data": {
      "text/plain": [
       "0.5928270042194094"
      ]
     },
     "execution_count": 31,
     "metadata": {},
     "output_type": "execute_result"
    }
   ],
   "source": [
    "# RandomForestClassifier\n",
    "\n",
    "forest_model = RandomForestClassifier(random_state=12345)\n",
    "forest_model.fit(features_upsampled, target_upsampled)\n",
    "forest_predicted_valid = forest_model.predict(features_valid)\n",
    "f1_score(target_valid, forest_predicted_valid)"
   ]
  },
  {
   "cell_type": "code",
   "execution_count": 32,
   "metadata": {},
   "outputs": [
    {
     "name": "stdout",
     "output_type": "stream",
     "text": [
      "5 : 0.5768863419293219\n",
      "10 : 0.5928270042194094\n",
      "15 : 0.6087824351297405\n",
      "20 : 0.6068111455108359\n",
      "25 : 0.6124497991967871\n",
      "30 : 0.6120777891504606\n",
      "35 : 0.6012145748987854\n",
      "40 : 0.6014418125643666\n",
      "45 : 0.6133603238866396\n",
      "50 : 0.6201232032854209\n",
      "55 : 0.617737003058104\n",
      "60 : 0.6134969325153373\n",
      "65 : 0.6109979633401221\n",
      "70 : 0.6115702479338843\n",
      "75 : 0.6120777891504606\n",
      "80 : 0.6182572614107884\n",
      "85 : 0.6163391933815925\n",
      "90 : 0.6128364389233953\n",
      "95 : 0.6180698151950719\n",
      "100 : 0.6199794026776518\n",
      "105 : 0.6153846153846154\n",
      "110 : 0.615859938208033\n",
      "115 : 0.6145940390544707\n",
      "120 : 0.6203319502074689\n",
      "125 : 0.6179196704428425\n",
      "130 : 0.6141078838174274\n",
      "135 : 0.6138002059732235\n",
      "140 : 0.6141078838174274\n",
      "145 : 0.6206185567010308\n",
      "150 : 0.6169772256728778\n"
     ]
    }
   ],
   "source": [
    "# n_estimators - количество деревьев. Переберем в цикле значения от 5 до 150 с шагом 5\n",
    "\n",
    "for estimators in range(5,151,5):\n",
    "    forest_model = RandomForestClassifier(random_state=12345, n_estimators=estimators)\n",
    "    forest_model.fit(features_upsampled, target_upsampled)\n",
    "    forest_predicted_valid = forest_model.predict(features_valid)\n",
    "    print(estimators,':', f1_score(target_valid, forest_predicted_valid))"
   ]
  },
  {
   "cell_type": "markdown",
   "metadata": {},
   "source": [
    "оптимальное значение n_estimators=145"
   ]
  },
  {
   "cell_type": "code",
   "execution_count": 33,
   "metadata": {},
   "outputs": [
    {
     "name": "stdout",
     "output_type": "stream",
     "text": [
      "Глубина дерева: 1 F1-мера: 0.5420827389443652\n",
      "Глубина дерева: 2 F1-мера: 0.5628654970760234\n",
      "Глубина дерева: 3 F1-мера: 0.5915080527086384\n",
      "Глубина дерева: 4 F1-мера: 0.6105733432613552\n",
      "Глубина дерева: 5 F1-мера: 0.6204772902232488\n",
      "Глубина дерева: 6 F1-мера: 0.630220197418375\n",
      "Глубина дерева: 7 F1-мера: 0.6415686274509804\n",
      "Глубина дерева: 8 F1-мера: 0.644904458598726\n",
      "Глубина дерева: 9 F1-мера: 0.6433224755700326\n",
      "Глубина дерева: 10 F1-мера: 0.6336134453781513\n",
      "Глубина дерева: 11 F1-мера: 0.6319444444444444\n",
      "Глубина дерева: 12 F1-мера: 0.6344086021505376\n",
      "Глубина дерева: 13 F1-мера: 0.6333647502356268\n",
      "Глубина дерева: 14 F1-мера: 0.6285160038797285\n",
      "Глубина дерева: 15 F1-мера: 0.6141732283464567\n",
      "Глубина дерева: 16 F1-мера: 0.618\n",
      "Глубина дерева: 17 F1-мера: 0.6234817813765182\n",
      "Глубина дерева: 18 F1-мера: 0.6292134831460674\n",
      "Глубина дерева: 19 F1-мера: 0.6194871794871795\n",
      "Глубина дерева: 20 F1-мера: 0.6136363636363636\n",
      "Глубина дерева: 21 F1-мера: 0.6134969325153373\n",
      "Глубина дерева: 22 F1-мера: 0.6136363636363636\n",
      "Глубина дерева: 23 F1-мера: 0.6176165803108808\n",
      "Глубина дерева: 24 F1-мера: 0.6142709410548087\n",
      "Глубина дерева: 25 F1-мера: 0.6199794026776518\n",
      "Глубина дерева: 26 F1-мера: 0.6234567901234568\n",
      "Глубина дерева: 27 F1-мера: 0.6261585993820804\n",
      "Глубина дерева: 28 F1-мера: 0.6206185567010308\n",
      "Глубина дерева: 29 F1-мера: 0.6206185567010308\n",
      "Глубина дерева: 30 F1-мера: 0.6206185567010308\n"
     ]
    }
   ],
   "source": [
    "# max_depth - максимальная глубина дерева. Переберем в цикле значения от 1 до 30\n",
    "\n",
    "for depth in range(1,31):\n",
    "    forest_model = RandomForestClassifier(random_state=12345, n_estimators=145, max_depth=depth)\n",
    "    forest_model.fit(features_upsampled, target_upsampled)\n",
    "    forest_predicted_valid = forest_model.predict(features_valid)\n",
    "    print('Глубина дерева:', depth, 'F1-мера:', f1_score(target_valid, forest_predicted_valid))"
   ]
  },
  {
   "cell_type": "markdown",
   "metadata": {},
   "source": [
    "Оптимальное значение max_depth=8"
   ]
  },
  {
   "cell_type": "markdown",
   "metadata": {},
   "source": [
    "Качество модели наилучшее при n_estimators=145, max_depth=8"
   ]
  },
  {
   "cell_type": "code",
   "execution_count": 34,
   "metadata": {},
   "outputs": [
    {
     "data": {
      "text/plain": [
       "0.5043478260869565"
      ]
     },
     "execution_count": 34,
     "metadata": {},
     "output_type": "execute_result"
    }
   ],
   "source": [
    "# LogisticRegression\n",
    "\n",
    "logistic_model = LogisticRegression(random_state=12345, solver='liblinear', warm_start=True, multi_class='ovr')\n",
    "logistic_model.fit(features_upsampled, target_upsampled)\n",
    "logistic_predicted_valid = logistic_model.predict(features_valid)\n",
    "f1_score(target_valid, logistic_predicted_valid)"
   ]
  },
  {
   "cell_type": "markdown",
   "metadata": {},
   "source": [
    "Изменение гиперпараметров не улучшает качество LogisticRegression."
   ]
  },
  {
   "cell_type": "markdown",
   "metadata": {},
   "source": [
    "Т.к. изначально и уменьшение и увеличение выборки показало одинаковые результаты, давайте проверим на подобранных иттоговых значениях, что лучше."
   ]
  },
  {
   "cell_type": "code",
   "execution_count": 35,
   "metadata": {},
   "outputs": [
    {
     "name": "stdout",
     "output_type": "stream",
     "text": [
      "Глубина дерева: 30 F1-мера: 0.6178623718887263\n"
     ]
    }
   ],
   "source": [
    "# уменьшение\n",
    "\n",
    "forest_model = RandomForestClassifier(random_state=12345, n_estimators=145, max_depth=8)\n",
    "forest_model.fit(features_downsampled, target_downsampled)\n",
    "forest_predicted_valid = forest_model.predict(features_valid)\n",
    "print('Глубина дерева:', depth, 'F1-мера:', f1_score(target_valid, forest_predicted_valid))"
   ]
  },
  {
   "cell_type": "code",
   "execution_count": 36,
   "metadata": {},
   "outputs": [
    {
     "name": "stdout",
     "output_type": "stream",
     "text": [
      "Глубина дерева: 30 F1-мера: 0.644904458598726\n"
     ]
    }
   ],
   "source": [
    "# увеличение\n",
    "\n",
    "forest_model = RandomForestClassifier(random_state=12345, n_estimators=145, max_depth=8)\n",
    "forest_model.fit(features_upsampled, target_upsampled)\n",
    "forest_predicted_valid = forest_model.predict(features_valid)\n",
    "print('Глубина дерева:', depth, 'F1-мера:', f1_score(target_valid, forest_predicted_valid))"
   ]
  },
  {
   "cell_type": "markdown",
   "metadata": {},
   "source": [
    "Мы сбалансировали классы, увеличили и уменьшили выборку, построили ROC кривые для каждой модели и посчитали AUC-ROC. В итоге оптимальная модель RandomForestClassifier при n_estimators=145, max_depth=8. Увеличение выборки оказалось оптимальным методом балансировки. Результаты проверены с применением итоговых оптимальных гиперпараметров."
   ]
  },
  {
   "cell_type": "markdown",
   "metadata": {},
   "source": [
    "Применим GridSearchCV, параметр кросс-валидации cv=4."
   ]
  },
  {
   "cell_type": "code",
   "execution_count": 47,
   "metadata": {},
   "outputs": [
    {
     "name": "stdout",
     "output_type": "stream",
     "text": [
      "CPU times: user 1min 34s, sys: 129 ms, total: 1min 35s\n",
      "Wall time: 1min 35s\n"
     ]
    },
    {
     "data": {
      "text/plain": [
       "GridSearchCV(cv=4, error_score='raise-deprecating',\n",
       "             estimator=DecisionTreeClassifier(class_weight=None,\n",
       "                                              criterion='gini', max_depth=None,\n",
       "                                              max_features=None,\n",
       "                                              max_leaf_nodes=None,\n",
       "                                              min_impurity_decrease=0.0,\n",
       "                                              min_impurity_split=None,\n",
       "                                              min_samples_leaf=1,\n",
       "                                              min_samples_split=2,\n",
       "                                              min_weight_fraction_leaf=0.0,\n",
       "                                              presort=False, random_state=12345,\n",
       "                                              splitter='best'),\n",
       "             iid='warn', n_jobs=None,\n",
       "             param_grid={'max_depth': [None, 2, 4, 6, 8, 10, 12, 14, 16, 18,\n",
       "                                       20],\n",
       "                         'max_features': ['auto', 'sqrt', None],\n",
       "                         'max_leaf_nodes': [None, 10, 20, 30, 40, 50, 60, 70,\n",
       "                                            80, 90, 100, 110, 120, 130, 140,\n",
       "                                            150],\n",
       "                         'min_samples_split': [2, 5, 10]},\n",
       "             pre_dispatch='2*n_jobs', refit=True, return_train_score=False,\n",
       "             scoring='f1', verbose=0)"
      ]
     },
     "execution_count": 47,
     "metadata": {},
     "output_type": "execute_result"
    }
   ],
   "source": [
    "%%time\n",
    "# импортируем алгоритм исчерпывающего поиска по гиперпараметрам\n",
    "from sklearn.model_selection import GridSearchCV\n",
    "\n",
    "# сетка гиперпараметров, по которой будет происходит исчерпывающий поиск\n",
    "param_grid = {\n",
    "    'max_depth': [None] + list(np.arange(2, 21,2).astype(int)),\n",
    "    'max_features': ['auto', 'sqrt', None],\n",
    "    'max_leaf_nodes': [None] + list(np.arange(10, 151, 10).astype(int)),\n",
    "    'min_samples_split': [2, 5, 10]\n",
    "}\n",
    "\n",
    "# дерево принятия решений к которому будем подбирать параметры\n",
    "estimator = DecisionTreeClassifier(random_state = 12345)\n",
    "\n",
    "# модель\n",
    "model = GridSearchCV(estimator, param_grid, cv=4, scoring = 'f1')\n",
    "\n",
    "# обучаем модель\n",
    "model.fit(features_upsampled, target_upsampled)"
   ]
  },
  {
   "cell_type": "code",
   "execution_count": 48,
   "metadata": {},
   "outputs": [
    {
     "data": {
      "text/plain": [
       "0.9251482226163725"
      ]
     },
     "execution_count": 48,
     "metadata": {},
     "output_type": "execute_result"
    }
   ],
   "source": [
    "# среднее значение F1-меры по разным выборкам\n",
    "model.best_score_"
   ]
  },
  {
   "cell_type": "code",
   "execution_count": 49,
   "metadata": {},
   "outputs": [
    {
     "data": {
      "text/plain": [
       "{'max_depth': None,\n",
       " 'max_features': None,\n",
       " 'max_leaf_nodes': None,\n",
       " 'min_samples_split': 2}"
      ]
     },
     "execution_count": 49,
     "metadata": {},
     "output_type": "execute_result"
    }
   ],
   "source": [
    "# набор параметров, которые подобрал исчерпывающий поиск по гиперпараметрам модели\n",
    "model.best_params_"
   ]
  },
  {
   "cell_type": "markdown",
   "metadata": {},
   "source": [
    "Попробуем RandomizedSearchCV - случайный поиск по гиперпараметрам с моделью случайного леса."
   ]
  },
  {
   "cell_type": "code",
   "execution_count": 51,
   "metadata": {},
   "outputs": [
    {
     "name": "stdout",
     "output_type": "stream",
     "text": [
      "CPU times: user 18.9 s, sys: 12.2 ms, total: 18.9 s\n",
      "Wall time: 18.9 s\n"
     ]
    },
    {
     "data": {
      "text/plain": [
       "RandomizedSearchCV(cv=4, error_score='raise-deprecating',\n",
       "                   estimator=RandomForestClassifier(bootstrap=True,\n",
       "                                                    class_weight=None,\n",
       "                                                    criterion='gini',\n",
       "                                                    max_depth=None,\n",
       "                                                    max_features='auto',\n",
       "                                                    max_leaf_nodes=None,\n",
       "                                                    min_impurity_decrease=0.0,\n",
       "                                                    min_impurity_split=None,\n",
       "                                                    min_samples_leaf=1,\n",
       "                                                    min_samples_split=2,\n",
       "                                                    min_weight_fraction_leaf=0.0,\n",
       "                                                    n_estimators='warn',\n",
       "                                                    n_jobs=None,\n",
       "                                                    oob_sc...\n",
       "                                        'max_depth': [None, 2, 4, 6, 8, 10, 12,\n",
       "                                                      14, 16, 18, 20],\n",
       "                                        'max_features': ['auto', 'sqrt', None],\n",
       "                                        'max_leaf_nodes': [None, 10, 20, 30, 40,\n",
       "                                                           50, 60, 70, 80, 90,\n",
       "                                                           100],\n",
       "                                        'min_samples_split': [2, 5, 10],\n",
       "                                        'n_estimators': [2, 4, 6, 8, 10, 12, 14,\n",
       "                                                         16, 18, 20, 22, 24, 26,\n",
       "                                                         28, 30, 32, 34, 36, 38,\n",
       "                                                         40, 42, 44, 46, 48, 50,\n",
       "                                                         52, 54, 56, 58, 60, ...]},\n",
       "                   pre_dispatch='2*n_jobs', random_state=None, refit=True,\n",
       "                   return_train_score=False, scoring='f1', verbose=0)"
      ]
     },
     "execution_count": 51,
     "metadata": {},
     "output_type": "execute_result"
    }
   ],
   "source": [
    "%%time\n",
    "# Импортируем алгоритм случайного поиска по гиперпараметрам\n",
    "from sklearn.model_selection import RandomizedSearchCV\n",
    "\n",
    "\n",
    "# сетка гиперпараметров, по которой будет происходит случайный поиск\n",
    "param_grid = {\n",
    "    'n_estimators': list(np.arange(2, 151, 2).astype(int)),\n",
    "    'max_depth': [None] + list(np.arange(2, 21,2).astype(int)),\n",
    "    'max_features': ['auto', 'sqrt', None],\n",
    "    'max_leaf_nodes': [None] + list(np.arange(10, 101, 10).astype(int)),\n",
    "    'min_samples_split': [2, 5, 10],\n",
    "    'bootstrap': [True, False]\n",
    "}\n",
    "\n",
    "# случайный лес к которому будем подбирать параметры\n",
    "estimator = RandomForestClassifier(random_state = 12345)\n",
    "\n",
    "# модель\n",
    "model_rf = RandomizedSearchCV(estimator, param_grid, cv=4, scoring = 'f1')\n",
    "\n",
    "# обучаем модель\n",
    "model_rf.fit(features_upsampled, target_upsampled)"
   ]
  },
  {
   "cell_type": "code",
   "execution_count": 52,
   "metadata": {},
   "outputs": [
    {
     "data": {
      "text/plain": [
       "0.8034339983453559"
      ]
     },
     "execution_count": 52,
     "metadata": {},
     "output_type": "execute_result"
    }
   ],
   "source": [
    "# <среднее значение F1-меры по разным выборкам>\n",
    "model_rf.best_score_"
   ]
  },
  {
   "cell_type": "markdown",
   "metadata": {},
   "source": [
    "Алгоритм случайного поиска по гиперпарметрам дал отличный результат F1-0.8, однако алгоритм исчерпывающего поиска по гиперпараметрам GridSearchCV показал результат лучше F1-0.93."
   ]
  },
  {
   "cell_type": "markdown",
   "metadata": {},
   "source": [
    "## Тестирование модели"
   ]
  },
  {
   "cell_type": "markdown",
   "metadata": {},
   "source": [
    "Объеденим обучающую и валидационную выборку, используя метод append и concat, для того чтобы добавить еще качества"
   ]
  },
  {
   "cell_type": "code",
   "execution_count": 38,
   "metadata": {},
   "outputs": [
    {
     "name": "stdout",
     "output_type": "stream",
     "text": [
      "(14506, 11)\n",
      "(14506,)\n"
     ]
    },
    {
     "data": {
      "text/html": [
       "<div>\n",
       "<style scoped>\n",
       "    .dataframe tbody tr th:only-of-type {\n",
       "        vertical-align: middle;\n",
       "    }\n",
       "\n",
       "    .dataframe tbody tr th {\n",
       "        vertical-align: top;\n",
       "    }\n",
       "\n",
       "    .dataframe thead th {\n",
       "        text-align: right;\n",
       "    }\n",
       "</style>\n",
       "<table border=\"1\" class=\"dataframe\">\n",
       "  <thead>\n",
       "    <tr style=\"text-align: right;\">\n",
       "      <th></th>\n",
       "      <th>creditscore</th>\n",
       "      <th>age</th>\n",
       "      <th>tenure</th>\n",
       "      <th>balance</th>\n",
       "      <th>numofproducts</th>\n",
       "      <th>hascrcard</th>\n",
       "      <th>isactivemember</th>\n",
       "      <th>estimatedsalary</th>\n",
       "      <th>geography_Germany</th>\n",
       "      <th>geography_Spain</th>\n",
       "      <th>gender_Male</th>\n",
       "    </tr>\n",
       "  </thead>\n",
       "  <tbody>\n",
       "    <tr>\n",
       "      <td>0</td>\n",
       "      <td>0.071116</td>\n",
       "      <td>-0.365820</td>\n",
       "      <td>-0.007900</td>\n",
       "      <td>0.803154</td>\n",
       "      <td>-0.896874</td>\n",
       "      <td>0</td>\n",
       "      <td>0</td>\n",
       "      <td>0.971100</td>\n",
       "      <td>0</td>\n",
       "      <td>0</td>\n",
       "      <td>0</td>\n",
       "    </tr>\n",
       "    <tr>\n",
       "      <td>1</td>\n",
       "      <td>0.731897</td>\n",
       "      <td>-0.175639</td>\n",
       "      <td>-1.825398</td>\n",
       "      <td>0.796418</td>\n",
       "      <td>-0.896874</td>\n",
       "      <td>0</td>\n",
       "      <td>0</td>\n",
       "      <td>1.036919</td>\n",
       "      <td>1</td>\n",
       "      <td>0</td>\n",
       "      <td>0</td>\n",
       "    </tr>\n",
       "    <tr>\n",
       "      <td>2</td>\n",
       "      <td>-0.868431</td>\n",
       "      <td>0.680178</td>\n",
       "      <td>-1.461898</td>\n",
       "      <td>-0.129863</td>\n",
       "      <td>0.817772</td>\n",
       "      <td>1</td>\n",
       "      <td>1</td>\n",
       "      <td>0.160852</td>\n",
       "      <td>1</td>\n",
       "      <td>0</td>\n",
       "      <td>0</td>\n",
       "    </tr>\n",
       "    <tr>\n",
       "      <td>3</td>\n",
       "      <td>-0.692911</td>\n",
       "      <td>-0.080548</td>\n",
       "      <td>1.446098</td>\n",
       "      <td>0.453211</td>\n",
       "      <td>-0.896874</td>\n",
       "      <td>1</td>\n",
       "      <td>0</td>\n",
       "      <td>1.322933</td>\n",
       "      <td>0</td>\n",
       "      <td>0</td>\n",
       "      <td>1</td>\n",
       "    </tr>\n",
       "    <tr>\n",
       "      <td>4</td>\n",
       "      <td>0.525403</td>\n",
       "      <td>0.680178</td>\n",
       "      <td>1.446098</td>\n",
       "      <td>0.354711</td>\n",
       "      <td>-0.896874</td>\n",
       "      <td>0</td>\n",
       "      <td>1</td>\n",
       "      <td>0.160691</td>\n",
       "      <td>0</td>\n",
       "      <td>0</td>\n",
       "      <td>0</td>\n",
       "    </tr>\n",
       "  </tbody>\n",
       "</table>\n",
       "</div>"
      ],
      "text/plain": [
       "   creditscore       age    tenure   balance  numofproducts  hascrcard  \\\n",
       "0     0.071116 -0.365820 -0.007900  0.803154      -0.896874          0   \n",
       "1     0.731897 -0.175639 -1.825398  0.796418      -0.896874          0   \n",
       "2    -0.868431  0.680178 -1.461898 -0.129863       0.817772          1   \n",
       "3    -0.692911 -0.080548  1.446098  0.453211      -0.896874          1   \n",
       "4     0.525403  0.680178  1.446098  0.354711      -0.896874          0   \n",
       "\n",
       "   isactivemember  estimatedsalary  geography_Germany  geography_Spain  \\\n",
       "0               0         0.971100                  0                0   \n",
       "1               0         1.036919                  1                0   \n",
       "2               1         0.160852                  1                0   \n",
       "3               0         1.322933                  0                0   \n",
       "4               1         0.160691                  0                0   \n",
       "\n",
       "   gender_Male  \n",
       "0            0  \n",
       "1            0  \n",
       "2            0  \n",
       "3            1  \n",
       "4            0  "
      ]
     },
     "execution_count": 38,
     "metadata": {},
     "output_type": "execute_result"
    }
   ],
   "source": [
    "# Объеденим обучающую(увеличенную) и валидационную выборку, используя метод append  и concat, для того чтобы добавить еще качества\n",
    "features_train_valid = features_upsampled.append(features_valid, ignore_index=True)\n",
    "# target_train_valid = target_upsampled.append(target_valid<ignore_index=True)\n",
    "target_train_valid = pd.concat([target_upsampled, target_valid])\n",
    "\n",
    "print(features_train_valid.shape)\n",
    "print(target_train_valid.shape)\n",
    "features_train_valid.head()"
   ]
  },
  {
   "cell_type": "code",
   "execution_count": 65,
   "metadata": {},
   "outputs": [
    {
     "name": "stdout",
     "output_type": "stream",
     "text": [
      "F1-мера: 0.6866197183098591\n"
     ]
    }
   ],
   "source": [
    "# Вычислим значение f1 меры модели при оптимальных гиперпараметрах, подобранных вручную\n",
    "\n",
    "forest_model = RandomForestClassifier(random_state=12345, n_estimators=145, max_depth=8)\n",
    "forest_model.fit(features_train_valid, target_train_valid)\n",
    "\n",
    "forest_predicted_valid = forest_model.predict(features_valid)\n",
    "print('F1-мера:', f1_score(target_valid, forest_predicted_valid))"
   ]
  },
  {
   "cell_type": "code",
   "execution_count": 64,
   "metadata": {},
   "outputs": [
    {
     "name": "stdout",
     "output_type": "stream",
     "text": [
      "F1-мера: 0.9507246376811594\n"
     ]
    }
   ],
   "source": [
    "# Вычислим значение f1 меры модели при оптимальных гиперпараметрах, подобранных GridSearchCV\n",
    "model_GridSearchCV = RandomForestClassifier(max_depth=None,\n",
    " max_features=None,\n",
    " max_leaf_nodes=None,\n",
    " min_samples_split=2)\n",
    "model_GridSearchCV.fit(features_train_valid, target_train_valid)\n",
    "\n",
    "forest_predicted_valid = model_GridSearchCV.predict(features_valid)\n",
    "print('F1-мера:', f1_score(target_valid, forest_predicted_valid))"
   ]
  },
  {
   "cell_type": "code",
   "execution_count": 66,
   "metadata": {},
   "outputs": [
    {
     "data": {
      "image/png": "[encoded data removed]",
      "text/plain": [
       "<Figure size 432x288 with 1 Axes>"
      ]
     },
     "metadata": {
      "needs_background": "light"
     },
     "output_type": "display_data"
    },
    {
     "name": "stdout",
     "output_type": "stream",
     "text": [
      "AUC-ROC равно: 0.894034386816009\n"
     ]
    }
   ],
   "source": [
    "# Построим roc-кривую и вычислим AUC-ROC для нашей модели\n",
    "\n",
    "auc_roc(forest_model, 'RandomForestClassifier')"
   ]
  },
  {
   "cell_type": "markdown",
   "metadata": {},
   "source": [
    "Модель RandomForestClassifier с оптимальными гиперпараметрами n_estimators=145, max_depth=8,  показала F1-меру: 0.69, AUC-ROC равное: 0.89. Цель достигнута."
   ]
  },
  {
   "cell_type": "code",
   "execution_count": 68,
   "metadata": {},
   "outputs": [
    {
     "data": {
      "image/png": "[encoded data removed]",
      "text/plain": [
       "<Figure size 432x288 with 1 Axes>"
      ]
     },
     "metadata": {
      "needs_background": "light"
     },
     "output_type": "display_data"
    },
    {
     "name": "stdout",
     "output_type": "stream",
     "text": [
      "AUC-ROC равно: 0.9988195286675704\n"
     ]
    }
   ],
   "source": [
    "# Построим roc-кривую и вычислим AUC-ROC для  model_GridSearchCV\n",
    "\n",
    "auc_roc(model_GridSearchCV, 'RandomForestClassifier')"
   ]
  },
  {
   "cell_type": "markdown",
   "metadata": {},
   "source": [
    "Давайте проанализируем влияние факторов на целевую. Применим feature_importances."
   ]
  },
  {
   "cell_type": "code",
   "execution_count": 69,
   "metadata": {},
   "outputs": [
    {
     "data": {
      "text/html": [
       "<div>\n",
       "<style scoped>\n",
       "    .dataframe tbody tr th:only-of-type {\n",
       "        vertical-align: middle;\n",
       "    }\n",
       "\n",
       "    .dataframe tbody tr th {\n",
       "        vertical-align: top;\n",
       "    }\n",
       "\n",
       "    .dataframe thead th {\n",
       "        text-align: right;\n",
       "    }\n",
       "</style>\n",
       "<table border=\"1\" class=\"dataframe\">\n",
       "  <thead>\n",
       "    <tr style=\"text-align: right;\">\n",
       "      <th></th>\n",
       "      <th>feature</th>\n",
       "      <th>importance</th>\n",
       "    </tr>\n",
       "  </thead>\n",
       "  <tbody>\n",
       "    <tr>\n",
       "      <td>0</td>\n",
       "      <td>creditscore</td>\n",
       "      <td>0.037049</td>\n",
       "    </tr>\n",
       "    <tr>\n",
       "      <td>1</td>\n",
       "      <td>age</td>\n",
       "      <td>0.373559</td>\n",
       "    </tr>\n",
       "    <tr>\n",
       "      <td>2</td>\n",
       "      <td>tenure</td>\n",
       "      <td>0.018730</td>\n",
       "    </tr>\n",
       "    <tr>\n",
       "      <td>3</td>\n",
       "      <td>balance</td>\n",
       "      <td>0.089619</td>\n",
       "    </tr>\n",
       "    <tr>\n",
       "      <td>4</td>\n",
       "      <td>numofproducts</td>\n",
       "      <td>0.279553</td>\n",
       "    </tr>\n",
       "    <tr>\n",
       "      <td>5</td>\n",
       "      <td>hascrcard</td>\n",
       "      <td>0.004500</td>\n",
       "    </tr>\n",
       "    <tr>\n",
       "      <td>6</td>\n",
       "      <td>isactivemember</td>\n",
       "      <td>0.071914</td>\n",
       "    </tr>\n",
       "    <tr>\n",
       "      <td>7</td>\n",
       "      <td>estimatedsalary</td>\n",
       "      <td>0.036183</td>\n",
       "    </tr>\n",
       "    <tr>\n",
       "      <td>8</td>\n",
       "      <td>geography_Germany</td>\n",
       "      <td>0.061048</td>\n",
       "    </tr>\n",
       "    <tr>\n",
       "      <td>9</td>\n",
       "      <td>geography_Spain</td>\n",
       "      <td>0.005457</td>\n",
       "    </tr>\n",
       "    <tr>\n",
       "      <td>10</td>\n",
       "      <td>gender_Male</td>\n",
       "      <td>0.022389</td>\n",
       "    </tr>\n",
       "  </tbody>\n",
       "</table>\n",
       "</div>"
      ],
      "text/plain": [
       "              feature  importance\n",
       "0         creditscore    0.037049\n",
       "1                 age    0.373559\n",
       "2              tenure    0.018730\n",
       "3             balance    0.089619\n",
       "4       numofproducts    0.279553\n",
       "5           hascrcard    0.004500\n",
       "6      isactivemember    0.071914\n",
       "7     estimatedsalary    0.036183\n",
       "8   geography_Germany    0.061048\n",
       "9     geography_Spain    0.005457\n",
       "10        gender_Male    0.022389"
      ]
     },
     "execution_count": 69,
     "metadata": {},
     "output_type": "execute_result"
    }
   ],
   "source": [
    "# Создадим датафрейм факторов и их значимости\n",
    "\n",
    "importances = forest_model.feature_importances_\n",
    "feature_list = list(features_train_valid.columns)\n",
    "feature_results = pd.DataFrame({'feature': feature_list,'importance': importances})\n",
    "feature_results.head(11)"
   ]
  },
  {
   "cell_type": "code",
   "execution_count": 70,
   "metadata": {},
   "outputs": [
    {
     "data": {
      "image/png": "[encoded data removed]",
      "text/plain": [
       "<Figure size 432x288 with 1 Axes>"
      ]
     },
     "metadata": {
      "needs_background": "light"
     },
     "output_type": "display_data"
    }
   ],
   "source": [
    "# построим график, оценим визуально\n",
    "import matplotlib.pyplot as plt\n",
    "\n",
    "plt.bar(range(len(forest_model.feature_importances_)), forest_model.feature_importances_)\n",
    "plt.show()"
   ]
  },
  {
   "cell_type": "code",
   "execution_count": 71,
   "metadata": {},
   "outputs": [
    {
     "data": {
      "text/html": [
       "<div>\n",
       "<style scoped>\n",
       "    .dataframe tbody tr th:only-of-type {\n",
       "        vertical-align: middle;\n",
       "    }\n",
       "\n",
       "    .dataframe tbody tr th {\n",
       "        vertical-align: top;\n",
       "    }\n",
       "\n",
       "    .dataframe thead th {\n",
       "        text-align: right;\n",
       "    }\n",
       "</style>\n",
       "<table border=\"1\" class=\"dataframe\">\n",
       "  <thead>\n",
       "    <tr style=\"text-align: right;\">\n",
       "      <th></th>\n",
       "      <th>feature</th>\n",
       "      <th>importance</th>\n",
       "    </tr>\n",
       "  </thead>\n",
       "  <tbody>\n",
       "    <tr>\n",
       "      <td>0</td>\n",
       "      <td>age</td>\n",
       "      <td>0.373559</td>\n",
       "    </tr>\n",
       "    <tr>\n",
       "      <td>1</td>\n",
       "      <td>numofproducts</td>\n",
       "      <td>0.279553</td>\n",
       "    </tr>\n",
       "    <tr>\n",
       "      <td>2</td>\n",
       "      <td>balance</td>\n",
       "      <td>0.089619</td>\n",
       "    </tr>\n",
       "    <tr>\n",
       "      <td>3</td>\n",
       "      <td>isactivemember</td>\n",
       "      <td>0.071914</td>\n",
       "    </tr>\n",
       "    <tr>\n",
       "      <td>4</td>\n",
       "      <td>geography_Germany</td>\n",
       "      <td>0.061048</td>\n",
       "    </tr>\n",
       "    <tr>\n",
       "      <td>5</td>\n",
       "      <td>creditscore</td>\n",
       "      <td>0.037049</td>\n",
       "    </tr>\n",
       "    <tr>\n",
       "      <td>6</td>\n",
       "      <td>estimatedsalary</td>\n",
       "      <td>0.036183</td>\n",
       "    </tr>\n",
       "    <tr>\n",
       "      <td>7</td>\n",
       "      <td>gender_Male</td>\n",
       "      <td>0.022389</td>\n",
       "    </tr>\n",
       "    <tr>\n",
       "      <td>8</td>\n",
       "      <td>tenure</td>\n",
       "      <td>0.018730</td>\n",
       "    </tr>\n",
       "    <tr>\n",
       "      <td>9</td>\n",
       "      <td>geography_Spain</td>\n",
       "      <td>0.005457</td>\n",
       "    </tr>\n",
       "    <tr>\n",
       "      <td>10</td>\n",
       "      <td>hascrcard</td>\n",
       "      <td>0.004500</td>\n",
       "    </tr>\n",
       "  </tbody>\n",
       "</table>\n",
       "</div>"
      ],
      "text/plain": [
       "              feature  importance\n",
       "0                 age    0.373559\n",
       "1       numofproducts    0.279553\n",
       "2             balance    0.089619\n",
       "3      isactivemember    0.071914\n",
       "4   geography_Germany    0.061048\n",
       "5         creditscore    0.037049\n",
       "6     estimatedsalary    0.036183\n",
       "7         gender_Male    0.022389\n",
       "8              tenure    0.018730\n",
       "9     geography_Spain    0.005457\n",
       "10          hascrcard    0.004500"
      ]
     },
     "execution_count": 71,
     "metadata": {},
     "output_type": "execute_result"
    }
   ],
   "source": [
    "# выведем факторы по важности\n",
    "\n",
    "feature_results = feature_results.sort_values('importance',ascending = False).reset_index(drop=True)\n",
    "feature_results.head(11)"
   ]
  },
  {
   "cell_type": "markdown",
   "metadata": {},
   "source": [
    "Основные факторы: возраст, баланс счета, предполагаемая зарплата, кредитный рейтинг и количество продуктов банка. Это интересно!"
   ]
  },
  {
   "cell_type": "markdown",
   "metadata": {},
   "source": [
    "### Общий вывод\n",
    "\n",
    "* Цель проекта. \n",
    "\n",
    "Нужно спрогнозировать, уйдёт клиент из банка в ближайшее время или нет. Построить модель с предельно большим значением F1-меры. Нужно довести метрику до 0.59. \n",
    "* Результат. \n",
    "\n",
    "Цель достигнута. Создана, обучена и настроена модель с F1=0,64."
   ]
  }
 ],
 "metadata": {
  "ExecuteTimeLog": [
   {
    "duration": 1546,
    "start_time": "2021-10-01T07:22:51.276Z"
   },
   {
    "duration": 67,
    "start_time": "2021-10-01T07:24:36.807Z"
   },
   {
    "duration": 103,
    "start_time": "2021-10-01T07:27:32.253Z"
   },
   {
    "duration": 8752,
    "start_time": "2021-10-01T07:43:30.972Z"
   },
   {
    "duration": 11,
    "start_time": "2021-10-01T07:43:58.445Z"
   },
   {
    "duration": 384,
    "start_time": "2021-10-01T07:48:07.784Z"
   },
   {
    "duration": 776,
    "start_time": "2021-10-01T07:48:20.206Z"
   },
   {
    "duration": 457,
    "start_time": "2021-10-01T07:49:07.612Z"
   },
   {
    "duration": 339,
    "start_time": "2021-10-01T07:49:12.778Z"
   },
   {
    "duration": 21,
    "start_time": "2021-10-01T07:49:17.805Z"
   },
   {
    "duration": 13,
    "start_time": "2021-10-01T07:49:28.297Z"
   },
   {
    "duration": 355,
    "start_time": "2021-10-01T07:50:14.274Z"
   },
   {
    "duration": 23,
    "start_time": "2021-10-01T07:50:47.746Z"
   },
   {
    "duration": 304,
    "start_time": "2021-10-01T07:53:58.445Z"
   },
   {
    "duration": 326,
    "start_time": "2021-10-01T07:54:34.969Z"
   },
   {
    "duration": 346,
    "start_time": "2021-10-01T07:56:19.247Z"
   },
   {
    "duration": 6,
    "start_time": "2021-10-01T07:56:48.135Z"
   },
   {
    "duration": 11,
    "start_time": "2021-10-01T07:57:00.271Z"
   },
   {
    "duration": 33,
    "start_time": "2021-10-01T07:57:02.120Z"
   },
   {
    "duration": 33,
    "start_time": "2021-10-01T08:03:36.392Z"
   },
   {
    "duration": 23,
    "start_time": "2021-10-01T08:03:56.285Z"
   },
   {
    "duration": 9191,
    "start_time": "2021-10-01T08:05:11.392Z"
   },
   {
    "duration": 6,
    "start_time": "2021-10-01T08:05:43.474Z"
   },
   {
    "duration": 9,
    "start_time": "2021-10-01T08:06:00.450Z"
   },
   {
    "duration": 5,
    "start_time": "2021-10-01T08:08:13.440Z"
   },
   {
    "duration": 477,
    "start_time": "2021-10-01T08:09:45.419Z"
   },
   {
    "duration": 32,
    "start_time": "2021-10-01T08:09:58.590Z"
   },
   {
    "duration": 38,
    "start_time": "2021-10-01T08:12:37.552Z"
   },
   {
    "duration": 32,
    "start_time": "2021-10-01T08:14:17.905Z"
   },
   {
    "duration": 234,
    "start_time": "2021-10-01T08:19:15.024Z"
   },
   {
    "duration": 418,
    "start_time": "2021-10-01T08:23:59.988Z"
   },
   {
    "duration": 382,
    "start_time": "2021-10-01T08:25:41.302Z"
   },
   {
    "duration": 10,
    "start_time": "2021-10-01T08:31:47.573Z"
   },
   {
    "duration": 5,
    "start_time": "2021-10-01T08:31:48.955Z"
   },
   {
    "duration": 36,
    "start_time": "2021-10-01T08:31:50.532Z"
   },
   {
    "duration": 222,
    "start_time": "2021-10-01T08:31:55.500Z"
   },
   {
    "duration": 434,
    "start_time": "2021-10-01T08:32:03.538Z"
   },
   {
    "duration": 32,
    "start_time": "2021-10-01T08:32:37.334Z"
   },
   {
    "duration": 50,
    "start_time": "2021-10-01T08:34:49.709Z"
   },
   {
    "duration": 40,
    "start_time": "2021-10-01T08:35:02.647Z"
   },
   {
    "duration": 44,
    "start_time": "2021-10-01T08:35:14.611Z"
   },
   {
    "duration": 220,
    "start_time": "2021-10-01T08:35:26.535Z"
   },
   {
    "duration": 31,
    "start_time": "2021-10-01T08:35:31.944Z"
   },
   {
    "duration": 5,
    "start_time": "2021-10-01T08:37:29.294Z"
   },
   {
    "duration": 358,
    "start_time": "2021-10-01T08:37:58.512Z"
   },
   {
    "duration": 9,
    "start_time": "2021-10-01T08:38:11.215Z"
   },
   {
    "duration": 6,
    "start_time": "2021-10-01T08:38:13.777Z"
   },
   {
    "duration": 339,
    "start_time": "2021-10-01T08:43:08.661Z"
   },
   {
    "duration": 6,
    "start_time": "2021-10-01T08:43:58.628Z"
   },
   {
    "duration": 190,
    "start_time": "2021-10-01T08:43:59.966Z"
   },
   {
    "duration": 25,
    "start_time": "2021-10-01T08:44:14.472Z"
   },
   {
    "duration": 20,
    "start_time": "2021-10-01T08:44:29.354Z"
   },
   {
    "duration": 7,
    "start_time": "2021-10-01T08:44:34.377Z"
   },
   {
    "duration": 10,
    "start_time": "2021-10-01T08:44:37.179Z"
   },
   {
    "duration": 31,
    "start_time": "2021-10-01T08:44:42.074Z"
   },
   {
    "duration": 23,
    "start_time": "2021-10-01T08:44:49.341Z"
   },
   {
    "duration": 9,
    "start_time": "2021-10-01T08:49:17.461Z"
   },
   {
    "duration": 5,
    "start_time": "2021-10-01T08:49:20.309Z"
   },
   {
    "duration": 5,
    "start_time": "2021-10-01T08:49:30.011Z"
   },
   {
    "duration": 73,
    "start_time": "2021-10-01T08:49:32.699Z"
   },
   {
    "duration": 220,
    "start_time": "2021-10-01T08:49:36.631Z"
   },
   {
    "duration": 32,
    "start_time": "2021-10-01T08:49:39.237Z"
   },
   {
    "duration": 1231,
    "start_time": "2021-10-02T05:58:32.927Z"
   },
   {
    "duration": 73,
    "start_time": "2021-10-02T05:58:35.371Z"
   },
   {
    "duration": 553,
    "start_time": "2021-10-02T05:58:40.541Z"
   },
   {
    "duration": 12,
    "start_time": "2021-10-02T05:58:44.186Z"
   },
   {
    "duration": 5,
    "start_time": "2021-10-02T05:58:48.537Z"
   },
   {
    "duration": 14,
    "start_time": "2021-10-02T05:58:54.607Z"
   },
   {
    "duration": 21,
    "start_time": "2021-10-02T05:59:02.691Z"
   },
   {
    "duration": 22,
    "start_time": "2021-10-02T05:59:13.350Z"
   },
   {
    "duration": 15,
    "start_time": "2021-10-02T05:59:19.826Z"
   },
   {
    "duration": 4,
    "start_time": "2021-10-02T05:59:26.265Z"
   },
   {
    "duration": 6,
    "start_time": "2021-10-02T05:59:38.580Z"
   },
   {
    "duration": 4,
    "start_time": "2021-10-02T05:59:41.788Z"
   },
   {
    "duration": 5,
    "start_time": "2021-10-02T05:59:55.257Z"
   },
   {
    "duration": 32,
    "start_time": "2021-10-02T06:00:00.619Z"
   },
   {
    "duration": 126,
    "start_time": "2021-10-02T06:00:25.036Z"
   },
   {
    "duration": 357,
    "start_time": "2021-10-02T06:01:04.986Z"
   },
   {
    "duration": 22,
    "start_time": "2021-10-02T06:02:28.186Z"
   },
   {
    "duration": 101,
    "start_time": "2021-10-02T06:04:38.394Z"
   },
   {
    "duration": 97,
    "start_time": "2021-10-02T06:05:37.428Z"
   },
   {
    "duration": 94,
    "start_time": "2021-10-02T06:05:50.712Z"
   },
   {
    "duration": 96,
    "start_time": "2021-10-02T06:06:04.991Z"
   },
   {
    "duration": 99,
    "start_time": "2021-10-02T06:07:53.617Z"
   },
   {
    "duration": 301,
    "start_time": "2021-10-02T06:12:50.726Z"
   },
   {
    "duration": 346,
    "start_time": "2021-10-02T06:13:05.174Z"
   },
   {
    "duration": 35,
    "start_time": "2021-10-02T06:13:33.812Z"
   },
   {
    "duration": 10,
    "start_time": "2021-10-02T06:17:09.323Z"
   },
   {
    "duration": 10,
    "start_time": "2021-10-02T06:18:04.736Z"
   },
   {
    "duration": 22,
    "start_time": "2021-10-02T06:20:10.421Z"
   },
   {
    "duration": 107,
    "start_time": "2021-10-02T06:20:18.242Z"
   },
   {
    "duration": 106,
    "start_time": "2021-10-02T06:20:24.244Z"
   },
   {
    "duration": 9,
    "start_time": "2021-10-02T06:20:29.899Z"
   },
   {
    "duration": 266,
    "start_time": "2021-10-02T06:34:41.878Z"
   },
   {
    "duration": 10,
    "start_time": "2021-10-02T06:34:44.906Z"
   },
   {
    "duration": 307,
    "start_time": "2021-10-02T06:35:55.659Z"
   },
   {
    "duration": 12,
    "start_time": "2021-10-02T06:36:55.639Z"
   },
   {
    "duration": 332,
    "start_time": "2021-10-02T06:37:01.013Z"
   },
   {
    "duration": 10,
    "start_time": "2021-10-02T06:37:02.519Z"
   },
   {
    "duration": 294,
    "start_time": "2021-10-02T06:37:18.779Z"
   },
   {
    "duration": 13,
    "start_time": "2021-10-02T06:37:20.753Z"
   },
   {
    "duration": 293,
    "start_time": "2021-10-02T06:38:32.068Z"
   },
   {
    "duration": 1107,
    "start_time": "2021-10-02T06:38:56.182Z"
   },
   {
    "duration": 79,
    "start_time": "2021-10-02T06:38:57.291Z"
   },
   {
    "duration": 750,
    "start_time": "2021-10-02T06:38:57.375Z"
   },
   {
    "duration": 13,
    "start_time": "2021-10-02T06:38:58.127Z"
   },
   {
    "duration": 7,
    "start_time": "2021-10-02T06:38:58.141Z"
   },
   {
    "duration": 11,
    "start_time": "2021-10-02T06:38:58.150Z"
   },
   {
    "duration": 19,
    "start_time": "2021-10-02T06:38:58.164Z"
   },
   {
    "duration": 14,
    "start_time": "2021-10-02T06:38:58.184Z"
   },
   {
    "duration": 4,
    "start_time": "2021-10-02T06:38:58.199Z"
   },
   {
    "duration": 8,
    "start_time": "2021-10-02T06:38:58.204Z"
   },
   {
    "duration": 7,
    "start_time": "2021-10-02T06:38:58.213Z"
   },
   {
    "duration": 27,
    "start_time": "2021-10-02T06:38:58.221Z"
   },
   {
    "duration": 43,
    "start_time": "2021-10-02T06:38:58.250Z"
   },
   {
    "duration": 145,
    "start_time": "2021-10-02T06:38:58.295Z"
   },
   {
    "duration": 21,
    "start_time": "2021-10-02T06:38:58.441Z"
   },
   {
    "duration": 112,
    "start_time": "2021-10-02T06:38:58.464Z"
   },
   {
    "duration": 166,
    "start_time": "2021-10-02T06:38:58.578Z"
   },
   {
    "duration": 98,
    "start_time": "2021-10-02T06:38:58.752Z"
   },
   {
    "duration": 311,
    "start_time": "2021-10-02T06:38:58.852Z"
   },
   {
    "duration": 10,
    "start_time": "2021-10-02T06:38:59.165Z"
   },
   {
    "duration": 318,
    "start_time": "2021-10-02T06:39:20.636Z"
   },
   {
    "duration": 12,
    "start_time": "2021-10-02T06:39:22.874Z"
   },
   {
    "duration": 259,
    "start_time": "2021-10-02T06:40:02.173Z"
   },
   {
    "duration": 338,
    "start_time": "2021-10-02T06:40:14.924Z"
   },
   {
    "duration": 11,
    "start_time": "2021-10-02T06:40:18.055Z"
   },
   {
    "duration": 270,
    "start_time": "2021-10-02T06:40:30.276Z"
   },
   {
    "duration": 9,
    "start_time": "2021-10-02T06:40:31.541Z"
   },
   {
    "duration": 304,
    "start_time": "2021-10-02T06:41:20.143Z"
   },
   {
    "duration": 10,
    "start_time": "2021-10-02T06:41:21.569Z"
   },
   {
    "duration": 300,
    "start_time": "2021-10-02T06:41:33.548Z"
   },
   {
    "duration": 9,
    "start_time": "2021-10-02T06:41:34.670Z"
   },
   {
    "duration": 21,
    "start_time": "2021-10-02T06:41:45.887Z"
   },
   {
    "duration": 95,
    "start_time": "2021-10-02T06:41:57.615Z"
   },
   {
    "duration": 94,
    "start_time": "2021-10-02T06:42:09.556Z"
   },
   {
    "duration": 87,
    "start_time": "2021-10-02T06:43:09.268Z"
   },
   {
    "duration": 9,
    "start_time": "2021-10-02T06:43:27.228Z"
   },
   {
    "duration": 290,
    "start_time": "2021-10-02T06:43:33.762Z"
   },
   {
    "duration": 8,
    "start_time": "2021-10-02T06:45:19.156Z"
   },
   {
    "duration": 15,
    "start_time": "2021-10-02T07:19:56.285Z"
   },
   {
    "duration": 15,
    "start_time": "2021-10-02T07:20:23.677Z"
   },
   {
    "duration": 308,
    "start_time": "2021-10-02T07:21:59.461Z"
   },
   {
    "duration": 16,
    "start_time": "2021-10-02T07:22:44.430Z"
   },
   {
    "duration": 14,
    "start_time": "2021-10-02T07:22:47.121Z"
   },
   {
    "duration": 414,
    "start_time": "2021-10-02T07:22:52.903Z"
   },
   {
    "duration": 14,
    "start_time": "2021-10-02T07:23:12.700Z"
   },
   {
    "duration": 356,
    "start_time": "2021-10-02T07:23:14.949Z"
   },
   {
    "duration": 361,
    "start_time": "2021-10-02T07:24:16.094Z"
   },
   {
    "duration": 365,
    "start_time": "2021-10-02T07:24:45.029Z"
   },
   {
    "duration": 360,
    "start_time": "2021-10-02T07:24:56.337Z"
   },
   {
    "duration": 1100,
    "start_time": "2021-10-02T07:26:18.264Z"
   },
   {
    "duration": 77,
    "start_time": "2021-10-02T07:26:19.366Z"
   },
   {
    "duration": 644,
    "start_time": "2021-10-02T07:26:19.445Z"
   },
   {
    "duration": 14,
    "start_time": "2021-10-02T07:26:20.092Z"
   },
   {
    "duration": 15,
    "start_time": "2021-10-02T07:26:20.109Z"
   },
   {
    "duration": 21,
    "start_time": "2021-10-02T07:26:20.126Z"
   },
   {
    "duration": 35,
    "start_time": "2021-10-02T07:26:20.149Z"
   },
   {
    "duration": 19,
    "start_time": "2021-10-02T07:26:20.188Z"
   },
   {
    "duration": 13,
    "start_time": "2021-10-02T07:26:20.210Z"
   },
   {
    "duration": 18,
    "start_time": "2021-10-02T07:26:20.224Z"
   },
   {
    "duration": 16,
    "start_time": "2021-10-02T07:26:20.243Z"
   },
   {
    "duration": 5,
    "start_time": "2021-10-02T07:26:20.260Z"
   },
   {
    "duration": 31,
    "start_time": "2021-10-02T07:26:20.267Z"
   },
   {
    "duration": 146,
    "start_time": "2021-10-02T07:26:20.300Z"
   },
   {
    "duration": 22,
    "start_time": "2021-10-02T07:26:20.448Z"
   },
   {
    "duration": 110,
    "start_time": "2021-10-02T07:26:20.472Z"
   },
   {
    "duration": 161,
    "start_time": "2021-10-02T07:26:20.584Z"
   },
   {
    "duration": 99,
    "start_time": "2021-10-02T07:26:20.747Z"
   },
   {
    "duration": 304,
    "start_time": "2021-10-02T07:26:20.848Z"
   },
   {
    "duration": 8,
    "start_time": "2021-10-02T07:26:21.153Z"
   },
   {
    "duration": 13,
    "start_time": "2021-10-02T07:26:21.163Z"
   },
   {
    "duration": 386,
    "start_time": "2021-10-02T07:26:21.178Z"
   },
   {
    "duration": 13,
    "start_time": "2021-10-02T07:29:14.458Z"
   },
   {
    "duration": 23,
    "start_time": "2021-10-02T07:30:06.744Z"
   },
   {
    "duration": 269,
    "start_time": "2021-10-02T07:31:48.613Z"
   },
   {
    "duration": 6,
    "start_time": "2021-10-02T07:34:22.533Z"
   },
   {
    "duration": 678,
    "start_time": "2021-10-02T07:34:50.808Z"
   },
   {
    "duration": 4,
    "start_time": "2021-10-02T07:35:06.519Z"
   },
   {
    "duration": 754,
    "start_time": "2021-10-02T07:35:08.336Z"
   },
   {
    "duration": 6,
    "start_time": "2021-10-02T07:35:32.561Z"
   },
   {
    "duration": 1526,
    "start_time": "2021-10-02T07:35:35.007Z"
   },
   {
    "duration": 4,
    "start_time": "2021-10-02T07:36:36.710Z"
   },
   {
    "duration": 248,
    "start_time": "2021-10-02T07:36:46.243Z"
   },
   {
    "duration": 5,
    "start_time": "2021-10-02T07:36:48.916Z"
   },
   {
    "duration": 592,
    "start_time": "2021-10-02T07:36:50.018Z"
   },
   {
    "duration": 4,
    "start_time": "2021-10-02T07:37:22.737Z"
   },
   {
    "duration": 347,
    "start_time": "2021-10-02T07:37:30.035Z"
   },
   {
    "duration": 165,
    "start_time": "2021-10-02T07:38:22.026Z"
   },
   {
    "duration": 211,
    "start_time": "2021-10-02T07:38:48.667Z"
   },
   {
    "duration": 24,
    "start_time": "2021-10-02T07:42:09.400Z"
   },
   {
    "duration": 4,
    "start_time": "2021-10-02T07:42:56.434Z"
   },
   {
    "duration": 678,
    "start_time": "2021-10-02T07:43:35.701Z"
   },
   {
    "duration": 47,
    "start_time": "2021-10-02T07:45:33.854Z"
   },
   {
    "duration": 7,
    "start_time": "2021-10-02T07:46:09.595Z"
   },
   {
    "duration": 16247,
    "start_time": "2021-10-02T07:46:19.529Z"
   },
   {
    "duration": 11706,
    "start_time": "2021-10-02T07:46:44.173Z"
   },
   {
    "duration": 25463,
    "start_time": "2021-10-02T07:47:15.525Z"
   },
   {
    "duration": 12240,
    "start_time": "2021-10-02T07:48:59.798Z"
   },
   {
    "duration": 39879,
    "start_time": "2021-10-02T08:21:12.083Z"
   },
   {
    "duration": 42,
    "start_time": "2021-10-02T08:23:49.805Z"
   },
   {
    "duration": 253,
    "start_time": "2021-10-02T08:31:19.578Z"
   },
   {
    "duration": 435,
    "start_time": "2021-10-02T08:32:21.867Z"
   },
   {
    "duration": 71,
    "start_time": "2021-10-02T08:32:54.696Z"
   },
   {
    "duration": 71,
    "start_time": "2021-10-02T08:34:35.056Z"
   },
   {
    "duration": 109,
    "start_time": "2021-10-02T08:35:54.505Z"
   },
   {
    "duration": 1143,
    "start_time": "2021-10-02T08:36:09.267Z"
   },
   {
    "duration": 187,
    "start_time": "2021-10-02T08:36:38.052Z"
   },
   {
    "duration": 4,
    "start_time": "2021-10-02T08:45:37.242Z"
   },
   {
    "duration": 65,
    "start_time": "2021-10-02T08:45:44.151Z"
   },
   {
    "duration": 16,
    "start_time": "2021-10-02T08:45:56.233Z"
   },
   {
    "duration": 12,
    "start_time": "2021-10-02T08:46:19.879Z"
   },
   {
    "duration": 4,
    "start_time": "2021-10-02T08:46:30.044Z"
   },
   {
    "duration": 7,
    "start_time": "2021-10-02T08:46:33.189Z"
   },
   {
    "duration": 21,
    "start_time": "2021-10-02T08:46:43.303Z"
   },
   {
    "duration": 16,
    "start_time": "2021-10-02T08:47:05.684Z"
   },
   {
    "duration": 5,
    "start_time": "2021-10-02T08:47:13.833Z"
   },
   {
    "duration": 6,
    "start_time": "2021-10-02T08:47:15.922Z"
   },
   {
    "duration": 4,
    "start_time": "2021-10-02T08:47:18.009Z"
   },
   {
    "duration": 3,
    "start_time": "2021-10-02T08:47:23.035Z"
   },
   {
    "duration": 32,
    "start_time": "2021-10-02T08:47:58.711Z"
   },
   {
    "duration": 7,
    "start_time": "2021-10-02T08:49:56.881Z"
   },
   {
    "duration": 4,
    "start_time": "2021-10-02T08:49:58.126Z"
   },
   {
    "duration": 5,
    "start_time": "2021-10-02T08:49:59.406Z"
   },
   {
    "duration": 32,
    "start_time": "2021-10-02T08:50:04.261Z"
   },
   {
    "duration": 125,
    "start_time": "2021-10-02T08:50:45.981Z"
   },
   {
    "duration": 21,
    "start_time": "2021-10-02T08:50:54.125Z"
   },
   {
    "duration": 94,
    "start_time": "2021-10-02T08:51:34.438Z"
   },
   {
    "duration": 103,
    "start_time": "2021-10-02T08:51:37.542Z"
   },
   {
    "duration": 80,
    "start_time": "2021-10-02T08:51:43.165Z"
   },
   {
    "duration": 12,
    "start_time": "2021-10-02T08:51:44.742Z"
   },
   {
    "duration": 328,
    "start_time": "2021-10-02T08:52:18.821Z"
   },
   {
    "duration": 10,
    "start_time": "2021-10-02T08:52:25.374Z"
   },
   {
    "duration": 14,
    "start_time": "2021-10-02T08:52:28.970Z"
   },
   {
    "duration": 14,
    "start_time": "2021-10-02T08:52:55.402Z"
   },
   {
    "duration": 337,
    "start_time": "2021-10-02T08:52:59.064Z"
   },
   {
    "duration": 15,
    "start_time": "2021-10-02T08:53:13.177Z"
   },
   {
    "duration": 211,
    "start_time": "2021-10-02T08:53:14.880Z"
   },
   {
    "duration": 4,
    "start_time": "2021-10-02T08:53:50.219Z"
   },
   {
    "duration": 301,
    "start_time": "2021-10-02T08:53:52.484Z"
   },
   {
    "duration": 153,
    "start_time": "2021-10-02T08:53:57.890Z"
   },
   {
    "duration": 159,
    "start_time": "2021-10-02T08:54:01.144Z"
   },
   {
    "duration": 22,
    "start_time": "2021-10-02T08:54:08.725Z"
   },
   {
    "duration": 21,
    "start_time": "2021-10-02T08:54:19.254Z"
   },
   {
    "duration": 256,
    "start_time": "2021-10-02T08:55:23.827Z"
   },
   {
    "duration": 50,
    "start_time": "2021-10-02T08:55:48.749Z"
   },
   {
    "duration": 665,
    "start_time": "2021-10-02T08:56:12.921Z"
   },
   {
    "duration": 46,
    "start_time": "2021-10-02T08:56:36.562Z"
   },
   {
    "duration": 115,
    "start_time": "2021-10-02T08:57:01.890Z"
   },
   {
    "duration": 25325,
    "start_time": "2021-10-02T08:57:39.120Z"
   },
   {
    "duration": 38459,
    "start_time": "2021-10-02T08:58:39.735Z"
   },
   {
    "duration": 73,
    "start_time": "2021-10-02T08:59:29.877Z"
   },
   {
    "duration": 406,
    "start_time": "2021-10-02T09:02:30.753Z"
   },
   {
    "duration": 1160,
    "start_time": "2021-10-02T09:03:12.321Z"
   },
   {
    "duration": 412,
    "start_time": "2021-10-02T09:04:18.867Z"
   },
   {
    "duration": 1048,
    "start_time": "2021-10-02T09:04:48.853Z"
   },
   {
    "duration": 1118,
    "start_time": "2021-10-02T09:06:26.991Z"
   },
   {
    "duration": 202,
    "start_time": "2021-10-02T09:06:37.682Z"
   },
   {
    "duration": 117,
    "start_time": "2021-10-02T10:02:34.113Z"
   },
   {
    "duration": 534,
    "start_time": "2021-10-02T10:55:46.713Z"
   },
   {
    "duration": 1789,
    "start_time": "2021-10-02T10:55:59.837Z"
   },
   {
    "duration": 520,
    "start_time": "2021-10-02T10:56:05.180Z"
   },
   {
    "duration": 360,
    "start_time": "2021-10-02T10:58:12.224Z"
   },
   {
    "duration": 363,
    "start_time": "2021-10-02T10:58:43.964Z"
   },
   {
    "duration": 351,
    "start_time": "2021-10-02T10:58:49.839Z"
   },
   {
    "duration": 5,
    "start_time": "2021-10-02T10:59:00.352Z"
   },
   {
    "duration": 141,
    "start_time": "2021-10-02T10:59:00.360Z"
   },
   {
    "duration": 1500,
    "start_time": "2021-10-02T10:59:00.503Z"
   },
   {
    "duration": 21,
    "start_time": "2021-10-02T10:59:02.006Z"
   },
   {
    "duration": 32,
    "start_time": "2021-10-02T10:59:02.030Z"
   },
   {
    "duration": 12,
    "start_time": "2021-10-02T10:59:02.064Z"
   },
   {
    "duration": 37,
    "start_time": "2021-10-02T10:59:02.080Z"
   },
   {
    "duration": 60,
    "start_time": "2021-10-02T10:59:02.120Z"
   },
   {
    "duration": 5,
    "start_time": "2021-10-02T10:59:02.183Z"
   },
   {
    "duration": 17,
    "start_time": "2021-10-02T10:59:02.191Z"
   },
   {
    "duration": 32,
    "start_time": "2021-10-02T10:59:02.210Z"
   },
   {
    "duration": 15,
    "start_time": "2021-10-02T10:59:02.245Z"
   },
   {
    "duration": 62,
    "start_time": "2021-10-02T10:59:02.262Z"
   },
   {
    "duration": 271,
    "start_time": "2021-10-02T10:59:02.327Z"
   },
   {
    "duration": 33,
    "start_time": "2021-10-02T10:59:02.600Z"
   },
   {
    "duration": 180,
    "start_time": "2021-10-02T10:59:02.635Z"
   },
   {
    "duration": 152,
    "start_time": "2021-10-02T10:59:02.818Z"
   },
   {
    "duration": 191,
    "start_time": "2021-10-02T10:59:02.973Z"
   },
   {
    "duration": 375,
    "start_time": "2021-10-02T10:59:03.168Z"
   },
   {
    "duration": 18,
    "start_time": "2021-10-02T10:59:03.546Z"
   },
   {
    "duration": 22,
    "start_time": "2021-10-02T10:59:03.567Z"
   },
   {
    "duration": 473,
    "start_time": "2021-10-02T10:59:03.592Z"
   },
   {
    "duration": 21,
    "start_time": "2021-10-02T10:59:04.067Z"
   },
   {
    "duration": 305,
    "start_time": "2021-10-02T10:59:04.090Z"
   },
   {
    "duration": 7,
    "start_time": "2021-10-02T10:59:04.398Z"
   },
   {
    "duration": 447,
    "start_time": "2021-10-02T10:59:04.420Z"
   },
   {
    "duration": 277,
    "start_time": "2021-10-02T10:59:04.870Z"
   },
   {
    "duration": 380,
    "start_time": "2021-10-02T10:59:05.149Z"
   },
   {
    "duration": 89,
    "start_time": "2021-10-02T10:59:05.532Z"
   },
   {
    "duration": 1152,
    "start_time": "2021-10-02T10:59:05.624Z"
   },
   {
    "duration": 206,
    "start_time": "2021-10-02T10:59:06.778Z"
   },
   {
    "duration": 45189,
    "start_time": "2021-10-02T10:59:06.987Z"
   },
   {
    "duration": 74171,
    "start_time": "2021-10-02T10:59:52.178Z"
   },
   {
    "duration": 113,
    "start_time": "2021-10-02T11:01:06.351Z"
   },
   {
    "duration": 1097,
    "start_time": "2021-10-02T11:01:06.471Z"
   },
   {
    "duration": 2034,
    "start_time": "2021-10-02T11:01:07.571Z"
   },
   {
    "duration": 2050,
    "start_time": "2021-10-02T11:01:09.608Z"
   },
   {
    "duration": 424,
    "start_time": "2021-10-02T11:01:11.663Z"
   },
   {
    "duration": -1329,
    "start_time": "2021-10-02T11:01:13.783Z"
   },
   {
    "duration": -1338,
    "start_time": "2021-10-02T11:01:13.793Z"
   },
   {
    "duration": 444,
    "start_time": "2021-10-02T11:01:33.220Z"
   },
   {
    "duration": 71840,
    "start_time": "2021-10-02T11:01:47.255Z"
   },
   {
    "duration": 66,
    "start_time": "2021-10-02T11:03:04.701Z"
   },
   {
    "duration": 765,
    "start_time": "2021-10-02T11:03:06.396Z"
   },
   {
    "duration": 1974,
    "start_time": "2021-10-02T11:03:09.168Z"
   },
   {
    "duration": 2162,
    "start_time": "2021-10-02T11:03:11.322Z"
   },
   {
    "duration": 368,
    "start_time": "2021-10-02T11:03:15.565Z"
   },
   {
    "duration": 336,
    "start_time": "2021-10-02T11:03:18.522Z"
   },
   {
    "duration": 29,
    "start_time": "2021-10-02T11:03:34.201Z"
   },
   {
    "duration": 333,
    "start_time": "2021-10-02T11:03:39.836Z"
   },
   {
    "duration": 381,
    "start_time": "2021-10-02T11:07:07.059Z"
   },
   {
    "duration": 151,
    "start_time": "2021-10-02T11:08:10.660Z"
   },
   {
    "duration": 486,
    "start_time": "2021-10-02T11:08:17.246Z"
   },
   {
    "duration": 1136,
    "start_time": "2021-10-02T17:40:19.354Z"
   },
   {
    "duration": 200,
    "start_time": "2021-10-02T17:40:20.492Z"
   },
   {
    "duration": 492,
    "start_time": "2021-10-02T17:40:20.694Z"
   },
   {
    "duration": 15,
    "start_time": "2021-10-02T17:40:21.189Z"
   },
   {
    "duration": 23,
    "start_time": "2021-10-02T17:40:21.205Z"
   },
   {
    "duration": 20,
    "start_time": "2021-10-02T17:40:21.230Z"
   },
   {
    "duration": 24,
    "start_time": "2021-10-02T17:40:21.252Z"
   },
   {
    "duration": 21,
    "start_time": "2021-10-02T17:40:21.279Z"
   },
   {
    "duration": 3,
    "start_time": "2021-10-02T17:40:21.302Z"
   },
   {
    "duration": 24,
    "start_time": "2021-10-02T17:40:21.307Z"
   },
   {
    "duration": 5,
    "start_time": "2021-10-02T17:40:21.333Z"
   },
   {
    "duration": 11,
    "start_time": "2021-10-02T17:40:21.339Z"
   },
   {
    "duration": 38,
    "start_time": "2021-10-02T17:40:21.351Z"
   },
   {
    "duration": 147,
    "start_time": "2021-10-02T17:40:21.391Z"
   },
   {
    "duration": 24,
    "start_time": "2021-10-02T17:40:21.539Z"
   },
   {
    "duration": 126,
    "start_time": "2021-10-02T17:40:21.576Z"
   },
   {
    "duration": 174,
    "start_time": "2021-10-02T17:40:21.704Z"
   },
   {
    "duration": 100,
    "start_time": "2021-10-02T17:40:21.880Z"
   },
   {
    "duration": 314,
    "start_time": "2021-10-02T17:40:21.981Z"
   },
   {
    "duration": 10,
    "start_time": "2021-10-02T17:40:22.297Z"
   },
   {
    "duration": 19,
    "start_time": "2021-10-02T17:40:22.309Z"
   },
   {
    "duration": 408,
    "start_time": "2021-10-02T17:40:22.330Z"
   },
   {
    "duration": 13,
    "start_time": "2021-10-02T17:40:22.741Z"
   },
   {
    "duration": 269,
    "start_time": "2021-10-02T17:40:22.756Z"
   },
   {
    "duration": 4,
    "start_time": "2021-10-02T17:40:23.027Z"
   },
   {
    "duration": 297,
    "start_time": "2021-10-02T17:40:23.033Z"
   },
   {
    "duration": 170,
    "start_time": "2021-10-02T17:40:23.332Z"
   },
   {
    "duration": 242,
    "start_time": "2021-10-02T17:40:23.504Z"
   },
   {
    "duration": 61,
    "start_time": "2021-10-02T17:40:23.747Z"
   },
   {
    "duration": 739,
    "start_time": "2021-10-02T17:40:23.809Z"
   },
   {
    "duration": 136,
    "start_time": "2021-10-02T17:40:24.550Z"
   },
   {
    "duration": 28283,
    "start_time": "2021-10-02T17:40:24.687Z"
   },
   {
    "duration": 43784,
    "start_time": "2021-10-02T17:40:52.976Z"
   },
   {
    "duration": 114,
    "start_time": "2021-10-02T17:41:36.762Z"
   },
   {
    "duration": 567,
    "start_time": "2021-10-02T17:41:36.879Z"
   },
   {
    "duration": 1188,
    "start_time": "2021-10-02T17:41:37.448Z"
   },
   {
    "duration": 1200,
    "start_time": "2021-10-02T17:41:38.638Z"
   },
   {
    "duration": 231,
    "start_time": "2021-10-02T17:41:39.840Z"
   },
   {
    "duration": 19,
    "start_time": "2021-10-02T17:41:40.077Z"
   },
   {
    "duration": 105,
    "start_time": "2021-10-02T17:41:40.098Z"
   },
   {
    "duration": 377,
    "start_time": "2021-10-02T17:41:40.205Z"
   },
   {
    "duration": 138,
    "start_time": "2021-10-02T17:41:40.583Z"
   },
   {
    "duration": 121,
    "start_time": "2021-10-02T17:44:27.369Z"
   },
   {
    "duration": 119,
    "start_time": "2021-10-02T17:44:36.736Z"
   },
   {
    "duration": 7,
    "start_time": "2021-10-02T17:44:38.717Z"
   },
   {
    "duration": 121,
    "start_time": "2021-10-02T17:44:39.660Z"
   },
   {
    "duration": 307,
    "start_time": "2021-10-02T17:44:56.162Z"
   },
   {
    "duration": 95,
    "start_time": "2021-10-02T17:45:16.275Z"
   },
   {
    "duration": 129,
    "start_time": "2021-10-02T17:45:23.076Z"
   },
   {
    "duration": 1205,
    "start_time": "2021-10-02T17:46:06.722Z"
   },
   {
    "duration": 203,
    "start_time": "2021-10-02T17:46:10.394Z"
   },
   {
    "duration": 458,
    "start_time": "2021-10-02T17:52:26.679Z"
   },
   {
    "duration": 7,
    "start_time": "2021-10-02T17:58:03.504Z"
   },
   {
    "duration": 6984,
    "start_time": "2021-10-02T18:03:26.469Z"
   },
   {
    "duration": -804,
    "start_time": "2021-10-02T18:03:34.258Z"
   },
   {
    "duration": 6,
    "start_time": "2021-10-02T18:04:25.311Z"
   },
   {
    "duration": 10,
    "start_time": "2021-10-02T18:07:07.184Z"
   },
   {
    "duration": 7,
    "start_time": "2021-10-02T18:08:16.521Z"
   },
   {
    "duration": 7,
    "start_time": "2021-10-02T18:08:29.417Z"
   },
   {
    "duration": 14,
    "start_time": "2021-10-02T18:08:42.261Z"
   },
   {
    "duration": 11,
    "start_time": "2021-10-02T18:16:29.216Z"
   },
   {
    "duration": 12,
    "start_time": "2021-10-02T18:16:44.567Z"
   },
   {
    "duration": 4,
    "start_time": "2021-10-02T18:16:57.065Z"
   },
   {
    "duration": 5,
    "start_time": "2021-10-02T18:17:20.761Z"
   },
   {
    "duration": 250,
    "start_time": "2021-10-02T18:21:36.543Z"
   },
   {
    "duration": 337,
    "start_time": "2021-10-02T18:21:45.107Z"
   },
   {
    "duration": 15,
    "start_time": "2021-10-02T18:22:08.825Z"
   },
   {
    "duration": 840,
    "start_time": "2021-10-03T09:32:45.245Z"
   },
   {
    "duration": 1649,
    "start_time": "2021-10-03T09:32:56.302Z"
   },
   {
    "duration": 136,
    "start_time": "2021-10-03T09:32:57.954Z"
   },
   {
    "duration": 860,
    "start_time": "2021-10-03T09:32:58.095Z"
   },
   {
    "duration": 46,
    "start_time": "2021-10-03T09:32:58.959Z"
   },
   {
    "duration": 15,
    "start_time": "2021-10-03T09:32:59.010Z"
   },
   {
    "duration": 27,
    "start_time": "2021-10-03T09:32:59.028Z"
   },
   {
    "duration": 59,
    "start_time": "2021-10-03T09:32:59.058Z"
   },
   {
    "duration": 24,
    "start_time": "2021-10-03T09:32:59.122Z"
   },
   {
    "duration": 37,
    "start_time": "2021-10-03T09:32:59.149Z"
   },
   {
    "duration": 14,
    "start_time": "2021-10-03T09:32:59.189Z"
   },
   {
    "duration": 7,
    "start_time": "2021-10-03T09:32:59.208Z"
   },
   {
    "duration": 8,
    "start_time": "2021-10-03T09:32:59.218Z"
   },
   {
    "duration": 115,
    "start_time": "2021-10-03T09:32:59.229Z"
   },
   {
    "duration": 270,
    "start_time": "2021-10-03T09:32:59.347Z"
   },
   {
    "duration": 34,
    "start_time": "2021-10-03T09:32:59.620Z"
   },
   {
    "duration": 206,
    "start_time": "2021-10-03T09:32:59.656Z"
   },
   {
    "duration": 131,
    "start_time": "2021-10-03T09:32:59.865Z"
   },
   {
    "duration": 98,
    "start_time": "2021-10-03T09:32:59.999Z"
   },
   {
    "duration": 451,
    "start_time": "2021-10-03T09:33:00.104Z"
   },
   {
    "duration": 30,
    "start_time": "2021-10-03T09:33:00.558Z"
   },
   {
    "duration": 37,
    "start_time": "2021-10-03T09:33:00.591Z"
   },
   {
    "duration": 510,
    "start_time": "2021-10-03T09:33:00.632Z"
   },
   {
    "duration": 20,
    "start_time": "2021-10-03T09:33:01.147Z"
   },
   {
    "duration": 277,
    "start_time": "2021-10-03T09:33:01.183Z"
   },
   {
    "duration": 7,
    "start_time": "2021-10-03T09:33:01.463Z"
   },
   {
    "duration": 495,
    "start_time": "2021-10-03T09:33:01.473Z"
   },
   {
    "duration": 344,
    "start_time": "2021-10-03T09:33:01.971Z"
   },
   {
    "duration": 430,
    "start_time": "2021-10-03T09:33:02.318Z"
   },
   {
    "duration": 131,
    "start_time": "2021-10-03T09:33:02.750Z"
   },
   {
    "duration": 1267,
    "start_time": "2021-10-03T09:33:02.887Z"
   },
   {
    "duration": 232,
    "start_time": "2021-10-03T09:33:04.157Z"
   },
   {
    "duration": 45787,
    "start_time": "2021-10-03T09:33:04.393Z"
   },
   {
    "duration": 72573,
    "start_time": "2021-10-03T09:33:50.189Z"
   },
   {
    "duration": 144,
    "start_time": "2021-10-03T09:35:02.765Z"
   },
   {
    "duration": 751,
    "start_time": "2021-10-03T09:35:02.984Z"
   },
   {
    "duration": 1895,
    "start_time": "2021-10-03T09:35:03.738Z"
   },
   {
    "duration": 21,
    "start_time": "2021-10-03T09:35:05.635Z"
   },
   {
    "duration": 117,
    "start_time": "2021-10-03T09:35:05.658Z"
   },
   {
    "duration": -870,
    "start_time": "2021-10-03T09:35:06.648Z"
   },
   {
    "duration": -894,
    "start_time": "2021-10-03T09:35:06.674Z"
   },
   {
    "duration": -917,
    "start_time": "2021-10-03T09:35:06.698Z"
   },
   {
    "duration": -938,
    "start_time": "2021-10-03T09:35:06.721Z"
   },
   {
    "duration": -967,
    "start_time": "2021-10-03T09:35:06.752Z"
   },
   {
    "duration": -991,
    "start_time": "2021-10-03T09:35:06.777Z"
   },
   {
    "duration": -1017,
    "start_time": "2021-10-03T09:35:06.805Z"
   },
   {
    "duration": 1230,
    "start_time": "2021-10-03T09:41:14.284Z"
   },
   {
    "duration": 21,
    "start_time": "2021-10-03T09:52:11.640Z"
   },
   {
    "duration": 1063,
    "start_time": "2021-10-03T09:55:51.139Z"
   },
   {
    "duration": 22,
    "start_time": "2021-10-03T09:59:05.746Z"
   },
   {
    "duration": 30,
    "start_time": "2021-10-03T09:59:35.188Z"
   },
   {
    "duration": 347,
    "start_time": "2021-10-03T10:00:25.611Z"
   },
   {
    "duration": 7,
    "start_time": "2021-10-03T10:00:38.896Z"
   },
   {
    "duration": 5,
    "start_time": "2021-10-03T10:00:57.020Z"
   },
   {
    "duration": 27,
    "start_time": "2021-10-03T10:02:29.858Z"
   },
   {
    "duration": 6,
    "start_time": "2021-10-03T10:04:56.312Z"
   },
   {
    "duration": 6,
    "start_time": "2021-10-03T10:04:57.594Z"
   },
   {
    "duration": 6,
    "start_time": "2021-10-03T10:04:58.814Z"
   },
   {
    "duration": 34,
    "start_time": "2021-10-03T10:05:25.981Z"
   },
   {
    "duration": 27,
    "start_time": "2021-10-03T10:05:50.706Z"
   },
   {
    "duration": 25,
    "start_time": "2021-10-03T10:06:30.860Z"
   },
   {
    "duration": 2293,
    "start_time": "2021-10-03T10:08:16.548Z"
   },
   {
    "duration": 346,
    "start_time": "2021-10-03T10:08:24.862Z"
   },
   {
    "duration": 31,
    "start_time": "2021-10-03T10:08:55.694Z"
   },
   {
    "duration": 205,
    "start_time": "2021-10-03T10:08:57.625Z"
   },
   {
    "duration": 465,
    "start_time": "2021-10-03T10:08:59.608Z"
   },
   {
    "duration": 211,
    "start_time": "2021-10-03T10:09:07.006Z"
   },
   {
    "duration": 2141,
    "start_time": "2021-10-03T10:15:57.744Z"
   },
   {
    "duration": 326,
    "start_time": "2021-10-03T10:16:04.995Z"
   },
   {
    "duration": 30,
    "start_time": "2021-10-03T10:17:52.406Z"
   },
   {
    "duration": 183,
    "start_time": "2021-10-03T10:18:34.145Z"
   },
   {
    "duration": 25,
    "start_time": "2021-10-03T10:19:52.469Z"
   },
   {
    "duration": 2188,
    "start_time": "2021-10-03T10:20:05.519Z"
   },
   {
    "duration": 317,
    "start_time": "2021-10-03T10:20:10.399Z"
   },
   {
    "duration": 224,
    "start_time": "2021-10-03T10:20:44.852Z"
   },
   {
    "duration": 590,
    "start_time": "2021-10-03T10:20:57.151Z"
   },
   {
    "duration": 236,
    "start_time": "2021-10-03T10:22:06.333Z"
   },
   {
    "duration": 753,
    "start_time": "2021-10-03T10:27:49.170Z"
   },
   {
    "duration": 16,
    "start_time": "2021-10-03T10:28:17.359Z"
   },
   {
    "duration": 340,
    "start_time": "2021-10-03T10:32:46.761Z"
   },
   {
    "duration": 387,
    "start_time": "2021-10-03T10:33:23.241Z"
   },
   {
    "duration": 327,
    "start_time": "2021-10-03T10:33:37.746Z"
   },
   {
    "duration": 7,
    "start_time": "2021-10-03T10:34:49.643Z"
   },
   {
    "duration": 375,
    "start_time": "2021-10-03T10:35:27.757Z"
   },
   {
    "duration": 16,
    "start_time": "2021-10-03T10:38:11.253Z"
   },
   {
    "duration": 17,
    "start_time": "2021-10-03T10:38:18.641Z"
   },
   {
    "duration": 269,
    "start_time": "2021-10-03T10:38:24.646Z"
   },
   {
    "duration": 269,
    "start_time": "2021-10-03T10:38:32.238Z"
   },
   {
    "duration": 273,
    "start_time": "2021-10-03T10:38:40.562Z"
   },
   {
    "duration": 8,
    "start_time": "2021-10-03T10:40:26.434Z"
   },
   {
    "duration": 364,
    "start_time": "2021-10-03T10:41:50.718Z"
   },
   {
    "duration": 17,
    "start_time": "2021-10-03T10:45:20.519Z"
   },
   {
    "duration": 615,
    "start_time": "2021-10-03T10:47:13.058Z"
   },
   {
    "duration": 352,
    "start_time": "2021-10-03T10:48:01.978Z"
   },
   {
    "duration": 611,
    "start_time": "2021-10-03T10:49:45.115Z"
   },
   {
    "duration": 339,
    "start_time": "2021-10-03T10:50:21.370Z"
   },
   {
    "duration": 14,
    "start_time": "2021-10-03T10:57:43.959Z"
   },
   {
    "duration": 4,
    "start_time": "2021-10-03T10:58:19.539Z"
   },
   {
    "duration": 11,
    "start_time": "2021-10-03T10:58:31.743Z"
   },
   {
    "duration": 21,
    "start_time": "2021-10-03T11:01:20.430Z"
   },
   {
    "duration": 14,
    "start_time": "2021-10-03T11:02:20.745Z"
   },
   {
    "duration": 1082,
    "start_time": "2021-10-03T17:34:36.417Z"
   },
   {
    "duration": 78,
    "start_time": "2021-10-03T17:34:37.501Z"
   },
   {
    "duration": 282,
    "start_time": "2021-10-03T17:34:37.581Z"
   },
   {
    "duration": 14,
    "start_time": "2021-10-03T17:34:37.865Z"
   },
   {
    "duration": 20,
    "start_time": "2021-10-03T17:34:37.880Z"
   },
   {
    "duration": 12,
    "start_time": "2021-10-03T17:34:37.902Z"
   },
   {
    "duration": 21,
    "start_time": "2021-10-03T17:34:37.916Z"
   },
   {
    "duration": 15,
    "start_time": "2021-10-03T17:34:37.939Z"
   },
   {
    "duration": 4,
    "start_time": "2021-10-03T17:34:37.955Z"
   },
   {
    "duration": 26,
    "start_time": "2021-10-03T17:34:37.960Z"
   },
   {
    "duration": 13,
    "start_time": "2021-10-03T17:34:37.987Z"
   },
   {
    "duration": 16,
    "start_time": "2021-10-03T17:34:38.001Z"
   },
   {
    "duration": 44,
    "start_time": "2021-10-03T17:34:38.018Z"
   },
   {
    "duration": 145,
    "start_time": "2021-10-03T17:34:38.064Z"
   },
   {
    "duration": 23,
    "start_time": "2021-10-03T17:34:38.210Z"
   },
   {
    "duration": 112,
    "start_time": "2021-10-03T17:34:38.234Z"
   },
   {
    "duration": 153,
    "start_time": "2021-10-03T17:34:38.348Z"
   },
   {
    "duration": 99,
    "start_time": "2021-10-03T17:34:38.504Z"
   },
   {
    "duration": 306,
    "start_time": "2021-10-03T17:34:38.605Z"
   },
   {
    "duration": 8,
    "start_time": "2021-10-03T17:34:38.913Z"
   },
   {
    "duration": 25,
    "start_time": "2021-10-03T17:34:38.922Z"
   },
   {
    "duration": 402,
    "start_time": "2021-10-03T17:34:38.948Z"
   },
   {
    "duration": 13,
    "start_time": "2021-10-03T17:34:39.354Z"
   },
   {
    "duration": 266,
    "start_time": "2021-10-03T17:34:39.369Z"
   },
   {
    "duration": 4,
    "start_time": "2021-10-03T17:34:39.637Z"
   },
   {
    "duration": 319,
    "start_time": "2021-10-03T17:34:39.643Z"
   },
   {
    "duration": 184,
    "start_time": "2021-10-03T17:34:39.963Z"
   },
   {
    "duration": 268,
    "start_time": "2021-10-03T17:34:40.148Z"
   },
   {
    "duration": 51,
    "start_time": "2021-10-03T17:34:40.418Z"
   },
   {
    "duration": 737,
    "start_time": "2021-10-03T17:34:40.471Z"
   },
   {
    "duration": 125,
    "start_time": "2021-10-03T17:34:41.210Z"
   },
   {
    "duration": 26179,
    "start_time": "2021-10-03T17:34:41.337Z"
   },
   {
    "duration": 39413,
    "start_time": "2021-10-03T17:35:07.518Z"
   },
   {
    "duration": 76,
    "start_time": "2021-10-03T17:35:46.933Z"
   },
   {
    "duration": 568,
    "start_time": "2021-10-03T17:35:47.011Z"
   },
   {
    "duration": 1107,
    "start_time": "2021-10-03T17:35:47.582Z"
   },
   {
    "duration": 94106,
    "start_time": "2021-10-03T17:35:48.691Z"
   },
   {
    "duration": 14,
    "start_time": "2021-10-03T17:37:22.800Z"
   },
   {
    "duration": 1345,
    "start_time": "2021-10-03T17:37:22.816Z"
   },
   {
    "duration": 224,
    "start_time": "2021-10-03T17:37:24.163Z"
   },
   {
    "duration": 23,
    "start_time": "2021-10-03T17:37:24.389Z"
   },
   {
    "duration": 281,
    "start_time": "2021-10-03T17:37:24.413Z"
   },
   {
    "duration": -1085,
    "start_time": "2021-10-03T17:37:25.781Z"
   },
   {
    "duration": 4,
    "start_time": "2021-10-03T17:37:43.887Z"
   },
   {
    "duration": 4,
    "start_time": "2021-10-03T17:41:05.927Z"
   },
   {
    "duration": 9406,
    "start_time": "2021-10-03T17:44:34.386Z"
   },
   {
    "duration": 4,
    "start_time": "2021-10-03T17:45:08.127Z"
   },
   {
    "duration": 95221,
    "start_time": "2021-10-03T17:47:21.227Z"
   },
   {
    "duration": 4,
    "start_time": "2021-10-03T17:49:02.831Z"
   },
   {
    "duration": 5,
    "start_time": "2021-10-03T17:49:05.124Z"
   },
   {
    "duration": 14099,
    "start_time": "2021-10-03T17:49:39.235Z"
   },
   {
    "duration": 18905,
    "start_time": "2021-10-03T17:50:09.573Z"
   },
   {
    "duration": 4,
    "start_time": "2021-10-03T17:50:38.852Z"
   },
   {
    "duration": 179,
    "start_time": "2021-10-03T17:53:05.563Z"
   },
   {
    "duration": 201,
    "start_time": "2021-10-03T17:54:30.587Z"
   },
   {
    "duration": 196,
    "start_time": "2021-10-03T17:54:43.382Z"
   },
   {
    "duration": 9,
    "start_time": "2021-10-03T17:55:02.282Z"
   },
   {
    "duration": 409,
    "start_time": "2021-10-03T17:56:30.273Z"
   },
   {
    "duration": 391,
    "start_time": "2021-10-03T17:57:20.815Z"
   },
   {
    "duration": 373,
    "start_time": "2021-10-03T17:59:07.170Z"
   },
   {
    "duration": 911,
    "start_time": "2021-10-03T18:00:14.609Z"
   },
   {
    "duration": 365,
    "start_time": "2021-10-03T18:01:03.137Z"
   },
   {
    "duration": 168,
    "start_time": "2021-10-03T18:01:09.308Z"
   },
   {
    "duration": 162,
    "start_time": "2021-10-03T18:02:08.572Z"
   },
   {
    "duration": 363,
    "start_time": "2021-10-03T18:02:18.552Z"
   },
   {
    "duration": 1331,
    "start_time": "2021-10-03T18:02:23.374Z"
   },
   {
    "duration": 197,
    "start_time": "2021-10-03T18:02:27.689Z"
   },
   {
    "duration": 163,
    "start_time": "2021-10-03T18:02:34.249Z"
   },
   {
    "duration": 233,
    "start_time": "2021-10-03T18:02:52.981Z"
   },
   {
    "duration": 17,
    "start_time": "2021-10-03T18:03:39.626Z"
   },
   {
    "duration": 188,
    "start_time": "2021-10-03T18:03:42.799Z"
   },
   {
    "duration": 9,
    "start_time": "2021-10-03T18:03:45.362Z"
   }
  ],
  "kernelspec": {
   "display_name": "Python 3",
   "language": "python",
   "name": "python3"
  },
  "language_info": {
   "codemirror_mode": {
    "name": "ipython",
    "version": 3
   },
   "file_extension": ".py",
   "mimetype": "text/x-python",
   "name": "python",
   "nbconvert_exporter": "python",
   "pygments_lexer": "ipython3",
   "version": "3.7.10"
  },
  "toc": {
   "base_numbering": 1,
   "nav_menu": {},
   "number_sections": true,
   "sideBar": true,
   "skip_h1_title": true,
   "title_cell": "Содержание",
   "title_sidebar": "Contents",
   "toc_cell": true,
   "toc_position": {},
   "toc_section_display": true,
   "toc_window_display": false
  }
 },
 "nbformat": 4,
 "nbformat_minor": 2
}
