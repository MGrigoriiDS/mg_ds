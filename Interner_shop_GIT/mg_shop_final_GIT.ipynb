{
 "cells": [
  {
   "cell_type": "markdown",
   "metadata": {},
   "source": [
    "# Выявление закономерностей, определяющих успешность игры. Интернет-магазин «Стримчик»."
   ]
  },
  {
   "cell_type": "markdown",
   "metadata": {},
   "source": [
    "Интернет-магазин «Стримчик», который продаёт по всему миру компьютерные игры. Нужно выявить определяющие успешность игры закономерности. Это позволит сделать ставку на потенциально популярный продукт и спланировать рекламные кампании."
   ]
  },
  {
   "cell_type": "markdown",
   "metadata": {},
   "source": [
    "## Описание данных\n",
    "* Name — название игры\n",
    "* Platform — платформа\n",
    "* Year_of_Release — год выпуска\n",
    "* Genre — жанр игры\n",
    "* NA_sales — продажи в Северной Америке (миллионы проданных копий)\n",
    "* EU_sales — продажи в Европе (миллионы проданных копий)\n",
    "* JP_sales — продажи в Японии (миллионы проданных копий)\n",
    "* Other_sales — продажи в других странах (миллионы проданных копий)\n",
    "* Critic_Score — оценка критиков (максимум 100)\n",
    "* User_Score — оценка пользователей (максимум 10)\n",
    "* Rating — рейтинг от организации ESRB (англ. Entertainment Software Rating Board). Эта ассоциация определяет рейтинг компьютерных игр и присваивает им подходящую возрастную категорию.\n"
   ]
  },
  {
   "cell_type": "code",
   "execution_count": 1,
   "metadata": {},
   "outputs": [],
   "source": [
    "import pandas as pd\n",
    "import numpy as np\n",
    "import matplotlib.pyplot as plt\n",
    "from matplotlib.pyplot import figure\n",
    "from scipy import stats as st\n",
    "import math\n",
    "from scipy.stats import bartlett\n",
    "import seaborn as sns\n",
    "from scipy.stats import ttest_ind\n"
   ]
  },
  {
   "cell_type": "code",
   "execution_count": 3,
   "metadata": {},
   "outputs": [],
   "source": [
    "# Чтение данных из файла\n",
    "try:\n",
    "    shop = pd.read_csv('/datasets/games.csv')\n",
    "except:\n",
    "    shop = pd.read_csv(r'games.csv')"
   ]
  },
  {
   "cell_type": "markdown",
   "metadata": {},
   "source": [
    "## Подготовим данные\n",
    "* Заменим названия столбцов (приведем к нижнему регистру);\n",
    "* Преобразуем данные в нужные типы. Опишем, в каких столбцах заменили тип данных и почему;\n",
    "* Обработаем пропуски при необходимости:\n",
    "* Объясним, почему заполнили пропуски определённым образом или почему не стали это делать;\n",
    "* Опишем причины, которые могли привести к пропускам;\n",
    "* Обратим внимание на аббревиатуру 'tbd' в столбцах с рейтингом. Отдельно разберем это значение и опишем, как его обработать;\n",
    "* Посчитаем суммарные продажи во всех регионах и запишем их в отдельный столбец.\n"
   ]
  },
  {
   "cell_type": "code",
   "execution_count": 4,
   "metadata": {},
   "outputs": [
    {
     "name": "stdout",
     "output_type": "stream",
     "text": [
      "<class 'pandas.core.frame.DataFrame'>\n",
      "RangeIndex: 16715 entries, 0 to 16714\n",
      "Data columns (total 11 columns):\n",
      "Name               16713 non-null object\n",
      "Platform           16715 non-null object\n",
      "Year_of_Release    16446 non-null float64\n",
      "Genre              16713 non-null object\n",
      "NA_sales           16715 non-null float64\n",
      "EU_sales           16715 non-null float64\n",
      "JP_sales           16715 non-null float64\n",
      "Other_sales        16715 non-null float64\n",
      "Critic_Score       8137 non-null float64\n",
      "User_Score         10014 non-null object\n",
      "Rating             9949 non-null object\n",
      "dtypes: float64(6), object(5)\n",
      "memory usage: 1.4+ MB\n"
     ]
    },
    {
     "data": {
      "text/html": [
       "<div>\n",
       "<style scoped>\n",
       "    .dataframe tbody tr th:only-of-type {\n",
       "        vertical-align: middle;\n",
       "    }\n",
       "\n",
       "    .dataframe tbody tr th {\n",
       "        vertical-align: top;\n",
       "    }\n",
       "\n",
       "    .dataframe thead th {\n",
       "        text-align: right;\n",
       "    }\n",
       "</style>\n",
       "<table border=\"1\" class=\"dataframe\">\n",
       "  <thead>\n",
       "    <tr style=\"text-align: right;\">\n",
       "      <th></th>\n",
       "      <th>Name</th>\n",
       "      <th>Platform</th>\n",
       "      <th>Year_of_Release</th>\n",
       "      <th>Genre</th>\n",
       "      <th>NA_sales</th>\n",
       "      <th>EU_sales</th>\n",
       "      <th>JP_sales</th>\n",
       "      <th>Other_sales</th>\n",
       "      <th>Critic_Score</th>\n",
       "      <th>User_Score</th>\n",
       "      <th>Rating</th>\n",
       "    </tr>\n",
       "  </thead>\n",
       "  <tbody>\n",
       "    <tr>\n",
       "      <td>0</td>\n",
       "      <td>Wii Sports</td>\n",
       "      <td>Wii</td>\n",
       "      <td>2006.0</td>\n",
       "      <td>Sports</td>\n",
       "      <td>41.36</td>\n",
       "      <td>28.96</td>\n",
       "      <td>3.77</td>\n",
       "      <td>8.45</td>\n",
       "      <td>76.0</td>\n",
       "      <td>8</td>\n",
       "      <td>E</td>\n",
       "    </tr>\n",
       "    <tr>\n",
       "      <td>1</td>\n",
       "      <td>Super Mario Bros.</td>\n",
       "      <td>NES</td>\n",
       "      <td>1985.0</td>\n",
       "      <td>Platform</td>\n",
       "      <td>29.08</td>\n",
       "      <td>3.58</td>\n",
       "      <td>6.81</td>\n",
       "      <td>0.77</td>\n",
       "      <td>NaN</td>\n",
       "      <td>NaN</td>\n",
       "      <td>NaN</td>\n",
       "    </tr>\n",
       "    <tr>\n",
       "      <td>2</td>\n",
       "      <td>Mario Kart Wii</td>\n",
       "      <td>Wii</td>\n",
       "      <td>2008.0</td>\n",
       "      <td>Racing</td>\n",
       "      <td>15.68</td>\n",
       "      <td>12.76</td>\n",
       "      <td>3.79</td>\n",
       "      <td>3.29</td>\n",
       "      <td>82.0</td>\n",
       "      <td>8.3</td>\n",
       "      <td>E</td>\n",
       "    </tr>\n",
       "    <tr>\n",
       "      <td>3</td>\n",
       "      <td>Wii Sports Resort</td>\n",
       "      <td>Wii</td>\n",
       "      <td>2009.0</td>\n",
       "      <td>Sports</td>\n",
       "      <td>15.61</td>\n",
       "      <td>10.93</td>\n",
       "      <td>3.28</td>\n",
       "      <td>2.95</td>\n",
       "      <td>80.0</td>\n",
       "      <td>8</td>\n",
       "      <td>E</td>\n",
       "    </tr>\n",
       "    <tr>\n",
       "      <td>4</td>\n",
       "      <td>Pokemon Red/Pokemon Blue</td>\n",
       "      <td>GB</td>\n",
       "      <td>1996.0</td>\n",
       "      <td>Role-Playing</td>\n",
       "      <td>11.27</td>\n",
       "      <td>8.89</td>\n",
       "      <td>10.22</td>\n",
       "      <td>1.00</td>\n",
       "      <td>NaN</td>\n",
       "      <td>NaN</td>\n",
       "      <td>NaN</td>\n",
       "    </tr>\n",
       "    <tr>\n",
       "      <td>5</td>\n",
       "      <td>Tetris</td>\n",
       "      <td>GB</td>\n",
       "      <td>1989.0</td>\n",
       "      <td>Puzzle</td>\n",
       "      <td>23.20</td>\n",
       "      <td>2.26</td>\n",
       "      <td>4.22</td>\n",
       "      <td>0.58</td>\n",
       "      <td>NaN</td>\n",
       "      <td>NaN</td>\n",
       "      <td>NaN</td>\n",
       "    </tr>\n",
       "    <tr>\n",
       "      <td>6</td>\n",
       "      <td>New Super Mario Bros.</td>\n",
       "      <td>DS</td>\n",
       "      <td>2006.0</td>\n",
       "      <td>Platform</td>\n",
       "      <td>11.28</td>\n",
       "      <td>9.14</td>\n",
       "      <td>6.50</td>\n",
       "      <td>2.88</td>\n",
       "      <td>89.0</td>\n",
       "      <td>8.5</td>\n",
       "      <td>E</td>\n",
       "    </tr>\n",
       "    <tr>\n",
       "      <td>7</td>\n",
       "      <td>Wii Play</td>\n",
       "      <td>Wii</td>\n",
       "      <td>2006.0</td>\n",
       "      <td>Misc</td>\n",
       "      <td>13.96</td>\n",
       "      <td>9.18</td>\n",
       "      <td>2.93</td>\n",
       "      <td>2.84</td>\n",
       "      <td>58.0</td>\n",
       "      <td>6.6</td>\n",
       "      <td>E</td>\n",
       "    </tr>\n",
       "    <tr>\n",
       "      <td>8</td>\n",
       "      <td>New Super Mario Bros. Wii</td>\n",
       "      <td>Wii</td>\n",
       "      <td>2009.0</td>\n",
       "      <td>Platform</td>\n",
       "      <td>14.44</td>\n",
       "      <td>6.94</td>\n",
       "      <td>4.70</td>\n",
       "      <td>2.24</td>\n",
       "      <td>87.0</td>\n",
       "      <td>8.4</td>\n",
       "      <td>E</td>\n",
       "    </tr>\n",
       "    <tr>\n",
       "      <td>9</td>\n",
       "      <td>Duck Hunt</td>\n",
       "      <td>NES</td>\n",
       "      <td>1984.0</td>\n",
       "      <td>Shooter</td>\n",
       "      <td>26.93</td>\n",
       "      <td>0.63</td>\n",
       "      <td>0.28</td>\n",
       "      <td>0.47</td>\n",
       "      <td>NaN</td>\n",
       "      <td>NaN</td>\n",
       "      <td>NaN</td>\n",
       "    </tr>\n",
       "  </tbody>\n",
       "</table>\n",
       "</div>"
      ],
      "text/plain": [
       "                        Name Platform  Year_of_Release         Genre  \\\n",
       "0                 Wii Sports      Wii           2006.0        Sports   \n",
       "1          Super Mario Bros.      NES           1985.0      Platform   \n",
       "2             Mario Kart Wii      Wii           2008.0        Racing   \n",
       "3          Wii Sports Resort      Wii           2009.0        Sports   \n",
       "4   Pokemon Red/Pokemon Blue       GB           1996.0  Role-Playing   \n",
       "5                     Tetris       GB           1989.0        Puzzle   \n",
       "6      New Super Mario Bros.       DS           2006.0      Platform   \n",
       "7                   Wii Play      Wii           2006.0          Misc   \n",
       "8  New Super Mario Bros. Wii      Wii           2009.0      Platform   \n",
       "9                  Duck Hunt      NES           1984.0       Shooter   \n",
       "\n",
       "   NA_sales  EU_sales  JP_sales  Other_sales  Critic_Score User_Score Rating  \n",
       "0     41.36     28.96      3.77         8.45          76.0          8      E  \n",
       "1     29.08      3.58      6.81         0.77           NaN        NaN    NaN  \n",
       "2     15.68     12.76      3.79         3.29          82.0        8.3      E  \n",
       "3     15.61     10.93      3.28         2.95          80.0          8      E  \n",
       "4     11.27      8.89     10.22         1.00           NaN        NaN    NaN  \n",
       "5     23.20      2.26      4.22         0.58           NaN        NaN    NaN  \n",
       "6     11.28      9.14      6.50         2.88          89.0        8.5      E  \n",
       "7     13.96      9.18      2.93         2.84          58.0        6.6      E  \n",
       "8     14.44      6.94      4.70         2.24          87.0        8.4      E  \n",
       "9     26.93      0.63      0.28         0.47           NaN        NaN    NaN  "
      ]
     },
     "execution_count": 4,
     "metadata": {},
     "output_type": "execute_result"
    }
   ],
   "source": [
    "shop.info()\n",
    "shop.head(10)"
   ]
  },
  {
   "cell_type": "markdown",
   "metadata": {},
   "source": [
    "<font color='blue'> Проанализируем процент пропусков </font>"
   ]
  },
  {
   "cell_type": "code",
   "execution_count": 5,
   "metadata": {},
   "outputs": [
    {
     "data": {
      "text/html": [
       "<style  type=\"text/css\" >\n",
       "    #T_1219b75c_0c21_11ec_8573_02420a3918ferow0_col0 {\n",
       "            background-color:  #3b4cc0;\n",
       "            color:  #f1f1f1;\n",
       "        }    #T_1219b75c_0c21_11ec_8573_02420a3918ferow1_col0 {\n",
       "            background-color:  #3b4cc0;\n",
       "            color:  #f1f1f1;\n",
       "        }    #T_1219b75c_0c21_11ec_8573_02420a3918ferow2_col0 {\n",
       "            background-color:  #445acc;\n",
       "            color:  #f1f1f1;\n",
       "        }    #T_1219b75c_0c21_11ec_8573_02420a3918ferow3_col0 {\n",
       "            background-color:  #3b4cc0;\n",
       "            color:  #f1f1f1;\n",
       "        }    #T_1219b75c_0c21_11ec_8573_02420a3918ferow4_col0 {\n",
       "            background-color:  #3b4cc0;\n",
       "            color:  #f1f1f1;\n",
       "        }    #T_1219b75c_0c21_11ec_8573_02420a3918ferow5_col0 {\n",
       "            background-color:  #3b4cc0;\n",
       "            color:  #f1f1f1;\n",
       "        }    #T_1219b75c_0c21_11ec_8573_02420a3918ferow6_col0 {\n",
       "            background-color:  #3b4cc0;\n",
       "            color:  #f1f1f1;\n",
       "        }    #T_1219b75c_0c21_11ec_8573_02420a3918ferow7_col0 {\n",
       "            background-color:  #3b4cc0;\n",
       "            color:  #f1f1f1;\n",
       "        }    #T_1219b75c_0c21_11ec_8573_02420a3918ferow8_col0 {\n",
       "            background-color:  #b40426;\n",
       "            color:  #f1f1f1;\n",
       "        }    #T_1219b75c_0c21_11ec_8573_02420a3918ferow9_col0 {\n",
       "            background-color:  #f18d6f;\n",
       "            color:  #000000;\n",
       "        }    #T_1219b75c_0c21_11ec_8573_02420a3918ferow10_col0 {\n",
       "            background-color:  #f08a6c;\n",
       "            color:  #000000;\n",
       "        }</style><table id=\"T_1219b75c_0c21_11ec_8573_02420a3918fe\" ><thead>    <tr>        <th class=\"blank level0\" ></th>        <th class=\"col_heading level0 col0\" >0</th>    </tr></thead><tbody>\n",
       "                <tr>\n",
       "                        <th id=\"T_1219b75c_0c21_11ec_8573_02420a3918felevel0_row0\" class=\"row_heading level0 row0\" >Name</th>\n",
       "                        <td id=\"T_1219b75c_0c21_11ec_8573_02420a3918ferow0_col0\" class=\"data row0 col0\" >0.01</td>\n",
       "            </tr>\n",
       "            <tr>\n",
       "                        <th id=\"T_1219b75c_0c21_11ec_8573_02420a3918felevel0_row1\" class=\"row_heading level0 row1\" >Platform</th>\n",
       "                        <td id=\"T_1219b75c_0c21_11ec_8573_02420a3918ferow1_col0\" class=\"data row1 col0\" >0</td>\n",
       "            </tr>\n",
       "            <tr>\n",
       "                        <th id=\"T_1219b75c_0c21_11ec_8573_02420a3918felevel0_row2\" class=\"row_heading level0 row2\" >Year_of_Release</th>\n",
       "                        <td id=\"T_1219b75c_0c21_11ec_8573_02420a3918ferow2_col0\" class=\"data row2 col0\" >1.61</td>\n",
       "            </tr>\n",
       "            <tr>\n",
       "                        <th id=\"T_1219b75c_0c21_11ec_8573_02420a3918felevel0_row3\" class=\"row_heading level0 row3\" >Genre</th>\n",
       "                        <td id=\"T_1219b75c_0c21_11ec_8573_02420a3918ferow3_col0\" class=\"data row3 col0\" >0.01</td>\n",
       "            </tr>\n",
       "            <tr>\n",
       "                        <th id=\"T_1219b75c_0c21_11ec_8573_02420a3918felevel0_row4\" class=\"row_heading level0 row4\" >NA_sales</th>\n",
       "                        <td id=\"T_1219b75c_0c21_11ec_8573_02420a3918ferow4_col0\" class=\"data row4 col0\" >0</td>\n",
       "            </tr>\n",
       "            <tr>\n",
       "                        <th id=\"T_1219b75c_0c21_11ec_8573_02420a3918felevel0_row5\" class=\"row_heading level0 row5\" >EU_sales</th>\n",
       "                        <td id=\"T_1219b75c_0c21_11ec_8573_02420a3918ferow5_col0\" class=\"data row5 col0\" >0</td>\n",
       "            </tr>\n",
       "            <tr>\n",
       "                        <th id=\"T_1219b75c_0c21_11ec_8573_02420a3918felevel0_row6\" class=\"row_heading level0 row6\" >JP_sales</th>\n",
       "                        <td id=\"T_1219b75c_0c21_11ec_8573_02420a3918ferow6_col0\" class=\"data row6 col0\" >0</td>\n",
       "            </tr>\n",
       "            <tr>\n",
       "                        <th id=\"T_1219b75c_0c21_11ec_8573_02420a3918felevel0_row7\" class=\"row_heading level0 row7\" >Other_sales</th>\n",
       "                        <td id=\"T_1219b75c_0c21_11ec_8573_02420a3918ferow7_col0\" class=\"data row7 col0\" >0</td>\n",
       "            </tr>\n",
       "            <tr>\n",
       "                        <th id=\"T_1219b75c_0c21_11ec_8573_02420a3918felevel0_row8\" class=\"row_heading level0 row8\" >Critic_Score</th>\n",
       "                        <td id=\"T_1219b75c_0c21_11ec_8573_02420a3918ferow8_col0\" class=\"data row8 col0\" >51.32</td>\n",
       "            </tr>\n",
       "            <tr>\n",
       "                        <th id=\"T_1219b75c_0c21_11ec_8573_02420a3918felevel0_row9\" class=\"row_heading level0 row9\" >User_Score</th>\n",
       "                        <td id=\"T_1219b75c_0c21_11ec_8573_02420a3918ferow9_col0\" class=\"data row9 col0\" >40.09</td>\n",
       "            </tr>\n",
       "            <tr>\n",
       "                        <th id=\"T_1219b75c_0c21_11ec_8573_02420a3918felevel0_row10\" class=\"row_heading level0 row10\" >Rating</th>\n",
       "                        <td id=\"T_1219b75c_0c21_11ec_8573_02420a3918ferow10_col0\" class=\"data row10 col0\" >40.48</td>\n",
       "            </tr>\n",
       "    </tbody></table>"
      ],
      "text/plain": [
       "<pandas.io.formats.style.Styler at 0x7f88bc098910>"
      ]
     },
     "execution_count": 5,
     "metadata": {},
     "output_type": "execute_result"
    }
   ],
   "source": [
    "pd.DataFrame(round((shop.isna().mean()*100),2)).style.background_gradient('coolwarm')"
   ]
  },
  {
   "cell_type": "code",
   "execution_count": 6,
   "metadata": {},
   "outputs": [
    {
     "data": {
      "text/html": [
       "<div>\n",
       "<style scoped>\n",
       "    .dataframe tbody tr th:only-of-type {\n",
       "        vertical-align: middle;\n",
       "    }\n",
       "\n",
       "    .dataframe tbody tr th {\n",
       "        vertical-align: top;\n",
       "    }\n",
       "\n",
       "    .dataframe thead th {\n",
       "        text-align: right;\n",
       "    }\n",
       "</style>\n",
       "<table border=\"1\" class=\"dataframe\">\n",
       "  <thead>\n",
       "    <tr style=\"text-align: right;\">\n",
       "      <th></th>\n",
       "      <th>Year_of_Release</th>\n",
       "      <th>NA_sales</th>\n",
       "      <th>EU_sales</th>\n",
       "      <th>JP_sales</th>\n",
       "      <th>Other_sales</th>\n",
       "      <th>Critic_Score</th>\n",
       "    </tr>\n",
       "  </thead>\n",
       "  <tbody>\n",
       "    <tr>\n",
       "      <td>count</td>\n",
       "      <td>16446.000000</td>\n",
       "      <td>16715.000000</td>\n",
       "      <td>16715.000000</td>\n",
       "      <td>16715.000000</td>\n",
       "      <td>16715.000000</td>\n",
       "      <td>8137.000000</td>\n",
       "    </tr>\n",
       "    <tr>\n",
       "      <td>mean</td>\n",
       "      <td>2006.484616</td>\n",
       "      <td>0.263377</td>\n",
       "      <td>0.145060</td>\n",
       "      <td>0.077617</td>\n",
       "      <td>0.047342</td>\n",
       "      <td>68.967679</td>\n",
       "    </tr>\n",
       "    <tr>\n",
       "      <td>std</td>\n",
       "      <td>5.877050</td>\n",
       "      <td>0.813604</td>\n",
       "      <td>0.503339</td>\n",
       "      <td>0.308853</td>\n",
       "      <td>0.186731</td>\n",
       "      <td>13.938165</td>\n",
       "    </tr>\n",
       "    <tr>\n",
       "      <td>min</td>\n",
       "      <td>1980.000000</td>\n",
       "      <td>0.000000</td>\n",
       "      <td>0.000000</td>\n",
       "      <td>0.000000</td>\n",
       "      <td>0.000000</td>\n",
       "      <td>13.000000</td>\n",
       "    </tr>\n",
       "    <tr>\n",
       "      <td>25%</td>\n",
       "      <td>2003.000000</td>\n",
       "      <td>0.000000</td>\n",
       "      <td>0.000000</td>\n",
       "      <td>0.000000</td>\n",
       "      <td>0.000000</td>\n",
       "      <td>60.000000</td>\n",
       "    </tr>\n",
       "    <tr>\n",
       "      <td>50%</td>\n",
       "      <td>2007.000000</td>\n",
       "      <td>0.080000</td>\n",
       "      <td>0.020000</td>\n",
       "      <td>0.000000</td>\n",
       "      <td>0.010000</td>\n",
       "      <td>71.000000</td>\n",
       "    </tr>\n",
       "    <tr>\n",
       "      <td>75%</td>\n",
       "      <td>2010.000000</td>\n",
       "      <td>0.240000</td>\n",
       "      <td>0.110000</td>\n",
       "      <td>0.040000</td>\n",
       "      <td>0.030000</td>\n",
       "      <td>79.000000</td>\n",
       "    </tr>\n",
       "    <tr>\n",
       "      <td>max</td>\n",
       "      <td>2016.000000</td>\n",
       "      <td>41.360000</td>\n",
       "      <td>28.960000</td>\n",
       "      <td>10.220000</td>\n",
       "      <td>10.570000</td>\n",
       "      <td>98.000000</td>\n",
       "    </tr>\n",
       "  </tbody>\n",
       "</table>\n",
       "</div>"
      ],
      "text/plain": [
       "       Year_of_Release      NA_sales      EU_sales      JP_sales  \\\n",
       "count     16446.000000  16715.000000  16715.000000  16715.000000   \n",
       "mean       2006.484616      0.263377      0.145060      0.077617   \n",
       "std           5.877050      0.813604      0.503339      0.308853   \n",
       "min        1980.000000      0.000000      0.000000      0.000000   \n",
       "25%        2003.000000      0.000000      0.000000      0.000000   \n",
       "50%        2007.000000      0.080000      0.020000      0.000000   \n",
       "75%        2010.000000      0.240000      0.110000      0.040000   \n",
       "max        2016.000000     41.360000     28.960000     10.220000   \n",
       "\n",
       "        Other_sales  Critic_Score  \n",
       "count  16715.000000   8137.000000  \n",
       "mean       0.047342     68.967679  \n",
       "std        0.186731     13.938165  \n",
       "min        0.000000     13.000000  \n",
       "25%        0.000000     60.000000  \n",
       "50%        0.010000     71.000000  \n",
       "75%        0.030000     79.000000  \n",
       "max       10.570000     98.000000  "
      ]
     },
     "execution_count": 6,
     "metadata": {},
     "output_type": "execute_result"
    }
   ],
   "source": [
    "shop.describe()"
   ]
  },
  {
   "cell_type": "code",
   "execution_count": 7,
   "metadata": {},
   "outputs": [
    {
     "data": {
      "text/plain": [
       "0"
      ]
     },
     "execution_count": 7,
     "metadata": {},
     "output_type": "execute_result"
    }
   ],
   "source": [
    "# проверим полные дубликаты \n",
    "shop.duplicated().sum()"
   ]
  },
  {
   "cell_type": "markdown",
   "metadata": {},
   "source": [
    "Перейдем к предобработке"
   ]
  },
  {
   "cell_type": "code",
   "execution_count": 8,
   "metadata": {},
   "outputs": [
    {
     "data": {
      "text/html": [
       "<div>\n",
       "<style scoped>\n",
       "    .dataframe tbody tr th:only-of-type {\n",
       "        vertical-align: middle;\n",
       "    }\n",
       "\n",
       "    .dataframe tbody tr th {\n",
       "        vertical-align: top;\n",
       "    }\n",
       "\n",
       "    .dataframe thead th {\n",
       "        text-align: right;\n",
       "    }\n",
       "</style>\n",
       "<table border=\"1\" class=\"dataframe\">\n",
       "  <thead>\n",
       "    <tr style=\"text-align: right;\">\n",
       "      <th></th>\n",
       "      <th>name</th>\n",
       "      <th>platform</th>\n",
       "      <th>year_of_release</th>\n",
       "      <th>genre</th>\n",
       "      <th>na_sales</th>\n",
       "      <th>eu_sales</th>\n",
       "      <th>jp_sales</th>\n",
       "      <th>other_sales</th>\n",
       "      <th>critic_score</th>\n",
       "      <th>user_score</th>\n",
       "      <th>rating</th>\n",
       "    </tr>\n",
       "  </thead>\n",
       "  <tbody>\n",
       "    <tr>\n",
       "      <td>0</td>\n",
       "      <td>Wii Sports</td>\n",
       "      <td>Wii</td>\n",
       "      <td>2006.0</td>\n",
       "      <td>Sports</td>\n",
       "      <td>41.36</td>\n",
       "      <td>28.96</td>\n",
       "      <td>3.77</td>\n",
       "      <td>8.45</td>\n",
       "      <td>76.0</td>\n",
       "      <td>8</td>\n",
       "      <td>E</td>\n",
       "    </tr>\n",
       "    <tr>\n",
       "      <td>1</td>\n",
       "      <td>Super Mario Bros.</td>\n",
       "      <td>NES</td>\n",
       "      <td>1985.0</td>\n",
       "      <td>Platform</td>\n",
       "      <td>29.08</td>\n",
       "      <td>3.58</td>\n",
       "      <td>6.81</td>\n",
       "      <td>0.77</td>\n",
       "      <td>NaN</td>\n",
       "      <td>NaN</td>\n",
       "      <td>NaN</td>\n",
       "    </tr>\n",
       "    <tr>\n",
       "      <td>2</td>\n",
       "      <td>Mario Kart Wii</td>\n",
       "      <td>Wii</td>\n",
       "      <td>2008.0</td>\n",
       "      <td>Racing</td>\n",
       "      <td>15.68</td>\n",
       "      <td>12.76</td>\n",
       "      <td>3.79</td>\n",
       "      <td>3.29</td>\n",
       "      <td>82.0</td>\n",
       "      <td>8.3</td>\n",
       "      <td>E</td>\n",
       "    </tr>\n",
       "    <tr>\n",
       "      <td>3</td>\n",
       "      <td>Wii Sports Resort</td>\n",
       "      <td>Wii</td>\n",
       "      <td>2009.0</td>\n",
       "      <td>Sports</td>\n",
       "      <td>15.61</td>\n",
       "      <td>10.93</td>\n",
       "      <td>3.28</td>\n",
       "      <td>2.95</td>\n",
       "      <td>80.0</td>\n",
       "      <td>8</td>\n",
       "      <td>E</td>\n",
       "    </tr>\n",
       "    <tr>\n",
       "      <td>4</td>\n",
       "      <td>Pokemon Red/Pokemon Blue</td>\n",
       "      <td>GB</td>\n",
       "      <td>1996.0</td>\n",
       "      <td>Role-Playing</td>\n",
       "      <td>11.27</td>\n",
       "      <td>8.89</td>\n",
       "      <td>10.22</td>\n",
       "      <td>1.00</td>\n",
       "      <td>NaN</td>\n",
       "      <td>NaN</td>\n",
       "      <td>NaN</td>\n",
       "    </tr>\n",
       "  </tbody>\n",
       "</table>\n",
       "</div>"
      ],
      "text/plain": [
       "                       name platform  year_of_release         genre  na_sales  \\\n",
       "0                Wii Sports      Wii           2006.0        Sports     41.36   \n",
       "1         Super Mario Bros.      NES           1985.0      Platform     29.08   \n",
       "2            Mario Kart Wii      Wii           2008.0        Racing     15.68   \n",
       "3         Wii Sports Resort      Wii           2009.0        Sports     15.61   \n",
       "4  Pokemon Red/Pokemon Blue       GB           1996.0  Role-Playing     11.27   \n",
       "\n",
       "   eu_sales  jp_sales  other_sales  critic_score user_score rating  \n",
       "0     28.96      3.77         8.45          76.0          8      E  \n",
       "1      3.58      6.81         0.77           NaN        NaN    NaN  \n",
       "2     12.76      3.79         3.29          82.0        8.3      E  \n",
       "3     10.93      3.28         2.95          80.0          8      E  \n",
       "4      8.89     10.22         1.00           NaN        NaN    NaN  "
      ]
     },
     "execution_count": 8,
     "metadata": {},
     "output_type": "execute_result"
    }
   ],
   "source": [
    "# заменим названия столбцов, приведем к нижнему регистру\n",
    "shop.columns = shop.columns.str.lower()\n",
    "shop.head()"
   ]
  },
  {
   "cell_type": "markdown",
   "metadata": {},
   "source": [
    "Проверим на пропуски"
   ]
  },
  {
   "cell_type": "code",
   "execution_count": 9,
   "metadata": {},
   "outputs": [
    {
     "data": {
      "text/plain": [
       "name                  2\n",
       "platform              0\n",
       "year_of_release     269\n",
       "genre                 2\n",
       "na_sales              0\n",
       "eu_sales              0\n",
       "jp_sales              0\n",
       "other_sales           0\n",
       "critic_score       8578\n",
       "user_score         6701\n",
       "rating             6766\n",
       "dtype: int64"
      ]
     },
     "execution_count": 9,
     "metadata": {},
     "output_type": "execute_result"
    }
   ],
   "source": [
    "# Проверка, подсчет количества NaN - значений во всех столбцах\n",
    "shop.isna().sum(axis=0)"
   ]
  },
  {
   "cell_type": "markdown",
   "metadata": {},
   "source": [
    "* в стлобцах 'name' и 'genre' по 2 пропуска. Давайте их просто удалим\n",
    "* столбец \"year_of_release\" имеет 269 пропусков. Заменим на индикаторноге значение 111\n",
    "* пропуски в столбцах с оценками пользователей и критиков \"user_score\" и \"critic_score\" заменим на -1. Этим действием мы сможем выделить данные с пропущенными оценками и не перемешать их с другими (оценка всегда больше 0)\n",
    "* пропуски в столбце \"rating\" заменим на значение rp, что соответствует действительности - на момент анализа рейтинга нет, он ожидается."
   ]
  },
  {
   "cell_type": "code",
   "execution_count": 10,
   "metadata": {},
   "outputs": [
    {
     "data": {
      "text/plain": [
       "name                  0\n",
       "platform              0\n",
       "year_of_release     269\n",
       "genre                 0\n",
       "na_sales              0\n",
       "eu_sales              0\n",
       "jp_sales              0\n",
       "other_sales           0\n",
       "critic_score       8576\n",
       "user_score         6699\n",
       "rating             6764\n",
       "dtype: int64"
      ]
     },
     "execution_count": 10,
     "metadata": {},
     "output_type": "execute_result"
    }
   ],
   "source": [
    "# Удалим пропуски в 'name' и 'genre'\n",
    "shop.dropna(subset=['name'], inplace=True)\n",
    "shop.dropna(subset=['genre'], inplace=True)\n",
    "shop.isna().sum(axis=0)"
   ]
  },
  {
   "cell_type": "code",
   "execution_count": 11,
   "metadata": {},
   "outputs": [],
   "source": [
    "# создадим функцию для замены пропущенных значений \n",
    "def replace(df, column, required):\n",
    "    df[column].fillna(required, inplace=True)"
   ]
  },
  {
   "cell_type": "code",
   "execution_count": 12,
   "metadata": {},
   "outputs": [],
   "source": [
    "# столбец \"year_of_release\" имеет 269 пропусков. Заменим на индикаторноге значение 111\n",
    "replace(shop, 'year_of_release', 111)"
   ]
  },
  {
   "cell_type": "code",
   "execution_count": 13,
   "metadata": {},
   "outputs": [],
   "source": [
    "# Заменим пропуски в столбце 'user_score' \n",
    "replace(shop, 'user_score', -1)\n",
    "# Заменим пропуски в столбце 'critic_score'\n",
    "replace(shop, 'critic_score', -1)"
   ]
  },
  {
   "cell_type": "code",
   "execution_count": 14,
   "metadata": {},
   "outputs": [],
   "source": [
    "# Заменим пропуски в столбце \"rating\" на значения \"rp\" - рейтинг ожидается\n",
    "replace(shop, 'rating', 'rp')"
   ]
  },
  {
   "cell_type": "code",
   "execution_count": 15,
   "metadata": {},
   "outputs": [
    {
     "data": {
      "text/plain": [
       "name               0\n",
       "platform           0\n",
       "year_of_release    0\n",
       "genre              0\n",
       "na_sales           0\n",
       "eu_sales           0\n",
       "jp_sales           0\n",
       "other_sales        0\n",
       "critic_score       0\n",
       "user_score         0\n",
       "rating             0\n",
       "dtype: int64"
      ]
     },
     "execution_count": 15,
     "metadata": {},
     "output_type": "execute_result"
    }
   ],
   "source": [
    "shop.isna().sum(axis=0)"
   ]
  },
  {
   "cell_type": "markdown",
   "metadata": {},
   "source": [
    "Отлично, c пропусками разобрались."
   ]
  },
  {
   "cell_type": "markdown",
   "metadata": {},
   "source": [
    "Приведем данные к нужным типам"
   ]
  },
  {
   "cell_type": "code",
   "execution_count": 16,
   "metadata": {},
   "outputs": [
    {
     "name": "stdout",
     "output_type": "stream",
     "text": [
      "<class 'pandas.core.frame.DataFrame'>\n",
      "Int64Index: 16713 entries, 0 to 16714\n",
      "Data columns (total 11 columns):\n",
      "name               16713 non-null object\n",
      "platform           16713 non-null object\n",
      "year_of_release    16713 non-null float64\n",
      "genre              16713 non-null object\n",
      "na_sales           16713 non-null float64\n",
      "eu_sales           16713 non-null float64\n",
      "jp_sales           16713 non-null float64\n",
      "other_sales        16713 non-null float64\n",
      "critic_score       16713 non-null float64\n",
      "user_score         16713 non-null object\n",
      "rating             16713 non-null object\n",
      "dtypes: float64(6), object(5)\n",
      "memory usage: 1.5+ MB\n"
     ]
    }
   ],
   "source": [
    "shop.info()"
   ]
  },
  {
   "cell_type": "markdown",
   "metadata": {},
   "source": [
    "Приведем:\n",
    "* year_of_release - приведем к целочисленному\n",
    "* user_score - это же численный показатель, а имеет тип object - меняем на 'float'.\n",
    "Остальные типы столбцов в порядке."
   ]
  },
  {
   "cell_type": "code",
   "execution_count": 17,
   "metadata": {},
   "outputs": [
    {
     "name": "stdout",
     "output_type": "stream",
     "text": [
      "<class 'pandas.core.frame.DataFrame'>\n",
      "Int64Index: 16713 entries, 0 to 16714\n",
      "Data columns (total 11 columns):\n",
      "name               16713 non-null object\n",
      "platform           16713 non-null object\n",
      "year_of_release    16713 non-null int64\n",
      "genre              16713 non-null object\n",
      "na_sales           16713 non-null float64\n",
      "eu_sales           16713 non-null float64\n",
      "jp_sales           16713 non-null float64\n",
      "other_sales        16713 non-null float64\n",
      "critic_score       16713 non-null float64\n",
      "user_score         16713 non-null object\n",
      "rating             16713 non-null object\n",
      "dtypes: float64(5), int64(1), object(5)\n",
      "memory usage: 1.5+ MB\n"
     ]
    }
   ],
   "source": [
    "# приведем год к целочисленному типу \"int\" \n",
    "shop['year_of_release'] = shop['year_of_release'].astype('int64')\n",
    "shop.info()"
   ]
  },
  {
   "cell_type": "code",
   "execution_count": 18,
   "metadata": {},
   "outputs": [],
   "source": [
    "# приведем user_score к числу\n",
    "# shop['user_score'] = shop['user_score'].astype('float64')\n",
    "# здесь появляется ошибка \"could not convert string to float: 'tbd'\". Значит для части значений оценка не определена.\n",
    "# Сколько таких значений?"
   ]
  },
  {
   "cell_type": "code",
   "execution_count": 19,
   "metadata": {},
   "outputs": [
    {
     "data": {
      "text/plain": [
       "2424"
      ]
     },
     "execution_count": 19,
     "metadata": {},
     "output_type": "execute_result"
    }
   ],
   "source": [
    "shop.query('user_score ==\"tbd\"').shape[0]"
   ]
  },
  {
   "cell_type": "markdown",
   "metadata": {},
   "source": [
    "Аббревиатура 'tbd\" - To Be Determined. Пишется тогда, когда игра имеет недостаточное количество отзывов (менее 4) для подсчета рейтинга пользователей и его публикации.Эти данные можно считать пропусками, т.к. оценки нет. Заменим на индикаторное значение \"-1\", по аналогии с пропусками"
   ]
  },
  {
   "cell_type": "code",
   "execution_count": 20,
   "metadata": {},
   "outputs": [],
   "source": [
    "# заменим \"tbd\" на \"\"-1\"\n",
    "shop.loc[shop['user_score']=='tbd', 'user_score'] = -1\n",
    "# приведем к целочисленному типу \"int\" \n",
    "shop['user_score'] = shop['user_score'].astype('float64')"
   ]
  },
  {
   "cell_type": "code",
   "execution_count": 21,
   "metadata": {},
   "outputs": [
    {
     "name": "stdout",
     "output_type": "stream",
     "text": [
      "<class 'pandas.core.frame.DataFrame'>\n",
      "Int64Index: 16713 entries, 0 to 16714\n",
      "Data columns (total 11 columns):\n",
      "name               16713 non-null object\n",
      "platform           16713 non-null object\n",
      "year_of_release    16713 non-null int64\n",
      "genre              16713 non-null object\n",
      "na_sales           16713 non-null float64\n",
      "eu_sales           16713 non-null float64\n",
      "jp_sales           16713 non-null float64\n",
      "other_sales        16713 non-null float64\n",
      "critic_score       16713 non-null float64\n",
      "user_score         16713 non-null float64\n",
      "rating             16713 non-null object\n",
      "dtypes: float64(6), int64(1), object(4)\n",
      "memory usage: 1.5+ MB\n"
     ]
    }
   ],
   "source": [
    "shop.info()"
   ]
  },
  {
   "cell_type": "code",
   "execution_count": 22,
   "metadata": {},
   "outputs": [
    {
     "data": {
      "text/html": [
       "<div>\n",
       "<style scoped>\n",
       "    .dataframe tbody tr th:only-of-type {\n",
       "        vertical-align: middle;\n",
       "    }\n",
       "\n",
       "    .dataframe tbody tr th {\n",
       "        vertical-align: top;\n",
       "    }\n",
       "\n",
       "    .dataframe thead th {\n",
       "        text-align: right;\n",
       "    }\n",
       "</style>\n",
       "<table border=\"1\" class=\"dataframe\">\n",
       "  <thead>\n",
       "    <tr style=\"text-align: right;\">\n",
       "      <th></th>\n",
       "      <th>name</th>\n",
       "      <th>platform</th>\n",
       "      <th>year_of_release</th>\n",
       "      <th>genre</th>\n",
       "      <th>na_sales</th>\n",
       "      <th>eu_sales</th>\n",
       "      <th>jp_sales</th>\n",
       "      <th>other_sales</th>\n",
       "      <th>critic_score</th>\n",
       "      <th>user_score</th>\n",
       "      <th>rating</th>\n",
       "      <th>total_sales</th>\n",
       "    </tr>\n",
       "  </thead>\n",
       "  <tbody>\n",
       "    <tr>\n",
       "      <td>0</td>\n",
       "      <td>Wii Sports</td>\n",
       "      <td>Wii</td>\n",
       "      <td>2006</td>\n",
       "      <td>Sports</td>\n",
       "      <td>41.36</td>\n",
       "      <td>28.96</td>\n",
       "      <td>3.77</td>\n",
       "      <td>8.45</td>\n",
       "      <td>76.0</td>\n",
       "      <td>8.0</td>\n",
       "      <td>E</td>\n",
       "      <td>82.54</td>\n",
       "    </tr>\n",
       "    <tr>\n",
       "      <td>1</td>\n",
       "      <td>Super Mario Bros.</td>\n",
       "      <td>NES</td>\n",
       "      <td>1985</td>\n",
       "      <td>Platform</td>\n",
       "      <td>29.08</td>\n",
       "      <td>3.58</td>\n",
       "      <td>6.81</td>\n",
       "      <td>0.77</td>\n",
       "      <td>-1.0</td>\n",
       "      <td>-1.0</td>\n",
       "      <td>rp</td>\n",
       "      <td>40.24</td>\n",
       "    </tr>\n",
       "    <tr>\n",
       "      <td>2</td>\n",
       "      <td>Mario Kart Wii</td>\n",
       "      <td>Wii</td>\n",
       "      <td>2008</td>\n",
       "      <td>Racing</td>\n",
       "      <td>15.68</td>\n",
       "      <td>12.76</td>\n",
       "      <td>3.79</td>\n",
       "      <td>3.29</td>\n",
       "      <td>82.0</td>\n",
       "      <td>8.3</td>\n",
       "      <td>E</td>\n",
       "      <td>35.52</td>\n",
       "    </tr>\n",
       "    <tr>\n",
       "      <td>3</td>\n",
       "      <td>Wii Sports Resort</td>\n",
       "      <td>Wii</td>\n",
       "      <td>2009</td>\n",
       "      <td>Sports</td>\n",
       "      <td>15.61</td>\n",
       "      <td>10.93</td>\n",
       "      <td>3.28</td>\n",
       "      <td>2.95</td>\n",
       "      <td>80.0</td>\n",
       "      <td>8.0</td>\n",
       "      <td>E</td>\n",
       "      <td>32.77</td>\n",
       "    </tr>\n",
       "    <tr>\n",
       "      <td>4</td>\n",
       "      <td>Pokemon Red/Pokemon Blue</td>\n",
       "      <td>GB</td>\n",
       "      <td>1996</td>\n",
       "      <td>Role-Playing</td>\n",
       "      <td>11.27</td>\n",
       "      <td>8.89</td>\n",
       "      <td>10.22</td>\n",
       "      <td>1.00</td>\n",
       "      <td>-1.0</td>\n",
       "      <td>-1.0</td>\n",
       "      <td>rp</td>\n",
       "      <td>31.38</td>\n",
       "    </tr>\n",
       "  </tbody>\n",
       "</table>\n",
       "</div>"
      ],
      "text/plain": [
       "                       name platform  year_of_release         genre  na_sales  \\\n",
       "0                Wii Sports      Wii             2006        Sports     41.36   \n",
       "1         Super Mario Bros.      NES             1985      Platform     29.08   \n",
       "2            Mario Kart Wii      Wii             2008        Racing     15.68   \n",
       "3         Wii Sports Resort      Wii             2009        Sports     15.61   \n",
       "4  Pokemon Red/Pokemon Blue       GB             1996  Role-Playing     11.27   \n",
       "\n",
       "   eu_sales  jp_sales  other_sales  critic_score  user_score rating  \\\n",
       "0     28.96      3.77         8.45          76.0         8.0      E   \n",
       "1      3.58      6.81         0.77          -1.0        -1.0     rp   \n",
       "2     12.76      3.79         3.29          82.0         8.3      E   \n",
       "3     10.93      3.28         2.95          80.0         8.0      E   \n",
       "4      8.89     10.22         1.00          -1.0        -1.0     rp   \n",
       "\n",
       "   total_sales  \n",
       "0        82.54  \n",
       "1        40.24  \n",
       "2        35.52  \n",
       "3        32.77  \n",
       "4        31.38  "
      ]
     },
     "execution_count": 22,
     "metadata": {},
     "output_type": "execute_result"
    }
   ],
   "source": [
    "# Посчитаем количество продаж во всех регионах и запишем их в отдельный столбец\n",
    "shop['total_sales'] = shop['na_sales'] + shop['eu_sales'] + shop['jp_sales'] + shop['other_sales']\n",
    "shop.head()"
   ]
  },
  {
   "cell_type": "markdown",
   "metadata": {},
   "source": [
    "### Вывод: данные подготовили, с пропусками в данных разобрались. Причина появления пропусков? Как предположение. Данные собирались с 1980 года. Возможно, что в то время еще не было инструментов, которые могли бы консолидировать оценки пользователей и экспертов. Тем более, что игровые платформы разные, данные из открытых и различных источников. Также, надо учитывать, что данные собраны по разным регионам, в которых могут быть разные информационные системы и языки (например японский пользователь не напишет на английском сайте отзыв и наоборот)."
   ]
  },
  {
   "cell_type": "markdown",
   "metadata": {},
   "source": [
    "## Проведем исследовательский анализ данных  "
   ]
  },
  {
   "cell_type": "markdown",
   "metadata": {},
   "source": [
    "* Посмотрим, сколько игр выпускалось в разные годы. Важны ли данные за все периоды?  \n",
    "* Посмотрим, как менялись продажи по платформам. Выберем платформы с наибольшими суммарными продажами и построим распределение по годам. За какой характерный срок появляются новые и исчезают старые платформы?  \n",
    "* Возьмем данные за соответствующий актуальный период. Актуальный период определим самостоятельно в результате исследования предыдущих вопросов. Основной фактор — эти данные помогут построить прогноз на 2017 год.  \n",
    "* Не будем учитывать в работе данные за предыдущие годы.  \n",
    "* Определим, какие платформы лидируют по продажам, растут или падают? Выберем несколько потенциально прибыльных платформ.\n",
    "* Построим график «ящик с усами» по глобальным продажам игр в разбивке по платформам. Опишем результат.  \n",
    "* Посмотрим, как влияют на продажи внутри одной популярной платформы отзывы пользователей и критиков. Построем диаграмму рассеяния и посчитаем корреляцию между отзывами и продажами. Сформулируем выводы.  \n",
    "* Соотнесем выводы с продажами игр на других платформах.  \n",
    "* Посмотрим на общее распределение игр по жанрам. Что можно сказать о самых прибыльных жанрах? Выделяются ли жанры с высокими и низкими продажами? "
   ]
  },
  {
   "cell_type": "code",
   "execution_count": 23,
   "metadata": {},
   "outputs": [
    {
     "data": {
      "image/png": "[encoded data removed]",
      "text/plain": [
       "<Figure size 1440x720 with 1 Axes>"
      ]
     },
     "metadata": {
      "needs_background": "light"
     },
     "output_type": "display_data"
    }
   ],
   "source": [
    "# Посмотрим, сколько игр выпускалось в разные годы. Важны ли данные за все периоды?\n",
    "(shop\n",
    "   .pivot_table(index='year_of_release', values=['name'],\n",
    "                aggfunc='count')\n",
    "   .sort_values(by='year_of_release', ascending=True)\n",
    "   .plot(kind='bar',figsize=(20, 10), fontsize=15, color='b')\n",
    ")\n",
    "plt.title('Number of games by year of release', fontsize=15, color='b')\n",
    "plt.legend(fontsize=15).set_visible(False);"
   ]
  },
  {
   "cell_type": "markdown",
   "metadata": {},
   "source": [
    "Посмотрев на это распределение, сразу хочется спросить - куда уходят игры? Не в интернет, соцсети и мобильные устройства случайно? Мы перестаем потихоньку играть на любых платформах, кроме интернета. Пик популярности и наибольшее число релизов были в 2007-2011 годах. Данными \"111\"(это наше индикаторное значение) можно пренебречь. Также видно, что пик продаж уже прошел и продажи начали стабилизироваться начиная с 2012 года. Будем рассматривать этот период как актуальный, для того, чтобы спланировать 2017 год. "
   ]
  },
  {
   "cell_type": "code",
   "execution_count": 24,
   "metadata": {},
   "outputs": [
    {
     "data": {
      "image/png": "[encoded data removed]",
      "text/plain": [
       "<Figure size 1440x720 with 1 Axes>"
      ]
     },
     "metadata": {
      "needs_background": "light"
     },
     "output_type": "display_data"
    }
   ],
   "source": [
    "# Посмотрим, как менялись продажи по платформам. Взьмем 20 платформ\n",
    "(shop\n",
    "     .groupby(by='platform').agg({'total_sales':'sum'}).sort_values(by='total_sales', ascending=False).head(20)\n",
    "     .plot(kind='bar',figsize=(20, 10), fontsize=15, color='b')\n",
    ")\n",
    "plt.title('Number of games by platform', fontsize=15, color='b')\n",
    "plt.legend(fontsize=15).set_visible(False);\n",
    "#легенду сдеклали невидимой :) Но она есть!"
   ]
  },
  {
   "cell_type": "markdown",
   "metadata": {},
   "source": [
    "Выберем платформы с наибольшими суммарными продажами и построим распределение по годам. За какой характерный срок появляются новые и исчезают старые платформы?\n",
    "Явно видно 6 платформ лидеров PS, DS, Wii, PS3, X360, PS2."
   ]
  },
  {
   "cell_type": "code",
   "execution_count": 25,
   "metadata": {},
   "outputs": [
    {
     "data": {
      "text/html": [
       "<div>\n",
       "<style scoped>\n",
       "    .dataframe tbody tr th:only-of-type {\n",
       "        vertical-align: middle;\n",
       "    }\n",
       "\n",
       "    .dataframe tbody tr th {\n",
       "        vertical-align: top;\n",
       "    }\n",
       "\n",
       "    .dataframe thead th {\n",
       "        text-align: right;\n",
       "    }\n",
       "</style>\n",
       "<table border=\"1\" class=\"dataframe\">\n",
       "  <thead>\n",
       "    <tr style=\"text-align: right;\">\n",
       "      <th></th>\n",
       "      <th>platform</th>\n",
       "      <th>sum_sales</th>\n",
       "    </tr>\n",
       "  </thead>\n",
       "  <tbody>\n",
       "    <tr>\n",
       "      <td>16</td>\n",
       "      <td>PS2</td>\n",
       "      <td>1255.77</td>\n",
       "    </tr>\n",
       "    <tr>\n",
       "      <td>28</td>\n",
       "      <td>X360</td>\n",
       "      <td>971.42</td>\n",
       "    </tr>\n",
       "    <tr>\n",
       "      <td>17</td>\n",
       "      <td>PS3</td>\n",
       "      <td>939.65</td>\n",
       "    </tr>\n",
       "    <tr>\n",
       "      <td>26</td>\n",
       "      <td>Wii</td>\n",
       "      <td>907.51</td>\n",
       "    </tr>\n",
       "    <tr>\n",
       "      <td>4</td>\n",
       "      <td>DS</td>\n",
       "      <td>806.12</td>\n",
       "    </tr>\n",
       "    <tr>\n",
       "      <td>15</td>\n",
       "      <td>PS</td>\n",
       "      <td>730.86</td>\n",
       "    </tr>\n",
       "  </tbody>\n",
       "</table>\n",
       "</div>"
      ],
      "text/plain": [
       "   platform  sum_sales\n",
       "16      PS2    1255.77\n",
       "28     X360     971.42\n",
       "17      PS3     939.65\n",
       "26      Wii     907.51\n",
       "4        DS     806.12\n",
       "15       PS     730.86"
      ]
     },
     "execution_count": 25,
     "metadata": {},
     "output_type": "execute_result"
    }
   ],
   "source": [
    "# Сделаем сводную таблицу где сгруппируем данные по платформе, затем подсчитаем сумму продаж\n",
    "sumsales_pivot = shop.pivot_table(index = 'platform', values = 'total_sales', aggfunc = 'sum')\n",
    "sumsales_pivot.columns = ['sum_sales']\n",
    "sumsales_pivot.reset_index(inplace = True)\n",
    "sumsales_pivot.sort_values(by = 'sum_sales', ascending= False).head(6)"
   ]
  },
  {
   "cell_type": "code",
   "execution_count": 26,
   "metadata": {},
   "outputs": [
    {
     "data": {
      "text/html": [
       "<div>\n",
       "<style scoped>\n",
       "    .dataframe tbody tr th:only-of-type {\n",
       "        vertical-align: middle;\n",
       "    }\n",
       "\n",
       "    .dataframe tbody tr th {\n",
       "        vertical-align: top;\n",
       "    }\n",
       "\n",
       "    .dataframe thead th {\n",
       "        text-align: right;\n",
       "    }\n",
       "</style>\n",
       "<table border=\"1\" class=\"dataframe\">\n",
       "  <thead>\n",
       "    <tr style=\"text-align: right;\">\n",
       "      <th></th>\n",
       "      <th>platform</th>\n",
       "      <th>year_of_release</th>\n",
       "      <th>sum_sales</th>\n",
       "    </tr>\n",
       "  </thead>\n",
       "  <tbody>\n",
       "    <tr>\n",
       "      <td>0</td>\n",
       "      <td>2600</td>\n",
       "      <td>111</td>\n",
       "      <td>10.50</td>\n",
       "    </tr>\n",
       "    <tr>\n",
       "      <td>1</td>\n",
       "      <td>2600</td>\n",
       "      <td>1980</td>\n",
       "      <td>11.38</td>\n",
       "    </tr>\n",
       "    <tr>\n",
       "      <td>2</td>\n",
       "      <td>2600</td>\n",
       "      <td>1981</td>\n",
       "      <td>35.68</td>\n",
       "    </tr>\n",
       "    <tr>\n",
       "      <td>3</td>\n",
       "      <td>2600</td>\n",
       "      <td>1982</td>\n",
       "      <td>28.88</td>\n",
       "    </tr>\n",
       "    <tr>\n",
       "      <td>4</td>\n",
       "      <td>2600</td>\n",
       "      <td>1983</td>\n",
       "      <td>5.84</td>\n",
       "    </tr>\n",
       "  </tbody>\n",
       "</table>\n",
       "</div>"
      ],
      "text/plain": [
       "  platform  year_of_release  sum_sales\n",
       "0     2600              111      10.50\n",
       "1     2600             1980      11.38\n",
       "2     2600             1981      35.68\n",
       "3     2600             1982      28.88\n",
       "4     2600             1983       5.84"
      ]
     },
     "execution_count": 26,
     "metadata": {},
     "output_type": "execute_result"
    }
   ],
   "source": [
    "# Сделаем сводную таблицу, где сгруппируем данные по платформе и году релиза и подсчитаем сумму продаж для каждого года\n",
    "sumsalesyear_pivot = shop.pivot_table(index = ['platform','year_of_release'], values = 'total_sales', aggfunc = 'sum')\n",
    "sumsalesyear_pivot.columns = ['sum_sales']\n",
    "sumsalesyear_pivot.reset_index(inplace = True)\n",
    "sumsalesyear_pivot.head()"
   ]
  },
  {
   "cell_type": "code",
   "execution_count": 27,
   "metadata": {},
   "outputs": [
    {
     "data": {
      "image/png": "[encoded data removed]",
      "text/plain": [
       "<Figure size 1440x720 with 1 Axes>"
      ]
     },
     "metadata": {
      "needs_background": "light"
     },
     "output_type": "display_data"
    }
   ],
   "source": [
    "# Построим графики,  которые наглядно покажут сколько живут платформы, возьмем данные после 1991 года\n",
    "# Разобьем по 3 платформы, для наглядности. \n",
    "plt.figure(figsize=(20, 10))\n",
    "top_platform = sumsalesyear_pivot.query('platform in [\"PS2\",\"X360\",\"PS3\"] & year_of_release > 1991')\n",
    "ax = sns.barplot(x=\"year_of_release\", y=\"sum_sales\", hue=\"platform\", data=top_platform)"
   ]
  },
  {
   "cell_type": "code",
   "execution_count": 28,
   "metadata": {},
   "outputs": [
    {
     "data": {
      "image/png": "[encoded data removed]",
      "text/plain": [
       "<Figure size 1440x720 with 1 Axes>"
      ]
     },
     "metadata": {
      "needs_background": "light"
     },
     "output_type": "display_data"
    }
   ],
   "source": [
    "# Построим barplot который наглядно покажет сколько живут платформы, сохраним условие, данные после 1991 года\n",
    "# Разобьем по 3 платформы, для наглядности. \n",
    "plt.figure(figsize=(20, 10))\n",
    "top_platform = sumsalesyear_pivot.query('platform in [\"Wii\",\"DS\", \"PS\"] & year_of_release > 1991')\n",
    "ax = sns.barplot(x=\"year_of_release\", y=\"sum_sales\", hue=\"platform\", data=top_platform)"
   ]
  },
  {
   "cell_type": "markdown",
   "metadata": {},
   "source": [
    "На графиках хорошо видно, что цикл жизни платформы около 10 лет. А еще, что интересно, этот цикл очень похож на нормальное распределение :)"
   ]
  },
  {
   "cell_type": "markdown",
   "metadata": {},
   "source": [
    "Возьмем данные за соответствующий актуальный период. Актуальный период определим самостоятельно в результате исследования предыдущих вопросов. Основной фактор — эти данные помогут построить прогноз на 2017 год.\n",
    "Не будем учитывать в работе данные за предыдущие годы.\n",
    "* Возьмем период с 2012 года по 2016 год, как наиболее актуальный по количеству продаж на сегодняшний день. Предположим, что продажи стабилизировались. Если брать более ранний период, данные будут искажены из-за пика продаж 2007-2011 годов.\n",
    "\n",
    "Определим, какие платформы лидируют по продажам, растут или падают? Выберем несколько потенциально прибыльных платформ.\n",
    "* если посмотреть на графики, можно сделать выводы, что все платформы, кроме PS3 и X360 почти ушли с рынка. Ими пользуются \"энтузиасты\". В нашем исследовании давайтие предположим, что лидерами останутся PS3 и X360. Остальными платформами можно пренебречь. Все платформы прошли свой пик и находятся в фазе падения. На этом этапе исследования объективно можно сделать вывод, что рынок кардинально изменился. Надо срочно перегруппировать усилия на новые ниши рынка, иначе магазин можно будет закрывать. В реальности так и произошло. Нет больше огромного рынка игр для приставок. Теперь все играют на телефонах, в соцсетях или просто в интернете. Можно было бы закончить исследование, но надо учиться дальше :) Давайте посмотрим, а что реально с рынком игр происходит? Вот распределение по долям глобального рынка:"
   ]
  },
  {
   "attachments": {
    "2_large.png": {
     "image/png": "[encoded data removed]"
    }
   },
   "cell_type": "markdown",
   "metadata": {},
   "source": [
    "![2_large.png](attachment:2_large.png)"
   ]
  },
  {
   "cell_type": "markdown",
   "metadata": {},
   "source": [
    "Хорошо видно, что рынок игровых приставок стабилизировался и расти не собирается. Даже с учетом ковидных изоляций и других катаклизмов. Надо это учитывать при планировании бюджета. Необходимо правильно расставить акценты. И обратить пристальное внимание на растущие сегменты рынка."
   ]
  },
  {
   "cell_type": "code",
   "execution_count": 29,
   "metadata": {},
   "outputs": [
    {
     "data": {
      "text/html": [
       "<div>\n",
       "<style scoped>\n",
       "    .dataframe tbody tr th:only-of-type {\n",
       "        vertical-align: middle;\n",
       "    }\n",
       "\n",
       "    .dataframe tbody tr th {\n",
       "        vertical-align: top;\n",
       "    }\n",
       "\n",
       "    .dataframe thead th {\n",
       "        text-align: right;\n",
       "    }\n",
       "</style>\n",
       "<table border=\"1\" class=\"dataframe\">\n",
       "  <thead>\n",
       "    <tr style=\"text-align: right;\">\n",
       "      <th></th>\n",
       "      <th>platform</th>\n",
       "      <th>year_of_release</th>\n",
       "      <th>sum_sales</th>\n",
       "    </tr>\n",
       "  </thead>\n",
       "  <tbody>\n",
       "    <tr>\n",
       "      <td>44</td>\n",
       "      <td>X360</td>\n",
       "      <td>2016</td>\n",
       "      <td>1.52</td>\n",
       "    </tr>\n",
       "    <tr>\n",
       "      <td>45</td>\n",
       "      <td>XOne</td>\n",
       "      <td>2013</td>\n",
       "      <td>18.96</td>\n",
       "    </tr>\n",
       "    <tr>\n",
       "      <td>46</td>\n",
       "      <td>XOne</td>\n",
       "      <td>2014</td>\n",
       "      <td>54.07</td>\n",
       "    </tr>\n",
       "    <tr>\n",
       "      <td>47</td>\n",
       "      <td>XOne</td>\n",
       "      <td>2015</td>\n",
       "      <td>60.14</td>\n",
       "    </tr>\n",
       "    <tr>\n",
       "      <td>48</td>\n",
       "      <td>XOne</td>\n",
       "      <td>2016</td>\n",
       "      <td>26.15</td>\n",
       "    </tr>\n",
       "  </tbody>\n",
       "</table>\n",
       "</div>"
      ],
      "text/plain": [
       "   platform  year_of_release  sum_sales\n",
       "44     X360             2016       1.52\n",
       "45     XOne             2013      18.96\n",
       "46     XOne             2014      54.07\n",
       "47     XOne             2015      60.14\n",
       "48     XOne             2016      26.15"
      ]
     },
     "execution_count": 29,
     "metadata": {},
     "output_type": "execute_result"
    }
   ],
   "source": [
    "# Соберем датафрейм с информацией по играм за актуальный период 2012-2016\n",
    "current_period = shop[shop['year_of_release'] >= 2012]\n",
    "\n",
    "# Сделаем сводную таблицу где сгруппируем данные по платформе и году релиза, затем подсчитаем сумму продаж для каждого года\n",
    "sumsalesyear_2012_2016 = current_period.pivot_table(index = ['platform','year_of_release'], values = 'total_sales', aggfunc = 'sum')\n",
    "sumsalesyear_2012_2016.columns = ['sum_sales']\n",
    "sumsalesyear_2012_2016.reset_index(inplace = True)\n",
    "sumsalesyear_2012_2016.tail()"
   ]
  },
  {
   "cell_type": "markdown",
   "metadata": {},
   "source": [
    "<font color='blue'> Построим боксплоты для 10 платформ-лидеров, уберем выбросы, сделаем подписи, уберем технические строчки </font>"
   ]
  },
  {
   "cell_type": "code",
   "execution_count": 30,
   "metadata": {},
   "outputs": [],
   "source": [
    "games_total_sales = current_period.pivot_table(\n",
    "    index=['platform', 'year_of_release'], \n",
    "                  values='total_sales', \n",
    "                  aggfunc='sum').sort_values(\n",
    "    by='total_sales', ascending=False).reset_index().head(10)"
   ]
  },
  {
   "cell_type": "code",
   "execution_count": 31,
   "metadata": {},
   "outputs": [
    {
     "data": {
      "image/png": "[encoded data removed]",
      "text/plain": [
       "<Figure size 720x720 with 1 Axes>"
      ]
     },
     "metadata": {
      "needs_background": "light"
     },
     "output_type": "display_data"
    }
   ],
   "source": [
    "plt.figure(figsize=(10,10))\n",
    "sns.boxplot(x='platform', y='total_sales', showfliers = False, data=games_total_sales)\n",
    "\n",
    "plt.title('Диаграмма размаха показателя объемов продаж игр по игровым платформам', fontsize=15)\n",
    "plt.xlabel('Игровые платформы')\n",
    "plt.ylabel('Количество проданных копий игр, млн. шт.')\n",
    "plt.show()"
   ]
  },
  {
   "cell_type": "markdown",
   "metadata": {},
   "source": [
    "Первые 5 платформ можно рассматривать, остальные не попадают в репрезентативную выборку, ими можно пренебречь. Явных лидера 2. PS от Sony и платформы Microsoft. Очень важно помнить о Nintendo 3DS - японский рынок."
   ]
  },
  {
   "cell_type": "code",
   "execution_count": 32,
   "metadata": {},
   "outputs": [
    {
     "data": {
      "text/plain": [
       "<matplotlib.axes._subplots.AxesSubplot at 0x7f89233bad90>"
      ]
     },
     "execution_count": 32,
     "metadata": {},
     "output_type": "execute_result"
    },
    {
     "data": {
      "image/png": "[encoded data removed]",
      "text/plain": [
       "<Figure size 1440x720 with 1 Axes>"
      ]
     },
     "metadata": {
      "needs_background": "light"
     },
     "output_type": "display_data"
    },
    {
     "data": {
      "image/png": "[encoded data removed]",
      "text/plain": [
       "<Figure size 1440x720 with 1 Axes>"
      ]
     },
     "metadata": {
      "needs_background": "light"
     },
     "output_type": "display_data"
    }
   ],
   "source": [
    "# Посмотрим, как влияют на продажи внутри одной популярной платформы отзывы пользователей и критиков. \n",
    "# Построем диаграмму рассеяния и посчитаем корреляцию между отзывами и продажами. Сформулируем выводы.\n",
    "# Возьмем для анализа самую популярную платформу PS3\n",
    "from matplotlib.axes._axes import _log as matplotlib_axes_logger\n",
    "matplotlib_axes_logger.setLevel('ERROR')\n",
    "\n",
    "ps3 = current_period[(current_period['platform'] == 'PS3') & (current_period['critic_score'] > 0)].copy()\n",
    "current_period.plot(kind='scatter', x='critic_score', y='total_sales', ec='black', figsize=(20,10))\n",
    "ps3 = current_period[(current_period['platform'] == 'PS3') & (current_period['user_score'] > 0)].copy()\n",
    "current_period.plot(kind='scatter', x='user_score', y='total_sales', ec='black', figsize=(20,10))"
   ]
  },
  {
   "cell_type": "markdown",
   "metadata": {},
   "source": [
    "X360. Проанализируем зависимость суммы продаж от оценки критиков и пользователей."
   ]
  },
  {
   "cell_type": "code",
   "execution_count": 33,
   "metadata": {},
   "outputs": [
    {
     "data": {
      "text/plain": [
       "<matplotlib.axes._subplots.AxesSubplot at 0x7f8922b3afd0>"
      ]
     },
     "execution_count": 33,
     "metadata": {},
     "output_type": "execute_result"
    },
    {
     "data": {
      "image/png": "[encoded data removed]",
      "text/plain": [
       "<Figure size 1440x720 with 1 Axes>"
      ]
     },
     "metadata": {
      "needs_background": "light"
     },
     "output_type": "display_data"
    },
    {
     "data": {
      "image/png": "[encoded data removed]",
      "text/plain": [
       "<Figure size 1440x720 with 1 Axes>"
      ]
     },
     "metadata": {
      "needs_background": "light"
     },
     "output_type": "display_data"
    }
   ],
   "source": [
    "X360 = current_period[(current_period['platform'] == 'X360') & (current_period['critic_score'] > 0)].copy()\n",
    "current_period.plot(kind='scatter', x='critic_score', y='total_sales', ec='black', figsize=(20,10))\n",
    "X360 = current_period[(current_period['platform'] == 'X360') & (current_period['user_score'] > 0)].copy()\n",
    "current_period.plot(kind='scatter', x='user_score', y='total_sales', ec='black', figsize=(20,10))"
   ]
  },
  {
   "cell_type": "markdown",
   "metadata": {},
   "source": [
    "* Значения ниже 0 не рассматриваем, это наши индикаторные значения без рейтинга. У обоих платформ видна закономерность. Чем выше оценка пользователей и критиков, тем продажи выше."
   ]
  },
  {
   "cell_type": "markdown",
   "metadata": {},
   "source": [
    "Соотнесем выводы с продажами игр на других платформах. Для этого построим матрицу корреляции и проанализируем, как взимосвязаны оценки пользователей и критиков между собой и с общей суммой продаж."
   ]
  },
  {
   "cell_type": "markdown",
   "metadata": {},
   "source": [
    "<font color='blue'> Отфильтруем индикаторные значения \"-1\" </font>"
   ]
  },
  {
   "cell_type": "code",
   "execution_count": 34,
   "metadata": {},
   "outputs": [],
   "source": [
    "critic_score = current_period[current_period['critic_score'] != -1]\n",
    "user_score = current_period[current_period['user_score'] != -1]"
   ]
  },
  {
   "cell_type": "markdown",
   "metadata": {},
   "source": [
    "Проанализируем зависимости между: 1. Оценками игроков и критиков между собой, 2. Оценками критиков и игроков от суммы продаж. Для этого построим матрицу корреляции."
   ]
  },
  {
   "cell_type": "code",
   "execution_count": 35,
   "metadata": {},
   "outputs": [
    {
     "data": {
      "text/html": [
       "<div>\n",
       "<style scoped>\n",
       "    .dataframe tbody tr th:only-of-type {\n",
       "        vertical-align: middle;\n",
       "    }\n",
       "\n",
       "    .dataframe tbody tr th {\n",
       "        vertical-align: top;\n",
       "    }\n",
       "\n",
       "    .dataframe thead th {\n",
       "        text-align: right;\n",
       "    }\n",
       "</style>\n",
       "<table border=\"1\" class=\"dataframe\">\n",
       "  <thead>\n",
       "    <tr style=\"text-align: right;\">\n",
       "      <th></th>\n",
       "      <th>total_sales</th>\n",
       "      <th>critic_score</th>\n",
       "      <th>user_score</th>\n",
       "    </tr>\n",
       "  </thead>\n",
       "  <tbody>\n",
       "    <tr>\n",
       "      <td>total_sales</td>\n",
       "      <td>1.000000</td>\n",
       "      <td>0.298204</td>\n",
       "      <td>0.217372</td>\n",
       "    </tr>\n",
       "    <tr>\n",
       "      <td>critic_score</td>\n",
       "      <td>0.298204</td>\n",
       "      <td>1.000000</td>\n",
       "      <td>0.762073</td>\n",
       "    </tr>\n",
       "    <tr>\n",
       "      <td>user_score</td>\n",
       "      <td>0.217372</td>\n",
       "      <td>0.762073</td>\n",
       "      <td>1.000000</td>\n",
       "    </tr>\n",
       "  </tbody>\n",
       "</table>\n",
       "</div>"
      ],
      "text/plain": [
       "              total_sales  critic_score  user_score\n",
       "total_sales      1.000000      0.298204    0.217372\n",
       "critic_score     0.298204      1.000000    0.762073\n",
       "user_score       0.217372      0.762073    1.000000"
      ]
     },
     "execution_count": 35,
     "metadata": {},
     "output_type": "execute_result"
    }
   ],
   "source": [
    "current_period[current_period['platform'] == 'PS3'].loc[:, ['total_sales', 'critic_score','user_score']].corr()"
   ]
  },
  {
   "cell_type": "markdown",
   "metadata": {},
   "source": [
    "* Оценки критиков и пользователей имеют сильную корреляцию между собой - 0,76. Можно сделать вывод, что качество игры оценивается примерно одинаково и критиками и пользователями. А вот взаимосвязь между оценками и суммой продаж не так сильна. Значит есть еще какие-то критерии, влияющие на выручку. "
   ]
  },
  {
   "cell_type": "markdown",
   "metadata": {},
   "source": [
    "Посмотрим на общее распределение игр по жанрам. Что можно сказать о самых прибыльных жанрах? Выделяются ли жанры с высокими и низкими продажами?"
   ]
  },
  {
   "cell_type": "code",
   "execution_count": 36,
   "metadata": {},
   "outputs": [
    {
     "data": {
      "text/html": [
       "<div>\n",
       "<style scoped>\n",
       "    .dataframe tbody tr th:only-of-type {\n",
       "        vertical-align: middle;\n",
       "    }\n",
       "\n",
       "    .dataframe tbody tr th {\n",
       "        vertical-align: top;\n",
       "    }\n",
       "\n",
       "    .dataframe thead th {\n",
       "        text-align: right;\n",
       "    }\n",
       "</style>\n",
       "<table border=\"1\" class=\"dataframe\">\n",
       "  <thead>\n",
       "    <tr style=\"text-align: right;\">\n",
       "      <th></th>\n",
       "      <th>total_sales</th>\n",
       "    </tr>\n",
       "    <tr>\n",
       "      <th>genre</th>\n",
       "      <th></th>\n",
       "    </tr>\n",
       "  </thead>\n",
       "  <tbody>\n",
       "    <tr>\n",
       "      <td>Action</td>\n",
       "      <td>441.12</td>\n",
       "    </tr>\n",
       "    <tr>\n",
       "      <td>Shooter</td>\n",
       "      <td>304.73</td>\n",
       "    </tr>\n",
       "    <tr>\n",
       "      <td>Role-Playing</td>\n",
       "      <td>192.80</td>\n",
       "    </tr>\n",
       "    <tr>\n",
       "      <td>Sports</td>\n",
       "      <td>181.07</td>\n",
       "    </tr>\n",
       "    <tr>\n",
       "      <td>Misc</td>\n",
       "      <td>85.04</td>\n",
       "    </tr>\n",
       "    <tr>\n",
       "      <td>Platform</td>\n",
       "      <td>61.00</td>\n",
       "    </tr>\n",
       "    <tr>\n",
       "      <td>Racing</td>\n",
       "      <td>53.50</td>\n",
       "    </tr>\n",
       "    <tr>\n",
       "      <td>Fighting</td>\n",
       "      <td>44.49</td>\n",
       "    </tr>\n",
       "    <tr>\n",
       "      <td>Simulation</td>\n",
       "      <td>35.12</td>\n",
       "    </tr>\n",
       "    <tr>\n",
       "      <td>Adventure</td>\n",
       "      <td>29.43</td>\n",
       "    </tr>\n",
       "  </tbody>\n",
       "</table>\n",
       "</div>"
      ],
      "text/plain": [
       "              total_sales\n",
       "genre                    \n",
       "Action             441.12\n",
       "Shooter            304.73\n",
       "Role-Playing       192.80\n",
       "Sports             181.07\n",
       "Misc                85.04\n",
       "Platform            61.00\n",
       "Racing              53.50\n",
       "Fighting            44.49\n",
       "Simulation          35.12\n",
       "Adventure           29.43"
      ]
     },
     "execution_count": 36,
     "metadata": {},
     "output_type": "execute_result"
    }
   ],
   "source": [
    "top_genre = current_period.pivot_table(index = 'genre', values = 'total_sales', aggfunc = 'sum').sort_values(by = 'total_sales', ascending = False)\n",
    "top_genre.head(10)\n"
   ]
  },
  {
   "cell_type": "code",
   "execution_count": 37,
   "metadata": {},
   "outputs": [
    {
     "data": {
      "text/plain": [
       "Text(0, 0.5, 'Сумма выручки')"
      ]
     },
     "execution_count": 37,
     "metadata": {},
     "output_type": "execute_result"
    },
    {
     "data": {
      "image/png": "[encoded data removed]",
      "text/plain": [
       "<Figure size 432x288 with 1 Axes>"
      ]
     },
     "metadata": {
      "needs_background": "light"
     },
     "output_type": "display_data"
    }
   ],
   "source": [
    "# посмотрим на графике\n",
    "g = sns.barplot(x=top_genre.index,y=top_genre['total_sales'])\n",
    "g.set_xticklabels(labels = top_genre.index, rotation=40)\n",
    "plt.title(\"Суммарные продажи по жанрам\")\n",
    "plt.xlabel(\"Наименование жанра\")\n",
    "plt.ylabel(\"Сумма выручки\")"
   ]
  },
  {
   "cell_type": "markdown",
   "metadata": {},
   "source": [
    "* <font color='blue'> Давайте взглянем на данные в разрезе среднего и медианы. </font>"
   ]
  },
  {
   "cell_type": "code",
   "execution_count": 38,
   "metadata": {},
   "outputs": [
    {
     "data": {
      "text/html": [
       "<div>\n",
       "<style scoped>\n",
       "    .dataframe tbody tr th:only-of-type {\n",
       "        vertical-align: middle;\n",
       "    }\n",
       "\n",
       "    .dataframe tbody tr th {\n",
       "        vertical-align: top;\n",
       "    }\n",
       "\n",
       "    .dataframe thead th {\n",
       "        text-align: right;\n",
       "    }\n",
       "</style>\n",
       "<table border=\"1\" class=\"dataframe\">\n",
       "  <thead>\n",
       "    <tr style=\"text-align: right;\">\n",
       "      <th></th>\n",
       "      <th>total_sales</th>\n",
       "    </tr>\n",
       "    <tr>\n",
       "      <th>genre</th>\n",
       "      <th></th>\n",
       "    </tr>\n",
       "  </thead>\n",
       "  <tbody>\n",
       "    <tr>\n",
       "      <td>Shooter</td>\n",
       "      <td>1.296723</td>\n",
       "    </tr>\n",
       "    <tr>\n",
       "      <td>Platform</td>\n",
       "      <td>0.717647</td>\n",
       "    </tr>\n",
       "    <tr>\n",
       "      <td>Sports</td>\n",
       "      <td>0.675634</td>\n",
       "    </tr>\n",
       "    <tr>\n",
       "      <td>Role-Playing</td>\n",
       "      <td>0.521081</td>\n",
       "    </tr>\n",
       "    <tr>\n",
       "      <td>Racing</td>\n",
       "      <td>0.465217</td>\n",
       "    </tr>\n",
       "    <tr>\n",
       "      <td>Misc</td>\n",
       "      <td>0.442917</td>\n",
       "    </tr>\n",
       "    <tr>\n",
       "      <td>Simulation</td>\n",
       "      <td>0.439000</td>\n",
       "    </tr>\n",
       "    <tr>\n",
       "      <td>Action</td>\n",
       "      <td>0.427856</td>\n",
       "    </tr>\n",
       "    <tr>\n",
       "      <td>Fighting</td>\n",
       "      <td>0.408165</td>\n",
       "    </tr>\n",
       "    <tr>\n",
       "      <td>Strategy</td>\n",
       "      <td>0.187887</td>\n",
       "    </tr>\n",
       "  </tbody>\n",
       "</table>\n",
       "</div>"
      ],
      "text/plain": [
       "              total_sales\n",
       "genre                    \n",
       "Shooter          1.296723\n",
       "Platform         0.717647\n",
       "Sports           0.675634\n",
       "Role-Playing     0.521081\n",
       "Racing           0.465217\n",
       "Misc             0.442917\n",
       "Simulation       0.439000\n",
       "Action           0.427856\n",
       "Fighting         0.408165\n",
       "Strategy         0.187887"
      ]
     },
     "execution_count": 38,
     "metadata": {},
     "output_type": "execute_result"
    }
   ],
   "source": [
    "top_genre = current_period.pivot_table(index = 'genre', values = 'total_sales', aggfunc = 'mean').sort_values(by = 'total_sales', ascending = False)\n",
    "top_genre.head(10)"
   ]
  },
  {
   "cell_type": "code",
   "execution_count": 39,
   "metadata": {},
   "outputs": [
    {
     "data": {
      "text/html": [
       "<div>\n",
       "<style scoped>\n",
       "    .dataframe tbody tr th:only-of-type {\n",
       "        vertical-align: middle;\n",
       "    }\n",
       "\n",
       "    .dataframe tbody tr th {\n",
       "        vertical-align: top;\n",
       "    }\n",
       "\n",
       "    .dataframe thead th {\n",
       "        text-align: right;\n",
       "    }\n",
       "</style>\n",
       "<table border=\"1\" class=\"dataframe\">\n",
       "  <thead>\n",
       "    <tr style=\"text-align: right;\">\n",
       "      <th></th>\n",
       "      <th>total_sales</th>\n",
       "    </tr>\n",
       "    <tr>\n",
       "      <th>genre</th>\n",
       "      <th></th>\n",
       "    </tr>\n",
       "  </thead>\n",
       "  <tbody>\n",
       "    <tr>\n",
       "      <td>Shooter</td>\n",
       "      <td>0.44</td>\n",
       "    </tr>\n",
       "    <tr>\n",
       "      <td>Sports</td>\n",
       "      <td>0.24</td>\n",
       "    </tr>\n",
       "    <tr>\n",
       "      <td>Platform</td>\n",
       "      <td>0.21</td>\n",
       "    </tr>\n",
       "    <tr>\n",
       "      <td>Role-Playing</td>\n",
       "      <td>0.14</td>\n",
       "    </tr>\n",
       "    <tr>\n",
       "      <td>Racing</td>\n",
       "      <td>0.14</td>\n",
       "    </tr>\n",
       "    <tr>\n",
       "      <td>Fighting</td>\n",
       "      <td>0.13</td>\n",
       "    </tr>\n",
       "    <tr>\n",
       "      <td>Action</td>\n",
       "      <td>0.12</td>\n",
       "    </tr>\n",
       "    <tr>\n",
       "      <td>Misc</td>\n",
       "      <td>0.12</td>\n",
       "    </tr>\n",
       "    <tr>\n",
       "      <td>Simulation</td>\n",
       "      <td>0.12</td>\n",
       "    </tr>\n",
       "    <tr>\n",
       "      <td>Strategy</td>\n",
       "      <td>0.08</td>\n",
       "    </tr>\n",
       "  </tbody>\n",
       "</table>\n",
       "</div>"
      ],
      "text/plain": [
       "              total_sales\n",
       "genre                    \n",
       "Shooter              0.44\n",
       "Sports               0.24\n",
       "Platform             0.21\n",
       "Role-Playing         0.14\n",
       "Racing               0.14\n",
       "Fighting             0.13\n",
       "Action               0.12\n",
       "Misc                 0.12\n",
       "Simulation           0.12\n",
       "Strategy             0.08"
      ]
     },
     "execution_count": 39,
     "metadata": {},
     "output_type": "execute_result"
    }
   ],
   "source": [
    "top_genre = current_period.pivot_table(index = 'genre', values = 'total_sales', aggfunc = 'median').sort_values(by = 'total_sales', ascending = False)\n",
    "top_genre.head(10)"
   ]
  },
  {
   "cell_type": "markdown",
   "metadata": {},
   "source": [
    "* <font color='blue'> Стрелялки и Спортивные игры на месте. Вместо Экшн, который улетел вниз, наверху появился жанр Платформы. За основу возьмем данные по суммарным продажам, как наиболее репрезентативные </font>"
   ]
  },
  {
   "cell_type": "markdown",
   "metadata": {},
   "source": [
    "Мы видим 4 явных лидера Action, Shooter, Role-Playing, Sports. Puzzle и Strategy - жанры с самыми низкими продажами, но есть любители этих игр. В основном люди предпочитают бродилки, стрелялки, спортивные игры, однако на 3 месте ролевые. Это надо учитывать."
   ]
  },
  {
   "cell_type": "markdown",
   "metadata": {},
   "source": [
    "### Вывод. Мы провели исследовательский анализ данных и сделали следующие выводы:\n",
    "* по историческим данным, платформы имеют жизненный цикл около 10 лет.\n",
    "* пик популярности и максимальная выручка пришлись на период 2007-2011 год. На данный момент сектор рынка стабилизировался. Для анализа и прогнозирования продаж будем учитывать данные начиная с 2012 года. Это так называвемый период стабильности. Этот вывод подтверждается исторической статистикой на данный момент.\n",
    "* на момент анализа наиболее популярные платформы: PS3 и X360. Обе приставки близки по сумме выручки и ее медианному значению.\n",
    "* чем выше оценки критиков и пользователей, тем выше выручка. Ожидаемый критерий оценки качества.\n",
    "* лидеры по жанрам Action, Shooter, Role-Playing, Sports. Puzzle и Strategy"
   ]
  },
  {
   "cell_type": "markdown",
   "metadata": {},
   "source": [
    "## Составим портрет пользователя для каждого региона"
   ]
  },
  {
   "cell_type": "markdown",
   "metadata": {},
   "source": [
    "Определим для пользователя каждого региона (NA, EU, JP): \n",
    "* Самые популярные платформы (топ-5). Опишите различия в долях продаж. \n",
    "* Самые популярные жанры (топ-5). Поясните разницу. \n",
    "* Влияет ли рейтинг ESRB на продажи в отдельном регионе?"
   ]
  },
  {
   "cell_type": "markdown",
   "metadata": {},
   "source": [
    "Самые популярные платформы (топ-5). Опишите различия в долях продаж."
   ]
  },
  {
   "cell_type": "code",
   "execution_count": 40,
   "metadata": {},
   "outputs": [],
   "source": [
    "# давайте создадим функцию для прорисовки графиков\n",
    "def top_platforms_regions(groupby, region_sales, ax):\n",
    "    pivot = current_period.groupby(groupby).agg({region_sales: 'sum'}).sort_values(by=region_sales, ascending=False)[:5]\n",
    "    title_dict = {'na_sales': 'Продажи в Северной Америке', 'eu_sales': 'Продажи в Европе', 'jp_sales': 'Продажи в Японии'}\n",
    "    color_dict = {'na_sales': None, 'eu_sales': 'gray', 'jp_sales': 'forestgreen'}\n",
    "    plot = pivot.plot(kind='bar', ec='black', title=title_dict[region_sales], ax=axes[ax], \n",
    "                   fontsize=18, color=color_dict[region_sales], rot=20)\n",
    "    plot.legend(prop={'size':17}).set_visible(False)\n",
    "    plot.set_xlabel('')\n",
    "    plot.title.set_size(20)"
   ]
  },
  {
   "cell_type": "code",
   "execution_count": 41,
   "metadata": {},
   "outputs": [
    {
     "data": {
      "image/png": "[encoded data removed]",
      "text/plain": [
       "<Figure size 1800x432 with 3 Axes>"
      ]
     },
     "metadata": {
      "needs_background": "light"
     },
     "output_type": "display_data"
    }
   ],
   "source": [
    "# поставим графики рядом для удобства анализа\n",
    "fig, axes = plt.subplots(1, 3, figsize=(25,6))\n",
    "\n",
    "top_platforms_regions('platform', 'na_sales', 0)\n",
    "top_platforms_regions('platform', 'eu_sales', 1)\n",
    "top_platforms_regions('platform', 'jp_sales', 2)"
   ]
  },
  {
   "cell_type": "markdown",
   "metadata": {},
   "source": [
    "Посмотрев на графики можно увидеть, что ни единого лидера ни единого оутсайдера по всем регионам нет. В каждом регионе свои фавориты. Лидеры Северной Америки находятся в оутсайдерах у пользователей Японии. И наоборот, соответственно. Выбранные нами приоритетные платформы PS3 b X360 в Японии вообще не видны. Это надо учитывать при планировании 2017 года."
   ]
  },
  {
   "cell_type": "markdown",
   "metadata": {},
   "source": [
    "Самые популярные жанры (топ-5). Поясните разницу."
   ]
  },
  {
   "cell_type": "code",
   "execution_count": 42,
   "metadata": {},
   "outputs": [
    {
     "data": {
      "image/png": "[encoded data removed]",
      "text/plain": [
       "<Figure size 1800x432 with 3 Axes>"
      ]
     },
     "metadata": {
      "needs_background": "light"
     },
     "output_type": "display_data"
    }
   ],
   "source": [
    "# посмотрим на жанры с помощью нашей функции\n",
    "fig, axes = plt.subplots(1, 3, figsize=(25,6))\n",
    "\n",
    "top_platforms_regions('genre', 'na_sales', 0)\n",
    "top_platforms_regions('genre', 'eu_sales', 1)\n",
    "top_platforms_regions('genre', 'jp_sales', 2)"
   ]
  },
  {
   "cell_type": "markdown",
   "metadata": {},
   "source": [
    "Северная Америка и Европа имеют близкие предпрочтения по жанрам. Это Экшн, Спорт, Стрелялки, Гонки. В Японии Экшн и Спорт тоже в лидерах, но на первом месте Ролевые игры. Скорее всего это из-за особенностей местного менталитета. Любят японцы такие вещи. На графиках также хорошо видно, что рынок Северной Америки по объему сопоставим с рынками Европы и Японии вместе взятыми. Это приритетный рынок."
   ]
  },
  {
   "cell_type": "markdown",
   "metadata": {},
   "source": [
    "Влияет ли рейтинг ESRB на продажи в отдельном регионе?"
   ]
  },
  {
   "cell_type": "code",
   "execution_count": 43,
   "metadata": {},
   "outputs": [
    {
     "data": {
      "image/png": "[encoded data removed]",
      "text/plain": [
       "<Figure size 1800x432 with 3 Axes>"
      ]
     },
     "metadata": {
      "needs_background": "light"
     },
     "output_type": "display_data"
    }
   ],
   "source": [
    "fig, axes = plt.subplots(1, 3, figsize=(25,6))\n",
    "\n",
    "top_platforms_regions('rating', 'na_sales', 0)\n",
    "top_platforms_regions('rating', 'eu_sales', 1)\n",
    "top_platforms_regions('rating', 'jp_sales', 2)"
   ]
  },
  {
   "cell_type": "markdown",
   "metadata": {},
   "source": [
    "Критерии рейтинга игр ESRB:\n",
    "* «EC» («Early childhood») — «Для детей младшего возраста»: Игра подходит для детей от 3 лет и не содержит материалов, которые родители могли бы счесть неподходящими. Продукты, получившие данный рейтинг, изначально разрабатываются для детей и обычно представляют собой развивающие игры. Некоторые усложнённые развивающие игры могут иметь рейтинг «Everyone».\n",
    "* «E» («Everyone») — «Для всех»: Содержание вполне подходит для возрастной категории от 6 лет. Такие игры могут понравиться и взрослым. Игры с этим рейтингом могут содержать минимальное насилие, в основном «мультяшного» характера. Первой игрой, которая получила данный рейтинг, стала The Simpsons Cartoon Studio, выпущенная в 1996 году. Первоначально \"K-A\" (\"Kids to Adults\")\n",
    "* «E10+» («Everyone 10 and older») — «Для всех от 10 лет и старше»: Проекты с данным рейтингом могут содержать или немного больше мультипликационного или мягкого насилия, или несколько откровенные сцены, или минимальное количество крови. Рейтинг был принят ESRB 2 марта 2005 года. Первой игрой, которая получила данный рейтинг, стала Donkey Kong: Jungle Beat.\n",
    "* «T» («Teen») — «Подросткам»: Игра подходит для лиц от 13 лет. Проекты из данной категории могут содержать насилие, непристойные сцены, грубый юмор, в меру откровенное сексуальное содержимое, кровь или нечастое использование ненормативной лексики.\n",
    "* «M» («Mature») — «Для взрослых»: Материалы игры не подходят для подростков младше 17 лет. Проекты с данным рейтингом могут содержать достаточно жестокое насилие, большое количество крови с расчленением, непристойные сексуальные сцены или грубую ненормативную лексику, нежелательную для младшей аудитории.\n",
    "* «AO» («Adults Only 18+») — «Только для взрослых»: Содержание игры только для взрослых старше 18 лет. Продукты из данной категории могут содержать длительные сцены жестокого насилия и/или очень откровенное сексуальное содержимое, а также сцены с обнажением. Большинство таких игр предназначено для персональных компьютеров под управлением Microsoft Windows и Apple Macintosh. Рейтинг «Только для взрослых» является предметом многочисленных дискуссий, так как накладывает серьёзные ограничения на продажи игры.\n",
    "* «RP» («Rating Pending») — «Рейтинг ожидается»: Продукт был отправлен в ESRB и ожидает присвоения рейтинга. Данный логотип используется только на рекламных презентациях и в демо-версиях игр до официальной даты выпуска в продажу."
   ]
  },
  {
   "cell_type": "markdown",
   "metadata": {},
   "source": [
    "* Любимый рейтинг Северной Америки и Европы - «M» («Mature»). Люди любят жесткое насилие, большое количество крови с расчленением, непристойные сексуальные сцены или грубую ненормативную лексику. Печально, но надо это учитывать, если мы хотим зарабатывать на продаже игр.\n",
    "* На втором месте во всех регионах «E» («Everyone») — «Для всех». Это ожидаемо.\n",
    "* во всех регионах в Топ-3 попал рейтинг под названием \"нет рейтинга, он ожидается\". Для магазина это хорошо. Для общей нравственности плохо. Нет рейтинга, значит игра, не предназначенная для детей, может попасть им в руки. Магазину делать ничего не надо. Людям можно и нужно подумать об ужесточении контроляч за рейтингом."
   ]
  },
  {
   "cell_type": "markdown",
   "metadata": {},
   "source": [
    "### Портрет пользователя по регионам:\n",
    "* Северная Америка. Пользователи отдают предпочтение продукту от Майкрософт X360. На втором месте PS. Любимые жанры Экшн, Спорт, Стрелялки. Приоритет отдают играм для взрослых.\n",
    "* Европа. PS любимая платформа. Любимые жанры Экшн, Спорт, Стрелялки. Приоритет отдают играм для взрослых.\n",
    "* Япония. Ожидаемо японцы любят свою Nintendo и отдают предпочтение DS. Любимый жар Ролевые игры и только потом Экшн и Спорт. Предпочтения по рейтингу - игры для всех."
   ]
  },
  {
   "cell_type": "markdown",
   "metadata": {},
   "source": [
    "## Проверим гипотезы "
   ]
  },
  {
   "cell_type": "markdown",
   "metadata": {},
   "source": [
    "* Средние пользовательские рейтинги платформ Xbox One и PC одинаковые; \n",
    "* Средние пользовательские рейтинги жанров Action (англ. «действие», экшен-игры) и Sports (англ. «спортивные соревнования») разные. Зададим самостоятельно пороговое значение alpha. \n",
    "* Поясним: Как сформулировали нулевую и альтернативную гипотезы; Какой критерий применили для проверки гипотез и почему."
   ]
  },
  {
   "cell_type": "markdown",
   "metadata": {},
   "source": [
    "Средние пользовательские рейтинги платформ Xbox One и PC одинаковые;\n",
    "* Н0 (нулевая гипотеза) - средние пользовательские рейтинги платформ Xbox One и PC одинаковые\n",
    "* Н1 (альтернативная гипотеза) - средние пользовательские рейтинги платформ Xbox One и PC отличаются"
   ]
  },
  {
   "cell_type": "code",
   "execution_count": 44,
   "metadata": {},
   "outputs": [
    {
     "name": "stdout",
     "output_type": "stream",
     "text": [
      "t = 0.5930304646661256\n",
      "p-value = 5.5350805006e-01\n",
      "\n",
      "Пороговое значение alpha = 0.05\n"
     ]
    }
   ],
   "source": [
    "alpha = 0.05\n",
    "xbox_one_ratings = current_period[(current_period['platform'] == 'XOne') & (current_period['user_score'] > 0)]['user_score']\n",
    "pc_ratings = current_period[(current_period['platform'] == 'PC') & (current_period['user_score'] > 0)]['user_score']\n",
    "stat, p = ttest_ind(xbox_one_ratings, pc_ratings)\n",
    "\n",
    "print('t = {}\\np-value = {:.10e}'.format(stat, p))\n",
    "print('\\nПороговое значение alpha = 0.05')"
   ]
  },
  {
   "cell_type": "markdown",
   "metadata": {},
   "source": [
    "Отклоняем нулевую гипотезу.\n",
    "Принимаем: Н1 (альтернативная гипотеза) - средние пользовательские рейтинги платформ Xbox One и PC отличаются"
   ]
  },
  {
   "cell_type": "code",
   "execution_count": 45,
   "metadata": {},
   "outputs": [
    {
     "name": "stdout",
     "output_type": "stream",
     "text": [
      "Среднее Xbox One: 6.52\n",
      "Среднее PС: 6.43\n"
     ]
    }
   ],
   "source": [
    "print('Среднее Xbox One: {:.2f}'.format(xbox_one_ratings.mean()))\n",
    "print('Среднее PС: {:.2f}'.format(pc_ratings.mean()))"
   ]
  },
  {
   "cell_type": "markdown",
   "metadata": {},
   "source": [
    "Средние пользовательские рейтинги жанров Action (англ. «действие», экшен-игры) и Sports (англ. «спортивные соревнования») разные.\n",
    "* Н0 (нулевая гипотеза) - средние пользовательские рейтинги жанров Action и Sports одинаковые.\n",
    "* Н1 (альтернативная гипотеза) - средние пользовательские рейтинги жанров Action и Sports отличаются."
   ]
  },
  {
   "cell_type": "code",
   "execution_count": 46,
   "metadata": {},
   "outputs": [
    {
     "name": "stdout",
     "output_type": "stream",
     "text": [
      "t = 3.2960799450660034\n",
      "p-value = 0.0010\n",
      "\n",
      "Пороговое значение alpha = 0.05\n"
     ]
    }
   ],
   "source": [
    "alpha = 0.05\n",
    "action_ratings = current_period[(current_period['genre'] == 'Action') & (current_period['user_score'] > 0)]['user_score']\n",
    "sports_ratings = current_period[(current_period['genre'] == 'Sports') & (current_period['user_score'] > 0)]['user_score']\n",
    "stat, p = ttest_ind(action_ratings, pc_ratings)\n",
    "\n",
    "print('t = {}\\np-value = {:.4f}'.format(stat, p))\n",
    "print('\\nПороговое значение alpha = 0.05')"
   ]
  },
  {
   "cell_type": "markdown",
   "metadata": {},
   "source": [
    "Отклоняем нулевую гипотезу. Принимаем: Н1 (альтернативная гипотеза) - средние пользовательские рейтинги жанров Action и Sports отличаются."
   ]
  },
  {
   "cell_type": "code",
   "execution_count": 47,
   "metadata": {},
   "outputs": [
    {
     "name": "stdout",
     "output_type": "stream",
     "text": [
      "Среднее action_ratings: 6.83\n",
      "Среднее sports_ratings: 5.46\n"
     ]
    }
   ],
   "source": [
    "print('Среднее action_ratings: {:.2f}'.format(action_ratings.mean()))\n",
    "print('Среднее sports_ratings: {:.2f}'.format(sports_ratings.mean()))"
   ]
  },
  {
   "cell_type": "markdown",
   "metadata": {},
   "source": [
    "## Общий вывод"
   ]
  },
  {
   "cell_type": "markdown",
   "metadata": {},
   "source": [
    "Для формулировки общего вывода исследования давайте вернемся к постановке задачи: \"Нужно выявить определяющие успешность игры закономерности. Это позволит сделать ставку на потенциально популярный продукт и спланировать рекламные кампании.\"\n",
    "1. Самое важное на что надо обратить внимание интернет-магазину - это то, что рынок компьютерных игр не растет. Он находится в стадии стабилизации. Это значит, что пользователи уходят куда-то еще. Необходимо выяснить, а куда они ушли? Что это за новые рынки? Надо провести дополнительное исследование рынка и направить усилия и деньги в этом направлении.\n",
    "2. Потенциально популярные платформы. Основные платформы на рынке - это PS, X360 и DS для Японии. Рекламный бюджет надо направить в эти направления.\n",
    "3. Потенциально популярные жанры. Мы видим 4 явных лидера Action, Shooter, Role-Playing, Sports. Их и развиваем.\n",
    "3. Потенциально популярные рейтинги. Основные рейтинги игр: «M» («Mature») - игры для взрослых, «E» («Everyone») — «Для всех», «T» («Teen») - «Подросткам». Сосредоточим рекламный бюджет на них.\n",
    "4. Общая картина портрета пользователя близка. Есть своя специфика в Японии, надо учесть, что любимая платформа DS, а любимый жанр Role-Playing. Экш, Спорт и стрелялки любят все. В Северной Америке и Европе особенно любят игры для взрослых."
   ]
  },
  {
   "cell_type": "markdown",
   "metadata": {},
   "source": [
    "### Главная рекомендация интернет-магазину. Подключить новые рынки. Рынок мобильных игр, игр в интернете и рынок игр в соцсетях. Если этого не сделать, скоро магазин можно будет закрывать или влачить жалкое существование :)"
   ]
  },
  {
   "cell_type": "markdown",
   "metadata": {},
   "source": [
    "\n",
    "\n"
   ]
  }
 ],
 "metadata": {
  "ExecuteTimeLog": [
   {
    "duration": 1391,
    "start_time": "2021-08-30T09:55:27.236Z"
   },
   {
    "duration": 54,
    "start_time": "2021-08-30T09:55:28.630Z"
   },
   {
    "duration": 49,
    "start_time": "2021-08-30T09:56:37.669Z"
   },
   {
    "duration": 36,
    "start_time": "2021-08-30T09:56:38.776Z"
   },
   {
    "duration": 43,
    "start_time": "2021-08-30T10:00:24.706Z"
   },
   {
    "duration": 28,
    "start_time": "2021-08-30T10:35:57.884Z"
   },
   {
    "duration": 40,
    "start_time": "2021-08-30T10:36:18.177Z"
   },
   {
    "duration": 24,
    "start_time": "2021-08-30T10:37:42.277Z"
   },
   {
    "duration": 7,
    "start_time": "2021-08-30T10:38:48.357Z"
   },
   {
    "duration": 19,
    "start_time": "2021-08-30T10:39:04.209Z"
   },
   {
    "duration": 28,
    "start_time": "2021-08-30T10:39:50.016Z"
   },
   {
    "duration": 41,
    "start_time": "2021-08-30T10:39:57.308Z"
   },
   {
    "duration": 24,
    "start_time": "2021-08-30T10:40:01.057Z"
   },
   {
    "duration": 8,
    "start_time": "2021-08-30T10:40:15.997Z"
   },
   {
    "duration": 19,
    "start_time": "2021-08-30T10:40:19.377Z"
   },
   {
    "duration": 80,
    "start_time": "2021-08-30T10:40:44.817Z"
   },
   {
    "duration": 1207,
    "start_time": "2021-08-30T10:43:34.717Z"
   },
   {
    "duration": 16,
    "start_time": "2021-08-30T10:47:11.257Z"
   },
   {
    "duration": 89,
    "start_time": "2021-08-30T10:48:53.020Z"
   },
   {
    "duration": 13,
    "start_time": "2021-08-30T10:49:12.577Z"
   },
   {
    "duration": 23,
    "start_time": "2021-08-30T10:52:12.837Z"
   },
   {
    "duration": 4,
    "start_time": "2021-08-30T10:52:44.546Z"
   },
   {
    "duration": 1280,
    "start_time": "2021-08-30T10:52:54.535Z"
   },
   {
    "duration": 52,
    "start_time": "2021-08-30T10:52:55.817Z"
   },
   {
    "duration": 36,
    "start_time": "2021-08-30T10:52:55.873Z"
   },
   {
    "duration": 68,
    "start_time": "2021-08-30T10:52:55.912Z"
   },
   {
    "duration": 23,
    "start_time": "2021-08-30T10:52:55.982Z"
   },
   {
    "duration": 18,
    "start_time": "2021-08-30T10:52:56.007Z"
   },
   {
    "duration": 29,
    "start_time": "2021-08-30T10:52:56.027Z"
   },
   {
    "duration": 36,
    "start_time": "2021-08-30T10:52:56.058Z"
   },
   {
    "duration": 18,
    "start_time": "2021-08-30T10:52:56.098Z"
   },
   {
    "duration": 35,
    "start_time": "2021-08-30T10:52:56.119Z"
   },
   {
    "duration": 31,
    "start_time": "2021-08-30T10:53:44.234Z"
   },
   {
    "duration": 6,
    "start_time": "2021-08-30T10:55:17.130Z"
   },
   {
    "duration": 29,
    "start_time": "2021-08-30T10:58:10.462Z"
   },
   {
    "duration": 6,
    "start_time": "2021-08-30T10:58:32.355Z"
   },
   {
    "duration": 4,
    "start_time": "2021-08-30T10:58:44.056Z"
   },
   {
    "duration": 50,
    "start_time": "2021-08-30T10:58:45.655Z"
   },
   {
    "duration": 31,
    "start_time": "2021-08-30T10:58:48.315Z"
   },
   {
    "duration": 42,
    "start_time": "2021-08-30T10:58:56.640Z"
   },
   {
    "duration": 29,
    "start_time": "2021-08-30T10:59:29.615Z"
   },
   {
    "duration": 14,
    "start_time": "2021-08-30T10:59:34.065Z"
   },
   {
    "duration": 29,
    "start_time": "2021-08-30T10:59:40.663Z"
   },
   {
    "duration": 6579,
    "start_time": "2021-08-30T11:05:18.095Z"
   },
   {
    "duration": 22,
    "start_time": "2021-08-30T11:06:15.723Z"
   },
   {
    "duration": 67,
    "start_time": "2021-08-30T11:07:57.223Z"
   },
   {
    "duration": 4215,
    "start_time": "2021-08-30T11:09:02.855Z"
   },
   {
    "duration": 1343,
    "start_time": "2021-08-30T11:09:33.389Z"
   },
   {
    "duration": 56,
    "start_time": "2021-08-30T11:09:34.735Z"
   },
   {
    "duration": 37,
    "start_time": "2021-08-30T11:09:34.795Z"
   },
   {
    "duration": 66,
    "start_time": "2021-08-30T11:09:34.834Z"
   },
   {
    "duration": 23,
    "start_time": "2021-08-30T11:09:34.902Z"
   },
   {
    "duration": 18,
    "start_time": "2021-08-30T11:09:34.927Z"
   },
   {
    "duration": 40,
    "start_time": "2021-08-30T11:09:34.947Z"
   },
   {
    "duration": 40,
    "start_time": "2021-08-30T11:09:34.989Z"
   },
   {
    "duration": 37,
    "start_time": "2021-08-30T11:09:35.032Z"
   },
   {
    "duration": 3654,
    "start_time": "2021-08-30T11:09:35.071Z"
   },
   {
    "duration": -3239,
    "start_time": "2021-08-30T11:09:41.966Z"
   },
   {
    "duration": -3242,
    "start_time": "2021-08-30T11:09:41.971Z"
   },
   {
    "duration": 1244,
    "start_time": "2021-08-30T11:21:22.225Z"
   },
   {
    "duration": 1365,
    "start_time": "2021-08-30T11:22:01.953Z"
   },
   {
    "duration": 54,
    "start_time": "2021-08-30T11:22:03.321Z"
   },
   {
    "duration": 36,
    "start_time": "2021-08-30T11:22:03.379Z"
   },
   {
    "duration": 70,
    "start_time": "2021-08-30T11:22:03.417Z"
   },
   {
    "duration": 23,
    "start_time": "2021-08-30T11:22:03.490Z"
   },
   {
    "duration": 12,
    "start_time": "2021-08-30T11:22:03.515Z"
   },
   {
    "duration": 42,
    "start_time": "2021-08-30T11:22:03.529Z"
   },
   {
    "duration": 20,
    "start_time": "2021-08-30T11:22:03.574Z"
   },
   {
    "duration": 20,
    "start_time": "2021-08-30T11:22:03.597Z"
   },
   {
    "duration": 494,
    "start_time": "2021-08-30T11:22:03.619Z"
   },
   {
    "duration": -3192,
    "start_time": "2021-08-30T11:22:07.307Z"
   },
   {
    "duration": -3205,
    "start_time": "2021-08-30T11:22:07.322Z"
   },
   {
    "duration": 344,
    "start_time": "2021-08-30T11:23:28.101Z"
   },
   {
    "duration": 12,
    "start_time": "2021-08-30T11:25:49.201Z"
   },
   {
    "duration": 23,
    "start_time": "2021-08-30T11:36:22.501Z"
   },
   {
    "duration": 288,
    "start_time": "2021-08-30T11:47:41.381Z"
   },
   {
    "duration": 24,
    "start_time": "2021-08-30T11:50:01.982Z"
   },
   {
    "duration": 255,
    "start_time": "2021-08-30T11:51:53.281Z"
   },
   {
    "duration": 3,
    "start_time": "2021-08-30T11:52:11.849Z"
   },
   {
    "duration": 4,
    "start_time": "2021-08-30T11:52:13.002Z"
   },
   {
    "duration": 13,
    "start_time": "2021-08-30T11:52:31.042Z"
   },
   {
    "duration": 263,
    "start_time": "2021-08-30T11:53:40.810Z"
   },
   {
    "duration": 6,
    "start_time": "2021-08-30T11:53:59.721Z"
   },
   {
    "duration": 5,
    "start_time": "2021-08-30T11:54:44.668Z"
   },
   {
    "duration": 15,
    "start_time": "2021-08-30T11:54:50.372Z"
   },
   {
    "duration": 15,
    "start_time": "2021-08-30T11:55:59.968Z"
   },
   {
    "duration": 12,
    "start_time": "2021-08-30T11:57:02.352Z"
   },
   {
    "duration": 13,
    "start_time": "2021-08-30T11:58:14.580Z"
   },
   {
    "duration": 4,
    "start_time": "2021-08-30T11:58:22.521Z"
   },
   {
    "duration": 15,
    "start_time": "2021-08-30T11:58:41.501Z"
   },
   {
    "duration": 13,
    "start_time": "2021-08-30T12:01:24.749Z"
   },
   {
    "duration": 30,
    "start_time": "2021-08-30T12:01:34.145Z"
   },
   {
    "duration": 1342,
    "start_time": "2021-08-30T12:01:50.981Z"
   },
   {
    "duration": 51,
    "start_time": "2021-08-30T12:01:52.326Z"
   },
   {
    "duration": 36,
    "start_time": "2021-08-30T12:01:52.380Z"
   },
   {
    "duration": 73,
    "start_time": "2021-08-30T12:01:52.418Z"
   },
   {
    "duration": 24,
    "start_time": "2021-08-30T12:01:52.494Z"
   },
   {
    "duration": 46,
    "start_time": "2021-08-30T12:01:52.520Z"
   },
   {
    "duration": 27,
    "start_time": "2021-08-30T12:01:52.571Z"
   },
   {
    "duration": 38,
    "start_time": "2021-08-30T12:01:52.601Z"
   },
   {
    "duration": 5,
    "start_time": "2021-08-30T12:01:52.663Z"
   },
   {
    "duration": 38,
    "start_time": "2021-08-30T12:01:52.671Z"
   },
   {
    "duration": 16,
    "start_time": "2021-08-30T12:01:52.711Z"
   },
   {
    "duration": 18,
    "start_time": "2021-08-30T12:01:52.729Z"
   },
   {
    "duration": 21,
    "start_time": "2021-08-30T12:01:52.750Z"
   },
   {
    "duration": 16,
    "start_time": "2021-08-30T12:01:52.773Z"
   },
   {
    "duration": 15,
    "start_time": "2021-08-30T12:01:52.791Z"
   },
   {
    "duration": 39,
    "start_time": "2021-08-30T12:01:52.808Z"
   },
   {
    "duration": 418,
    "start_time": "2021-08-30T12:04:02.962Z"
   },
   {
    "duration": 3,
    "start_time": "2021-08-30T12:06:58.510Z"
   },
   {
    "duration": 3,
    "start_time": "2021-08-30T12:07:13.578Z"
   },
   {
    "duration": 11,
    "start_time": "2021-08-30T12:07:34.602Z"
   },
   {
    "duration": 11,
    "start_time": "2021-08-30T12:11:18.142Z"
   },
   {
    "duration": 18,
    "start_time": "2021-08-30T12:11:39.234Z"
   },
   {
    "duration": 25,
    "start_time": "2021-08-30T12:12:05.606Z"
   },
   {
    "duration": 22,
    "start_time": "2021-08-30T12:35:35.407Z"
   },
   {
    "duration": 764,
    "start_time": "2021-08-30T12:44:45.666Z"
   },
   {
    "duration": 794,
    "start_time": "2021-08-30T12:46:13.587Z"
   },
   {
    "duration": 898,
    "start_time": "2021-08-30T12:47:18.917Z"
   },
   {
    "duration": 3,
    "start_time": "2021-08-30T12:57:11.418Z"
   },
   {
    "duration": 780,
    "start_time": "2021-08-30T13:08:17.458Z"
   },
   {
    "duration": 6,
    "start_time": "2021-08-30T13:11:08.185Z"
   },
   {
    "duration": 645,
    "start_time": "2021-08-30T13:11:28.197Z"
   },
   {
    "duration": 643,
    "start_time": "2021-08-30T13:11:50.437Z"
   },
   {
    "duration": 7,
    "start_time": "2021-08-30T13:16:35.363Z"
   },
   {
    "duration": 788,
    "start_time": "2021-08-30T13:16:41.216Z"
   },
   {
    "duration": 307,
    "start_time": "2021-08-30T13:38:24.970Z"
   },
   {
    "duration": 382,
    "start_time": "2021-08-30T13:38:40.699Z"
   },
   {
    "duration": 517,
    "start_time": "2021-08-30T13:40:25.086Z"
   },
   {
    "duration": 265,
    "start_time": "2021-08-30T13:47:09.678Z"
   },
   {
    "duration": 275,
    "start_time": "2021-08-30T13:47:56.500Z"
   },
   {
    "duration": 438,
    "start_time": "2021-08-30T13:48:32.086Z"
   },
   {
    "duration": 274,
    "start_time": "2021-08-30T13:50:35.997Z"
   },
   {
    "duration": 169,
    "start_time": "2021-08-30T13:53:24.858Z"
   },
   {
    "duration": 318,
    "start_time": "2021-08-30T13:53:30.658Z"
   },
   {
    "duration": 5,
    "start_time": "2021-08-30T13:53:41.817Z"
   },
   {
    "duration": 957,
    "start_time": "2021-08-30T13:55:43.703Z"
   },
   {
    "duration": 284,
    "start_time": "2021-08-30T13:58:31.786Z"
   },
   {
    "duration": 794,
    "start_time": "2021-08-30T14:00:09.987Z"
   },
   {
    "duration": 301,
    "start_time": "2021-08-30T14:00:29.267Z"
   },
   {
    "duration": 524,
    "start_time": "2021-08-30T14:01:01.866Z"
   },
   {
    "duration": 744,
    "start_time": "2021-08-30T14:48:27.879Z"
   },
   {
    "duration": 700,
    "start_time": "2021-08-30T14:49:34.837Z"
   },
   {
    "duration": 270,
    "start_time": "2021-08-30T14:55:47.458Z"
   },
   {
    "duration": 302,
    "start_time": "2021-08-30T14:55:57.898Z"
   },
   {
    "duration": 324,
    "start_time": "2021-08-30T14:56:30.778Z"
   },
   {
    "duration": 316,
    "start_time": "2021-08-30T14:57:27.079Z"
   },
   {
    "duration": 325,
    "start_time": "2021-08-30T14:57:59.559Z"
   },
   {
    "duration": 317,
    "start_time": "2021-08-30T14:58:20.797Z"
   },
   {
    "duration": 337,
    "start_time": "2021-08-30T14:59:00.278Z"
   },
   {
    "duration": 293,
    "start_time": "2021-08-30T15:00:00.738Z"
   },
   {
    "duration": 1062,
    "start_time": "2021-08-30T15:00:25.859Z"
   },
   {
    "duration": 3,
    "start_time": "2021-08-30T15:01:22.738Z"
   },
   {
    "duration": 854,
    "start_time": "2021-08-30T16:32:16.705Z"
   },
   {
    "duration": 655,
    "start_time": "2021-08-30T16:32:28.398Z"
   },
   {
    "duration": 344,
    "start_time": "2021-08-30T16:35:32.097Z"
   },
   {
    "duration": 4,
    "start_time": "2021-08-30T16:35:37.778Z"
   },
   {
    "duration": 278,
    "start_time": "2021-08-30T16:35:39.266Z"
   },
   {
    "duration": 964,
    "start_time": "2021-08-30T16:46:17.858Z"
   },
   {
    "duration": 352,
    "start_time": "2021-08-30T16:47:10.098Z"
   },
   {
    "duration": 837,
    "start_time": "2021-08-30T16:50:28.466Z"
   },
   {
    "duration": 15,
    "start_time": "2021-08-30T16:54:43.674Z"
   },
   {
    "duration": 282,
    "start_time": "2021-08-30T16:55:05.132Z"
   },
   {
    "duration": 961,
    "start_time": "2021-08-30T16:55:16.578Z"
   },
   {
    "duration": 16,
    "start_time": "2021-08-30T16:56:18.206Z"
   },
   {
    "duration": 1060,
    "start_time": "2021-08-30T16:56:19.958Z"
   },
   {
    "duration": 14,
    "start_time": "2021-08-30T16:56:50.746Z"
   },
   {
    "duration": 1721,
    "start_time": "2021-08-30T16:56:52.618Z"
   },
   {
    "duration": 7355,
    "start_time": "2021-08-30T16:57:27.858Z"
   },
   {
    "duration": 24,
    "start_time": "2021-08-30T16:58:03.845Z"
   },
   {
    "duration": 15,
    "start_time": "2021-08-30T16:58:05.126Z"
   },
   {
    "duration": 1905,
    "start_time": "2021-08-30T16:58:07.138Z"
   },
   {
    "duration": 3,
    "start_time": "2021-08-30T16:58:22.738Z"
   },
   {
    "duration": 15,
    "start_time": "2021-08-30T16:58:23.417Z"
   },
   {
    "duration": 1149,
    "start_time": "2021-08-30T16:58:25.457Z"
   },
   {
    "duration": 1465,
    "start_time": "2021-08-30T16:59:19.256Z"
   },
   {
    "duration": 49,
    "start_time": "2021-08-30T16:59:20.724Z"
   },
   {
    "duration": 35,
    "start_time": "2021-08-30T16:59:20.776Z"
   },
   {
    "duration": 64,
    "start_time": "2021-08-30T16:59:20.814Z"
   },
   {
    "duration": 25,
    "start_time": "2021-08-30T16:59:20.881Z"
   },
   {
    "duration": 20,
    "start_time": "2021-08-30T16:59:20.908Z"
   },
   {
    "duration": 25,
    "start_time": "2021-08-30T16:59:20.955Z"
   },
   {
    "duration": 36,
    "start_time": "2021-08-30T16:59:20.983Z"
   },
   {
    "duration": 31,
    "start_time": "2021-08-30T16:59:21.024Z"
   },
   {
    "duration": 9,
    "start_time": "2021-08-30T16:59:21.058Z"
   },
   {
    "duration": 12,
    "start_time": "2021-08-30T16:59:21.070Z"
   },
   {
    "duration": 11,
    "start_time": "2021-08-30T16:59:21.084Z"
   },
   {
    "duration": 14,
    "start_time": "2021-08-30T16:59:21.098Z"
   },
   {
    "duration": 42,
    "start_time": "2021-08-30T16:59:21.115Z"
   },
   {
    "duration": 15,
    "start_time": "2021-08-30T16:59:21.159Z"
   },
   {
    "duration": 3,
    "start_time": "2021-08-30T16:59:21.177Z"
   },
   {
    "duration": 17,
    "start_time": "2021-08-30T16:59:21.183Z"
   },
   {
    "duration": 11,
    "start_time": "2021-08-30T16:59:21.203Z"
   },
   {
    "duration": 57,
    "start_time": "2021-08-30T16:59:21.217Z"
   },
   {
    "duration": 23,
    "start_time": "2021-08-30T16:59:21.277Z"
   },
   {
    "duration": 897,
    "start_time": "2021-08-30T16:59:21.302Z"
   },
   {
    "duration": 591,
    "start_time": "2021-08-30T16:59:22.202Z"
   },
   {
    "duration": 4053,
    "start_time": "2021-08-30T16:59:22.796Z"
   },
   {
    "duration": 10,
    "start_time": "2021-08-30T16:59:26.852Z"
   },
   {
    "duration": 894,
    "start_time": "2021-08-30T16:59:26.865Z"
   },
   {
    "duration": 2115,
    "start_time": "2021-08-30T16:59:27.762Z"
   },
   {
    "duration": 3,
    "start_time": "2021-08-30T16:59:29.885Z"
   },
   {
    "duration": 368,
    "start_time": "2021-08-30T16:59:29.892Z"
   },
   {
    "duration": 18,
    "start_time": "2021-08-30T17:00:23.541Z"
   },
   {
    "duration": 1385,
    "start_time": "2021-08-30T17:00:25.332Z"
   },
   {
    "duration": 234,
    "start_time": "2021-08-30T17:04:10.332Z"
   },
   {
    "duration": 1328,
    "start_time": "2021-08-30T17:04:26.003Z"
   },
   {
    "duration": 55,
    "start_time": "2021-08-30T17:04:27.334Z"
   },
   {
    "duration": 39,
    "start_time": "2021-08-30T17:04:27.392Z"
   },
   {
    "duration": 67,
    "start_time": "2021-08-30T17:04:27.433Z"
   },
   {
    "duration": 23,
    "start_time": "2021-08-30T17:04:27.503Z"
   },
   {
    "duration": 50,
    "start_time": "2021-08-30T17:04:27.528Z"
   },
   {
    "duration": 12,
    "start_time": "2021-08-30T17:04:27.580Z"
   },
   {
    "duration": 30,
    "start_time": "2021-08-30T17:04:27.596Z"
   },
   {
    "duration": 11,
    "start_time": "2021-08-30T17:04:27.660Z"
   },
   {
    "duration": 27,
    "start_time": "2021-08-30T17:04:27.673Z"
   },
   {
    "duration": 13,
    "start_time": "2021-08-30T17:04:27.703Z"
   },
   {
    "duration": 18,
    "start_time": "2021-08-30T17:04:27.719Z"
   },
   {
    "duration": 35,
    "start_time": "2021-08-30T17:04:27.739Z"
   },
   {
    "duration": 14,
    "start_time": "2021-08-30T17:04:27.777Z"
   },
   {
    "duration": 17,
    "start_time": "2021-08-30T17:04:27.794Z"
   },
   {
    "duration": 4,
    "start_time": "2021-08-30T17:04:27.814Z"
   },
   {
    "duration": 49,
    "start_time": "2021-08-30T17:04:27.821Z"
   },
   {
    "duration": 11,
    "start_time": "2021-08-30T17:04:27.873Z"
   },
   {
    "duration": 15,
    "start_time": "2021-08-30T17:04:27.887Z"
   },
   {
    "duration": 52,
    "start_time": "2021-08-30T17:04:27.904Z"
   },
   {
    "duration": 835,
    "start_time": "2021-08-30T17:04:27.960Z"
   },
   {
    "duration": 606,
    "start_time": "2021-08-30T17:04:28.797Z"
   },
   {
    "duration": 3,
    "start_time": "2021-08-30T17:04:29.406Z"
   },
   {
    "duration": 9,
    "start_time": "2021-08-30T17:04:29.411Z"
   },
   {
    "duration": 286,
    "start_time": "2021-08-30T17:04:29.422Z"
   },
   {
    "duration": 275,
    "start_time": "2021-08-30T17:04:55.512Z"
   },
   {
    "duration": 15,
    "start_time": "2021-08-30T17:05:13.992Z"
   },
   {
    "duration": 9,
    "start_time": "2021-08-30T17:05:40.515Z"
   },
   {
    "duration": 15,
    "start_time": "2021-08-30T17:06:02.952Z"
   },
   {
    "duration": 14,
    "start_time": "2021-08-30T17:06:12.171Z"
   },
   {
    "duration": 97,
    "start_time": "2021-08-30T17:09:14.007Z"
   },
   {
    "duration": 1208,
    "start_time": "2021-08-31T07:37:09.962Z"
   },
   {
    "duration": 42,
    "start_time": "2021-08-31T07:37:11.173Z"
   },
   {
    "duration": 27,
    "start_time": "2021-08-31T07:37:11.218Z"
   },
   {
    "duration": 44,
    "start_time": "2021-08-31T07:37:11.247Z"
   },
   {
    "duration": 17,
    "start_time": "2021-08-31T07:37:11.293Z"
   },
   {
    "duration": 13,
    "start_time": "2021-08-31T07:37:11.312Z"
   },
   {
    "duration": 11,
    "start_time": "2021-08-31T07:37:11.327Z"
   },
   {
    "duration": 49,
    "start_time": "2021-08-31T07:37:11.339Z"
   },
   {
    "duration": 4,
    "start_time": "2021-08-31T07:37:11.390Z"
   },
   {
    "duration": 5,
    "start_time": "2021-08-31T07:37:11.396Z"
   },
   {
    "duration": 9,
    "start_time": "2021-08-31T07:37:11.402Z"
   },
   {
    "duration": 7,
    "start_time": "2021-08-31T07:37:11.412Z"
   },
   {
    "duration": 13,
    "start_time": "2021-08-31T07:37:11.421Z"
   },
   {
    "duration": 10,
    "start_time": "2021-08-31T07:37:11.436Z"
   },
   {
    "duration": 13,
    "start_time": "2021-08-31T07:37:11.476Z"
   },
   {
    "duration": 3,
    "start_time": "2021-08-31T07:37:11.490Z"
   },
   {
    "duration": 12,
    "start_time": "2021-08-31T07:37:11.495Z"
   },
   {
    "duration": 9,
    "start_time": "2021-08-31T07:37:11.509Z"
   },
   {
    "duration": 13,
    "start_time": "2021-08-31T07:37:11.520Z"
   },
   {
    "duration": 50,
    "start_time": "2021-08-31T07:37:11.535Z"
   },
   {
    "duration": 540,
    "start_time": "2021-08-31T07:37:11.587Z"
   },
   {
    "duration": 512,
    "start_time": "2021-08-31T07:37:12.129Z"
   },
   {
    "duration": 3,
    "start_time": "2021-08-31T07:37:12.642Z"
   },
   {
    "duration": 31,
    "start_time": "2021-08-31T07:37:12.647Z"
   },
   {
    "duration": 387,
    "start_time": "2021-08-31T07:37:51.731Z"
   },
   {
    "duration": 315,
    "start_time": "2021-08-31T07:38:07.177Z"
   },
   {
    "duration": 431,
    "start_time": "2021-08-31T08:28:20.480Z"
   },
   {
    "duration": 1147,
    "start_time": "2021-08-31T08:29:16.721Z"
   },
   {
    "duration": 43,
    "start_time": "2021-08-31T08:29:17.870Z"
   },
   {
    "duration": 27,
    "start_time": "2021-08-31T08:29:17.916Z"
   },
   {
    "duration": 47,
    "start_time": "2021-08-31T08:29:17.945Z"
   },
   {
    "duration": 21,
    "start_time": "2021-08-31T08:29:17.994Z"
   },
   {
    "duration": 17,
    "start_time": "2021-08-31T08:29:18.018Z"
   },
   {
    "duration": 46,
    "start_time": "2021-08-31T08:29:18.038Z"
   },
   {
    "duration": 22,
    "start_time": "2021-08-31T08:29:18.086Z"
   },
   {
    "duration": 3,
    "start_time": "2021-08-31T08:29:18.112Z"
   },
   {
    "duration": 11,
    "start_time": "2021-08-31T08:29:18.117Z"
   },
   {
    "duration": 9,
    "start_time": "2021-08-31T08:29:18.130Z"
   },
   {
    "duration": 8,
    "start_time": "2021-08-31T08:29:18.141Z"
   },
   {
    "duration": 34,
    "start_time": "2021-08-31T08:29:18.151Z"
   },
   {
    "duration": 13,
    "start_time": "2021-08-31T08:29:18.187Z"
   },
   {
    "duration": 13,
    "start_time": "2021-08-31T08:29:18.203Z"
   },
   {
    "duration": 13,
    "start_time": "2021-08-31T08:29:18.218Z"
   },
   {
    "duration": 24,
    "start_time": "2021-08-31T08:29:18.233Z"
   },
   {
    "duration": 27,
    "start_time": "2021-08-31T08:29:18.259Z"
   },
   {
    "duration": 25,
    "start_time": "2021-08-31T08:29:18.288Z"
   },
   {
    "duration": 18,
    "start_time": "2021-08-31T08:29:18.316Z"
   },
   {
    "duration": 539,
    "start_time": "2021-08-31T08:29:18.337Z"
   },
   {
    "duration": 512,
    "start_time": "2021-08-31T08:29:18.878Z"
   },
   {
    "duration": 3,
    "start_time": "2021-08-31T08:29:19.393Z"
   },
   {
    "duration": 369,
    "start_time": "2021-08-31T08:29:19.398Z"
   },
   {
    "duration": 359,
    "start_time": "2021-08-31T08:32:14.702Z"
   },
   {
    "duration": 93,
    "start_time": "2021-08-31T08:40:51.211Z"
   },
   {
    "duration": 291,
    "start_time": "2021-08-31T08:41:09.871Z"
   },
   {
    "duration": 20,
    "start_time": "2021-08-31T08:43:54.510Z"
   },
   {
    "duration": 18,
    "start_time": "2021-08-31T08:44:00.166Z"
   },
   {
    "duration": 20,
    "start_time": "2021-08-31T08:44:26.926Z"
   },
   {
    "duration": 21,
    "start_time": "2021-08-31T08:44:53.040Z"
   },
   {
    "duration": 849,
    "start_time": "2021-08-31T08:45:05.471Z"
   },
   {
    "duration": 828,
    "start_time": "2021-08-31T08:45:30.620Z"
   },
   {
    "duration": 826,
    "start_time": "2021-08-31T08:45:58.140Z"
   },
   {
    "duration": 1305,
    "start_time": "2021-08-31T08:49:11.957Z"
   },
   {
    "duration": 1749,
    "start_time": "2021-08-31T08:52:01.635Z"
   },
   {
    "duration": 659,
    "start_time": "2021-08-31T08:53:24.422Z"
   },
   {
    "duration": 102,
    "start_time": "2021-08-31T08:53:39.720Z"
   },
   {
    "duration": 873,
    "start_time": "2021-08-31T08:53:48.160Z"
   },
   {
    "duration": 1212,
    "start_time": "2021-08-31T08:55:12.630Z"
   },
   {
    "duration": 20,
    "start_time": "2021-08-31T08:59:40.331Z"
   },
   {
    "duration": 320,
    "start_time": "2021-08-31T09:22:42.511Z"
   },
   {
    "duration": 23,
    "start_time": "2021-08-31T09:48:49.041Z"
   },
   {
    "duration": 25,
    "start_time": "2021-08-31T09:51:22.838Z"
   },
   {
    "duration": 231,
    "start_time": "2021-08-31T09:51:32.572Z"
   },
   {
    "duration": 241,
    "start_time": "2021-08-31T09:51:51.178Z"
   },
   {
    "duration": 236,
    "start_time": "2021-08-31T09:53:18.482Z"
   },
   {
    "duration": 292,
    "start_time": "2021-08-31T09:53:40.110Z"
   },
   {
    "duration": 238,
    "start_time": "2021-08-31T09:54:10.390Z"
   },
   {
    "duration": 1342,
    "start_time": "2021-08-31T09:55:54.491Z"
   },
   {
    "duration": 482,
    "start_time": "2021-08-31T09:56:30.672Z"
   },
   {
    "duration": 100,
    "start_time": "2021-08-31T09:58:53.348Z"
   },
   {
    "duration": 105,
    "start_time": "2021-08-31T09:59:31.050Z"
   },
   {
    "duration": 234,
    "start_time": "2021-08-31T09:59:42.730Z"
   },
   {
    "duration": 720,
    "start_time": "2021-08-31T10:05:54.691Z"
   },
   {
    "duration": 527,
    "start_time": "2021-08-31T10:06:08.810Z"
   },
   {
    "duration": 538,
    "start_time": "2021-08-31T10:06:26.722Z"
   },
   {
    "duration": 507,
    "start_time": "2021-08-31T10:06:56.330Z"
   },
   {
    "duration": 379,
    "start_time": "2021-08-31T10:10:14.014Z"
   },
   {
    "duration": 311,
    "start_time": "2021-08-31T10:10:36.863Z"
   },
   {
    "duration": 1240,
    "start_time": "2021-08-31T10:11:06.628Z"
   },
   {
    "duration": 42,
    "start_time": "2021-08-31T10:11:07.871Z"
   },
   {
    "duration": 26,
    "start_time": "2021-08-31T10:11:07.916Z"
   },
   {
    "duration": 46,
    "start_time": "2021-08-31T10:11:07.945Z"
   },
   {
    "duration": 20,
    "start_time": "2021-08-31T10:11:07.993Z"
   },
   {
    "duration": 15,
    "start_time": "2021-08-31T10:11:08.016Z"
   },
   {
    "duration": 21,
    "start_time": "2021-08-31T10:11:08.033Z"
   },
   {
    "duration": 21,
    "start_time": "2021-08-31T10:11:08.076Z"
   },
   {
    "duration": 3,
    "start_time": "2021-08-31T10:11:08.100Z"
   },
   {
    "duration": 12,
    "start_time": "2021-08-31T10:11:08.105Z"
   },
   {
    "duration": 10,
    "start_time": "2021-08-31T10:11:08.119Z"
   },
   {
    "duration": 17,
    "start_time": "2021-08-31T10:11:08.131Z"
   },
   {
    "duration": 19,
    "start_time": "2021-08-31T10:11:08.150Z"
   },
   {
    "duration": 11,
    "start_time": "2021-08-31T10:11:08.176Z"
   },
   {
    "duration": 14,
    "start_time": "2021-08-31T10:11:08.189Z"
   },
   {
    "duration": 3,
    "start_time": "2021-08-31T10:11:08.204Z"
   },
   {
    "duration": 13,
    "start_time": "2021-08-31T10:11:08.208Z"
   },
   {
    "duration": 9,
    "start_time": "2021-08-31T10:11:08.222Z"
   },
   {
    "duration": 44,
    "start_time": "2021-08-31T10:11:08.233Z"
   },
   {
    "duration": 17,
    "start_time": "2021-08-31T10:11:08.279Z"
   },
   {
    "duration": 614,
    "start_time": "2021-08-31T10:11:08.298Z"
   },
   {
    "duration": 390,
    "start_time": "2021-08-31T10:11:08.914Z"
   },
   {
    "duration": 427,
    "start_time": "2021-08-31T10:11:09.306Z"
   },
   {
    "duration": -7,
    "start_time": "2021-08-31T10:11:09.743Z"
   },
   {
    "duration": -20,
    "start_time": "2021-08-31T10:11:09.757Z"
   },
   {
    "duration": -29,
    "start_time": "2021-08-31T10:11:09.766Z"
   },
   {
    "duration": -34,
    "start_time": "2021-08-31T10:11:09.772Z"
   },
   {
    "duration": -41,
    "start_time": "2021-08-31T10:11:09.780Z"
   },
   {
    "duration": -50,
    "start_time": "2021-08-31T10:11:09.790Z"
   },
   {
    "duration": 337,
    "start_time": "2021-08-31T10:11:22.694Z"
   },
   {
    "duration": 280,
    "start_time": "2021-08-31T10:11:59.292Z"
   },
   {
    "duration": 298,
    "start_time": "2021-08-31T10:12:10.333Z"
   },
   {
    "duration": 18,
    "start_time": "2021-08-31T10:12:45.560Z"
   },
   {
    "duration": 21,
    "start_time": "2021-08-31T10:13:06.964Z"
   },
   {
    "duration": 660,
    "start_time": "2021-08-31T10:13:12.443Z"
   },
   {
    "duration": 376,
    "start_time": "2021-08-31T10:13:35.212Z"
   },
   {
    "duration": 808,
    "start_time": "2021-08-31T10:14:27.879Z"
   },
   {
    "duration": 814,
    "start_time": "2021-08-31T10:14:59.032Z"
   },
   {
    "duration": 22,
    "start_time": "2021-08-31T10:18:08.013Z"
   },
   {
    "duration": 21,
    "start_time": "2021-08-31T10:18:16.552Z"
   },
   {
    "duration": 21,
    "start_time": "2021-08-31T10:18:44.813Z"
   },
   {
    "duration": 398,
    "start_time": "2021-08-31T10:18:49.963Z"
   },
   {
    "duration": 212,
    "start_time": "2021-08-31T10:19:05.043Z"
   },
   {
    "duration": 22,
    "start_time": "2021-08-31T10:20:40.792Z"
   },
   {
    "duration": 22,
    "start_time": "2021-08-31T10:21:09.823Z"
   },
   {
    "duration": 30,
    "start_time": "2021-08-31T10:22:11.060Z"
   },
   {
    "duration": 218,
    "start_time": "2021-08-31T10:22:31.183Z"
   },
   {
    "duration": 21,
    "start_time": "2021-08-31T10:22:58.395Z"
   },
   {
    "duration": 21,
    "start_time": "2021-08-31T10:35:49.004Z"
   },
   {
    "duration": 197,
    "start_time": "2021-08-31T10:36:20.843Z"
   },
   {
    "duration": 7448,
    "start_time": "2021-08-31T11:01:39.533Z"
   },
   {
    "duration": 497,
    "start_time": "2021-08-31T11:02:21.472Z"
   },
   {
    "duration": 622,
    "start_time": "2021-08-31T11:03:13.212Z"
   },
   {
    "duration": 558,
    "start_time": "2021-08-31T11:03:33.154Z"
   },
   {
    "duration": 7140,
    "start_time": "2021-08-31T11:04:41.969Z"
   },
   {
    "duration": 666,
    "start_time": "2021-08-31T11:05:41.138Z"
   },
   {
    "duration": 557,
    "start_time": "2021-08-31T11:06:49.932Z"
   },
   {
    "duration": 410,
    "start_time": "2021-08-31T11:10:27.013Z"
   },
   {
    "duration": 752,
    "start_time": "2021-08-31T11:10:55.753Z"
   },
   {
    "duration": 1164,
    "start_time": "2021-08-31T11:11:23.624Z"
   },
   {
    "duration": 1009,
    "start_time": "2021-08-31T11:11:54.484Z"
   },
   {
    "duration": 1077,
    "start_time": "2021-08-31T11:12:13.372Z"
   },
   {
    "duration": 1033,
    "start_time": "2021-08-31T11:12:40.029Z"
   },
   {
    "duration": 1160,
    "start_time": "2021-08-31T11:12:56.932Z"
   },
   {
    "duration": 794,
    "start_time": "2021-08-31T11:13:12.403Z"
   },
   {
    "duration": 926,
    "start_time": "2021-08-31T11:13:24.192Z"
   },
   {
    "duration": 465,
    "start_time": "2021-08-31T11:14:57.140Z"
   },
   {
    "duration": 520,
    "start_time": "2021-08-31T11:15:37.106Z"
   },
   {
    "duration": 1107,
    "start_time": "2021-08-31T11:16:35.380Z"
   },
   {
    "duration": 1170,
    "start_time": "2021-08-31T11:17:18.468Z"
   },
   {
    "duration": 1624,
    "start_time": "2021-08-31T11:18:52.470Z"
   },
   {
    "duration": 1086,
    "start_time": "2021-08-31T11:20:08.480Z"
   },
   {
    "duration": 1324,
    "start_time": "2021-08-31T11:25:44.971Z"
   },
   {
    "duration": 1070,
    "start_time": "2021-08-31T11:25:57.032Z"
   },
   {
    "duration": 9,
    "start_time": "2021-08-31T11:31:10.973Z"
   },
   {
    "duration": 13,
    "start_time": "2021-08-31T11:31:21.180Z"
   },
   {
    "duration": 373,
    "start_time": "2021-08-31T13:01:07.462Z"
   },
   {
    "duration": 364,
    "start_time": "2021-08-31T13:01:30.962Z"
   },
   {
    "duration": 283,
    "start_time": "2021-08-31T13:02:58.242Z"
   },
   {
    "duration": 262,
    "start_time": "2021-08-31T13:03:33.383Z"
   },
   {
    "duration": 252,
    "start_time": "2021-08-31T13:03:42.984Z"
   },
   {
    "duration": 362,
    "start_time": "2021-08-31T13:03:57.767Z"
   },
   {
    "duration": 338,
    "start_time": "2021-08-31T13:04:16.863Z"
   },
   {
    "duration": 258,
    "start_time": "2021-08-31T13:04:27.649Z"
   },
   {
    "duration": 249,
    "start_time": "2021-08-31T13:04:38.744Z"
   },
   {
    "duration": 249,
    "start_time": "2021-08-31T13:04:48.123Z"
   },
   {
    "duration": 16,
    "start_time": "2021-08-31T13:05:53.294Z"
   },
   {
    "duration": 250,
    "start_time": "2021-08-31T13:06:00.982Z"
   },
   {
    "duration": 230,
    "start_time": "2021-08-31T13:07:13.502Z"
   },
   {
    "duration": 2,
    "start_time": "2021-08-31T13:27:35.034Z"
   },
   {
    "duration": 7,
    "start_time": "2021-08-31T15:57:24.221Z"
   },
   {
    "duration": 384,
    "start_time": "2021-08-31T15:57:26.022Z"
   },
   {
    "duration": 1515,
    "start_time": "2021-08-31T15:57:36.738Z"
   },
   {
    "duration": 52,
    "start_time": "2021-08-31T15:57:38.257Z"
   },
   {
    "duration": 37,
    "start_time": "2021-08-31T15:57:38.312Z"
   },
   {
    "duration": 84,
    "start_time": "2021-08-31T15:57:38.352Z"
   },
   {
    "duration": 27,
    "start_time": "2021-08-31T15:57:38.439Z"
   },
   {
    "duration": 47,
    "start_time": "2021-08-31T15:57:38.469Z"
   },
   {
    "duration": 18,
    "start_time": "2021-08-31T15:57:38.519Z"
   },
   {
    "duration": 33,
    "start_time": "2021-08-31T15:57:38.541Z"
   },
   {
    "duration": 4,
    "start_time": "2021-08-31T15:57:38.578Z"
   },
   {
    "duration": 5,
    "start_time": "2021-08-31T15:57:38.619Z"
   },
   {
    "duration": 19,
    "start_time": "2021-08-31T15:57:38.627Z"
   },
   {
    "duration": 14,
    "start_time": "2021-08-31T15:57:38.649Z"
   },
   {
    "duration": 23,
    "start_time": "2021-08-31T15:57:38.665Z"
   },
   {
    "duration": 33,
    "start_time": "2021-08-31T15:57:38.691Z"
   },
   {
    "duration": 22,
    "start_time": "2021-08-31T15:57:38.727Z"
   },
   {
    "duration": 3,
    "start_time": "2021-08-31T15:57:38.751Z"
   },
   {
    "duration": 19,
    "start_time": "2021-08-31T15:57:38.757Z"
   },
   {
    "duration": 48,
    "start_time": "2021-08-31T15:57:38.778Z"
   },
   {
    "duration": 19,
    "start_time": "2021-08-31T15:57:38.829Z"
   },
   {
    "duration": 23,
    "start_time": "2021-08-31T15:57:38.851Z"
   },
   {
    "duration": 1034,
    "start_time": "2021-08-31T15:57:38.877Z"
   },
   {
    "duration": 889,
    "start_time": "2021-08-31T15:57:39.917Z"
   },
   {
    "duration": 24,
    "start_time": "2021-08-31T15:57:40.817Z"
   },
   {
    "duration": 27,
    "start_time": "2021-08-31T15:57:40.844Z"
   },
   {
    "duration": 1219,
    "start_time": "2021-08-31T15:57:40.873Z"
   },
   {
    "duration": 1385,
    "start_time": "2021-08-31T15:57:42.094Z"
   },
   {
    "duration": 36,
    "start_time": "2021-08-31T15:57:43.486Z"
   },
   {
    "duration": 308,
    "start_time": "2021-08-31T15:57:43.525Z"
   },
   {
    "duration": 1447,
    "start_time": "2021-08-31T15:57:43.836Z"
   },
   {
    "duration": 1426,
    "start_time": "2021-08-31T15:57:45.285Z"
   },
   {
    "duration": 16,
    "start_time": "2021-08-31T15:57:46.716Z"
   },
   {
    "duration": 21,
    "start_time": "2021-08-31T15:57:46.735Z"
   },
   {
    "duration": 479,
    "start_time": "2021-08-31T15:57:46.758Z"
   },
   {
    "duration": 8,
    "start_time": "2021-08-31T15:57:47.239Z"
   },
   {
    "duration": 1340,
    "start_time": "2021-08-31T15:57:47.250Z"
   },
   {
    "duration": 1636,
    "start_time": "2021-09-01T08:19:06.894Z"
   },
   {
    "duration": 47,
    "start_time": "2021-09-01T08:19:08.532Z"
   },
   {
    "duration": 36,
    "start_time": "2021-09-01T08:19:08.582Z"
   },
   {
    "duration": 67,
    "start_time": "2021-09-01T08:19:08.622Z"
   },
   {
    "duration": 26,
    "start_time": "2021-09-01T08:19:08.691Z"
   },
   {
    "duration": 44,
    "start_time": "2021-09-01T08:19:08.720Z"
   },
   {
    "duration": 19,
    "start_time": "2021-09-01T08:19:08.767Z"
   },
   {
    "duration": 36,
    "start_time": "2021-09-01T08:19:08.789Z"
   },
   {
    "duration": 33,
    "start_time": "2021-09-01T08:19:08.832Z"
   },
   {
    "duration": 8,
    "start_time": "2021-09-01T08:19:08.870Z"
   },
   {
    "duration": 11,
    "start_time": "2021-09-01T08:19:08.881Z"
   },
   {
    "duration": 15,
    "start_time": "2021-09-01T08:19:08.894Z"
   },
   {
    "duration": 28,
    "start_time": "2021-09-01T08:19:08.912Z"
   },
   {
    "duration": 30,
    "start_time": "2021-09-01T08:19:08.943Z"
   },
   {
    "duration": 20,
    "start_time": "2021-09-01T08:19:08.976Z"
   },
   {
    "duration": 3,
    "start_time": "2021-09-01T08:19:08.998Z"
   },
   {
    "duration": 23,
    "start_time": "2021-09-01T08:19:09.003Z"
   },
   {
    "duration": 45,
    "start_time": "2021-09-01T08:19:09.028Z"
   },
   {
    "duration": 15,
    "start_time": "2021-09-01T08:19:09.075Z"
   },
   {
    "duration": 23,
    "start_time": "2021-09-01T08:19:09.092Z"
   },
   {
    "duration": 946,
    "start_time": "2021-09-01T08:19:09.118Z"
   },
   {
    "duration": 722,
    "start_time": "2021-09-01T08:19:10.067Z"
   },
   {
    "duration": 24,
    "start_time": "2021-09-01T08:19:10.791Z"
   },
   {
    "duration": 53,
    "start_time": "2021-09-01T08:19:10.818Z"
   },
   {
    "duration": 990,
    "start_time": "2021-09-01T08:19:10.874Z"
   },
   {
    "duration": 1253,
    "start_time": "2021-09-01T08:19:11.867Z"
   },
   {
    "duration": 43,
    "start_time": "2021-09-01T08:19:13.125Z"
   },
   {
    "duration": 258,
    "start_time": "2021-09-01T08:19:13.171Z"
   },
   {
    "duration": 1334,
    "start_time": "2021-09-01T08:19:13.432Z"
   },
   {
    "duration": 1398,
    "start_time": "2021-09-01T08:19:14.768Z"
   },
   {
    "duration": 15,
    "start_time": "2021-09-01T08:19:16.169Z"
   },
   {
    "duration": 22,
    "start_time": "2021-09-01T08:19:16.186Z"
   },
   {
    "duration": 581,
    "start_time": "2021-09-01T08:19:16.211Z"
   },
   {
    "duration": 10,
    "start_time": "2021-09-01T08:19:16.795Z"
   },
   {
    "duration": 1804,
    "start_time": "2021-09-01T08:19:16.808Z"
   },
   {
    "duration": 6,
    "start_time": "2021-09-01T08:20:14.780Z"
   },
   {
    "duration": 873,
    "start_time": "2021-09-01T08:20:15.857Z"
   },
   {
    "duration": 7,
    "start_time": "2021-09-01T08:24:12.289Z"
   },
   {
    "duration": 866,
    "start_time": "2021-09-01T08:24:14.401Z"
   },
   {
    "duration": 952,
    "start_time": "2021-09-01T08:28:48.809Z"
   },
   {
    "duration": 1452,
    "start_time": "2021-09-01T08:40:14.241Z"
   },
   {
    "duration": 822,
    "start_time": "2021-09-01T08:40:44.802Z"
   },
   {
    "duration": 3,
    "start_time": "2021-09-01T09:02:24.682Z"
   },
   {
    "duration": 356,
    "start_time": "2021-09-01T09:06:53.241Z"
   },
   {
    "duration": 356,
    "start_time": "2021-09-01T09:12:12.012Z"
   },
   {
    "duration": 4,
    "start_time": "2021-09-01T09:13:07.431Z"
   },
   {
    "duration": 13,
    "start_time": "2021-09-01T09:13:16.640Z"
   },
   {
    "duration": 12,
    "start_time": "2021-09-01T09:13:36.619Z"
   },
   {
    "duration": 16,
    "start_time": "2021-09-01T09:13:49.010Z"
   },
   {
    "duration": 14,
    "start_time": "2021-09-01T09:18:37.816Z"
   },
   {
    "duration": 13,
    "start_time": "2021-09-01T09:30:46.102Z"
   },
   {
    "duration": 13,
    "start_time": "2021-09-01T09:30:52.482Z"
   },
   {
    "duration": 15,
    "start_time": "2021-09-01T09:30:59.260Z"
   },
   {
    "duration": 4,
    "start_time": "2021-09-01T09:31:38.428Z"
   },
   {
    "duration": 12,
    "start_time": "2021-09-01T09:39:17.121Z"
   },
   {
    "duration": 15,
    "start_time": "2021-09-01T09:39:50.402Z"
   },
   {
    "duration": 16,
    "start_time": "2021-09-01T09:40:02.991Z"
   },
   {
    "duration": 13,
    "start_time": "2021-09-01T09:40:38.007Z"
   },
   {
    "duration": 443,
    "start_time": "2021-09-01T09:42:03.403Z"
   },
   {
    "duration": 545,
    "start_time": "2021-09-01T09:43:18.132Z"
   },
   {
    "duration": 361,
    "start_time": "2021-09-01T09:43:38.930Z"
   },
   {
    "duration": 15,
    "start_time": "2021-09-01T09:43:59.690Z"
   },
   {
    "duration": 6,
    "start_time": "2021-09-01T09:46:04.173Z"
   },
   {
    "duration": 7,
    "start_time": "2021-09-01T09:48:11.210Z"
   },
   {
    "duration": 5,
    "start_time": "2021-09-01T09:49:13.442Z"
   },
   {
    "duration": 5,
    "start_time": "2021-09-01T09:49:40.810Z"
   },
   {
    "duration": 6,
    "start_time": "2021-09-01T09:50:01.424Z"
   },
   {
    "duration": 14,
    "start_time": "2021-09-01T09:58:23.521Z"
   },
   {
    "duration": 13,
    "start_time": "2021-09-01T09:58:39.571Z"
   },
   {
    "duration": 4,
    "start_time": "2021-09-01T10:25:26.119Z"
   },
   {
    "duration": 47,
    "start_time": "2021-09-01T10:25:27.571Z"
   },
   {
    "duration": 31,
    "start_time": "2021-09-01T10:25:30.201Z"
   },
   {
    "duration": 43,
    "start_time": "2021-09-01T10:25:37.001Z"
   },
   {
    "duration": 24,
    "start_time": "2021-09-01T10:25:40.651Z"
   },
   {
    "duration": 19,
    "start_time": "2021-09-01T10:25:46.391Z"
   },
   {
    "duration": 12,
    "start_time": "2021-09-01T10:25:52.722Z"
   },
   {
    "duration": 12,
    "start_time": "2021-09-01T10:26:29.710Z"
   },
   {
    "duration": 25,
    "start_time": "2021-09-01T10:26:35.070Z"
   },
   {
    "duration": 4,
    "start_time": "2021-09-01T10:26:41.851Z"
   },
   {
    "duration": 4,
    "start_time": "2021-09-01T10:26:52.322Z"
   },
   {
    "duration": 7,
    "start_time": "2021-09-01T10:26:58.170Z"
   },
   {
    "duration": 8,
    "start_time": "2021-09-01T10:26:59.730Z"
   },
   {
    "duration": 14,
    "start_time": "2021-09-01T10:27:07.972Z"
   },
   {
    "duration": 15,
    "start_time": "2021-09-01T10:27:11.981Z"
   },
   {
    "duration": 16,
    "start_time": "2021-09-01T10:27:24.362Z"
   },
   {
    "duration": 4,
    "start_time": "2021-09-01T10:27:32.601Z"
   },
   {
    "duration": 12,
    "start_time": "2021-09-01T10:28:00.382Z"
   },
   {
    "duration": 15,
    "start_time": "2021-09-01T10:28:03.402Z"
   },
   {
    "duration": 22,
    "start_time": "2021-09-01T10:28:40.411Z"
   },
   {
    "duration": 912,
    "start_time": "2021-09-01T10:29:58.041Z"
   },
   {
    "duration": 756,
    "start_time": "2021-09-01T10:30:43.941Z"
   },
   {
    "duration": 23,
    "start_time": "2021-09-01T10:31:04.077Z"
   },
   {
    "duration": 26,
    "start_time": "2021-09-01T10:31:09.030Z"
   },
   {
    "duration": 972,
    "start_time": "2021-09-01T10:31:21.211Z"
   },
   {
    "duration": 1260,
    "start_time": "2021-09-01T10:31:30.182Z"
   },
   {
    "duration": 29,
    "start_time": "2021-09-01T10:33:47.370Z"
   },
   {
    "duration": 316,
    "start_time": "2021-09-01T10:33:52.701Z"
   },
   {
    "duration": 1512,
    "start_time": "2021-09-01T10:34:28.171Z"
   },
   {
    "duration": 1371,
    "start_time": "2021-09-01T10:34:55.591Z"
   },
   {
    "duration": 22,
    "start_time": "2021-09-01T10:35:37.511Z"
   },
   {
    "duration": 362,
    "start_time": "2021-09-01T10:35:59.410Z"
   },
   {
    "duration": 6,
    "start_time": "2021-09-01T10:36:51.682Z"
   },
   {
    "duration": 973,
    "start_time": "2021-09-01T10:37:07.673Z"
   },
   {
    "duration": 875,
    "start_time": "2021-09-01T10:37:43.721Z"
   },
   {
    "duration": 6,
    "start_time": "2021-09-01T10:38:29.746Z"
   },
   {
    "duration": 1000,
    "start_time": "2021-09-01T10:38:32.400Z"
   },
   {
    "duration": 942,
    "start_time": "2021-09-01T10:39:00.402Z"
   },
   {
    "duration": 891,
    "start_time": "2021-09-01T10:39:26.962Z"
   },
   {
    "duration": 14,
    "start_time": "2021-09-01T10:51:20.582Z"
   },
   {
    "duration": 5,
    "start_time": "2021-09-01T10:51:37.250Z"
   },
   {
    "duration": 13,
    "start_time": "2021-09-01T10:51:52.738Z"
   },
   {
    "duration": 8,
    "start_time": "2021-09-01T10:52:04.171Z"
   },
   {
    "duration": 1235,
    "start_time": "2021-09-01T19:36:37.552Z"
   },
   {
    "duration": 37,
    "start_time": "2021-09-01T19:36:38.789Z"
   },
   {
    "duration": 23,
    "start_time": "2021-09-01T19:36:38.828Z"
   },
   {
    "duration": 48,
    "start_time": "2021-09-01T19:36:38.853Z"
   },
   {
    "duration": 22,
    "start_time": "2021-09-01T19:36:38.902Z"
   },
   {
    "duration": 27,
    "start_time": "2021-09-01T19:36:38.926Z"
   },
   {
    "duration": 22,
    "start_time": "2021-09-01T19:36:38.955Z"
   },
   {
    "duration": 33,
    "start_time": "2021-09-01T19:36:38.979Z"
   },
   {
    "duration": 3,
    "start_time": "2021-09-01T19:36:39.015Z"
   },
   {
    "duration": 13,
    "start_time": "2021-09-01T19:36:39.019Z"
   },
   {
    "duration": 23,
    "start_time": "2021-09-01T19:36:39.034Z"
   },
   {
    "duration": 11,
    "start_time": "2021-09-01T19:36:39.059Z"
   },
   {
    "duration": 22,
    "start_time": "2021-09-01T19:36:39.072Z"
   },
   {
    "duration": 19,
    "start_time": "2021-09-01T19:36:39.096Z"
   },
   {
    "duration": 22,
    "start_time": "2021-09-01T19:36:39.117Z"
   },
   {
    "duration": 18,
    "start_time": "2021-09-01T19:36:39.141Z"
   },
   {
    "duration": 22,
    "start_time": "2021-09-01T19:36:39.161Z"
   },
   {
    "duration": 17,
    "start_time": "2021-09-01T19:36:39.184Z"
   },
   {
    "duration": 12,
    "start_time": "2021-09-01T19:36:39.202Z"
   },
   {
    "duration": 15,
    "start_time": "2021-09-01T19:36:39.215Z"
   },
   {
    "duration": 531,
    "start_time": "2021-09-01T19:36:39.231Z"
   },
   {
    "duration": 400,
    "start_time": "2021-09-01T19:36:39.763Z"
   },
   {
    "duration": 27,
    "start_time": "2021-09-01T19:36:40.166Z"
   },
   {
    "duration": 15,
    "start_time": "2021-09-01T19:36:40.194Z"
   },
   {
    "duration": 567,
    "start_time": "2021-09-01T19:36:40.211Z"
   },
   {
    "duration": 737,
    "start_time": "2021-09-01T19:36:40.779Z"
   },
   {
    "duration": 18,
    "start_time": "2021-09-01T19:36:41.517Z"
   },
   {
    "duration": 156,
    "start_time": "2021-09-01T19:36:41.537Z"
   },
   {
    "duration": 893,
    "start_time": "2021-09-01T19:36:41.695Z"
   },
   {
    "duration": 894,
    "start_time": "2021-09-01T19:36:42.591Z"
   },
   {
    "duration": 11,
    "start_time": "2021-09-01T19:36:43.487Z"
   },
   {
    "duration": 26,
    "start_time": "2021-09-01T19:36:43.499Z"
   },
   {
    "duration": 197,
    "start_time": "2021-09-01T19:36:43.527Z"
   },
   {
    "duration": 4,
    "start_time": "2021-09-01T19:36:43.726Z"
   },
   {
    "duration": 494,
    "start_time": "2021-09-01T19:36:43.732Z"
   },
   {
    "duration": 511,
    "start_time": "2021-09-01T19:36:44.228Z"
   },
   {
    "duration": 489,
    "start_time": "2021-09-01T19:36:44.741Z"
   },
   {
    "duration": 9,
    "start_time": "2021-09-01T19:36:45.231Z"
   },
   {
    "duration": 6,
    "start_time": "2021-09-01T19:36:45.242Z"
   },
   {
    "duration": 13,
    "start_time": "2021-09-01T19:36:45.250Z"
   },
   {
    "duration": 28,
    "start_time": "2021-09-01T19:36:45.265Z"
   },
   {
    "duration": 1615,
    "start_time": "2021-09-02T08:59:33.783Z"
   },
   {
    "duration": 1334,
    "start_time": "2021-09-02T08:59:49.617Z"
   },
   {
    "duration": 39,
    "start_time": "2021-09-02T08:59:51.973Z"
   },
   {
    "duration": 224,
    "start_time": "2021-09-02T09:00:58.245Z"
   },
   {
    "duration": 36,
    "start_time": "2021-09-02T09:01:11.712Z"
   },
   {
    "duration": 22,
    "start_time": "2021-09-02T09:01:44.335Z"
   },
   {
    "duration": 19,
    "start_time": "2021-09-02T09:10:23.675Z"
   },
   {
    "duration": 27,
    "start_time": "2021-09-02T09:10:40.415Z"
   },
   {
    "duration": 26,
    "start_time": "2021-09-02T09:11:08.791Z"
   },
   {
    "duration": 16,
    "start_time": "2021-09-02T09:11:12.955Z"
   },
   {
    "duration": 12,
    "start_time": "2021-09-02T09:11:17.667Z"
   },
   {
    "duration": 9,
    "start_time": "2021-09-02T09:11:21.104Z"
   },
   {
    "duration": 770,
    "start_time": "2021-09-02T09:12:25.075Z"
   },
   {
    "duration": 202,
    "start_time": "2021-09-02T09:13:17.863Z"
   },
   {
    "duration": 1016,
    "start_time": "2021-09-02T09:14:02.464Z"
   },
   {
    "duration": 11,
    "start_time": "2021-09-02T09:14:12.675Z"
   },
   {
    "duration": 15,
    "start_time": "2021-09-02T09:14:55.356Z"
   },
   {
    "duration": 16,
    "start_time": "2021-09-02T09:17:27.683Z"
   },
   {
    "duration": 18,
    "start_time": "2021-09-02T09:17:51.711Z"
   },
   {
    "duration": 3,
    "start_time": "2021-09-02T09:17:56.123Z"
   },
   {
    "duration": 3,
    "start_time": "2021-09-02T09:17:59.402Z"
   },
   {
    "duration": 5,
    "start_time": "2021-09-02T09:18:00.624Z"
   },
   {
    "duration": 4,
    "start_time": "2021-09-02T09:18:01.435Z"
   },
   {
    "duration": 15,
    "start_time": "2021-09-02T09:18:03.955Z"
   },
   {
    "duration": 10,
    "start_time": "2021-09-02T09:18:08.555Z"
   },
   {
    "duration": 11,
    "start_time": "2021-09-02T09:18:11.695Z"
   },
   {
    "duration": 3,
    "start_time": "2021-09-02T09:18:22.579Z"
   },
   {
    "duration": 9,
    "start_time": "2021-09-02T09:18:23.422Z"
   },
   {
    "duration": 9,
    "start_time": "2021-09-02T09:18:30.171Z"
   },
   {
    "duration": 11,
    "start_time": "2021-09-02T09:18:31.435Z"
   },
   {
    "duration": 14,
    "start_time": "2021-09-02T09:18:37.115Z"
   },
   {
    "duration": 496,
    "start_time": "2021-09-02T09:20:31.784Z"
   },
   {
    "duration": 490,
    "start_time": "2021-09-02T09:21:41.719Z"
   },
   {
    "duration": 382,
    "start_time": "2021-09-02T09:21:53.123Z"
   },
   {
    "duration": 459,
    "start_time": "2021-09-02T09:23:33.867Z"
   },
   {
    "duration": 383,
    "start_time": "2021-09-02T09:27:19.295Z"
   },
   {
    "duration": 1386,
    "start_time": "2021-09-02T09:29:17.605Z"
   },
   {
    "duration": 1224,
    "start_time": "2021-09-02T09:30:02.483Z"
   },
   {
    "duration": 1192,
    "start_time": "2021-09-02T09:31:35.263Z"
   },
   {
    "duration": 1279,
    "start_time": "2021-09-02T09:32:39.815Z"
   },
   {
    "duration": 1552,
    "start_time": "2021-09-02T09:33:01.028Z"
   },
   {
    "duration": 1500,
    "start_time": "2021-09-02T09:34:36.295Z"
   },
   {
    "duration": 393,
    "start_time": "2021-09-02T09:36:52.975Z"
   },
   {
    "duration": 1449,
    "start_time": "2021-09-02T09:37:07.013Z"
   },
   {
    "duration": 1187,
    "start_time": "2021-09-02T09:38:56.824Z"
   },
   {
    "duration": 491,
    "start_time": "2021-09-02T09:40:25.248Z"
   },
   {
    "duration": 370,
    "start_time": "2021-09-02T09:41:33.809Z"
   },
   {
    "duration": 395,
    "start_time": "2021-09-02T09:43:20.283Z"
   },
   {
    "duration": 377,
    "start_time": "2021-09-02T09:43:30.099Z"
   },
   {
    "duration": 1263,
    "start_time": "2021-09-02T09:45:37.302Z"
   },
   {
    "duration": 17,
    "start_time": "2021-09-02T09:45:52.316Z"
   },
   {
    "duration": 18,
    "start_time": "2021-09-02T09:45:54.492Z"
   },
   {
    "duration": 570,
    "start_time": "2021-09-02T09:45:56.776Z"
   },
   {
    "duration": 760,
    "start_time": "2021-09-02T09:45:59.907Z"
   },
   {
    "duration": 19,
    "start_time": "2021-09-02T09:46:04.266Z"
   },
   {
    "duration": 139,
    "start_time": "2021-09-02T09:46:07.344Z"
   },
   {
    "duration": 15,
    "start_time": "2021-09-02T09:50:59.436Z"
   },
   {
    "duration": 348,
    "start_time": "2021-09-02T09:51:19.176Z"
   },
   {
    "duration": 15,
    "start_time": "2021-09-02T09:51:45.523Z"
   },
   {
    "duration": 424,
    "start_time": "2021-09-02T09:51:47.301Z"
   },
   {
    "duration": 293,
    "start_time": "2021-09-02T09:52:22.276Z"
   },
   {
    "duration": 518,
    "start_time": "2021-09-02T09:53:25.836Z"
   },
   {
    "duration": 362,
    "start_time": "2021-09-02T09:54:03.336Z"
   },
   {
    "duration": 364,
    "start_time": "2021-09-02T09:54:14.024Z"
   },
   {
    "duration": 365,
    "start_time": "2021-09-02T09:54:26.261Z"
   },
   {
    "duration": 13,
    "start_time": "2021-09-02T09:57:32.705Z"
   },
   {
    "duration": 352,
    "start_time": "2021-09-02T09:57:45.383Z"
   },
   {
    "duration": 665,
    "start_time": "2021-09-02T09:57:57.175Z"
   },
   {
    "duration": 355,
    "start_time": "2021-09-02T09:58:10.423Z"
   },
   {
    "duration": 272,
    "start_time": "2021-09-02T10:08:09.590Z"
   },
   {
    "duration": 6,
    "start_time": "2021-09-02T10:14:05.306Z"
   },
   {
    "duration": 11,
    "start_time": "2021-09-02T10:14:08.446Z"
   },
   {
    "duration": 324,
    "start_time": "2021-09-02T10:15:07.196Z"
   },
   {
    "duration": 8,
    "start_time": "2021-09-02T10:18:02.882Z"
   },
   {
    "duration": 11,
    "start_time": "2021-09-02T10:18:04.684Z"
   },
   {
    "duration": 16,
    "start_time": "2021-09-02T10:18:51.464Z"
   },
   {
    "duration": 1951,
    "start_time": "2021-09-02T10:24:44.369Z"
   },
   {
    "duration": 1090,
    "start_time": "2021-09-02T10:25:02.143Z"
   },
   {
    "duration": 13,
    "start_time": "2021-09-02T11:48:59.255Z"
   },
   {
    "duration": 194,
    "start_time": "2021-09-02T11:49:13.495Z"
   },
   {
    "duration": 19,
    "start_time": "2021-09-02T11:49:24.915Z"
   },
   {
    "duration": 436,
    "start_time": "2021-09-02T11:49:27.396Z"
   },
   {
    "duration": 15,
    "start_time": "2021-09-02T11:56:21.944Z"
   },
   {
    "duration": 210,
    "start_time": "2021-09-02T11:56:32.781Z"
   },
   {
    "duration": 16,
    "start_time": "2021-09-02T11:57:26.775Z"
   },
   {
    "duration": 15,
    "start_time": "2021-09-02T11:57:50.855Z"
   },
   {
    "duration": 14,
    "start_time": "2021-09-02T11:58:08.344Z"
   },
   {
    "duration": 1942,
    "start_time": "2021-09-02T11:59:35.655Z"
   },
   {
    "duration": 14,
    "start_time": "2021-09-02T12:00:02.184Z"
   },
   {
    "duration": 244,
    "start_time": "2021-09-02T12:01:38.664Z"
   },
   {
    "duration": 4,
    "start_time": "2021-09-02T12:04:09.904Z"
   },
   {
    "duration": 469,
    "start_time": "2021-09-02T12:04:13.062Z"
   },
   {
    "duration": 473,
    "start_time": "2021-09-02T12:04:23.535Z"
   },
   {
    "duration": 448,
    "start_time": "2021-09-02T12:04:29.814Z"
   },
   {
    "duration": 10,
    "start_time": "2021-09-02T12:06:12.495Z"
   },
   {
    "duration": 4,
    "start_time": "2021-09-02T12:06:14.935Z"
   },
   {
    "duration": 9,
    "start_time": "2021-09-02T12:06:20.064Z"
   },
   {
    "duration": 4,
    "start_time": "2021-09-02T12:06:29.631Z"
   },
   {
    "duration": 3,
    "start_time": "2021-09-02T12:11:06.704Z"
   },
   {
    "duration": 3,
    "start_time": "2021-09-02T12:11:09.135Z"
   },
   {
    "duration": 2,
    "start_time": "2021-09-02T12:11:12.335Z"
   },
   {
    "duration": 37,
    "start_time": "2021-09-02T12:11:21.015Z"
   },
   {
    "duration": 21,
    "start_time": "2021-09-02T12:11:25.615Z"
   },
   {
    "duration": 18,
    "start_time": "2021-09-02T12:11:28.631Z"
   },
   {
    "duration": 28,
    "start_time": "2021-09-02T12:11:35.063Z"
   },
   {
    "duration": 15,
    "start_time": "2021-09-02T12:11:36.773Z"
   },
   {
    "duration": 13,
    "start_time": "2021-09-02T12:11:41.160Z"
   },
   {
    "duration": 9,
    "start_time": "2021-09-02T12:11:47.335Z"
   },
   {
    "duration": 16,
    "start_time": "2021-09-02T12:11:56.024Z"
   },
   {
    "duration": 2,
    "start_time": "2021-09-02T12:12:01.396Z"
   },
   {
    "duration": 3,
    "start_time": "2021-09-02T12:12:02.456Z"
   },
   {
    "duration": 5,
    "start_time": "2021-09-02T12:12:03.096Z"
   },
   {
    "duration": 4,
    "start_time": "2021-09-02T12:12:03.730Z"
   },
   {
    "duration": 9,
    "start_time": "2021-09-02T12:12:04.895Z"
   },
   {
    "duration": 10,
    "start_time": "2021-09-02T12:12:10.494Z"
   },
   {
    "duration": 10,
    "start_time": "2021-09-02T12:12:14.944Z"
   },
   {
    "duration": 3,
    "start_time": "2021-09-02T12:12:16.183Z"
   },
   {
    "duration": 8,
    "start_time": "2021-09-02T12:12:18.263Z"
   },
   {
    "duration": 8,
    "start_time": "2021-09-02T12:12:22.945Z"
   },
   {
    "duration": 12,
    "start_time": "2021-09-02T12:12:23.815Z"
   },
   {
    "duration": 15,
    "start_time": "2021-09-02T12:12:25.143Z"
   },
   {
    "duration": 479,
    "start_time": "2021-09-02T12:13:12.012Z"
   },
   {
    "duration": 577,
    "start_time": "2021-09-02T12:14:08.535Z"
   },
   {
    "duration": 16,
    "start_time": "2021-09-02T12:15:10.184Z"
   },
   {
    "duration": 17,
    "start_time": "2021-09-02T12:15:15.743Z"
   },
   {
    "duration": 574,
    "start_time": "2021-09-02T12:15:23.224Z"
   },
   {
    "duration": 547,
    "start_time": "2021-09-02T12:16:22.344Z"
   },
   {
    "duration": 648,
    "start_time": "2021-09-02T12:16:26.215Z"
   },
   {
    "duration": 19,
    "start_time": "2021-09-02T12:16:33.184Z"
   },
   {
    "duration": 13,
    "start_time": "2021-09-02T12:17:12.263Z"
   },
   {
    "duration": 271,
    "start_time": "2021-09-02T12:17:12.882Z"
   },
   {
    "duration": 939,
    "start_time": "2021-09-02T12:17:32.824Z"
   },
   {
    "duration": 855,
    "start_time": "2021-09-02T12:17:46.704Z"
   },
   {
    "duration": 1187,
    "start_time": "2021-09-02T12:17:50.184Z"
   },
   {
    "duration": 6,
    "start_time": "2021-09-02T12:17:58.580Z"
   },
   {
    "duration": 10,
    "start_time": "2021-09-02T12:18:03.015Z"
   },
   {
    "duration": 14,
    "start_time": "2021-09-02T12:18:13.335Z"
   },
   {
    "duration": 205,
    "start_time": "2021-09-02T12:18:18.343Z"
   },
   {
    "duration": 13,
    "start_time": "2021-09-02T12:18:24.535Z"
   },
   {
    "duration": 13,
    "start_time": "2021-09-02T12:18:25.695Z"
   },
   {
    "duration": 5,
    "start_time": "2021-09-02T12:20:50.594Z"
   },
   {
    "duration": 460,
    "start_time": "2021-09-02T12:20:55.175Z"
   },
   {
    "duration": 565,
    "start_time": "2021-09-02T12:21:00.895Z"
   },
   {
    "duration": 454,
    "start_time": "2021-09-02T12:21:05.943Z"
   },
   {
    "duration": 10,
    "start_time": "2021-09-02T12:21:19.855Z"
   },
   {
    "duration": 4,
    "start_time": "2021-09-02T12:21:21.375Z"
   },
   {
    "duration": 14,
    "start_time": "2021-09-02T12:21:22.783Z"
   },
   {
    "duration": 4,
    "start_time": "2021-09-02T12:21:26.775Z"
   },
   {
    "duration": 1150,
    "start_time": "2021-09-02T19:06:44.705Z"
   },
   {
    "duration": 2,
    "start_time": "2021-09-02T19:06:45.857Z"
   },
   {
    "duration": 41,
    "start_time": "2021-09-02T19:06:45.861Z"
   },
   {
    "duration": 23,
    "start_time": "2021-09-02T19:06:45.904Z"
   },
   {
    "duration": 65954,
    "start_time": "2021-09-02T19:06:45.929Z"
   },
   {
    "duration": 28,
    "start_time": "2021-09-02T19:07:51.885Z"
   },
   {
    "duration": 16,
    "start_time": "2021-09-02T19:07:51.914Z"
   },
   {
    "duration": 12,
    "start_time": "2021-09-02T19:07:51.933Z"
   },
   {
    "duration": 10,
    "start_time": "2021-09-02T19:07:51.947Z"
   },
   {
    "duration": 44,
    "start_time": "2021-09-02T19:07:51.958Z"
   },
   {
    "duration": 2,
    "start_time": "2021-09-02T19:07:52.004Z"
   },
   {
    "duration": 6,
    "start_time": "2021-09-02T19:07:52.008Z"
   },
   {
    "duration": 7,
    "start_time": "2021-09-02T19:07:52.015Z"
   },
   {
    "duration": 5,
    "start_time": "2021-09-02T19:07:52.024Z"
   },
   {
    "duration": 11,
    "start_time": "2021-09-02T19:07:52.030Z"
   },
   {
    "duration": 9,
    "start_time": "2021-09-02T19:07:52.043Z"
   },
   {
    "duration": 38,
    "start_time": "2021-09-02T19:07:52.054Z"
   },
   {
    "duration": 2,
    "start_time": "2021-09-02T19:07:52.094Z"
   },
   {
    "duration": 11,
    "start_time": "2021-09-02T19:07:52.098Z"
   },
   {
    "duration": 12,
    "start_time": "2021-09-02T19:07:52.111Z"
   },
   {
    "duration": 14,
    "start_time": "2021-09-02T19:07:52.124Z"
   },
   {
    "duration": 14,
    "start_time": "2021-09-02T19:07:52.140Z"
   },
   {
    "duration": 504,
    "start_time": "2021-09-02T19:07:52.157Z"
   },
   {
    "duration": 378,
    "start_time": "2021-09-02T19:07:52.662Z"
   },
   {
    "duration": 15,
    "start_time": "2021-09-02T19:07:53.041Z"
   },
   {
    "duration": 16,
    "start_time": "2021-09-02T19:07:53.057Z"
   },
   {
    "duration": 557,
    "start_time": "2021-09-02T19:07:53.092Z"
   },
   {
    "duration": 734,
    "start_time": "2021-09-02T19:07:53.651Z"
   },
   {
    "duration": 19,
    "start_time": "2021-09-02T19:07:54.391Z"
   },
   {
    "duration": 17,
    "start_time": "2021-09-02T19:07:54.411Z"
   },
   {
    "duration": 276,
    "start_time": "2021-09-02T19:07:54.430Z"
   },
   {
    "duration": 1056,
    "start_time": "2021-09-02T19:07:54.708Z"
   },
   {
    "duration": 952,
    "start_time": "2021-09-02T19:07:55.766Z"
   },
   {
    "duration": 5,
    "start_time": "2021-09-02T19:07:56.719Z"
   },
   {
    "duration": 12,
    "start_time": "2021-09-02T19:07:56.726Z"
   },
   {
    "duration": 13,
    "start_time": "2021-09-02T19:07:56.739Z"
   },
   {
    "duration": 220,
    "start_time": "2021-09-02T19:07:56.753Z"
   },
   {
    "duration": 22,
    "start_time": "2021-09-02T19:07:56.974Z"
   },
   {
    "duration": 15,
    "start_time": "2021-09-02T19:07:56.998Z"
   },
   {
    "duration": 5,
    "start_time": "2021-09-02T19:07:57.014Z"
   },
   {
    "duration": 473,
    "start_time": "2021-09-02T19:07:57.020Z"
   },
   {
    "duration": 492,
    "start_time": "2021-09-02T19:07:57.494Z"
   },
   {
    "duration": 549,
    "start_time": "2021-09-02T19:07:57.991Z"
   },
   {
    "duration": 9,
    "start_time": "2021-09-02T19:07:58.542Z"
   },
   {
    "duration": 7,
    "start_time": "2021-09-02T19:07:58.552Z"
   },
   {
    "duration": 10,
    "start_time": "2021-09-02T19:07:58.560Z"
   },
   {
    "duration": 4,
    "start_time": "2021-09-02T19:07:58.591Z"
   }
  ],
  "kernelspec": {
   "display_name": "Python 3",
   "language": "python",
   "name": "python3"
  },
  "language_info": {
   "codemirror_mode": {
    "name": "ipython",
    "version": 3
   },
   "file_extension": ".py",
   "mimetype": "text/x-python",
   "name": "python",
   "nbconvert_exporter": "python",
   "pygments_lexer": "ipython3",
   "version": "3.7.10"
  },
  "toc": {
   "base_numbering": 1,
   "nav_menu": {},
   "number_sections": true,
   "sideBar": true,
   "skip_h1_title": true,
   "title_cell": "Table of Contents",
   "title_sidebar": "Contents",
   "toc_cell": false,
   "toc_position": {},
   "toc_section_display": true,
   "toc_window_display": false
  }
 },
 "nbformat": 4,
 "nbformat_minor": 2
}
