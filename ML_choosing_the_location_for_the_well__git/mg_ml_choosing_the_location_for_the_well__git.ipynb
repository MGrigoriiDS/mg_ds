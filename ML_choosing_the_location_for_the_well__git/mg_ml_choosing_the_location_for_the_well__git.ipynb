{
 "cells": [
  {
   "cell_type": "markdown",
   "metadata": {},
   "source": [
    "# Определение региона, где добыча нефти принесет наибольшую прибыль. Анализ возможной прибыли и рисков. "
   ]
  },
  {
   "cell_type": "markdown",
   "metadata": {},
   "source": [
    "Допустим, вы работаете в добывающей компании «ГлавРосГосНефть». Нужно решить, где бурить новую скважину.\n",
    "\n",
    "Вам предоставлены пробы нефти в трёх регионах: в каждом 10 000 месторождений, где измерили качество нефти и объём её запасов. Постройте модель машинного обучения, которая поможет определить регион, где добыча принесёт наибольшую прибыль. Проанализируйте возможную прибыль и риски техникой *Bootstrap.*\n",
    "\n",
    "Шаги для выбора локации:\n",
    "\n",
    "- В избранном регионе ищут месторождения, для каждого определяют значения признаков;\n",
    "- Строят модель и оценивают объём запасов;\n",
    "- Выбирают месторождения с самым высокими оценками значений. Количество месторождений зависит от бюджета компании и стоимости разработки одной скважины;\n",
    "- Прибыль равна суммарной прибыли отобранных месторождений.\n",
    "\n",
    "Описание данных:\n",
    "- f0, f1, f2 — три признака точек (неважно, что они означают, но сами признаки значимы);\n",
    "- product — объём запасов в скважине (тыс. баррелей)\n",
    "\n",
    "Условия:\n",
    "- При разведке региона исследуют 500 точек, из которых с помощью машинного обучения выбирают 200 лучших для разработки.\n",
    "- Бюджет на разработку скважин в регионе — 10 млрд рублей.\n",
    "- При нынешних ценах один баррель сырья приносит 450 рублей дохода. Доход с каждой единицы продукта составляет 450 тыс. рублей, поскольку объём указан в тысячах баррелей.\n",
    "- После оценки рисков нужно оставить лишь те регионы, в которых вероятность убытков меньше 2.5%. Среди них выбирают регион с наибольшей средней прибылью.\n"
   ]
  },
  {
   "cell_type": "markdown",
   "metadata": {},
   "source": [
    "## Загрузка и подготовка данных"
   ]
  },
  {
   "cell_type": "code",
   "execution_count": 96,
   "metadata": {},
   "outputs": [],
   "source": [
    "# импортируем необходимые библиотеки\n",
    "import pandas as pd\n",
    "from sklearn.model_selection import train_test_split\n",
    "from sklearn.linear_model import LinearRegression\n",
    "from sklearn.metrics import mean_squared_error as mse\n",
    "import numpy as np\n",
    "import seaborn as sns"
   ]
  },
  {
   "cell_type": "code",
   "execution_count": 97,
   "metadata": {},
   "outputs": [],
   "source": [
    "# прочитаем данные и создадим датафреймы\n",
    "geo_data_0 = pd.read_csv('geo_data_0.csv')\n",
    "geo_data_1 = pd.read_csv('geo_data_1.csv')\n",
    "geo_data_2 = pd.read_csv('geo_data_2.csv')"
   ]
  },
  {
   "cell_type": "code",
   "execution_count": 98,
   "metadata": {},
   "outputs": [
    {
     "data": {
      "text/html": [
       "<div>\n",
       "<style scoped>\n",
       "    .dataframe tbody tr th:only-of-type {\n",
       "        vertical-align: middle;\n",
       "    }\n",
       "\n",
       "    .dataframe tbody tr th {\n",
       "        vertical-align: top;\n",
       "    }\n",
       "\n",
       "    .dataframe thead th {\n",
       "        text-align: right;\n",
       "    }\n",
       "</style>\n",
       "<table border=\"1\" class=\"dataframe\">\n",
       "  <thead>\n",
       "    <tr style=\"text-align: right;\">\n",
       "      <th></th>\n",
       "      <th>id</th>\n",
       "      <th>f0</th>\n",
       "      <th>f1</th>\n",
       "      <th>f2</th>\n",
       "      <th>product</th>\n",
       "    </tr>\n",
       "  </thead>\n",
       "  <tbody>\n",
       "    <tr>\n",
       "      <td>0</td>\n",
       "      <td>txEyH</td>\n",
       "      <td>0.71</td>\n",
       "      <td>-0.50</td>\n",
       "      <td>1.22</td>\n",
       "      <td>105.28</td>\n",
       "    </tr>\n",
       "    <tr>\n",
       "      <td>1</td>\n",
       "      <td>2acmU</td>\n",
       "      <td>1.33</td>\n",
       "      <td>-0.34</td>\n",
       "      <td>4.37</td>\n",
       "      <td>73.04</td>\n",
       "    </tr>\n",
       "    <tr>\n",
       "      <td>2</td>\n",
       "      <td>409Wp</td>\n",
       "      <td>1.02</td>\n",
       "      <td>0.15</td>\n",
       "      <td>1.42</td>\n",
       "      <td>85.27</td>\n",
       "    </tr>\n",
       "    <tr>\n",
       "      <td>3</td>\n",
       "      <td>iJLyR</td>\n",
       "      <td>-0.03</td>\n",
       "      <td>0.14</td>\n",
       "      <td>2.98</td>\n",
       "      <td>168.62</td>\n",
       "    </tr>\n",
       "    <tr>\n",
       "      <td>4</td>\n",
       "      <td>Xdl7t</td>\n",
       "      <td>1.99</td>\n",
       "      <td>0.16</td>\n",
       "      <td>4.75</td>\n",
       "      <td>154.04</td>\n",
       "    </tr>\n",
       "  </tbody>\n",
       "</table>\n",
       "</div>"
      ],
      "text/plain": [
       "      id    f0    f1   f2  product\n",
       "0  txEyH  0.71 -0.50 1.22   105.28\n",
       "1  2acmU  1.33 -0.34 4.37    73.04\n",
       "2  409Wp  1.02  0.15 1.42    85.27\n",
       "3  iJLyR -0.03  0.14 2.98   168.62\n",
       "4  Xdl7t  1.99  0.16 4.75   154.04"
      ]
     },
     "metadata": {},
     "output_type": "display_data"
    },
    {
     "data": {
      "text/html": [
       "<div>\n",
       "<style scoped>\n",
       "    .dataframe tbody tr th:only-of-type {\n",
       "        vertical-align: middle;\n",
       "    }\n",
       "\n",
       "    .dataframe tbody tr th {\n",
       "        vertical-align: top;\n",
       "    }\n",
       "\n",
       "    .dataframe thead th {\n",
       "        text-align: right;\n",
       "    }\n",
       "</style>\n",
       "<table border=\"1\" class=\"dataframe\">\n",
       "  <thead>\n",
       "    <tr style=\"text-align: right;\">\n",
       "      <th></th>\n",
       "      <th>id</th>\n",
       "      <th>f0</th>\n",
       "      <th>f1</th>\n",
       "      <th>f2</th>\n",
       "      <th>product</th>\n",
       "    </tr>\n",
       "  </thead>\n",
       "  <tbody>\n",
       "    <tr>\n",
       "      <td>0</td>\n",
       "      <td>kBEdx</td>\n",
       "      <td>-15.00</td>\n",
       "      <td>-8.28</td>\n",
       "      <td>-0.01</td>\n",
       "      <td>3.18</td>\n",
       "    </tr>\n",
       "    <tr>\n",
       "      <td>1</td>\n",
       "      <td>62mP7</td>\n",
       "      <td>14.27</td>\n",
       "      <td>-3.48</td>\n",
       "      <td>1.00</td>\n",
       "      <td>26.95</td>\n",
       "    </tr>\n",
       "    <tr>\n",
       "      <td>2</td>\n",
       "      <td>vyE1P</td>\n",
       "      <td>6.26</td>\n",
       "      <td>-5.95</td>\n",
       "      <td>5.00</td>\n",
       "      <td>134.77</td>\n",
       "    </tr>\n",
       "    <tr>\n",
       "      <td>3</td>\n",
       "      <td>KcrkZ</td>\n",
       "      <td>-13.08</td>\n",
       "      <td>-11.51</td>\n",
       "      <td>5.00</td>\n",
       "      <td>137.95</td>\n",
       "    </tr>\n",
       "    <tr>\n",
       "      <td>4</td>\n",
       "      <td>AHL4O</td>\n",
       "      <td>12.70</td>\n",
       "      <td>-8.15</td>\n",
       "      <td>5.00</td>\n",
       "      <td>134.77</td>\n",
       "    </tr>\n",
       "  </tbody>\n",
       "</table>\n",
       "</div>"
      ],
      "text/plain": [
       "      id     f0     f1    f2  product\n",
       "0  kBEdx -15.00  -8.28 -0.01     3.18\n",
       "1  62mP7  14.27  -3.48  1.00    26.95\n",
       "2  vyE1P   6.26  -5.95  5.00   134.77\n",
       "3  KcrkZ -13.08 -11.51  5.00   137.95\n",
       "4  AHL4O  12.70  -8.15  5.00   134.77"
      ]
     },
     "metadata": {},
     "output_type": "display_data"
    },
    {
     "data": {
      "text/html": [
       "<div>\n",
       "<style scoped>\n",
       "    .dataframe tbody tr th:only-of-type {\n",
       "        vertical-align: middle;\n",
       "    }\n",
       "\n",
       "    .dataframe tbody tr th {\n",
       "        vertical-align: top;\n",
       "    }\n",
       "\n",
       "    .dataframe thead th {\n",
       "        text-align: right;\n",
       "    }\n",
       "</style>\n",
       "<table border=\"1\" class=\"dataframe\">\n",
       "  <thead>\n",
       "    <tr style=\"text-align: right;\">\n",
       "      <th></th>\n",
       "      <th>id</th>\n",
       "      <th>f0</th>\n",
       "      <th>f1</th>\n",
       "      <th>f2</th>\n",
       "      <th>product</th>\n",
       "    </tr>\n",
       "  </thead>\n",
       "  <tbody>\n",
       "    <tr>\n",
       "      <td>0</td>\n",
       "      <td>fwXo0</td>\n",
       "      <td>-1.15</td>\n",
       "      <td>0.96</td>\n",
       "      <td>-0.83</td>\n",
       "      <td>27.76</td>\n",
       "    </tr>\n",
       "    <tr>\n",
       "      <td>1</td>\n",
       "      <td>WJtFt</td>\n",
       "      <td>0.26</td>\n",
       "      <td>0.27</td>\n",
       "      <td>-2.53</td>\n",
       "      <td>56.07</td>\n",
       "    </tr>\n",
       "    <tr>\n",
       "      <td>2</td>\n",
       "      <td>ovLUW</td>\n",
       "      <td>0.19</td>\n",
       "      <td>0.29</td>\n",
       "      <td>-5.59</td>\n",
       "      <td>62.87</td>\n",
       "    </tr>\n",
       "    <tr>\n",
       "      <td>3</td>\n",
       "      <td>q6cA6</td>\n",
       "      <td>2.24</td>\n",
       "      <td>-0.55</td>\n",
       "      <td>0.93</td>\n",
       "      <td>114.57</td>\n",
       "    </tr>\n",
       "    <tr>\n",
       "      <td>4</td>\n",
       "      <td>WPMUX</td>\n",
       "      <td>-0.52</td>\n",
       "      <td>1.72</td>\n",
       "      <td>5.90</td>\n",
       "      <td>149.60</td>\n",
       "    </tr>\n",
       "  </tbody>\n",
       "</table>\n",
       "</div>"
      ],
      "text/plain": [
       "      id    f0    f1    f2  product\n",
       "0  fwXo0 -1.15  0.96 -0.83    27.76\n",
       "1  WJtFt  0.26  0.27 -2.53    56.07\n",
       "2  ovLUW  0.19  0.29 -5.59    62.87\n",
       "3  q6cA6  2.24 -0.55  0.93   114.57\n",
       "4  WPMUX -0.52  1.72  5.90   149.60"
      ]
     },
     "metadata": {},
     "output_type": "display_data"
    }
   ],
   "source": [
    "# выведем на экран первые 5 строк таблиц для каждого из трех регионов\n",
    "display(geo_data_0.head())\n",
    "display(geo_data_1.head())\n",
    "display(geo_data_2.head())\n"
   ]
  },
  {
   "cell_type": "markdown",
   "metadata": {},
   "source": [
    "Изучим данные"
   ]
  },
  {
   "cell_type": "code",
   "execution_count": 99,
   "metadata": {},
   "outputs": [
    {
     "name": "stdout",
     "output_type": "stream",
     "text": [
      "<class 'pandas.core.frame.DataFrame'>\n",
      "RangeIndex: 100000 entries, 0 to 99999\n",
      "Data columns (total 5 columns):\n",
      "id         100000 non-null object\n",
      "f0         100000 non-null float64\n",
      "f1         100000 non-null float64\n",
      "f2         100000 non-null float64\n",
      "product    100000 non-null float64\n",
      "dtypes: float64(4), object(1)\n",
      "memory usage: 3.8+ MB\n",
      "None\n",
      "             f0        f1        f2   product\n",
      "count 100000.00 100000.00 100000.00 100000.00\n",
      "mean       0.50      0.25      2.50     92.50\n",
      "std        0.87      0.50      3.25     44.29\n",
      "min       -1.41     -0.85    -12.09      0.00\n",
      "25%       -0.07     -0.20      0.29     56.50\n",
      "50%        0.50      0.25      2.52     91.85\n",
      "75%        1.07      0.70      4.72    128.56\n",
      "max        2.36      1.34     16.00    185.36\n"
     ]
    }
   ],
   "source": [
    "print(geo_data_0.info())\n",
    "print(geo_data_0.describe())"
   ]
  },
  {
   "cell_type": "code",
   "execution_count": 100,
   "metadata": {},
   "outputs": [
    {
     "name": "stdout",
     "output_type": "stream",
     "text": [
      "<class 'pandas.core.frame.DataFrame'>\n",
      "RangeIndex: 100000 entries, 0 to 99999\n",
      "Data columns (total 5 columns):\n",
      "id         100000 non-null object\n",
      "f0         100000 non-null float64\n",
      "f1         100000 non-null float64\n",
      "f2         100000 non-null float64\n",
      "product    100000 non-null float64\n",
      "dtypes: float64(4), object(1)\n",
      "memory usage: 3.8+ MB\n",
      "None\n",
      "             f0        f1        f2   product\n",
      "count 100000.00 100000.00 100000.00 100000.00\n",
      "mean       1.14     -4.80      2.49     68.83\n",
      "std        8.97      5.12      1.70     45.94\n",
      "min      -31.61    -26.36     -0.02      0.00\n",
      "25%       -6.30     -8.27      1.00     26.95\n",
      "50%        1.15     -4.81      2.01     57.09\n",
      "75%        8.62     -1.33      4.00    107.81\n",
      "max       29.42     18.73      5.02    137.95\n"
     ]
    }
   ],
   "source": [
    "print(geo_data_1.info())\n",
    "print(geo_data_1.describe())"
   ]
  },
  {
   "cell_type": "code",
   "execution_count": 101,
   "metadata": {},
   "outputs": [
    {
     "name": "stdout",
     "output_type": "stream",
     "text": [
      "<class 'pandas.core.frame.DataFrame'>\n",
      "RangeIndex: 100000 entries, 0 to 99999\n",
      "Data columns (total 5 columns):\n",
      "id         100000 non-null object\n",
      "f0         100000 non-null float64\n",
      "f1         100000 non-null float64\n",
      "f2         100000 non-null float64\n",
      "product    100000 non-null float64\n",
      "dtypes: float64(4), object(1)\n",
      "memory usage: 3.8+ MB\n",
      "None\n",
      "             f0        f1        f2   product\n",
      "count 100000.00 100000.00 100000.00 100000.00\n",
      "mean       0.00     -0.00      2.50     95.00\n",
      "std        1.73      1.73      3.47     44.75\n",
      "min       -8.76     -7.08    -11.97      0.00\n",
      "25%       -1.16     -1.17      0.13     59.45\n",
      "50%        0.01     -0.01      2.48     94.93\n",
      "75%        1.16      1.16      4.86    130.60\n",
      "max        7.24      7.84     16.74    190.03\n"
     ]
    }
   ],
   "source": [
    "print(geo_data_2.info())\n",
    "print(geo_data_2.describe())"
   ]
  },
  {
   "cell_type": "code",
   "execution_count": 104,
   "metadata": {},
   "outputs": [
    {
     "name": "stdout",
     "output_type": "stream",
     "text": [
      "0\n",
      "0\n",
      "0\n",
      "id          99990\n",
      "f0         100000\n",
      "f1         100000\n",
      "f2         100000\n",
      "product    100000\n",
      "dtype: int64\n",
      "id          99996\n",
      "f0         100000\n",
      "f1         100000\n",
      "f2         100000\n",
      "product        12\n",
      "dtype: int64\n",
      "id          99996\n",
      "f0         100000\n",
      "f1         100000\n",
      "f2         100000\n",
      "product    100000\n",
      "dtype: int64\n"
     ]
    }
   ],
   "source": [
    "# проверим на дубликаты и уникальные значения\n",
    "print(geo_data_0.duplicated().sum())\n",
    "print(geo_data_1.duplicated().sum())\n",
    "print(geo_data_2.duplicated().sum())\n",
    "print(geo_data_0.nunique())\n",
    "print(geo_data_1.nunique())\n",
    "print(geo_data_2.nunique())"
   ]
  },
  {
   "cell_type": "markdown",
   "metadata": {},
   "source": [
    "Все датасеты имеют одинаковую размерность. По 5 столбцов и по 100 000 строк. Столбцы: f0, f1, f2 — три признака точек (неважно, что они означают, но сами признаки значимы), product — объём запасов в скважине (тыс. баррелей), столбец \"id\" - уникальный идентификатор местрождения. Столюец \"id\" не несет значимых признаков для обучения модели, удалим его. Типы данных: столбец \"id\" - это \"object\", остальные столбцы \"float64\". Пропусков в данных нет, дубликатов в нужных столбцах нет. Названия столбцов корректны. "
   ]
  },
  {
   "cell_type": "code",
   "execution_count": 105,
   "metadata": {},
   "outputs": [
    {
     "data": {
      "text/html": [
       "<div>\n",
       "<style scoped>\n",
       "    .dataframe tbody tr th:only-of-type {\n",
       "        vertical-align: middle;\n",
       "    }\n",
       "\n",
       "    .dataframe tbody tr th {\n",
       "        vertical-align: top;\n",
       "    }\n",
       "\n",
       "    .dataframe thead th {\n",
       "        text-align: right;\n",
       "    }\n",
       "</style>\n",
       "<table border=\"1\" class=\"dataframe\">\n",
       "  <thead>\n",
       "    <tr style=\"text-align: right;\">\n",
       "      <th></th>\n",
       "      <th>f0</th>\n",
       "      <th>f1</th>\n",
       "      <th>f2</th>\n",
       "      <th>product</th>\n",
       "    </tr>\n",
       "  </thead>\n",
       "  <tbody>\n",
       "    <tr>\n",
       "      <td>0</td>\n",
       "      <td>0.71</td>\n",
       "      <td>-0.50</td>\n",
       "      <td>1.22</td>\n",
       "      <td>105.28</td>\n",
       "    </tr>\n",
       "    <tr>\n",
       "      <td>1</td>\n",
       "      <td>1.33</td>\n",
       "      <td>-0.34</td>\n",
       "      <td>4.37</td>\n",
       "      <td>73.04</td>\n",
       "    </tr>\n",
       "    <tr>\n",
       "      <td>2</td>\n",
       "      <td>1.02</td>\n",
       "      <td>0.15</td>\n",
       "      <td>1.42</td>\n",
       "      <td>85.27</td>\n",
       "    </tr>\n",
       "    <tr>\n",
       "      <td>3</td>\n",
       "      <td>-0.03</td>\n",
       "      <td>0.14</td>\n",
       "      <td>2.98</td>\n",
       "      <td>168.62</td>\n",
       "    </tr>\n",
       "    <tr>\n",
       "      <td>4</td>\n",
       "      <td>1.99</td>\n",
       "      <td>0.16</td>\n",
       "      <td>4.75</td>\n",
       "      <td>154.04</td>\n",
       "    </tr>\n",
       "  </tbody>\n",
       "</table>\n",
       "</div>"
      ],
      "text/plain": [
       "     f0    f1   f2  product\n",
       "0  0.71 -0.50 1.22   105.28\n",
       "1  1.33 -0.34 4.37    73.04\n",
       "2  1.02  0.15 1.42    85.27\n",
       "3 -0.03  0.14 2.98   168.62\n",
       "4  1.99  0.16 4.75   154.04"
      ]
     },
     "execution_count": 105,
     "metadata": {},
     "output_type": "execute_result"
    }
   ],
   "source": [
    "# создадим новые датафреймы, в них будут данные которые необходимы для обучения модели (удалим столбец \"id\")\n",
    "df_0 = geo_data_0.drop('id', axis=1)\n",
    "df_1 = geo_data_1.drop('id', axis=1)\n",
    "df_2 = geo_data_2.drop('id', axis=1)\n",
    "df_0.head()"
   ]
  },
  {
   "cell_type": "markdown",
   "metadata": {},
   "source": [
    "### Вывод. \n",
    "Данные изучены, подготовлены, переходим к обучению и проверке модели."
   ]
  },
  {
   "cell_type": "markdown",
   "metadata": {},
   "source": [
    "## Обучение и проверка модели"
   ]
  },
  {
   "cell_type": "markdown",
   "metadata": {},
   "source": [
    "Разобьем данные для каждого региона на две выборки: обучающую и валидационную. Разобьем их в отношении 75:25"
   ]
  },
  {
   "cell_type": "code",
   "execution_count": 106,
   "metadata": {},
   "outputs": [],
   "source": [
    "# Разделим датафрейм на features и target - целевой признак\n",
    "target_0 = df_0['product']\n",
    "features_0 = df_0.drop('product', axis=1)\n",
    "\n",
    "# Разделим датафрейм на обучающую и валидационную выборку\n",
    "features_0_train, features_0_valid, target_0_train, target_0_valid = train_test_split(\n",
    "    features_0, target_0, test_size=0.25, random_state=12345)"
   ]
  },
  {
   "cell_type": "code",
   "execution_count": 107,
   "metadata": {},
   "outputs": [
    {
     "name": "stdout",
     "output_type": "stream",
     "text": [
      "(75000, 3)\n",
      "(25000, 3)\n",
      "(75000,)\n",
      "(25000,)\n"
     ]
    }
   ],
   "source": [
    "# выведем размерности полученных переменных\n",
    "var_list_0 = [features_0_train, features_0_valid, target_0_train, target_0_valid]\n",
    "for var in var_list:\n",
    "    print(var.shape)"
   ]
  },
  {
   "cell_type": "code",
   "execution_count": 108,
   "metadata": {},
   "outputs": [],
   "source": [
    "# Разделим датафрейм на features и target - целевой признак\n",
    "target_1 = df_1['product']\n",
    "features_1 = df_1.drop('product', axis=1)\n",
    "\n",
    "# Разделим датафрейм на обучающую и валидационную выборку\n",
    "features_1_train, features_1_valid, target_1_train, target_1_valid = train_test_split(\n",
    "    features_1, target_1, test_size=0.25, random_state=12345)"
   ]
  },
  {
   "cell_type": "code",
   "execution_count": 109,
   "metadata": {},
   "outputs": [
    {
     "name": "stdout",
     "output_type": "stream",
     "text": [
      "(75000, 3)\n",
      "(25000, 3)\n",
      "(75000,)\n",
      "(25000,)\n"
     ]
    }
   ],
   "source": [
    "# выведем размерности полученных переменных\n",
    "var_list_1 = [features_1_train, features_1_valid, target_1_train, target_1_valid]\n",
    "for var in var_list:\n",
    "    print(var.shape)"
   ]
  },
  {
   "cell_type": "code",
   "execution_count": 110,
   "metadata": {},
   "outputs": [],
   "source": [
    "# Разделим датафрейм на features и target - целевой признак\n",
    "target_2 = df_2['product']\n",
    "features_2 = df_2.drop('product', axis=1)\n",
    "\n",
    "# Разделим датафрейм на обучающую и валидационную выборку\n",
    "features_2_train, features_2_valid, target_2_train, target_2_valid = train_test_split(\n",
    "    features_2, target_2, test_size=0.25, random_state=12345)"
   ]
  },
  {
   "cell_type": "code",
   "execution_count": 111,
   "metadata": {},
   "outputs": [
    {
     "name": "stdout",
     "output_type": "stream",
     "text": [
      "(75000, 3)\n",
      "(25000, 3)\n",
      "(75000,)\n",
      "(25000,)\n"
     ]
    }
   ],
   "source": [
    "# выведем размерности полученных переменных\n",
    "var_list_2 = [features_2_train, features_2_valid, target_2_train, target_2_valid]\n",
    "for var in var_list:\n",
    "    print(var.shape)"
   ]
  },
  {
   "cell_type": "markdown",
   "metadata": {},
   "source": [
    "Для обучения модели подходит только линейная регрессия, остальные недостаточно предсказуемые. Обучим модель линейной регрессии.Предсказания модели сохраним в переменной predictions. В переменной result сохраним показатель среднеквадратической ошибки RMSE для целевого признака валидационной выборки и предсказаний модели."
   ]
  },
  {
   "cell_type": "markdown",
   "metadata": {},
   "source": [
    "### Модель 0"
   ]
  },
  {
   "cell_type": "code",
   "execution_count": 122,
   "metadata": {},
   "outputs": [
    {
     "name": "stdout",
     "output_type": "stream",
     "text": [
      "RMSE 37.5794217150813\n",
      "Prediction_mean 92.59256778438038\n"
     ]
    }
   ],
   "source": [
    "model_0 = LinearRegression()\n",
    "model_0.fit(features_0_train, target_0_train)\n",
    "predictions_0 = pd.Series(model_0.predict(features_0_valid))\n",
    "result_0 = mse(target_0_valid, predictions_0)**.5\n",
    "\n",
    "print('RMSE', result_0)\n",
    "print('Prediction_mean', predictions_0.mean())"
   ]
  },
  {
   "cell_type": "markdown",
   "metadata": {},
   "source": [
    "### Модель 1"
   ]
  },
  {
   "cell_type": "code",
   "execution_count": 120,
   "metadata": {},
   "outputs": [
    {
     "name": "stdout",
     "output_type": "stream",
     "text": [
      "RMSE 0.8930992867756155\n",
      "Prediction_mean 68.72854689544602\n"
     ]
    }
   ],
   "source": [
    "model_1 = LinearRegression()\n",
    "model_1.fit(features_1_train, target_1_train)\n",
    "predictions_1 = pd.Series(model_1.predict(features_1_valid))\n",
    "result_1 = mse(target_1_valid, predictions_1)**.5\n",
    "\n",
    "print('RMSE', result_1)\n",
    "print('Prediction_mean', predictions_1.mean())"
   ]
  },
  {
   "cell_type": "markdown",
   "metadata": {},
   "source": [
    "### Модель 2"
   ]
  },
  {
   "cell_type": "code",
   "execution_count": 121,
   "metadata": {},
   "outputs": [
    {
     "name": "stdout",
     "output_type": "stream",
     "text": [
      "RMSE 40.02970873393434\n",
      "Prediction_mean 94.96504596800489\n"
     ]
    }
   ],
   "source": [
    "model_2 = LinearRegression()\n",
    "model_2.fit(features_2_train, target_2_train)\n",
    "predictions_2 = pd.Series(model_2.predict(features_2_valid))\n",
    "result_2 = mse(target_2_valid, predictions_2)**.5\n",
    "\n",
    "print('RMSE', result_2)\n",
    "print('Prediction_mean', predictions_2.mean())"
   ]
  },
  {
   "cell_type": "markdown",
   "metadata": {},
   "source": [
    "Создадим таблицу из полученных результатов"
   ]
  },
  {
   "cell_type": "code",
   "execution_count": 116,
   "metadata": {},
   "outputs": [],
   "source": [
    "predictions_list = [predictions_0, predictions_1, predictions_2]"
   ]
  },
  {
   "cell_type": "code",
   "execution_count": 124,
   "metadata": {},
   "outputs": [],
   "source": [
    "df = {'value':['rmse', 'predictions_mean', 'product_mean', 'product_min', 'product_max'],\n",
    "        'df_0':[result_0, predictions_0.mean(), df_0['product'].mean(), df_0['product'].min(),\n",
    "                      df_0['product'].max()],\n",
    "        'df_1': [result_1, predictions_1.mean(), df_1['product'].mean(), df_1['product'].min(),\n",
    "                       df_1['product'].max()],\n",
    "        'df_2': [result_2, predictions_2.mean(), df_2['product'].mean(), df_2['product'].min(),\n",
    "                       df_2['product'].max()]}\n",
    "        \n",
    "\n",
    "    \n",
    "results = pd.DataFrame(df)"
   ]
  },
  {
   "cell_type": "code",
   "execution_count": 125,
   "metadata": {},
   "outputs": [
    {
     "data": {
      "text/html": [
       "<div>\n",
       "<style scoped>\n",
       "    .dataframe tbody tr th:only-of-type {\n",
       "        vertical-align: middle;\n",
       "    }\n",
       "\n",
       "    .dataframe tbody tr th {\n",
       "        vertical-align: top;\n",
       "    }\n",
       "\n",
       "    .dataframe thead th {\n",
       "        text-align: right;\n",
       "    }\n",
       "</style>\n",
       "<table border=\"1\" class=\"dataframe\">\n",
       "  <thead>\n",
       "    <tr style=\"text-align: right;\">\n",
       "      <th></th>\n",
       "      <th>value</th>\n",
       "      <th>df_0</th>\n",
       "      <th>df_1</th>\n",
       "      <th>df_2</th>\n",
       "    </tr>\n",
       "  </thead>\n",
       "  <tbody>\n",
       "    <tr>\n",
       "      <td>0</td>\n",
       "      <td>rmse</td>\n",
       "      <td>37.58</td>\n",
       "      <td>0.89</td>\n",
       "      <td>40.03</td>\n",
       "    </tr>\n",
       "    <tr>\n",
       "      <td>1</td>\n",
       "      <td>predictions_mean</td>\n",
       "      <td>92.59</td>\n",
       "      <td>68.73</td>\n",
       "      <td>94.97</td>\n",
       "    </tr>\n",
       "    <tr>\n",
       "      <td>2</td>\n",
       "      <td>product_mean</td>\n",
       "      <td>92.50</td>\n",
       "      <td>68.83</td>\n",
       "      <td>95.00</td>\n",
       "    </tr>\n",
       "    <tr>\n",
       "      <td>3</td>\n",
       "      <td>product_min</td>\n",
       "      <td>0.00</td>\n",
       "      <td>0.00</td>\n",
       "      <td>0.00</td>\n",
       "    </tr>\n",
       "    <tr>\n",
       "      <td>4</td>\n",
       "      <td>product_max</td>\n",
       "      <td>185.36</td>\n",
       "      <td>137.95</td>\n",
       "      <td>190.03</td>\n",
       "    </tr>\n",
       "  </tbody>\n",
       "</table>\n",
       "</div>"
      ],
      "text/plain": [
       "              value   df_0   df_1   df_2\n",
       "0              rmse  37.58   0.89  40.03\n",
       "1  predictions_mean  92.59  68.73  94.97\n",
       "2      product_mean  92.50  68.83  95.00\n",
       "3       product_min   0.00   0.00   0.00\n",
       "4       product_max 185.36 137.95 190.03"
      ]
     },
     "execution_count": 125,
     "metadata": {},
     "output_type": "execute_result"
    }
   ],
   "source": [
    "results"
   ]
  },
  {
   "cell_type": "markdown",
   "metadata": {},
   "source": [
    "Проверим, как коррелируют между собой признаки"
   ]
  },
  {
   "cell_type": "code",
   "execution_count": 126,
   "metadata": {},
   "outputs": [
    {
     "data": {
      "text/html": [
       "<style  type=\"text/css\" >\n",
       "    #T_b80ffe6e_2dae_11ec_8177_fc9540bf7cbdrow0_col0 {\n",
       "            background-color:  #b40426;\n",
       "            color:  #f1f1f1;\n",
       "        }    #T_b80ffe6e_2dae_11ec_8177_fc9540bf7cbdrow0_col1 {\n",
       "            background-color:  #3b4cc0;\n",
       "            color:  #f1f1f1;\n",
       "        }    #T_b80ffe6e_2dae_11ec_8177_fc9540bf7cbdrow0_col2 {\n",
       "            background-color:  #3b4cc0;\n",
       "            color:  #f1f1f1;\n",
       "        }    #T_b80ffe6e_2dae_11ec_8177_fc9540bf7cbdrow0_col3 {\n",
       "            background-color:  #98b9ff;\n",
       "            color:  #000000;\n",
       "        }    #T_b80ffe6e_2dae_11ec_8177_fc9540bf7cbdrow1_col0 {\n",
       "            background-color:  #3b4cc0;\n",
       "            color:  #f1f1f1;\n",
       "        }    #T_b80ffe6e_2dae_11ec_8177_fc9540bf7cbdrow1_col1 {\n",
       "            background-color:  #b40426;\n",
       "            color:  #f1f1f1;\n",
       "        }    #T_b80ffe6e_2dae_11ec_8177_fc9540bf7cbdrow1_col2 {\n",
       "            background-color:  #3c4ec2;\n",
       "            color:  #f1f1f1;\n",
       "        }    #T_b80ffe6e_2dae_11ec_8177_fc9540bf7cbdrow1_col3 {\n",
       "            background-color:  #3b4cc0;\n",
       "            color:  #f1f1f1;\n",
       "        }    #T_b80ffe6e_2dae_11ec_8177_fc9540bf7cbdrow2_col0 {\n",
       "            background-color:  #9fbfff;\n",
       "            color:  #000000;\n",
       "        }    #T_b80ffe6e_2dae_11ec_8177_fc9540bf7cbdrow2_col1 {\n",
       "            background-color:  #a1c0ff;\n",
       "            color:  #000000;\n",
       "        }    #T_b80ffe6e_2dae_11ec_8177_fc9540bf7cbdrow2_col2 {\n",
       "            background-color:  #b40426;\n",
       "            color:  #f1f1f1;\n",
       "        }    #T_b80ffe6e_2dae_11ec_8177_fc9540bf7cbdrow2_col3 {\n",
       "            background-color:  #edd2c3;\n",
       "            color:  #000000;\n",
       "        }    #T_b80ffe6e_2dae_11ec_8177_fc9540bf7cbdrow3_col0 {\n",
       "            background-color:  #c1d4f4;\n",
       "            color:  #000000;\n",
       "        }    #T_b80ffe6e_2dae_11ec_8177_fc9540bf7cbdrow3_col1 {\n",
       "            background-color:  #7295f4;\n",
       "            color:  #000000;\n",
       "        }    #T_b80ffe6e_2dae_11ec_8177_fc9540bf7cbdrow3_col2 {\n",
       "            background-color:  #d9dce1;\n",
       "            color:  #000000;\n",
       "        }    #T_b80ffe6e_2dae_11ec_8177_fc9540bf7cbdrow3_col3 {\n",
       "            background-color:  #b40426;\n",
       "            color:  #f1f1f1;\n",
       "        }</style><table id=\"T_b80ffe6e_2dae_11ec_8177_fc9540bf7cbd\" ><thead>    <tr>        <th class=\"blank level0\" ></th>        <th class=\"col_heading level0 col0\" >f0</th>        <th class=\"col_heading level0 col1\" >f1</th>        <th class=\"col_heading level0 col2\" >f2</th>        <th class=\"col_heading level0 col3\" >product</th>    </tr></thead><tbody>\n",
       "                <tr>\n",
       "                        <th id=\"T_b80ffe6e_2dae_11ec_8177_fc9540bf7cbdlevel0_row0\" class=\"row_heading level0 row0\" >f0</th>\n",
       "                        <td id=\"T_b80ffe6e_2dae_11ec_8177_fc9540bf7cbdrow0_col0\" class=\"data row0 col0\" >1</td>\n",
       "                        <td id=\"T_b80ffe6e_2dae_11ec_8177_fc9540bf7cbdrow0_col1\" class=\"data row0 col1\" >-0.440723</td>\n",
       "                        <td id=\"T_b80ffe6e_2dae_11ec_8177_fc9540bf7cbdrow0_col2\" class=\"data row0 col2\" >-0.00315334</td>\n",
       "                        <td id=\"T_b80ffe6e_2dae_11ec_8177_fc9540bf7cbdrow0_col3\" class=\"data row0 col3\" >0.143536</td>\n",
       "            </tr>\n",
       "            <tr>\n",
       "                        <th id=\"T_b80ffe6e_2dae_11ec_8177_fc9540bf7cbdlevel0_row1\" class=\"row_heading level0 row1\" >f1</th>\n",
       "                        <td id=\"T_b80ffe6e_2dae_11ec_8177_fc9540bf7cbdrow1_col0\" class=\"data row1 col0\" >-0.440723</td>\n",
       "                        <td id=\"T_b80ffe6e_2dae_11ec_8177_fc9540bf7cbdrow1_col1\" class=\"data row1 col1\" >1</td>\n",
       "                        <td id=\"T_b80ffe6e_2dae_11ec_8177_fc9540bf7cbdrow1_col2\" class=\"data row1 col2\" >0.00172443</td>\n",
       "                        <td id=\"T_b80ffe6e_2dae_11ec_8177_fc9540bf7cbdrow1_col3\" class=\"data row1 col3\" >-0.192356</td>\n",
       "            </tr>\n",
       "            <tr>\n",
       "                        <th id=\"T_b80ffe6e_2dae_11ec_8177_fc9540bf7cbdlevel0_row2\" class=\"row_heading level0 row2\" >f2</th>\n",
       "                        <td id=\"T_b80ffe6e_2dae_11ec_8177_fc9540bf7cbdrow2_col0\" class=\"data row2 col0\" >-0.00315334</td>\n",
       "                        <td id=\"T_b80ffe6e_2dae_11ec_8177_fc9540bf7cbdrow2_col1\" class=\"data row2 col1\" >0.00172443</td>\n",
       "                        <td id=\"T_b80ffe6e_2dae_11ec_8177_fc9540bf7cbdrow2_col2\" class=\"data row2 col2\" >1</td>\n",
       "                        <td id=\"T_b80ffe6e_2dae_11ec_8177_fc9540bf7cbdrow2_col3\" class=\"data row2 col3\" >0.483663</td>\n",
       "            </tr>\n",
       "            <tr>\n",
       "                        <th id=\"T_b80ffe6e_2dae_11ec_8177_fc9540bf7cbdlevel0_row3\" class=\"row_heading level0 row3\" >product</th>\n",
       "                        <td id=\"T_b80ffe6e_2dae_11ec_8177_fc9540bf7cbdrow3_col0\" class=\"data row3 col0\" >0.143536</td>\n",
       "                        <td id=\"T_b80ffe6e_2dae_11ec_8177_fc9540bf7cbdrow3_col1\" class=\"data row3 col1\" >-0.192356</td>\n",
       "                        <td id=\"T_b80ffe6e_2dae_11ec_8177_fc9540bf7cbdrow3_col2\" class=\"data row3 col2\" >0.483663</td>\n",
       "                        <td id=\"T_b80ffe6e_2dae_11ec_8177_fc9540bf7cbdrow3_col3\" class=\"data row3 col3\" >1</td>\n",
       "            </tr>\n",
       "    </tbody></table>"
      ],
      "text/plain": [
       "<pandas.io.formats.style.Styler at 0x1f02e495c88>"
      ]
     },
     "execution_count": 126,
     "metadata": {},
     "output_type": "execute_result"
    }
   ],
   "source": [
    "corr = df_0.corr()\n",
    "corr.style.background_gradient(cmap='coolwarm')"
   ]
  },
  {
   "cell_type": "code",
   "execution_count": 127,
   "metadata": {},
   "outputs": [
    {
     "data": {
      "text/html": [
       "<style  type=\"text/css\" >\n",
       "    #T_b9e54ccc_2dae_11ec_a8ae_fc9540bf7cbdrow0_col0 {\n",
       "            background-color:  #b40426;\n",
       "            color:  #f1f1f1;\n",
       "        }    #T_b9e54ccc_2dae_11ec_a8ae_fc9540bf7cbdrow0_col1 {\n",
       "            background-color:  #779af7;\n",
       "            color:  #000000;\n",
       "        }    #T_b9e54ccc_2dae_11ec_a8ae_fc9540bf7cbdrow0_col2 {\n",
       "            background-color:  #3b4cc0;\n",
       "            color:  #f1f1f1;\n",
       "        }    #T_b9e54ccc_2dae_11ec_a8ae_fc9540bf7cbdrow0_col3 {\n",
       "            background-color:  #3b4cc0;\n",
       "            color:  #f1f1f1;\n",
       "        }    #T_b9e54ccc_2dae_11ec_a8ae_fc9540bf7cbdrow1_col0 {\n",
       "            background-color:  #7da0f9;\n",
       "            color:  #000000;\n",
       "        }    #T_b9e54ccc_2dae_11ec_a8ae_fc9540bf7cbdrow1_col1 {\n",
       "            background-color:  #b40426;\n",
       "            color:  #f1f1f1;\n",
       "        }    #T_b9e54ccc_2dae_11ec_a8ae_fc9540bf7cbdrow1_col2 {\n",
       "            background-color:  #3b4cc0;\n",
       "            color:  #f1f1f1;\n",
       "        }    #T_b9e54ccc_2dae_11ec_a8ae_fc9540bf7cbdrow1_col3 {\n",
       "            background-color:  #4055c8;\n",
       "            color:  #f1f1f1;\n",
       "        }    #T_b9e54ccc_2dae_11ec_a8ae_fc9540bf7cbdrow2_col0 {\n",
       "            background-color:  #4358cb;\n",
       "            color:  #f1f1f1;\n",
       "        }    #T_b9e54ccc_2dae_11ec_a8ae_fc9540bf7cbdrow2_col1 {\n",
       "            background-color:  #3c4ec2;\n",
       "            color:  #f1f1f1;\n",
       "        }    #T_b9e54ccc_2dae_11ec_a8ae_fc9540bf7cbdrow2_col2 {\n",
       "            background-color:  #b40426;\n",
       "            color:  #f1f1f1;\n",
       "        }    #T_b9e54ccc_2dae_11ec_a8ae_fc9540bf7cbdrow2_col3 {\n",
       "            background-color:  #b40426;\n",
       "            color:  #f1f1f1;\n",
       "        }    #T_b9e54ccc_2dae_11ec_a8ae_fc9540bf7cbdrow3_col0 {\n",
       "            background-color:  #3b4cc0;\n",
       "            color:  #f1f1f1;\n",
       "        }    #T_b9e54ccc_2dae_11ec_a8ae_fc9540bf7cbdrow3_col1 {\n",
       "            background-color:  #3b4cc0;\n",
       "            color:  #f1f1f1;\n",
       "        }    #T_b9e54ccc_2dae_11ec_a8ae_fc9540bf7cbdrow3_col2 {\n",
       "            background-color:  #b40426;\n",
       "            color:  #f1f1f1;\n",
       "        }    #T_b9e54ccc_2dae_11ec_a8ae_fc9540bf7cbdrow3_col3 {\n",
       "            background-color:  #b40426;\n",
       "            color:  #f1f1f1;\n",
       "        }</style><table id=\"T_b9e54ccc_2dae_11ec_a8ae_fc9540bf7cbd\" ><thead>    <tr>        <th class=\"blank level0\" ></th>        <th class=\"col_heading level0 col0\" >f0</th>        <th class=\"col_heading level0 col1\" >f1</th>        <th class=\"col_heading level0 col2\" >f2</th>        <th class=\"col_heading level0 col3\" >product</th>    </tr></thead><tbody>\n",
       "                <tr>\n",
       "                        <th id=\"T_b9e54ccc_2dae_11ec_a8ae_fc9540bf7cbdlevel0_row0\" class=\"row_heading level0 row0\" >f0</th>\n",
       "                        <td id=\"T_b9e54ccc_2dae_11ec_a8ae_fc9540bf7cbdrow0_col0\" class=\"data row0 col0\" >1</td>\n",
       "                        <td id=\"T_b9e54ccc_2dae_11ec_a8ae_fc9540bf7cbdrow0_col1\" class=\"data row0 col1\" >0.182287</td>\n",
       "                        <td id=\"T_b9e54ccc_2dae_11ec_a8ae_fc9540bf7cbdrow0_col2\" class=\"data row0 col2\" >-0.00177704</td>\n",
       "                        <td id=\"T_b9e54ccc_2dae_11ec_a8ae_fc9540bf7cbdrow0_col3\" class=\"data row0 col3\" >-0.0304905</td>\n",
       "            </tr>\n",
       "            <tr>\n",
       "                        <th id=\"T_b9e54ccc_2dae_11ec_a8ae_fc9540bf7cbdlevel0_row1\" class=\"row_heading level0 row1\" >f1</th>\n",
       "                        <td id=\"T_b9e54ccc_2dae_11ec_a8ae_fc9540bf7cbdrow1_col0\" class=\"data row1 col0\" >0.182287</td>\n",
       "                        <td id=\"T_b9e54ccc_2dae_11ec_a8ae_fc9540bf7cbdrow1_col1\" class=\"data row1 col1\" >1</td>\n",
       "                        <td id=\"T_b9e54ccc_2dae_11ec_a8ae_fc9540bf7cbdrow1_col2\" class=\"data row1 col2\" >-0.00259532</td>\n",
       "                        <td id=\"T_b9e54ccc_2dae_11ec_a8ae_fc9540bf7cbdrow1_col3\" class=\"data row1 col3\" >-0.0101549</td>\n",
       "            </tr>\n",
       "            <tr>\n",
       "                        <th id=\"T_b9e54ccc_2dae_11ec_a8ae_fc9540bf7cbdlevel0_row2\" class=\"row_heading level0 row2\" >f2</th>\n",
       "                        <td id=\"T_b9e54ccc_2dae_11ec_a8ae_fc9540bf7cbdrow2_col0\" class=\"data row2 col0\" >-0.00177704</td>\n",
       "                        <td id=\"T_b9e54ccc_2dae_11ec_a8ae_fc9540bf7cbdrow2_col1\" class=\"data row2 col1\" >-0.00259532</td>\n",
       "                        <td id=\"T_b9e54ccc_2dae_11ec_a8ae_fc9540bf7cbdrow2_col2\" class=\"data row2 col2\" >1</td>\n",
       "                        <td id=\"T_b9e54ccc_2dae_11ec_a8ae_fc9540bf7cbdrow2_col3\" class=\"data row2 col3\" >0.999397</td>\n",
       "            </tr>\n",
       "            <tr>\n",
       "                        <th id=\"T_b9e54ccc_2dae_11ec_a8ae_fc9540bf7cbdlevel0_row3\" class=\"row_heading level0 row3\" >product</th>\n",
       "                        <td id=\"T_b9e54ccc_2dae_11ec_a8ae_fc9540bf7cbdrow3_col0\" class=\"data row3 col0\" >-0.0304905</td>\n",
       "                        <td id=\"T_b9e54ccc_2dae_11ec_a8ae_fc9540bf7cbdrow3_col1\" class=\"data row3 col1\" >-0.0101549</td>\n",
       "                        <td id=\"T_b9e54ccc_2dae_11ec_a8ae_fc9540bf7cbdrow3_col2\" class=\"data row3 col2\" >0.999397</td>\n",
       "                        <td id=\"T_b9e54ccc_2dae_11ec_a8ae_fc9540bf7cbdrow3_col3\" class=\"data row3 col3\" >1</td>\n",
       "            </tr>\n",
       "    </tbody></table>"
      ],
      "text/plain": [
       "<pandas.io.formats.style.Styler at 0x1f02d761308>"
      ]
     },
     "execution_count": 127,
     "metadata": {},
     "output_type": "execute_result"
    }
   ],
   "source": [
    "corr = df_1.corr()\n",
    "corr.style.background_gradient(cmap='coolwarm')"
   ]
  },
  {
   "cell_type": "code",
   "execution_count": 128,
   "metadata": {},
   "outputs": [
    {
     "data": {
      "text/html": [
       "<style  type=\"text/css\" >\n",
       "    #T_bb192646_2dae_11ec_8f3e_fc9540bf7cbdrow0_col0 {\n",
       "            background-color:  #b40426;\n",
       "            color:  #f1f1f1;\n",
       "        }    #T_bb192646_2dae_11ec_8f3e_fc9540bf7cbdrow0_col1 {\n",
       "            background-color:  #3b4cc0;\n",
       "            color:  #f1f1f1;\n",
       "        }    #T_bb192646_2dae_11ec_8f3e_fc9540bf7cbdrow0_col2 {\n",
       "            background-color:  #3b4cc0;\n",
       "            color:  #f1f1f1;\n",
       "        }    #T_bb192646_2dae_11ec_8f3e_fc9540bf7cbdrow0_col3 {\n",
       "            background-color:  #3b4cc0;\n",
       "            color:  #f1f1f1;\n",
       "        }    #T_bb192646_2dae_11ec_8f3e_fc9540bf7cbdrow1_col0 {\n",
       "            background-color:  #3b4cc0;\n",
       "            color:  #f1f1f1;\n",
       "        }    #T_bb192646_2dae_11ec_8f3e_fc9540bf7cbdrow1_col1 {\n",
       "            background-color:  #b40426;\n",
       "            color:  #f1f1f1;\n",
       "        }    #T_bb192646_2dae_11ec_8f3e_fc9540bf7cbdrow1_col2 {\n",
       "            background-color:  #3b4cc0;\n",
       "            color:  #f1f1f1;\n",
       "        }    #T_bb192646_2dae_11ec_8f3e_fc9540bf7cbdrow1_col3 {\n",
       "            background-color:  #3b4cc0;\n",
       "            color:  #f1f1f1;\n",
       "        }    #T_bb192646_2dae_11ec_8f3e_fc9540bf7cbdrow2_col0 {\n",
       "            background-color:  #3b4cc0;\n",
       "            color:  #f1f1f1;\n",
       "        }    #T_bb192646_2dae_11ec_8f3e_fc9540bf7cbdrow2_col1 {\n",
       "            background-color:  #3b4cc0;\n",
       "            color:  #f1f1f1;\n",
       "        }    #T_bb192646_2dae_11ec_8f3e_fc9540bf7cbdrow2_col2 {\n",
       "            background-color:  #b40426;\n",
       "            color:  #f1f1f1;\n",
       "        }    #T_bb192646_2dae_11ec_8f3e_fc9540bf7cbdrow2_col3 {\n",
       "            background-color:  #cedaeb;\n",
       "            color:  #000000;\n",
       "        }    #T_bb192646_2dae_11ec_8f3e_fc9540bf7cbdrow3_col0 {\n",
       "            background-color:  #3b4cc0;\n",
       "            color:  #f1f1f1;\n",
       "        }    #T_bb192646_2dae_11ec_8f3e_fc9540bf7cbdrow3_col1 {\n",
       "            background-color:  #3b4cc0;\n",
       "            color:  #f1f1f1;\n",
       "        }    #T_bb192646_2dae_11ec_8f3e_fc9540bf7cbdrow3_col2 {\n",
       "            background-color:  #cedaeb;\n",
       "            color:  #000000;\n",
       "        }    #T_bb192646_2dae_11ec_8f3e_fc9540bf7cbdrow3_col3 {\n",
       "            background-color:  #b40426;\n",
       "            color:  #f1f1f1;\n",
       "        }</style><table id=\"T_bb192646_2dae_11ec_8f3e_fc9540bf7cbd\" ><thead>    <tr>        <th class=\"blank level0\" ></th>        <th class=\"col_heading level0 col0\" >f0</th>        <th class=\"col_heading level0 col1\" >f1</th>        <th class=\"col_heading level0 col2\" >f2</th>        <th class=\"col_heading level0 col3\" >product</th>    </tr></thead><tbody>\n",
       "                <tr>\n",
       "                        <th id=\"T_bb192646_2dae_11ec_8f3e_fc9540bf7cbdlevel0_row0\" class=\"row_heading level0 row0\" >f0</th>\n",
       "                        <td id=\"T_bb192646_2dae_11ec_8f3e_fc9540bf7cbdrow0_col0\" class=\"data row0 col0\" >1</td>\n",
       "                        <td id=\"T_bb192646_2dae_11ec_8f3e_fc9540bf7cbdrow0_col1\" class=\"data row0 col1\" >0.000528283</td>\n",
       "                        <td id=\"T_bb192646_2dae_11ec_8f3e_fc9540bf7cbdrow0_col2\" class=\"data row0 col2\" >-0.000448133</td>\n",
       "                        <td id=\"T_bb192646_2dae_11ec_8f3e_fc9540bf7cbdrow0_col3\" class=\"data row0 col3\" >-0.00198706</td>\n",
       "            </tr>\n",
       "            <tr>\n",
       "                        <th id=\"T_bb192646_2dae_11ec_8f3e_fc9540bf7cbdlevel0_row1\" class=\"row_heading level0 row1\" >f1</th>\n",
       "                        <td id=\"T_bb192646_2dae_11ec_8f3e_fc9540bf7cbdrow1_col0\" class=\"data row1 col0\" >0.000528283</td>\n",
       "                        <td id=\"T_bb192646_2dae_11ec_8f3e_fc9540bf7cbdrow1_col1\" class=\"data row1 col1\" >1</td>\n",
       "                        <td id=\"T_bb192646_2dae_11ec_8f3e_fc9540bf7cbdrow1_col2\" class=\"data row1 col2\" >0.000778661</td>\n",
       "                        <td id=\"T_bb192646_2dae_11ec_8f3e_fc9540bf7cbdrow1_col3\" class=\"data row1 col3\" >-0.00101239</td>\n",
       "            </tr>\n",
       "            <tr>\n",
       "                        <th id=\"T_bb192646_2dae_11ec_8f3e_fc9540bf7cbdlevel0_row2\" class=\"row_heading level0 row2\" >f2</th>\n",
       "                        <td id=\"T_bb192646_2dae_11ec_8f3e_fc9540bf7cbdrow2_col0\" class=\"data row2 col0\" >-0.000448133</td>\n",
       "                        <td id=\"T_bb192646_2dae_11ec_8f3e_fc9540bf7cbdrow2_col1\" class=\"data row2 col1\" >0.000778661</td>\n",
       "                        <td id=\"T_bb192646_2dae_11ec_8f3e_fc9540bf7cbdrow2_col2\" class=\"data row2 col2\" >1</td>\n",
       "                        <td id=\"T_bb192646_2dae_11ec_8f3e_fc9540bf7cbdrow2_col3\" class=\"data row2 col3\" >0.445871</td>\n",
       "            </tr>\n",
       "            <tr>\n",
       "                        <th id=\"T_bb192646_2dae_11ec_8f3e_fc9540bf7cbdlevel0_row3\" class=\"row_heading level0 row3\" >product</th>\n",
       "                        <td id=\"T_bb192646_2dae_11ec_8f3e_fc9540bf7cbdrow3_col0\" class=\"data row3 col0\" >-0.00198706</td>\n",
       "                        <td id=\"T_bb192646_2dae_11ec_8f3e_fc9540bf7cbdrow3_col1\" class=\"data row3 col1\" >-0.00101239</td>\n",
       "                        <td id=\"T_bb192646_2dae_11ec_8f3e_fc9540bf7cbdrow3_col2\" class=\"data row3 col2\" >0.445871</td>\n",
       "                        <td id=\"T_bb192646_2dae_11ec_8f3e_fc9540bf7cbdrow3_col3\" class=\"data row3 col3\" >1</td>\n",
       "            </tr>\n",
       "    </tbody></table>"
      ],
      "text/plain": [
       "<pandas.io.formats.style.Styler at 0x1f02dd59ec8>"
      ]
     },
     "execution_count": 128,
     "metadata": {},
     "output_type": "execute_result"
    }
   ],
   "source": [
    "corr = df_2.corr()\n",
    "corr.style.background_gradient(cmap='coolwarm')"
   ]
  },
  {
   "cell_type": "markdown",
   "metadata": {},
   "source": [
    "В случае df_1 видна почти прямая взаимосвязь между признаком f2  и целевым признаком product. Возможно именно из-за этого \"Модель 1\" сработала с лучшим качеством, значение rmse(квадратный корень из средней квадратичной ошибки) минимальное. В df_0 и df_2 взяимосвязь между f2  и product тоже есть. Значения в обих случаях близки."
   ]
  },
  {
   "cell_type": "markdown",
   "metadata": {},
   "source": [
    "### Вывод\n",
    "Мы обучили и проверили 3 модели. Наилучшее качество показала \"Модель 1\"."
   ]
  },
  {
   "cell_type": "markdown",
   "metadata": {},
   "source": [
    "## Подготовка к расчёту прибыли"
   ]
  },
  {
   "cell_type": "markdown",
   "metadata": {},
   "source": [
    "Прочитаем еще раз техзадание и соберем исходные данные в одном месте."
   ]
  },
  {
   "cell_type": "code",
   "execution_count": 129,
   "metadata": {},
   "outputs": [],
   "source": [
    "# бюджет на разработку - 10 млрд. руб.\n",
    "total_budget = 10000000000\n",
    "\n",
    "# ожидаемая прибыль от единицы продукта - 450 тыс. руб.\n",
    "profit_per_product_unit = 450000\n",
    "\n",
    "# количество месторождений для разработки - 200\n",
    "number_of_wells = 200"
   ]
  },
  {
   "cell_type": "markdown",
   "metadata": {},
   "source": [
    "Подсчитаем минимальный объем сырья, необходимый для безубыточности"
   ]
  },
  {
   "cell_type": "code",
   "execution_count": 130,
   "metadata": {},
   "outputs": [
    {
     "data": {
      "text/plain": [
       "111.11111111111111"
      ]
     },
     "execution_count": 130,
     "metadata": {},
     "output_type": "execute_result"
    }
   ],
   "source": [
    "minimal_size = total_budget / (profit_per_product_unit * number_of_wells)\n",
    "minimal_size"
   ]
  },
  {
   "cell_type": "markdown",
   "metadata": {},
   "source": [
    "Такой подсчет показывает нам, где находится точка безубыточности. Ниже этого порога разрабатывать месторождения нерентабельно. "
   ]
  },
  {
   "cell_type": "markdown",
   "metadata": {},
   "source": [
    "Для дальнейших рассчетов сбросим индексы целевого признака в валидационной выборке для каждого региона и переведем предсказания в валидационной выборке в pd.Series"
   ]
  },
  {
   "cell_type": "code",
   "execution_count": 131,
   "metadata": {},
   "outputs": [],
   "source": [
    "# Сбросим индексы целевого признака в валидационной выборке для каждого региона:\n",
    "target_0_valid.reset_index(drop=True, inplace=True)\n",
    "target_1_valid.reset_index(drop=True, inplace=True)\n",
    "target_2_valid.reset_index(drop=True, inplace=True)\n",
    "\n",
    "# Переведем предсказания в валидационной выборке в pd.Series:\n",
    "predictions_0 = pd.Series(predictions_0)\n",
    "predictions_1 = pd.Series(predictions_1)\n",
    "predictions_2 = pd.Series(predictions_2)"
   ]
  },
  {
   "cell_type": "markdown",
   "metadata": {},
   "source": [
    "## Расчёт прибыли и рисков "
   ]
  },
  {
   "cell_type": "markdown",
   "metadata": {},
   "source": [
    "Для подсчета операционной прибыли создадим функцию revenue, которая принимает на вход три параметра (target, predictions, count), производит сортировку одного из параметров (predictions_sorted) по убыванию, производит подбор значений второго параметра (selected) по соответствию индексов с индексами первого параметра в количестве величины третьего параметра. Возвращает функция значение формулы: разница произведения суммарных запасов по n точкам с доходностью от единицы объема и общих затрат на разработку. Т.е. потенциальный доход минус необходимые расходы, получаем операционную прибыль."
   ]
  },
  {
   "cell_type": "code",
   "execution_count": 132,
   "metadata": {},
   "outputs": [],
   "source": [
    "def revenue(target, predictions, count):\n",
    "    predictions_sorted = pd.Series(predictions).sort_values(ascending=False)\n",
    "    selected = target[predictions_sorted.index][:count]\n",
    "    return profit_per_product_unit * selected.sum() - total_budget"
   ]
  },
  {
   "cell_type": "markdown",
   "metadata": {},
   "source": [
    "Создадим функцию \"revenue_bootstrap\". Используем метод \"Bootstrap\" и проанализируем 1000 выборок из валидационной переменной целевого признака в размере 500 объектов. В теле функции обратимся к написанной ранее функции revenue, а также вычислим риск убытка, равный процентному соотношению количества отрицательных значений к общему количеству значений показателя \"выручка\". Функция возвращает средний показатель прибыли, нижнюю и верхнюю границы 95%-го доверительного интервала, а также риск убытка."
   ]
  },
  {
   "cell_type": "code",
   "execution_count": 133,
   "metadata": {},
   "outputs": [],
   "source": [
    "state = np.random.RandomState(123)\n",
    "def revenue_bootstrap(target, predictions, count):    \n",
    "    values = []\n",
    "    loss_counter = 0\n",
    "    for i in range(1000):\n",
    "        target_subsample = target.sample(n=count, replace=True, random_state=state)\n",
    "        predictions_subsample = predictions[target_subsample.index] \n",
    "        revenue_result = revenue(target_subsample, predictions_subsample, number_of_wells)\n",
    "        values.append(revenue_result)\n",
    "        if revenue_result  < 0:\n",
    "            loss_counter += 1\n",
    "    values = pd.Series(values)\n",
    "    lower = values.quantile(.025)\n",
    "    upper = values.quantile(.975)\n",
    "    mean = values.mean()\n",
    "    return mean, lower, upper, (loss_counter/len(values)*100)"
   ]
  },
  {
   "cell_type": "markdown",
   "metadata": {},
   "source": [
    "**geo_data_0**"
   ]
  },
  {
   "cell_type": "code",
   "execution_count": 141,
   "metadata": {},
   "outputs": [
    {
     "name": "stdout",
     "output_type": "stream",
     "text": [
      "Средняя выручка: 406548059.6278489\n",
      "2,5%-квантиль: -113539755.53735322\n",
      "97,5%-квантиль: 935150640.4351168\n",
      "Риск убытка 5.800000000000001 %\n"
     ]
    }
   ],
   "source": [
    "mean_0, lower_0, upper_0, loss_risk_0 = revenue_bootstrap(target_0_valid, predictions_0, 500)\n",
    "print('Средняя выручка:', mean_0)\n",
    "print('2,5%-квантиль:', lower_0)\n",
    "print('97,5%-квантиль:', upper_0)\n",
    "print('Риск убытка', loss_risk_0, '%')"
   ]
  },
  {
   "cell_type": "markdown",
   "metadata": {},
   "source": [
    "**geo_data_1**"
   ]
  },
  {
   "cell_type": "code",
   "execution_count": 142,
   "metadata": {},
   "outputs": [
    {
     "name": "stdout",
     "output_type": "stream",
     "text": [
      "Средняя выручка: 524889125.11341953\n",
      "2,5%-квантиль: 115897854.22751169\n",
      "97,5%-квантиль: 942275507.4795445\n",
      "Риск убытка 0.5 %\n"
     ]
    }
   ],
   "source": [
    "mean_1, lower_1, upper_1, loss_risk_1 = revenue_bootstrap(target_1_valid, predictions_1, 500)\n",
    "print(\"Средняя выручка:\", mean_1)\n",
    "print(\"2,5%-квантиль:\", lower_1)\n",
    "print(\"97,5%-квантиль:\", upper_1)\n",
    "print('Риск убытка', loss_risk_1, '%')"
   ]
  },
  {
   "cell_type": "markdown",
   "metadata": {},
   "source": [
    "**geo_data_2**"
   ]
  },
  {
   "cell_type": "code",
   "execution_count": 143,
   "metadata": {},
   "outputs": [
    {
     "name": "stdout",
     "output_type": "stream",
     "text": [
      "Средняя выручка: 421571288.5949606\n",
      "2,5%-квантиль: -166935840.85818946\n",
      "97,5%-квантиль: 970260163.0417635\n",
      "Риск убытка 7.3 %\n"
     ]
    }
   ],
   "source": [
    "mean_2, lower_2, upper_2, loss_risk_2 = revenue_bootstrap(target_2_valid, predictions_2, 500)\n",
    "print(\"Средняя выручка:\", mean_2)\n",
    "print(\"2,5%-квантиль:\", lower_2)\n",
    "print(\"97,5%-квантиль:\", upper_2)\n",
    "print('Риск убытка', loss_risk_2, '%')"
   ]
  },
  {
   "cell_type": "markdown",
   "metadata": {},
   "source": [
    "Соберем полученные данные в таблицу research_result"
   ]
  },
  {
   "cell_type": "code",
   "execution_count": 144,
   "metadata": {},
   "outputs": [],
   "source": [
    "result = {'value':['revenue_mean', 'revenue_total', '0.025_quantile',\n",
    "                        '0.975_quantile', 'loss_risk'],\n",
    "        'geo_data_0':[mean_0, mean_0*number_of_wells, lower_0, upper_0, loss_risk_0],\n",
    "        'geo_data_1': [mean_1, mean_1*number_of_wells, lower_1, upper_1, loss_risk_1],\n",
    "        'geo_data_2': [mean_2, mean_2*number_of_wells, lower_2, upper_2, loss_risk_2]}\n",
    "        \n",
    "\n",
    "    \n",
    "research_result = pd.DataFrame(result)"
   ]
  },
  {
   "cell_type": "code",
   "execution_count": 145,
   "metadata": {},
   "outputs": [],
   "source": [
    "pd.set_option('display.float_format', '{:.2f}'.format)"
   ]
  },
  {
   "cell_type": "code",
   "execution_count": 146,
   "metadata": {},
   "outputs": [
    {
     "data": {
      "text/html": [
       "<div>\n",
       "<style scoped>\n",
       "    .dataframe tbody tr th:only-of-type {\n",
       "        vertical-align: middle;\n",
       "    }\n",
       "\n",
       "    .dataframe tbody tr th {\n",
       "        vertical-align: top;\n",
       "    }\n",
       "\n",
       "    .dataframe thead th {\n",
       "        text-align: right;\n",
       "    }\n",
       "</style>\n",
       "<table border=\"1\" class=\"dataframe\">\n",
       "  <thead>\n",
       "    <tr style=\"text-align: right;\">\n",
       "      <th></th>\n",
       "      <th>value</th>\n",
       "      <th>geo_data_0</th>\n",
       "      <th>geo_data_1</th>\n",
       "      <th>geo_data_2</th>\n",
       "    </tr>\n",
       "  </thead>\n",
       "  <tbody>\n",
       "    <tr>\n",
       "      <td>0</td>\n",
       "      <td>revenue_mean</td>\n",
       "      <td>406548059.63</td>\n",
       "      <td>524889125.11</td>\n",
       "      <td>421571288.59</td>\n",
       "    </tr>\n",
       "    <tr>\n",
       "      <td>1</td>\n",
       "      <td>revenue_total</td>\n",
       "      <td>81309611925.57</td>\n",
       "      <td>104977825022.68</td>\n",
       "      <td>84314257718.99</td>\n",
       "    </tr>\n",
       "    <tr>\n",
       "      <td>2</td>\n",
       "      <td>0.025_quantile</td>\n",
       "      <td>-113539755.54</td>\n",
       "      <td>115897854.23</td>\n",
       "      <td>-166935840.86</td>\n",
       "    </tr>\n",
       "    <tr>\n",
       "      <td>3</td>\n",
       "      <td>0.975_quantile</td>\n",
       "      <td>935150640.44</td>\n",
       "      <td>942275507.48</td>\n",
       "      <td>970260163.04</td>\n",
       "    </tr>\n",
       "    <tr>\n",
       "      <td>4</td>\n",
       "      <td>loss_risk</td>\n",
       "      <td>5.80</td>\n",
       "      <td>0.50</td>\n",
       "      <td>7.30</td>\n",
       "    </tr>\n",
       "  </tbody>\n",
       "</table>\n",
       "</div>"
      ],
      "text/plain": [
       "            value     geo_data_0      geo_data_1     geo_data_2\n",
       "0    revenue_mean   406548059.63    524889125.11   421571288.59\n",
       "1   revenue_total 81309611925.57 104977825022.68 84314257718.99\n",
       "2  0.025_quantile  -113539755.54    115897854.23  -166935840.86\n",
       "3  0.975_quantile   935150640.44    942275507.48   970260163.04\n",
       "4       loss_risk           5.80            0.50           7.30"
      ]
     },
     "execution_count": 146,
     "metadata": {},
     "output_type": "execute_result"
    }
   ],
   "source": [
    "research_result"
   ]
  },
  {
   "cell_type": "markdown",
   "metadata": {},
   "source": [
    "- Величина риска убытка должна быть не более 2.5%. Этому условию удовлетворяет только регион \"geo_data_1\" со знчением \"0,5\". Два других региона имеют риски 5,8% и 7.3% соответственно.\n",
    "- среднее значение прибыли наибольшее в регионе \"geo_data_1\".\n",
    "\n",
    "### **На основании проведенной работы по анализу возможной прибыли и рисков представленных 3-х месторождений, можно сделать вывод, что к разработке рекомендуется регион \"geo_data_1\".**"
   ]
  }
 ],
 "metadata": {
  "kernelspec": {
   "display_name": "Python 3",
   "language": "python",
   "name": "python3"
  },
  "language_info": {
   "codemirror_mode": {
    "name": "ipython",
    "version": 3
   },
   "file_extension": ".py",
   "mimetype": "text/x-python",
   "name": "python",
   "nbconvert_exporter": "python",
   "pygments_lexer": "ipython3",
   "version": "3.7.10"
  },
  "toc": {
   "base_numbering": 1,
   "nav_menu": {},
   "number_sections": true,
   "sideBar": true,
   "skip_h1_title": true,
   "title_cell": "Table of Contents",
   "title_sidebar": "Contents",
   "toc_cell": false,
   "toc_position": {},
   "toc_section_display": true,
   "toc_window_display": false
  }
 },
 "nbformat": 4,
 "nbformat_minor": 2
}
