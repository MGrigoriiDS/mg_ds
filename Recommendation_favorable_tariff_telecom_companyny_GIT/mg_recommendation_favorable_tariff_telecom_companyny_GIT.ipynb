{
 "cells": [
  {
   "cell_type": "markdown",
   "metadata": {},
   "source": [
    "# Определение выгодного тарифа для телеком компании"
   ]
  },
  {
   "cell_type": "markdown",
   "metadata": {},
   "source": [
    "Оператор мобильной связи «Мегалайн» выяснил: многие клиенты пользуются архивными тарифами. Необходимо построить систему, способную проанализировать поведение клиентов и предложить пользователям новый тариф: «Смарт» или «Ультра».\n",
    "В нашем распоряжении данные о поведении клиентов, которые уже перешли на эти тарифы (из проекта курса «Статистический анализ данных»)."
   ]
  },
  {
   "cell_type": "markdown",
   "metadata": {},
   "source": [
    "Нужно построить модель для задачи классификации, которая выберет подходящий тариф. Модель должна быть с максимально большим значением accuracy. Нужно довести долю правильных ответов по крайней мере до 0.75. \n",
    "Проверим accuracy на тестовой выборке."
   ]
  },
  {
   "cell_type": "markdown",
   "metadata": {},
   "source": [
    "Описание данных\n",
    "*\tсalls — количество звонков,\n",
    "*\tminutes — суммарная длительность звонков в минутах,\n",
    "*\tmessages — количество sms-сообщений,\n",
    "*\tmb_used — израсходованный интернет-трафик в Мб,\n",
    "*\tis_ultra — каким тарифом пользовался в течение месяца («Ультра» — 1, «Смарт» — 0)."
   ]
  },
  {
   "cell_type": "markdown",
   "metadata": {},
   "source": [
    "# План проекта\n",
    "* [1. Откроем и изучим файл](#1)\n",
    "* [2. Разобьем данные на выборки](#2)\n",
    "* [3. Исследуем модели](#3)\n",
    "* [4. Проверим модель на тестовой выборке](#4)\n",
    "* [5. Проверим модели на адекватность](#5)\n",
    "* [6. Проверим модели на адекватность](#6)\n",
    "* [7. Чек-лист готовности проекта](#7)"
   ]
  },
  {
   "cell_type": "markdown",
   "metadata": {},
   "source": [
    "<a name=\"1\"></a>\n",
    "## Откроем и изучим файл"
   ]
  },
  {
   "cell_type": "code",
   "execution_count": 3,
   "metadata": {},
   "outputs": [],
   "source": [
    "# загрузим библиотеки\n",
    "import pandas as pd\n",
    "import joblib\n",
    "from sklearn.metrics import accuracy_score\n",
    "from sklearn.ensemble import RandomForestClassifier\n",
    "from sklearn.tree import DecisionTreeClassifier\n",
    "from sklearn.linear_model import LogisticRegression\n",
    "from sklearn.model_selection import train_test_split\n",
    "from sklearn.dummy import DummyClassifier"
   ]
  },
  {
   "cell_type": "code",
   "execution_count": 4,
   "metadata": {},
   "outputs": [],
   "source": [
    "# Чтение данных из файла\n",
    "df = pd.read_csv('/datasets/users_behavior.csv')"
   ]
  },
  {
   "cell_type": "code",
   "execution_count": 5,
   "metadata": {},
   "outputs": [
    {
     "name": "stdout",
     "output_type": "stream",
     "text": [
      "<class 'pandas.core.frame.DataFrame'>\n",
      "RangeIndex: 3214 entries, 0 to 3213\n",
      "Data columns (total 5 columns):\n",
      "calls       3214 non-null float64\n",
      "minutes     3214 non-null float64\n",
      "messages    3214 non-null float64\n",
      "mb_used     3214 non-null float64\n",
      "is_ultra    3214 non-null int64\n",
      "dtypes: float64(4), int64(1)\n",
      "memory usage: 125.7 KB\n"
     ]
    },
    {
     "data": {
      "text/html": [
       "<div>\n",
       "<style scoped>\n",
       "    .dataframe tbody tr th:only-of-type {\n",
       "        vertical-align: middle;\n",
       "    }\n",
       "\n",
       "    .dataframe tbody tr th {\n",
       "        vertical-align: top;\n",
       "    }\n",
       "\n",
       "    .dataframe thead th {\n",
       "        text-align: right;\n",
       "    }\n",
       "</style>\n",
       "<table border=\"1\" class=\"dataframe\">\n",
       "  <thead>\n",
       "    <tr style=\"text-align: right;\">\n",
       "      <th></th>\n",
       "      <th>calls</th>\n",
       "      <th>minutes</th>\n",
       "      <th>messages</th>\n",
       "      <th>mb_used</th>\n",
       "      <th>is_ultra</th>\n",
       "    </tr>\n",
       "  </thead>\n",
       "  <tbody>\n",
       "    <tr>\n",
       "      <td>0</td>\n",
       "      <td>40.0</td>\n",
       "      <td>311.90</td>\n",
       "      <td>83.0</td>\n",
       "      <td>19915.42</td>\n",
       "      <td>0</td>\n",
       "    </tr>\n",
       "    <tr>\n",
       "      <td>1</td>\n",
       "      <td>85.0</td>\n",
       "      <td>516.75</td>\n",
       "      <td>56.0</td>\n",
       "      <td>22696.96</td>\n",
       "      <td>0</td>\n",
       "    </tr>\n",
       "    <tr>\n",
       "      <td>2</td>\n",
       "      <td>77.0</td>\n",
       "      <td>467.66</td>\n",
       "      <td>86.0</td>\n",
       "      <td>21060.45</td>\n",
       "      <td>0</td>\n",
       "    </tr>\n",
       "    <tr>\n",
       "      <td>3</td>\n",
       "      <td>106.0</td>\n",
       "      <td>745.53</td>\n",
       "      <td>81.0</td>\n",
       "      <td>8437.39</td>\n",
       "      <td>1</td>\n",
       "    </tr>\n",
       "    <tr>\n",
       "      <td>4</td>\n",
       "      <td>66.0</td>\n",
       "      <td>418.74</td>\n",
       "      <td>1.0</td>\n",
       "      <td>14502.75</td>\n",
       "      <td>0</td>\n",
       "    </tr>\n",
       "    <tr>\n",
       "      <td>5</td>\n",
       "      <td>58.0</td>\n",
       "      <td>344.56</td>\n",
       "      <td>21.0</td>\n",
       "      <td>15823.37</td>\n",
       "      <td>0</td>\n",
       "    </tr>\n",
       "    <tr>\n",
       "      <td>6</td>\n",
       "      <td>57.0</td>\n",
       "      <td>431.64</td>\n",
       "      <td>20.0</td>\n",
       "      <td>3738.90</td>\n",
       "      <td>1</td>\n",
       "    </tr>\n",
       "    <tr>\n",
       "      <td>7</td>\n",
       "      <td>15.0</td>\n",
       "      <td>132.40</td>\n",
       "      <td>6.0</td>\n",
       "      <td>21911.60</td>\n",
       "      <td>0</td>\n",
       "    </tr>\n",
       "    <tr>\n",
       "      <td>8</td>\n",
       "      <td>7.0</td>\n",
       "      <td>43.39</td>\n",
       "      <td>3.0</td>\n",
       "      <td>2538.67</td>\n",
       "      <td>1</td>\n",
       "    </tr>\n",
       "    <tr>\n",
       "      <td>9</td>\n",
       "      <td>90.0</td>\n",
       "      <td>665.41</td>\n",
       "      <td>38.0</td>\n",
       "      <td>17358.61</td>\n",
       "      <td>0</td>\n",
       "    </tr>\n",
       "  </tbody>\n",
       "</table>\n",
       "</div>"
      ],
      "text/plain": [
       "   calls  minutes  messages   mb_used  is_ultra\n",
       "0   40.0   311.90      83.0  19915.42         0\n",
       "1   85.0   516.75      56.0  22696.96         0\n",
       "2   77.0   467.66      86.0  21060.45         0\n",
       "3  106.0   745.53      81.0   8437.39         1\n",
       "4   66.0   418.74       1.0  14502.75         0\n",
       "5   58.0   344.56      21.0  15823.37         0\n",
       "6   57.0   431.64      20.0   3738.90         1\n",
       "7   15.0   132.40       6.0  21911.60         0\n",
       "8    7.0    43.39       3.0   2538.67         1\n",
       "9   90.0   665.41      38.0  17358.61         0"
      ]
     },
     "execution_count": 5,
     "metadata": {},
     "output_type": "execute_result"
    }
   ],
   "source": [
    "df.info()\n",
    "df.head(10)"
   ]
  },
  {
   "cell_type": "code",
   "execution_count": 6,
   "metadata": {},
   "outputs": [
    {
     "data": {
      "text/html": [
       "<style  type=\"text/css\" >\n",
       "    #T_189bdae2_178e_11ec_9bf7_02420a398d65row0_col0 {\n",
       "            background-color:  #3b4cc0;\n",
       "            color:  #f1f1f1;\n",
       "        }    #T_189bdae2_178e_11ec_9bf7_02420a398d65row1_col0 {\n",
       "            background-color:  #3b4cc0;\n",
       "            color:  #f1f1f1;\n",
       "        }    #T_189bdae2_178e_11ec_9bf7_02420a398d65row2_col0 {\n",
       "            background-color:  #3b4cc0;\n",
       "            color:  #f1f1f1;\n",
       "        }    #T_189bdae2_178e_11ec_9bf7_02420a398d65row3_col0 {\n",
       "            background-color:  #3b4cc0;\n",
       "            color:  #f1f1f1;\n",
       "        }    #T_189bdae2_178e_11ec_9bf7_02420a398d65row4_col0 {\n",
       "            background-color:  #3b4cc0;\n",
       "            color:  #f1f1f1;\n",
       "        }</style><table id=\"T_189bdae2_178e_11ec_9bf7_02420a398d65\" ><thead>    <tr>        <th class=\"blank level0\" ></th>        <th class=\"col_heading level0 col0\" >0</th>    </tr></thead><tbody>\n",
       "                <tr>\n",
       "                        <th id=\"T_189bdae2_178e_11ec_9bf7_02420a398d65level0_row0\" class=\"row_heading level0 row0\" >calls</th>\n",
       "                        <td id=\"T_189bdae2_178e_11ec_9bf7_02420a398d65row0_col0\" class=\"data row0 col0\" >0</td>\n",
       "            </tr>\n",
       "            <tr>\n",
       "                        <th id=\"T_189bdae2_178e_11ec_9bf7_02420a398d65level0_row1\" class=\"row_heading level0 row1\" >minutes</th>\n",
       "                        <td id=\"T_189bdae2_178e_11ec_9bf7_02420a398d65row1_col0\" class=\"data row1 col0\" >0</td>\n",
       "            </tr>\n",
       "            <tr>\n",
       "                        <th id=\"T_189bdae2_178e_11ec_9bf7_02420a398d65level0_row2\" class=\"row_heading level0 row2\" >messages</th>\n",
       "                        <td id=\"T_189bdae2_178e_11ec_9bf7_02420a398d65row2_col0\" class=\"data row2 col0\" >0</td>\n",
       "            </tr>\n",
       "            <tr>\n",
       "                        <th id=\"T_189bdae2_178e_11ec_9bf7_02420a398d65level0_row3\" class=\"row_heading level0 row3\" >mb_used</th>\n",
       "                        <td id=\"T_189bdae2_178e_11ec_9bf7_02420a398d65row3_col0\" class=\"data row3 col0\" >0</td>\n",
       "            </tr>\n",
       "            <tr>\n",
       "                        <th id=\"T_189bdae2_178e_11ec_9bf7_02420a398d65level0_row4\" class=\"row_heading level0 row4\" >is_ultra</th>\n",
       "                        <td id=\"T_189bdae2_178e_11ec_9bf7_02420a398d65row4_col0\" class=\"data row4 col0\" >0</td>\n",
       "            </tr>\n",
       "    </tbody></table>"
      ],
      "text/plain": [
       "<pandas.io.formats.style.Styler at 0x7f29fb161210>"
      ]
     },
     "execution_count": 6,
     "metadata": {},
     "output_type": "execute_result"
    }
   ],
   "source": [
    "# данные предобработаны, но на всякий случай проверим на пропуски\n",
    "pd.DataFrame(round((df.isna().mean()*100),2)).style.background_gradient('coolwarm')"
   ]
  },
  {
   "cell_type": "code",
   "execution_count": 7,
   "metadata": {},
   "outputs": [
    {
     "data": {
      "text/html": [
       "<div>\n",
       "<style scoped>\n",
       "    .dataframe tbody tr th:only-of-type {\n",
       "        vertical-align: middle;\n",
       "    }\n",
       "\n",
       "    .dataframe tbody tr th {\n",
       "        vertical-align: top;\n",
       "    }\n",
       "\n",
       "    .dataframe thead th {\n",
       "        text-align: right;\n",
       "    }\n",
       "</style>\n",
       "<table border=\"1\" class=\"dataframe\">\n",
       "  <thead>\n",
       "    <tr style=\"text-align: right;\">\n",
       "      <th></th>\n",
       "      <th>calls</th>\n",
       "      <th>minutes</th>\n",
       "      <th>messages</th>\n",
       "      <th>mb_used</th>\n",
       "      <th>is_ultra</th>\n",
       "    </tr>\n",
       "  </thead>\n",
       "  <tbody>\n",
       "    <tr>\n",
       "      <td>count</td>\n",
       "      <td>3214.000000</td>\n",
       "      <td>3214.000000</td>\n",
       "      <td>3214.000000</td>\n",
       "      <td>3214.000000</td>\n",
       "      <td>3214.000000</td>\n",
       "    </tr>\n",
       "    <tr>\n",
       "      <td>mean</td>\n",
       "      <td>63.038892</td>\n",
       "      <td>438.208787</td>\n",
       "      <td>38.281269</td>\n",
       "      <td>17207.673836</td>\n",
       "      <td>0.306472</td>\n",
       "    </tr>\n",
       "    <tr>\n",
       "      <td>std</td>\n",
       "      <td>33.236368</td>\n",
       "      <td>234.569872</td>\n",
       "      <td>36.148326</td>\n",
       "      <td>7570.968246</td>\n",
       "      <td>0.461100</td>\n",
       "    </tr>\n",
       "    <tr>\n",
       "      <td>min</td>\n",
       "      <td>0.000000</td>\n",
       "      <td>0.000000</td>\n",
       "      <td>0.000000</td>\n",
       "      <td>0.000000</td>\n",
       "      <td>0.000000</td>\n",
       "    </tr>\n",
       "    <tr>\n",
       "      <td>25%</td>\n",
       "      <td>40.000000</td>\n",
       "      <td>274.575000</td>\n",
       "      <td>9.000000</td>\n",
       "      <td>12491.902500</td>\n",
       "      <td>0.000000</td>\n",
       "    </tr>\n",
       "    <tr>\n",
       "      <td>50%</td>\n",
       "      <td>62.000000</td>\n",
       "      <td>430.600000</td>\n",
       "      <td>30.000000</td>\n",
       "      <td>16943.235000</td>\n",
       "      <td>0.000000</td>\n",
       "    </tr>\n",
       "    <tr>\n",
       "      <td>75%</td>\n",
       "      <td>82.000000</td>\n",
       "      <td>571.927500</td>\n",
       "      <td>57.000000</td>\n",
       "      <td>21424.700000</td>\n",
       "      <td>1.000000</td>\n",
       "    </tr>\n",
       "    <tr>\n",
       "      <td>max</td>\n",
       "      <td>244.000000</td>\n",
       "      <td>1632.060000</td>\n",
       "      <td>224.000000</td>\n",
       "      <td>49745.730000</td>\n",
       "      <td>1.000000</td>\n",
       "    </tr>\n",
       "  </tbody>\n",
       "</table>\n",
       "</div>"
      ],
      "text/plain": [
       "             calls      minutes     messages       mb_used     is_ultra\n",
       "count  3214.000000  3214.000000  3214.000000   3214.000000  3214.000000\n",
       "mean     63.038892   438.208787    38.281269  17207.673836     0.306472\n",
       "std      33.236368   234.569872    36.148326   7570.968246     0.461100\n",
       "min       0.000000     0.000000     0.000000      0.000000     0.000000\n",
       "25%      40.000000   274.575000     9.000000  12491.902500     0.000000\n",
       "50%      62.000000   430.600000    30.000000  16943.235000     0.000000\n",
       "75%      82.000000   571.927500    57.000000  21424.700000     1.000000\n",
       "max     244.000000  1632.060000   224.000000  49745.730000     1.000000"
      ]
     },
     "execution_count": 7,
     "metadata": {},
     "output_type": "execute_result"
    }
   ],
   "source": [
    "df.describe()"
   ]
  },
  {
   "cell_type": "markdown",
   "metadata": {},
   "source": [
    "### Предобработку сделана ранее. Данные имеют нужный формат, пропусков нет, можно выполнять основную задачу."
   ]
  },
  {
   "cell_type": "markdown",
   "metadata": {},
   "source": [
    "<a name=\"2\"></a>\n",
    "## Разобьем данные на выборки"
   ]
  },
  {
   "cell_type": "markdown",
   "metadata": {},
   "source": [
    "Давайте разделим датафрейм на 3 части: обучающую, валидационную и тестовую выбороки в пропорциях 3:1:1.\n",
    "Делим вначале df на df_train и df_valid_test, потом df_valid_test на df_valid и df_test"
   ]
  },
  {
   "cell_type": "code",
   "execution_count": 8,
   "metadata": {},
   "outputs": [],
   "source": [
    "df_train, df_valid_test = train_test_split(df, test_size=0.4, random_state=12345)\n",
    "df_valid, df_test = train_test_split(df_valid_test, test_size=0.5, random_state=12345)"
   ]
  },
  {
   "cell_type": "code",
   "execution_count": 9,
   "metadata": {},
   "outputs": [],
   "source": [
    "# разделим выборки на признаки и целевой признак\n",
    "features_train = df_train.drop(['is_ultra'], axis=1)\n",
    "target_train = df_train['is_ultra']\n",
    "features_valid = df_valid.drop(['is_ultra'], axis=1)\n",
    "target_valid = df_valid['is_ultra']\n",
    "features_test = df_valid.drop(['is_ultra'], axis=1)\n",
    "target_test = df_valid['is_ultra']"
   ]
  },
  {
   "cell_type": "code",
   "execution_count": 10,
   "metadata": {},
   "outputs": [
    {
     "data": {
      "text/html": [
       "<div>\n",
       "<style scoped>\n",
       "    .dataframe tbody tr th:only-of-type {\n",
       "        vertical-align: middle;\n",
       "    }\n",
       "\n",
       "    .dataframe tbody tr th {\n",
       "        vertical-align: top;\n",
       "    }\n",
       "\n",
       "    .dataframe thead th {\n",
       "        text-align: right;\n",
       "    }\n",
       "</style>\n",
       "<table border=\"1\" class=\"dataframe\">\n",
       "  <thead>\n",
       "    <tr style=\"text-align: right;\">\n",
       "      <th></th>\n",
       "      <th>calls</th>\n",
       "      <th>minutes</th>\n",
       "      <th>messages</th>\n",
       "      <th>mb_used</th>\n",
       "    </tr>\n",
       "  </thead>\n",
       "  <tbody>\n",
       "    <tr>\n",
       "      <td>3027</td>\n",
       "      <td>60.0</td>\n",
       "      <td>431.56</td>\n",
       "      <td>26.0</td>\n",
       "      <td>14751.26</td>\n",
       "    </tr>\n",
       "    <tr>\n",
       "      <td>434</td>\n",
       "      <td>33.0</td>\n",
       "      <td>265.17</td>\n",
       "      <td>59.0</td>\n",
       "      <td>17398.02</td>\n",
       "    </tr>\n",
       "    <tr>\n",
       "      <td>1226</td>\n",
       "      <td>52.0</td>\n",
       "      <td>341.83</td>\n",
       "      <td>68.0</td>\n",
       "      <td>15462.38</td>\n",
       "    </tr>\n",
       "    <tr>\n",
       "      <td>1054</td>\n",
       "      <td>42.0</td>\n",
       "      <td>226.18</td>\n",
       "      <td>21.0</td>\n",
       "      <td>13243.48</td>\n",
       "    </tr>\n",
       "    <tr>\n",
       "      <td>1842</td>\n",
       "      <td>30.0</td>\n",
       "      <td>198.42</td>\n",
       "      <td>0.0</td>\n",
       "      <td>8189.53</td>\n",
       "    </tr>\n",
       "  </tbody>\n",
       "</table>\n",
       "</div>"
      ],
      "text/plain": [
       "      calls  minutes  messages   mb_used\n",
       "3027   60.0   431.56      26.0  14751.26\n",
       "434    33.0   265.17      59.0  17398.02\n",
       "1226   52.0   341.83      68.0  15462.38\n",
       "1054   42.0   226.18      21.0  13243.48\n",
       "1842   30.0   198.42       0.0   8189.53"
      ]
     },
     "execution_count": 10,
     "metadata": {},
     "output_type": "execute_result"
    }
   ],
   "source": [
    "# посмотрим на корректность столбцов после разбиений и разделений\n",
    "features_train.head()"
   ]
  },
  {
   "cell_type": "code",
   "execution_count": 12,
   "metadata": {},
   "outputs": [
    {
     "name": "stdout",
     "output_type": "stream",
     "text": [
      "(1928, 5)\n",
      "(643, 5)\n",
      "(643, 5)\n"
     ]
    }
   ],
   "source": [
    "# выведем размеры выборок для контроля\n",
    "print(df_train.shape)\n",
    "print(df_valid.shape)\n",
    "print(df_test.shape)"
   ]
  },
  {
   "cell_type": "markdown",
   "metadata": {},
   "source": [
    "### Данные разбили на выборки. Разделили выборки на признаки и целевые признаки."
   ]
  },
  {
   "cell_type": "markdown",
   "metadata": {},
   "source": [
    "<a name=\"3\"></a>\n",
    "## Исследуем модели"
   ]
  },
  {
   "cell_type": "markdown",
   "metadata": {},
   "source": [
    "Наша задача относится к задаче классификации. Точнее бинарной классификации. \n",
    "Давайте рассмотрим 3 модели:\n",
    "\n",
    "Решающее дерево DecisionTreeClassifier.\n",
    "\n",
    "Случайный лес RandomForestClassifier.\n",
    "\n",
    "Логистическая регрессия LogisticRegression."
   ]
  },
  {
   "cell_type": "markdown",
   "metadata": {},
   "source": [
    "### Решающее дерево DecisionTreeClassifier."
   ]
  },
  {
   "cell_type": "code",
   "execution_count": 149,
   "metadata": {},
   "outputs": [
    {
     "data": {
      "text/plain": [
       "DecisionTreeClassifier(class_weight=None, criterion='gini', max_depth=None,\n",
       "                       max_features=None, max_leaf_nodes=None,\n",
       "                       min_impurity_decrease=0.0, min_impurity_split=None,\n",
       "                       min_samples_leaf=1, min_samples_split=2,\n",
       "                       min_weight_fraction_leaf=0.0, presort=False,\n",
       "                       random_state=12345, splitter='best')"
      ]
     },
     "execution_count": 149,
     "metadata": {},
     "output_type": "execute_result"
    }
   ],
   "source": [
    "# создадим модель и обучим\n",
    "model_decision_tree = DecisionTreeClassifier(random_state=12345)\n",
    "model_decision_tree.fit(features_train, target_train)"
   ]
  },
  {
   "cell_type": "code",
   "execution_count": 150,
   "metadata": {},
   "outputs": [],
   "source": [
    "# получим предсказания модели на валидационной выборке\n",
    "tree_valid_predictions = model_decision_tree.predict(features_valid)"
   ]
  },
  {
   "cell_type": "code",
   "execution_count": 151,
   "metadata": {},
   "outputs": [
    {
     "data": {
      "text/plain": [
       "0.713841368584759"
      ]
     },
     "execution_count": 151,
     "metadata": {},
     "output_type": "execute_result"
    }
   ],
   "source": [
    "# Получим оценку точности предсказания accuracy\n",
    "tree_accuracy = accuracy_score(target_valid, tree_valid_predictions)\n",
    "tree_accuracy"
   ]
  },
  {
   "cell_type": "code",
   "execution_count": 153,
   "metadata": {},
   "outputs": [
    {
     "name": "stdout",
     "output_type": "stream",
     "text": [
      "depth 1 , accuracy : 0.7542768273716952\n",
      "depth 2 , accuracy : 0.7822706065318819\n",
      "depth 3 , accuracy : 0.7853810264385692\n",
      "depth 4 , accuracy : 0.7791601866251944\n",
      "depth 5 , accuracy : 0.7791601866251944\n",
      "depth 6 , accuracy : 0.7838258164852255\n",
      "depth 7 , accuracy : 0.7822706065318819\n",
      "depth 8 , accuracy : 0.7791601866251944\n",
      "depth 9 , accuracy : 0.7822706065318819\n",
      "depth 10 , accuracy : 0.7744945567651633\n"
     ]
    }
   ],
   "source": [
    "# изменим гиперпараметры и оценим, как они влияют на accuracy.\n",
    "# возьмем максимальную глубину до 10\n",
    "for depth in range(1,11):\n",
    "    model_decision_tree = DecisionTreeClassifier(random_state=12345, max_depth=depth)\n",
    "    model_decision_tree.fit(features_train, target_train)\n",
    "    tree_valid_predictions = model_decision_tree.predict(features_valid)\n",
    "    print('depth', depth, ',', 'accuracy', ':', accuracy_score(target_valid, tree_valid_predictions))"
   ]
  },
  {
   "cell_type": "code",
   "execution_count": 154,
   "metadata": {},
   "outputs": [
    {
     "data": {
      "text/plain": [
       "0.7853810264385692"
      ]
     },
     "execution_count": 154,
     "metadata": {},
     "output_type": "execute_result"
    }
   ],
   "source": [
    "# создадим итоговую, оптимальную модель и обучим\n",
    "model_decision_tree = DecisionTreeClassifier(random_state=12345, max_depth=3)\n",
    "model_decision_tree.fit(features_train, target_train)\n",
    "# получим предсказания модели на валидационной выборке\n",
    "tree_valid_predictions = model_decision_tree.predict(features_valid)\n",
    "# Получим оценку точности предсказания accuracy\n",
    "tree_accuracy = accuracy_score(target_valid, tree_valid_predictions)\n",
    "tree_accuracy"
   ]
  },
  {
   "cell_type": "markdown",
   "metadata": {},
   "source": [
    "#### При увеличении глубины, качество модели не улучшается. Модель \"Решающее дерево\" склонна к переобучению. Оптимальное значение: depth = 3 , accuracy = 0.785"
   ]
  },
  {
   "cell_type": "markdown",
   "metadata": {},
   "source": [
    "### Случайный лес - RandomForestClassifier"
   ]
  },
  {
   "cell_type": "code",
   "execution_count": 155,
   "metadata": {},
   "outputs": [
    {
     "data": {
      "text/plain": [
       "RandomForestClassifier(bootstrap=True, class_weight=None, criterion='gini',\n",
       "                       max_depth=None, max_features='auto', max_leaf_nodes=None,\n",
       "                       min_impurity_decrease=0.0, min_impurity_split=None,\n",
       "                       min_samples_leaf=1, min_samples_split=2,\n",
       "                       min_weight_fraction_leaf=0.0, n_estimators=5,\n",
       "                       n_jobs=None, oob_score=False, random_state=67895,\n",
       "                       verbose=0, warm_start=False)"
      ]
     },
     "execution_count": 155,
     "metadata": {},
     "output_type": "execute_result"
    }
   ],
   "source": [
    "# создадим модель с количеством деревьев n_estimators=5 и обучим ее\n",
    "model_random_forest = RandomForestClassifier(random_state=67895, n_estimators=5)\n",
    "model_random_forest.fit(features_train, target_train)"
   ]
  },
  {
   "cell_type": "code",
   "execution_count": 156,
   "metadata": {},
   "outputs": [],
   "source": [
    "# получим предсказания модели на валидационной выборке\n",
    "forest_valid_predictions = model_random_forest.predict(features_valid)"
   ]
  },
  {
   "cell_type": "code",
   "execution_count": 157,
   "metadata": {},
   "outputs": [
    {
     "data": {
      "text/plain": [
       "0.7480559875583204"
      ]
     },
     "execution_count": 157,
     "metadata": {},
     "output_type": "execute_result"
    }
   ],
   "source": [
    "# Получим оценку точности предсказания accuracy\n",
    "forest_accuracy = accuracy_score(target_valid, forest_valid_predictions)\n",
    "forest_accuracy"
   ]
  },
  {
   "cell_type": "code",
   "execution_count": 158,
   "metadata": {},
   "outputs": [
    {
     "data": {
      "text/plain": [
       "0.7620528771384136"
      ]
     },
     "execution_count": 158,
     "metadata": {},
     "output_type": "execute_result"
    }
   ],
   "source": [
    "# меняя гиперпараметры, посмотрим, как они повлияют на качество модели. Давайте изменим критерий Джини на энтропию\n",
    "model_random_forest = RandomForestClassifier(random_state=12345, n_estimators=5, criterion='entropy')\n",
    "model_random_forest.fit(features_train, target_train)\n",
    "forest_valid_predictions = model_random_forest.predict(features_valid)\n",
    "forest_accuracy = accuracy_score(target_valid, forest_valid_predictions)\n",
    "forest_accuracy"
   ]
  },
  {
   "cell_type": "markdown",
   "metadata": {},
   "source": [
    "качество модели улучшилось чуть более, чем на 1%"
   ]
  },
  {
   "cell_type": "code",
   "execution_count": 159,
   "metadata": {},
   "outputs": [
    {
     "name": "stdout",
     "output_type": "stream",
     "text": [
      "depth 1 , accuracy 0.7589424572317263\n",
      "depth 2 , accuracy 0.7900466562986003\n",
      "depth 3 , accuracy 0.7869362363919129\n",
      "depth 4 , accuracy 0.7916018662519441\n",
      "depth 5 , accuracy 0.7916018662519441\n",
      "depth 6 , accuracy 0.7962674961119751\n",
      "depth 7 , accuracy 0.7916018662519441\n",
      "depth 8 , accuracy 0.7916018662519441\n",
      "depth 9 , accuracy 0.7791601866251944\n",
      "depth 10 , accuracy 0.7853810264385692\n",
      "depth 11 , accuracy 0.807153965785381\n",
      "depth 12 , accuracy 0.7838258164852255\n",
      "depth 13 , accuracy 0.7838258164852255\n",
      "depth 14 , accuracy 0.7698289269051322\n",
      "depth 15 , accuracy 0.7682737169517885\n",
      "depth 16 , accuracy 0.7729393468118196\n",
      "depth 17 , accuracy 0.7589424572317263\n",
      "depth 18 , accuracy 0.7682737169517885\n",
      "depth 19 , accuracy 0.7480559875583204\n",
      "depth 20 , accuracy 0.7822706065318819\n"
     ]
    }
   ],
   "source": [
    "# изменим max_depth - максимальную глубину дерева. Переберем в цикле значения от 1 до 20\n",
    "for depth in range(1,21):\n",
    "    model_random_forest = RandomForestClassifier(random_state=67895, n_estimators=5, max_depth=depth, criterion='entropy')\n",
    "    model_random_forest.fit(features_train, target_train)\n",
    "    forest_valid_predictions = model_random_forest.predict(features_valid)\n",
    "    print('depth', depth, ',', 'accuracy', accuracy_score(target_valid, forest_valid_predictions))"
   ]
  },
  {
   "cell_type": "markdown",
   "metadata": {},
   "source": [
    "При увеличении глубины, качество модели значимо не улучшается. Оптимальное значение depth = 11, accuracy = 0.807"
   ]
  },
  {
   "cell_type": "code",
   "execution_count": 160,
   "metadata": {},
   "outputs": [
    {
     "name": "stdout",
     "output_type": "stream",
     "text": [
      "estimators 5 , accuracy 0.807153965785381\n",
      "estimators 10 , accuracy 0.7978227060653188\n",
      "estimators 15 , accuracy 0.7993779160186625\n",
      "estimators 20 , accuracy 0.7978227060653188\n",
      "estimators 25 , accuracy 0.7993779160186625\n",
      "estimators 30 , accuracy 0.7993779160186625\n",
      "estimators 35 , accuracy 0.7993779160186625\n",
      "estimators 40 , accuracy 0.7993779160186625\n",
      "estimators 45 , accuracy 0.7993779160186625\n",
      "estimators 50 , accuracy 0.8040435458786936\n"
     ]
    }
   ],
   "source": [
    "# изменим n_estimators - количество деревьев. Переберем в цикле от 5 до 50, с шагом 5\n",
    "for estimators in range(5,51,5):\n",
    "    model_random_forest = RandomForestClassifier(random_state=67895, n_estimators=estimators, max_depth=11, criterion='entropy')\n",
    "    model_random_forest.fit(features_train, target_train)\n",
    "    forest_valid_predictions = model_random_forest.predict(features_valid)\n",
    "    print('estimators', estimators,',', 'accuracy', accuracy_score(target_valid, forest_valid_predictions))\n"
   ]
  },
  {
   "cell_type": "markdown",
   "metadata": {},
   "source": [
    "Оптимально n_estimators = 5 , accuracy= 0.807. Далее, при увеличении количества деревьев, качество хуже, а скорость уменьшается."
   ]
  },
  {
   "cell_type": "code",
   "execution_count": 161,
   "metadata": {},
   "outputs": [
    {
     "data": {
      "text/plain": [
       "0.807153965785381"
      ]
     },
     "execution_count": 161,
     "metadata": {},
     "output_type": "execute_result"
    }
   ],
   "source": [
    "# запустим и проверим модель с итоговыми лучшими параметрами\n",
    "model_random_forest = RandomForestClassifier(random_state=67895, n_estimators=5, max_depth=11, criterion='entropy')\n",
    "model_random_forest.fit(features_train, target_train)\n",
    "forest_valid_predictions = model_random_forest.predict(features_valid)\n",
    "forest_accuracy = accuracy_score(target_valid, forest_valid_predictions)\n",
    "forest_accuracy"
   ]
  },
  {
   "cell_type": "markdown",
   "metadata": {},
   "source": [
    "#### При помощи подбора гиперпараметров настроили качество модели \"Случайный лес - RandomForestClassifier\" с 74% до 80%."
   ]
  },
  {
   "cell_type": "markdown",
   "metadata": {},
   "source": [
    "### Логистическая регрессия - LogisticRegression"
   ]
  },
  {
   "cell_type": "code",
   "execution_count": 162,
   "metadata": {},
   "outputs": [
    {
     "name": "stderr",
     "output_type": "stream",
     "text": [
      "/opt/conda/lib/python3.7/site-packages/sklearn/linear_model/logistic.py:432: FutureWarning: Default solver will be changed to 'lbfgs' in 0.22. Specify a solver to silence this warning.\n",
      "  FutureWarning)\n"
     ]
    },
    {
     "data": {
      "text/plain": [
       "0.7589424572317263"
      ]
     },
     "execution_count": 162,
     "metadata": {},
     "output_type": "execute_result"
    }
   ],
   "source": [
    "# создадим модель\n",
    "logistic_model = LogisticRegression(random_state=67895)\n",
    "# обучим\n",
    "logistic_model.fit(features_train, target_train)\n",
    "# получим предсказания\n",
    "logistic_valid_predictions = logistic_model.predict(features_valid)\n",
    "# оценим качество модели\n",
    "logistic_accuracy = accuracy_score(target_valid, logistic_valid_predictions)\n",
    "logistic_accuracy"
   ]
  },
  {
   "cell_type": "code",
   "execution_count": 163,
   "metadata": {},
   "outputs": [
    {
     "data": {
      "text/plain": [
       "0.7589424572317263"
      ]
     },
     "execution_count": 163,
     "metadata": {},
     "output_type": "execute_result"
    }
   ],
   "source": [
    "# изменим гиперпараметры solver='liblinear', warm_start=True\n",
    "logistic_model = LogisticRegression(random_state=67895, solver='liblinear', warm_start=True)\n",
    "logistic_model.fit(features_train, target_train)\n",
    "logistic_valid_predictions = logistic_model.predict(features_valid)\n",
    "logistic_accuracy = accuracy_score(target_valid, logistic_valid_predictions)\n",
    "logistic_accuracy"
   ]
  },
  {
   "cell_type": "markdown",
   "metadata": {},
   "source": [
    "Изменение гиперпараметров не повлияло на качество модели."
   ]
  },
  {
   "cell_type": "markdown",
   "metadata": {},
   "source": [
    "### Мы создали, обучили, получили предсказания и оценили качество 3-х моделей.\n",
    "* Решающее дерево DecisionTreeClassifier. Наилучшие результаты при depth = 3 , accuracy = 0.785\n",
    "* Случайный лес RandomForestClassifier. При помощи подбора гиперпараметров настроили качество модели до accuracy = 0.807\n",
    "* Логистическая регрессия - LogisticRegression. Настройка гиперпараметров не помогла, accuracy = 0.759.\n",
    "* В дальнейшем будем использовать модель Случайный лес RandomForestClassifier, как самую качественную."
   ]
  },
  {
   "cell_type": "markdown",
   "metadata": {},
   "source": [
    "<a name=\"4\"></a>\n",
    "## Проверим модель на тестовой выборке "
   ]
  },
  {
   "cell_type": "code",
   "execution_count": 121,
   "metadata": {},
   "outputs": [],
   "source": [
    "# Разделим тестовый датафрейм на features и target - целевой признак\n",
    "features_test = df_test.drop(['is_ultra'], axis=1)  \n",
    "target_test = df_test['is_ultra']"
   ]
  },
  {
   "cell_type": "code",
   "execution_count": 164,
   "metadata": {},
   "outputs": [
    {
     "data": {
      "text/plain": [
       "0.807153965785381"
      ]
     },
     "execution_count": 164,
     "metadata": {},
     "output_type": "execute_result"
    }
   ],
   "source": [
    "# получим предсказания\n",
    "predictions = model_random_forest.predict(features_test)\n",
    "# оценим качество модели\n",
    "accuracy = accuracy_score(target_test, predictions)\n",
    "accuracy"
   ]
  },
  {
   "cell_type": "code",
   "execution_count": 165,
   "metadata": {},
   "outputs": [
    {
     "data": {
      "text/plain": [
       "0.807153965785381"
      ]
     },
     "execution_count": 165,
     "metadata": {},
     "output_type": "execute_result"
    }
   ],
   "source": [
    "# можно еще так посчитать\n",
    "model_random_forest.score(features_test, target_test)"
   ]
  },
  {
   "cell_type": "code",
   "execution_count": 166,
   "metadata": {},
   "outputs": [
    {
     "data": {
      "text/plain": [
       "0.7853810264385692"
      ]
     },
     "execution_count": 166,
     "metadata": {},
     "output_type": "execute_result"
    }
   ],
   "source": [
    "# для сравнения давайте проверим точность на модели \"Решающее дерево DecisionTreeClassifier\"\n",
    "model_decision_tree.score(features_test, target_test)"
   ]
  },
  {
   "cell_type": "markdown",
   "metadata": {},
   "source": [
    "### Модель случайный лес ожидаемо отработала с лучшим качеством, чем решающее дерево. Точность на тестовой выборке близка к исходной. Это значит, что модель работает адекватно. Она не переучена."
   ]
  },
  {
   "cell_type": "markdown",
   "metadata": {},
   "source": [
    "<a name=\"5\"></a>\n",
    "## Проверим модели на адекватность"
   ]
  },
  {
   "cell_type": "markdown",
   "metadata": {},
   "source": [
    "В библиотеке scikit-learn есть DummyClassifier() для задач классификации и DummyRegressor() для работы с регрессией. В нашем случае задача классификации, берем DummyRegressor() "
   ]
  },
  {
   "cell_type": "code",
   "execution_count": 167,
   "metadata": {},
   "outputs": [
    {
     "data": {
      "text/plain": [
       "0.7060653188180405"
      ]
     },
     "execution_count": 167,
     "metadata": {},
     "output_type": "execute_result"
    }
   ],
   "source": [
    "# создадим, обучим и оценим качество модели для наших тестовых данных\n",
    "dummy_clf = DummyClassifier(strategy=\"most_frequent\", random_state=0)\n",
    "dummy_clf.fit(features_test, target_test)\n",
    "dummy_clf.score(features_test, target_test)"
   ]
  },
  {
   "cell_type": "markdown",
   "metadata": {},
   "source": [
    "Отличный результат! Но, наша модель \"Случайный лес\", лучше. Ее точность на тестовой выборке 0.796. Результат проверки - наша модель адекватна!"
   ]
  },
  {
   "cell_type": "markdown",
   "metadata": {},
   "source": [
    "<a name=\"6\"></a>\n",
    "## Общий вывод"
   ]
  },
  {
   "cell_type": "markdown",
   "metadata": {},
   "source": [
    "* Задача проекта: создать модель с точностью предсказаний выше 0.75. Задача выполнена. Модель создана.\n",
    "* Итоговая модель \"Случайный лес\" проверена на тестовой выборке и проверена на адекватность. Все проверки прошли успешно.\n",
    "* Проанализировав поведение клиентов, наша модель с точность 80% может предложить пользователям новый тариф: «Смарт» или «Ультра»."
   ]
  }
 ],
 "metadata": {
  "ExecuteTimeLog": [
   {
    "duration": 1287,
    "start_time": "2021-09-15T17:55:21.397Z"
   },
   {
    "duration": 21,
    "start_time": "2021-09-15T17:55:24.105Z"
   },
   {
    "duration": 436,
    "start_time": "2021-09-15T17:55:59.158Z"
   },
   {
    "duration": 21,
    "start_time": "2021-09-15T17:56:07.981Z"
   },
   {
    "duration": 9,
    "start_time": "2021-09-15T17:56:09.293Z"
   },
   {
    "duration": 27,
    "start_time": "2021-09-15T17:56:39.117Z"
   },
   {
    "duration": 697,
    "start_time": "2021-09-15T17:58:40.973Z"
   },
   {
    "duration": 1028,
    "start_time": "2021-09-15T17:59:50.430Z"
   },
   {
    "duration": 39,
    "start_time": "2021-09-15T18:00:04.898Z"
   },
   {
    "duration": 11,
    "start_time": "2021-09-15T18:04:55.707Z"
   },
   {
    "duration": 8,
    "start_time": "2021-09-15T18:06:53.448Z"
   },
   {
    "duration": 14,
    "start_time": "2021-09-15T18:07:52.903Z"
   },
   {
    "duration": 451,
    "start_time": "2021-09-16T07:34:35.079Z"
   },
   {
    "duration": 1403,
    "start_time": "2021-09-16T07:35:08.613Z"
   },
   {
    "duration": 19,
    "start_time": "2021-09-16T07:35:10.791Z"
   },
   {
    "duration": 29,
    "start_time": "2021-09-16T07:35:14.263Z"
   },
   {
    "duration": 782,
    "start_time": "2021-09-16T07:35:21.589Z"
   },
   {
    "duration": 404,
    "start_time": "2021-09-16T07:41:22.231Z"
   },
   {
    "duration": 21,
    "start_time": "2021-09-16T07:42:20.617Z"
   },
   {
    "duration": 38,
    "start_time": "2021-09-16T07:42:22.937Z"
   },
   {
    "duration": 9,
    "start_time": "2021-09-16T07:42:25.487Z"
   },
   {
    "duration": 12,
    "start_time": "2021-09-16T07:42:26.974Z"
   },
   {
    "duration": 12,
    "start_time": "2021-09-16T07:42:28.374Z"
   },
   {
    "duration": 20,
    "start_time": "2021-09-16T07:42:31.287Z"
   },
   {
    "duration": 5,
    "start_time": "2021-09-16T07:43:44.214Z"
   },
   {
    "duration": 5,
    "start_time": "2021-09-16T07:43:47.522Z"
   },
   {
    "duration": 6,
    "start_time": "2021-09-16T07:45:14.747Z"
   },
   {
    "duration": 82,
    "start_time": "2021-09-16T07:47:41.862Z"
   },
   {
    "duration": 94,
    "start_time": "2021-09-16T07:48:40.322Z"
   },
   {
    "duration": 36,
    "start_time": "2021-09-16T08:02:48.735Z"
   },
   {
    "duration": 8,
    "start_time": "2021-09-16T08:03:32.724Z"
   },
   {
    "duration": 7,
    "start_time": "2021-09-16T08:04:04.849Z"
   },
   {
    "duration": 45,
    "start_time": "2021-09-16T08:12:21.057Z"
   },
   {
    "duration": 125,
    "start_time": "2021-09-16T08:16:24.421Z"
   },
   {
    "duration": 89,
    "start_time": "2021-09-16T08:16:30.701Z"
   },
   {
    "duration": 92,
    "start_time": "2021-09-16T08:17:02.107Z"
   },
   {
    "duration": 398,
    "start_time": "2021-09-16T08:20:45.773Z"
   },
   {
    "duration": 483,
    "start_time": "2021-09-16T08:22:21.867Z"
   },
   {
    "duration": 549,
    "start_time": "2021-09-16T08:22:47.338Z"
   },
   {
    "duration": 630,
    "start_time": "2021-09-16T08:23:16.743Z"
   },
   {
    "duration": 7,
    "start_time": "2021-09-16T08:23:40.562Z"
   },
   {
    "duration": 8,
    "start_time": "2021-09-16T08:23:43.481Z"
   },
   {
    "duration": 7,
    "start_time": "2021-09-16T08:23:44.661Z"
   },
   {
    "duration": 600,
    "start_time": "2021-09-16T08:23:46.461Z"
   },
   {
    "duration": 5278,
    "start_time": "2021-09-16T08:26:20.162Z"
   },
   {
    "duration": 5348,
    "start_time": "2021-09-16T08:27:22.242Z"
   },
   {
    "duration": 560,
    "start_time": "2021-09-16T08:28:57.763Z"
   },
   {
    "duration": 230,
    "start_time": "2021-09-16T08:30:09.543Z"
   },
   {
    "duration": 429,
    "start_time": "2021-09-16T08:36:03.463Z"
   },
   {
    "duration": 45,
    "start_time": "2021-09-16T08:36:35.073Z"
   },
   {
    "duration": 5,
    "start_time": "2021-09-16T08:37:46.113Z"
   },
   {
    "duration": 20,
    "start_time": "2021-09-16T08:37:46.952Z"
   },
   {
    "duration": 19,
    "start_time": "2021-09-16T08:37:47.934Z"
   },
   {
    "duration": 18,
    "start_time": "2021-09-16T08:37:50.734Z"
   },
   {
    "duration": 34,
    "start_time": "2021-09-16T08:37:52.874Z"
   },
   {
    "duration": 9,
    "start_time": "2021-09-16T08:37:55.237Z"
   },
   {
    "duration": 8,
    "start_time": "2021-09-16T08:37:57.819Z"
   },
   {
    "duration": 12,
    "start_time": "2021-09-16T08:37:59.549Z"
   },
   {
    "duration": 20,
    "start_time": "2021-09-16T08:38:04.143Z"
   },
   {
    "duration": 6,
    "start_time": "2021-09-16T08:38:06.254Z"
   },
   {
    "duration": 7,
    "start_time": "2021-09-16T08:38:07.254Z"
   },
   {
    "duration": 86,
    "start_time": "2021-09-16T08:38:09.551Z"
   },
   {
    "duration": 35,
    "start_time": "2021-09-16T08:38:23.506Z"
   },
   {
    "duration": 7,
    "start_time": "2021-09-16T08:38:29.343Z"
   },
   {
    "duration": 7,
    "start_time": "2021-09-16T08:38:30.934Z"
   },
   {
    "duration": 44,
    "start_time": "2021-09-16T08:38:37.965Z"
   },
   {
    "duration": 259,
    "start_time": "2021-09-16T08:39:17.383Z"
   },
   {
    "duration": 672,
    "start_time": "2021-09-16T08:40:12.102Z"
   },
   {
    "duration": 1258,
    "start_time": "2021-09-16T08:42:17.243Z"
   },
   {
    "duration": 1305,
    "start_time": "2021-09-16T08:45:32.517Z"
   },
   {
    "duration": 6975,
    "start_time": "2021-09-16T08:45:38.671Z"
   },
   {
    "duration": 108,
    "start_time": "2021-09-16T08:46:33.302Z"
   },
   {
    "duration": 7171,
    "start_time": "2021-09-16T08:46:40.182Z"
   },
   {
    "duration": 1278,
    "start_time": "2021-09-16T08:48:00.253Z"
   },
   {
    "duration": 1230,
    "start_time": "2021-09-16T08:49:04.687Z"
   },
   {
    "duration": 1268,
    "start_time": "2021-09-16T08:50:22.831Z"
   },
   {
    "duration": 5442,
    "start_time": "2021-09-16T08:50:49.751Z"
   },
   {
    "duration": 5260,
    "start_time": "2021-09-16T08:58:37.215Z"
   },
   {
    "duration": 5031,
    "start_time": "2021-09-16T08:59:17.494Z"
   },
   {
    "duration": 36,
    "start_time": "2021-09-16T09:06:04.543Z"
   },
   {
    "duration": 8,
    "start_time": "2021-09-16T09:06:06.654Z"
   },
   {
    "duration": 7,
    "start_time": "2021-09-16T09:06:07.414Z"
   },
   {
    "duration": 45,
    "start_time": "2021-09-16T09:06:08.660Z"
   },
   {
    "duration": 607,
    "start_time": "2021-09-16T09:06:14.343Z"
   },
   {
    "duration": 5784,
    "start_time": "2021-09-16T09:06:41.312Z"
   },
   {
    "duration": 30,
    "start_time": "2021-09-16T09:10:02.011Z"
   },
   {
    "duration": 28,
    "start_time": "2021-09-16T09:14:58.154Z"
   },
   {
    "duration": 30,
    "start_time": "2021-09-16T09:15:49.694Z"
   },
   {
    "duration": 614,
    "start_time": "2021-09-16T09:21:49.963Z"
   },
   {
    "duration": 519,
    "start_time": "2021-09-16T09:22:14.854Z"
   },
   {
    "duration": 310,
    "start_time": "2021-09-16T09:23:27.743Z"
   },
   {
    "duration": 971,
    "start_time": "2021-09-16T09:25:15.774Z"
   },
   {
    "duration": 416,
    "start_time": "2021-09-16T09:25:29.883Z"
   },
   {
    "duration": 28,
    "start_time": "2021-09-16T09:25:59.767Z"
   },
   {
    "duration": 28,
    "start_time": "2021-09-16T09:29:16.614Z"
   },
   {
    "duration": 6,
    "start_time": "2021-09-16T10:53:51.411Z"
   },
   {
    "duration": 621,
    "start_time": "2021-09-16T10:58:41.190Z"
   },
   {
    "duration": 6,
    "start_time": "2021-09-16T10:59:13.011Z"
   },
   {
    "duration": 26,
    "start_time": "2021-09-16T10:59:13.020Z"
   },
   {
    "duration": 25,
    "start_time": "2021-09-16T10:59:13.049Z"
   },
   {
    "duration": 38,
    "start_time": "2021-09-16T10:59:13.077Z"
   },
   {
    "duration": 48,
    "start_time": "2021-09-16T10:59:13.118Z"
   },
   {
    "duration": 11,
    "start_time": "2021-09-16T10:59:13.169Z"
   },
   {
    "duration": 25,
    "start_time": "2021-09-16T10:59:13.183Z"
   },
   {
    "duration": 35,
    "start_time": "2021-09-16T10:59:13.211Z"
   },
   {
    "duration": 27,
    "start_time": "2021-09-16T10:59:13.252Z"
   },
   {
    "duration": 6,
    "start_time": "2021-09-16T10:59:13.282Z"
   },
   {
    "duration": 16,
    "start_time": "2021-09-16T10:59:13.291Z"
   },
   {
    "duration": 112,
    "start_time": "2021-09-16T10:59:13.310Z"
   },
   {
    "duration": 55,
    "start_time": "2021-09-16T10:59:13.424Z"
   },
   {
    "duration": 7,
    "start_time": "2021-09-16T10:59:13.482Z"
   },
   {
    "duration": 13,
    "start_time": "2021-09-16T10:59:13.492Z"
   },
   {
    "duration": 67,
    "start_time": "2021-09-16T10:59:13.507Z"
   },
   {
    "duration": 787,
    "start_time": "2021-09-16T10:59:13.577Z"
   },
   {
    "duration": 6406,
    "start_time": "2021-09-16T10:59:14.367Z"
   },
   {
    "duration": 27,
    "start_time": "2021-09-16T10:59:20.775Z"
   },
   {
    "duration": 27,
    "start_time": "2021-09-16T10:59:20.805Z"
   },
   {
    "duration": 30,
    "start_time": "2021-09-16T10:59:20.834Z"
   },
   {
    "duration": 572,
    "start_time": "2021-09-16T10:59:20.867Z"
   },
   {
    "duration": 29,
    "start_time": "2021-09-16T10:59:45.243Z"
   },
   {
    "duration": 382,
    "start_time": "2021-09-16T11:06:29.691Z"
   },
   {
    "duration": 23315,
    "start_time": "2021-09-16T11:10:06.447Z"
   },
   {
    "duration": 1592,
    "start_time": "2021-09-16T11:10:46.931Z"
   },
   {
    "duration": 1589,
    "start_time": "2021-09-16T11:12:48.842Z"
   },
   {
    "duration": 634,
    "start_time": "2021-09-16T11:12:58.861Z"
   },
   {
    "duration": 1593,
    "start_time": "2021-09-16T11:13:24.611Z"
   },
   {
    "duration": 749,
    "start_time": "2021-09-16T11:14:57.458Z"
   },
   {
    "duration": 5,
    "start_time": "2021-09-16T11:19:27.911Z"
   },
   {
    "duration": 388,
    "start_time": "2021-09-16T11:19:33.671Z"
   },
   {
    "duration": 343,
    "start_time": "2021-09-16T11:21:09.612Z"
   },
   {
    "duration": 203,
    "start_time": "2021-09-16T11:21:59.051Z"
   },
   {
    "duration": 39,
    "start_time": "2021-09-16T11:24:47.831Z"
   },
   {
    "duration": 5,
    "start_time": "2021-09-16T11:25:53.991Z"
   },
   {
    "duration": 38,
    "start_time": "2021-09-16T11:25:54.681Z"
   },
   {
    "duration": 103,
    "start_time": "2021-09-16T11:26:22.411Z"
   },
   {
    "duration": 37,
    "start_time": "2021-09-16T11:26:41.975Z"
   },
   {
    "duration": 26,
    "start_time": "2021-09-16T11:27:21.931Z"
   },
   {
    "duration": 26,
    "start_time": "2021-09-16T11:28:44.242Z"
   },
   {
    "duration": 9,
    "start_time": "2021-09-16T11:30:16.311Z"
   },
   {
    "duration": 40,
    "start_time": "2021-09-16T11:30:30.892Z"
   },
   {
    "duration": 10,
    "start_time": "2021-09-16T11:30:36.031Z"
   },
   {
    "duration": 9,
    "start_time": "2021-09-16T11:32:01.932Z"
   },
   {
    "duration": 438,
    "start_time": "2021-09-16T11:32:42.111Z"
   },
   {
    "duration": 369,
    "start_time": "2021-09-16T11:35:35.842Z"
   },
   {
    "duration": 111,
    "start_time": "2021-09-16T11:39:26.096Z"
   },
   {
    "duration": 14,
    "start_time": "2021-09-16T11:39:51.142Z"
   },
   {
    "duration": 8,
    "start_time": "2021-09-16T11:41:33.696Z"
   },
   {
    "duration": 8,
    "start_time": "2021-09-16T11:42:38.209Z"
   },
   {
    "duration": 363,
    "start_time": "2021-09-16T11:43:41.396Z"
   },
   {
    "duration": 7,
    "start_time": "2021-09-16T11:46:10.089Z"
   },
   {
    "duration": 5,
    "start_time": "2021-09-16T12:01:55.488Z"
   },
   {
    "duration": 9,
    "start_time": "2021-09-16T12:04:16.442Z"
   },
   {
    "duration": 4,
    "start_time": "2021-09-16T12:10:20.836Z"
   },
   {
    "duration": 18,
    "start_time": "2021-09-16T12:10:21.667Z"
   },
   {
    "duration": 30,
    "start_time": "2021-09-16T12:10:23.748Z"
   },
   {
    "duration": 18,
    "start_time": "2021-09-16T12:10:28.002Z"
   },
   {
    "duration": 36,
    "start_time": "2021-09-16T12:10:32.896Z"
   },
   {
    "duration": 9,
    "start_time": "2021-09-16T12:12:45.707Z"
   },
   {
    "duration": 9,
    "start_time": "2021-09-16T12:12:56.407Z"
   },
   {
    "duration": 12,
    "start_time": "2021-09-16T12:13:00.896Z"
   },
   {
    "duration": 21,
    "start_time": "2021-09-16T12:13:30.987Z"
   },
   {
    "duration": 5,
    "start_time": "2021-09-16T12:13:37.578Z"
   },
   {
    "duration": 8,
    "start_time": "2021-09-16T12:13:41.815Z"
   },
   {
    "duration": 89,
    "start_time": "2021-09-16T12:14:15.375Z"
   },
   {
    "duration": 93,
    "start_time": "2021-09-16T12:14:37.830Z"
   },
   {
    "duration": 13,
    "start_time": "2021-09-16T12:14:42.215Z"
   },
   {
    "duration": 37,
    "start_time": "2021-09-16T12:15:42.535Z"
   },
   {
    "duration": 7,
    "start_time": "2021-09-16T12:16:00.876Z"
   },
   {
    "duration": 6,
    "start_time": "2021-09-16T12:16:21.904Z"
   },
   {
    "duration": 51,
    "start_time": "2021-09-16T12:16:40.535Z"
   },
   {
    "duration": 670,
    "start_time": "2021-09-16T12:17:21.741Z"
   },
   {
    "duration": 1679,
    "start_time": "2021-09-16T12:18:20.256Z"
   },
   {
    "duration": 42,
    "start_time": "2021-09-16T12:19:35.387Z"
   },
   {
    "duration": 36,
    "start_time": "2021-09-16T12:20:55.247Z"
   },
   {
    "duration": 27,
    "start_time": "2021-09-16T12:21:06.915Z"
   },
   {
    "duration": 11,
    "start_time": "2021-09-16T12:23:07.128Z"
   },
   {
    "duration": 8,
    "start_time": "2021-09-16T12:23:16.597Z"
   },
   {
    "duration": 8,
    "start_time": "2021-09-16T12:23:37.801Z"
   },
   {
    "duration": 9,
    "start_time": "2021-09-16T12:24:43.068Z"
   },
   {
    "duration": 68,
    "start_time": "2021-09-17T07:52:47.642Z"
   },
   {
    "duration": 61,
    "start_time": "2021-09-17T08:03:56.695Z"
   },
   {
    "duration": 972,
    "start_time": "2021-09-17T08:05:56.351Z"
   },
   {
    "duration": 24,
    "start_time": "2021-09-17T08:05:57.980Z"
   },
   {
    "duration": 20,
    "start_time": "2021-09-17T08:05:58.952Z"
   },
   {
    "duration": 342,
    "start_time": "2021-09-17T08:06:00.394Z"
   },
   {
    "duration": 25,
    "start_time": "2021-09-17T08:06:01.760Z"
   },
   {
    "duration": 7,
    "start_time": "2021-09-17T08:06:08.364Z"
   },
   {
    "duration": 6,
    "start_time": "2021-09-17T08:06:09.519Z"
   },
   {
    "duration": 9,
    "start_time": "2021-09-17T08:06:10.576Z"
   },
   {
    "duration": 3,
    "start_time": "2021-09-17T08:06:11.750Z"
   },
   {
    "duration": 4,
    "start_time": "2021-09-17T08:06:41.889Z"
   }
  ],
  "kernelspec": {
   "display_name": "Python 3",
   "language": "python",
   "name": "python3"
  },
  "language_info": {
   "codemirror_mode": {
    "name": "ipython",
    "version": 3
   },
   "file_extension": ".py",
   "mimetype": "text/x-python",
   "name": "python",
   "nbconvert_exporter": "python",
   "pygments_lexer": "ipython3",
   "version": "3.7.10"
  },
  "toc": {
   "base_numbering": 1,
   "nav_menu": {},
   "number_sections": true,
   "sideBar": true,
   "skip_h1_title": true,
   "title_cell": "Table of Contents",
   "title_sidebar": "Contents",
   "toc_cell": false,
   "toc_position": {},
   "toc_section_display": true,
   "toc_window_display": false
  }
 },
 "nbformat": 4,
 "nbformat_minor": 2
}
